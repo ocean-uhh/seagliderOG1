{
 "cells": [
  {
   "cell_type": "markdown",
   "id": "c6a29764-f39c-431c-8e77-fbc6bfe20f01",
   "metadata": {},
   "source": [
    "# seagliderOG1 demo\n",
    "\n",
    "The purpose of this notebook is to demonstrate the functionality of `seagliderOG1` to convert from Seaglider basestation files to OG1 format.\n",
    "\n",
    "- OG1 format is a newly agreed format (since June 2024) for glider data sets from various platforms (e.g., Seaglider, Slocum, Seaexplorer).  It lives on github here: (https://github.com/OceanGlidersCommunity/OG-format-user-manual).\n",
    "- OG1 manual: https://oceangliderscommunity.github.io/OG-format-user-manual/OG_Format.html\n",
    "\n",
    "The test case is to convert sg015 data from the Labrador Sea in September 2004.\n",
    "\n",
    "The demo is organised to show\n",
    "\n",
    "- Conversion of a single dive cycle (single `p*.nc` file)\n",
    "\n",
    "- Conversion for a folder of local dive-cycle files (full mission of `p*.nc` files)\n",
    "\n",
    "- Download from remote server + conversion (directory with full mission of `p*.nc` files)\n",
    "\n",
    "Options are provided to only load e.g. 10 files, but note that OG1 format expects a full mission.\n"
   ]
  },
  {
   "cell_type": "code",
   "execution_count": 1,
   "id": "6a1920f3",
   "metadata": {
    "execution": {
     "iopub.execute_input": "2025-09-21T14:14:22.496424Z",
     "iopub.status.busy": "2025-09-21T14:14:22.496250Z",
     "iopub.status.idle": "2025-09-21T14:14:25.402251Z",
     "shell.execute_reply": "2025-09-21T14:14:25.401659Z"
    }
   },
   "outputs": [
    {
     "name": "stdout",
     "output_type": "stream",
     "text": [
      "/home/runner/work/seagliderOG1/seagliderOG1\n",
      "['/home/runner/micromamba/envs/TEST/lib/python313.zip', '/home/runner/micromamba/envs/TEST/lib/python3.13', '/home/runner/micromamba/envs/TEST/lib/python3.13/lib-dynload', '', '/home/runner/micromamba/envs/TEST/lib/python3.13/site-packages', '/home/runner/work/seagliderOG1/seagliderOG1', '/home/runner/work/seagliderOG1/seagliderOG1/seagliderOG1']\n"
     ]
    }
   ],
   "source": [
    "import pathlib\n",
    "import sys\n",
    "\n",
    "script_dir = pathlib.Path().parent.absolute()\n",
    "parent_dir = script_dir.parents[0]\n",
    "sys.path.append(str(parent_dir))\n",
    "sys.path.append(str(parent_dir) + '/seagliderOG1')\n",
    "print(parent_dir)\n",
    "print(sys.path)\n",
    "### silence future warnings\n",
    "import warnings\n",
    "warnings.simplefilter(action='ignore', category=FutureWarning)\n",
    "\n",
    "import xarray as xr\n",
    "import os\n",
    "from seagliderOG1 import readers, writers, plotters\n",
    "from seagliderOG1 import convertOG1, vocabularies\n"
   ]
  },
  {
   "cell_type": "code",
   "execution_count": 2,
   "id": "1e070d18",
   "metadata": {
    "execution": {
     "iopub.execute_input": "2025-09-21T14:14:25.404359Z",
     "iopub.status.busy": "2025-09-21T14:14:25.404075Z",
     "iopub.status.idle": "2025-09-21T14:14:25.406527Z",
     "shell.execute_reply": "2025-09-21T14:14:25.406131Z"
    }
   },
   "outputs": [],
   "source": [
    "# Specify the path for writing datafiles\n",
    "data_path = os.path.join(parent_dir, 'data')"
   ]
  },
  {
   "cell_type": "markdown",
   "id": "803e373a",
   "metadata": {},
   "source": [
    "## Reading basestation files\n",
    "\n",
    "This has three ways to load a glider dataset.\n",
    "\n",
    "Load an example dataset using `seagliderOG1.fetchers.load_sample_dataset`\n",
    "\n",
    "Alternatively, use your own with e.g. `ds = xr.open_dataset('/path/to/yourfile.nc')`"
   ]
  },
  {
   "cell_type": "markdown",
   "id": "02c414b4",
   "metadata": {},
   "source": [
    "### Load single sample dataset"
   ]
  },
  {
   "cell_type": "code",
   "execution_count": 3,
   "id": "05ca56cf",
   "metadata": {
    "execution": {
     "iopub.execute_input": "2025-09-21T14:14:25.408851Z",
     "iopub.status.busy": "2025-09-21T14:14:25.408682Z",
     "iopub.status.idle": "2025-09-21T14:14:26.065912Z",
     "shell.execute_reply": "2025-09-21T14:14:26.065354Z"
    }
   },
   "outputs": [
    {
     "name": "stderr",
     "output_type": "stream",
     "text": [
      "Downloading file 'p0330015_20100906.nc' from 'https://www.ncei.noaa.gov/data/oceans/glider/seaglider/uw/033/20100903/p0330015_20100906.nc' to '/home/runner/.cache/seagliderOG1'.\n"
     ]
    },
    {
     "data": {
      "text/html": [
       "<div><svg style=\"position: absolute; width: 0; height: 0; overflow: hidden\">\n",
       "<defs>\n",
       "<symbol id=\"icon-database\" viewBox=\"0 0 32 32\">\n",
       "<path d=\"M16 0c-8.837 0-16 2.239-16 5v4c0 2.761 7.163 5 16 5s16-2.239 16-5v-4c0-2.761-7.163-5-16-5z\"></path>\n",
       "<path d=\"M16 17c-8.837 0-16-2.239-16-5v6c0 2.761 7.163 5 16 5s16-2.239 16-5v-6c0 2.761-7.163 5-16 5z\"></path>\n",
       "<path d=\"M16 26c-8.837 0-16-2.239-16-5v6c0 2.761 7.163 5 16 5s16-2.239 16-5v-6c0 2.761-7.163 5-16 5z\"></path>\n",
       "</symbol>\n",
       "<symbol id=\"icon-file-text2\" viewBox=\"0 0 32 32\">\n",
       "<path d=\"M28.681 7.159c-0.694-0.947-1.662-2.053-2.724-3.116s-2.169-2.030-3.116-2.724c-1.612-1.182-2.393-1.319-2.841-1.319h-15.5c-1.378 0-2.5 1.121-2.5 2.5v27c0 1.378 1.122 2.5 2.5 2.5h23c1.378 0 2.5-1.122 2.5-2.5v-19.5c0-0.448-0.137-1.23-1.319-2.841zM24.543 5.457c0.959 0.959 1.712 1.825 2.268 2.543h-4.811v-4.811c0.718 0.556 1.584 1.309 2.543 2.268zM28 29.5c0 0.271-0.229 0.5-0.5 0.5h-23c-0.271 0-0.5-0.229-0.5-0.5v-27c0-0.271 0.229-0.5 0.5-0.5 0 0 15.499-0 15.5 0v7c0 0.552 0.448 1 1 1h7v19.5z\"></path>\n",
       "<path d=\"M23 26h-14c-0.552 0-1-0.448-1-1s0.448-1 1-1h14c0.552 0 1 0.448 1 1s-0.448 1-1 1z\"></path>\n",
       "<path d=\"M23 22h-14c-0.552 0-1-0.448-1-1s0.448-1 1-1h14c0.552 0 1 0.448 1 1s-0.448 1-1 1z\"></path>\n",
       "<path d=\"M23 18h-14c-0.552 0-1-0.448-1-1s0.448-1 1-1h14c0.552 0 1 0.448 1 1s-0.448 1-1 1z\"></path>\n",
       "</symbol>\n",
       "</defs>\n",
       "</svg>\n",
       "<style>/* CSS stylesheet for displaying xarray objects in jupyterlab.\n",
       " *\n",
       " */\n",
       "\n",
       ":root {\n",
       "  --xr-font-color0: var(\n",
       "    --jp-content-font-color0,\n",
       "    var(--pst-color-text-base rgba(0, 0, 0, 1))\n",
       "  );\n",
       "  --xr-font-color2: var(\n",
       "    --jp-content-font-color2,\n",
       "    var(--pst-color-text-base, rgba(0, 0, 0, 0.54))\n",
       "  );\n",
       "  --xr-font-color3: var(\n",
       "    --jp-content-font-color3,\n",
       "    var(--pst-color-text-base, rgba(0, 0, 0, 0.38))\n",
       "  );\n",
       "  --xr-border-color: var(\n",
       "    --jp-border-color2,\n",
       "    hsl(from var(--pst-color-on-background, white) h s calc(l - 10))\n",
       "  );\n",
       "  --xr-disabled-color: var(\n",
       "    --jp-layout-color3,\n",
       "    hsl(from var(--pst-color-on-background, white) h s calc(l - 40))\n",
       "  );\n",
       "  --xr-background-color: var(\n",
       "    --jp-layout-color0,\n",
       "    var(--pst-color-on-background, white)\n",
       "  );\n",
       "  --xr-background-color-row-even: var(\n",
       "    --jp-layout-color1,\n",
       "    hsl(from var(--pst-color-on-background, white) h s calc(l - 5))\n",
       "  );\n",
       "  --xr-background-color-row-odd: var(\n",
       "    --jp-layout-color2,\n",
       "    hsl(from var(--pst-color-on-background, white) h s calc(l - 15))\n",
       "  );\n",
       "}\n",
       "\n",
       "html[theme=\"dark\"],\n",
       "html[data-theme=\"dark\"],\n",
       "body[data-theme=\"dark\"],\n",
       "body.vscode-dark {\n",
       "  --xr-font-color0: var(\n",
       "    --jp-content-font-color0,\n",
       "    var(--pst-color-text-base, rgba(255, 255, 255, 1))\n",
       "  );\n",
       "  --xr-font-color2: var(\n",
       "    --jp-content-font-color2,\n",
       "    var(--pst-color-text-base, rgba(255, 255, 255, 0.54))\n",
       "  );\n",
       "  --xr-font-color3: var(\n",
       "    --jp-content-font-color3,\n",
       "    var(--pst-color-text-base, rgba(255, 255, 255, 0.38))\n",
       "  );\n",
       "  --xr-border-color: var(\n",
       "    --jp-border-color2,\n",
       "    hsl(from var(--pst-color-on-background, #111111) h s calc(l + 10))\n",
       "  );\n",
       "  --xr-disabled-color: var(\n",
       "    --jp-layout-color3,\n",
       "    hsl(from var(--pst-color-on-background, #111111) h s calc(l + 40))\n",
       "  );\n",
       "  --xr-background-color: var(\n",
       "    --jp-layout-color0,\n",
       "    var(--pst-color-on-background, #111111)\n",
       "  );\n",
       "  --xr-background-color-row-even: var(\n",
       "    --jp-layout-color1,\n",
       "    hsl(from var(--pst-color-on-background, #111111) h s calc(l + 5))\n",
       "  );\n",
       "  --xr-background-color-row-odd: var(\n",
       "    --jp-layout-color2,\n",
       "    hsl(from var(--pst-color-on-background, #111111) h s calc(l + 15))\n",
       "  );\n",
       "}\n",
       "\n",
       ".xr-wrap {\n",
       "  display: block !important;\n",
       "  min-width: 300px;\n",
       "  max-width: 700px;\n",
       "}\n",
       "\n",
       ".xr-text-repr-fallback {\n",
       "  /* fallback to plain text repr when CSS is not injected (untrusted notebook) */\n",
       "  display: none;\n",
       "}\n",
       "\n",
       ".xr-header {\n",
       "  padding-top: 6px;\n",
       "  padding-bottom: 6px;\n",
       "  margin-bottom: 4px;\n",
       "  border-bottom: solid 1px var(--xr-border-color);\n",
       "}\n",
       "\n",
       ".xr-header > div,\n",
       ".xr-header > ul {\n",
       "  display: inline;\n",
       "  margin-top: 0;\n",
       "  margin-bottom: 0;\n",
       "}\n",
       "\n",
       ".xr-obj-type,\n",
       ".xr-array-name {\n",
       "  margin-left: 2px;\n",
       "  margin-right: 10px;\n",
       "}\n",
       "\n",
       ".xr-obj-type {\n",
       "  color: var(--xr-font-color2);\n",
       "}\n",
       "\n",
       ".xr-sections {\n",
       "  padding-left: 0 !important;\n",
       "  display: grid;\n",
       "  grid-template-columns: 150px auto auto 1fr 0 20px 0 20px;\n",
       "}\n",
       "\n",
       ".xr-section-item {\n",
       "  display: contents;\n",
       "}\n",
       "\n",
       ".xr-section-item input {\n",
       "  display: inline-block;\n",
       "  opacity: 0;\n",
       "  height: 0;\n",
       "}\n",
       "\n",
       ".xr-section-item input + label {\n",
       "  color: var(--xr-disabled-color);\n",
       "  border: 2px solid transparent !important;\n",
       "}\n",
       "\n",
       ".xr-section-item input:enabled + label {\n",
       "  cursor: pointer;\n",
       "  color: var(--xr-font-color2);\n",
       "}\n",
       "\n",
       ".xr-section-item input:focus + label {\n",
       "  border: 2px solid var(--xr-font-color0) !important;\n",
       "}\n",
       "\n",
       ".xr-section-item input:enabled + label:hover {\n",
       "  color: var(--xr-font-color0);\n",
       "}\n",
       "\n",
       ".xr-section-summary {\n",
       "  grid-column: 1;\n",
       "  color: var(--xr-font-color2);\n",
       "  font-weight: 500;\n",
       "}\n",
       "\n",
       ".xr-section-summary > span {\n",
       "  display: inline-block;\n",
       "  padding-left: 0.5em;\n",
       "}\n",
       "\n",
       ".xr-section-summary-in:disabled + label {\n",
       "  color: var(--xr-font-color2);\n",
       "}\n",
       "\n",
       ".xr-section-summary-in + label:before {\n",
       "  display: inline-block;\n",
       "  content: \"►\";\n",
       "  font-size: 11px;\n",
       "  width: 15px;\n",
       "  text-align: center;\n",
       "}\n",
       "\n",
       ".xr-section-summary-in:disabled + label:before {\n",
       "  color: var(--xr-disabled-color);\n",
       "}\n",
       "\n",
       ".xr-section-summary-in:checked + label:before {\n",
       "  content: \"▼\";\n",
       "}\n",
       "\n",
       ".xr-section-summary-in:checked + label > span {\n",
       "  display: none;\n",
       "}\n",
       "\n",
       ".xr-section-summary,\n",
       ".xr-section-inline-details {\n",
       "  padding-top: 4px;\n",
       "  padding-bottom: 4px;\n",
       "}\n",
       "\n",
       ".xr-section-inline-details {\n",
       "  grid-column: 2 / -1;\n",
       "}\n",
       "\n",
       ".xr-section-details {\n",
       "  display: none;\n",
       "  grid-column: 1 / -1;\n",
       "  margin-bottom: 5px;\n",
       "}\n",
       "\n",
       ".xr-section-summary-in:checked ~ .xr-section-details {\n",
       "  display: contents;\n",
       "}\n",
       "\n",
       ".xr-array-wrap {\n",
       "  grid-column: 1 / -1;\n",
       "  display: grid;\n",
       "  grid-template-columns: 20px auto;\n",
       "}\n",
       "\n",
       ".xr-array-wrap > label {\n",
       "  grid-column: 1;\n",
       "  vertical-align: top;\n",
       "}\n",
       "\n",
       ".xr-preview {\n",
       "  color: var(--xr-font-color3);\n",
       "}\n",
       "\n",
       ".xr-array-preview,\n",
       ".xr-array-data {\n",
       "  padding: 0 5px !important;\n",
       "  grid-column: 2;\n",
       "}\n",
       "\n",
       ".xr-array-data,\n",
       ".xr-array-in:checked ~ .xr-array-preview {\n",
       "  display: none;\n",
       "}\n",
       "\n",
       ".xr-array-in:checked ~ .xr-array-data,\n",
       ".xr-array-preview {\n",
       "  display: inline-block;\n",
       "}\n",
       "\n",
       ".xr-dim-list {\n",
       "  display: inline-block !important;\n",
       "  list-style: none;\n",
       "  padding: 0 !important;\n",
       "  margin: 0;\n",
       "}\n",
       "\n",
       ".xr-dim-list li {\n",
       "  display: inline-block;\n",
       "  padding: 0;\n",
       "  margin: 0;\n",
       "}\n",
       "\n",
       ".xr-dim-list:before {\n",
       "  content: \"(\";\n",
       "}\n",
       "\n",
       ".xr-dim-list:after {\n",
       "  content: \")\";\n",
       "}\n",
       "\n",
       ".xr-dim-list li:not(:last-child):after {\n",
       "  content: \",\";\n",
       "  padding-right: 5px;\n",
       "}\n",
       "\n",
       ".xr-has-index {\n",
       "  font-weight: bold;\n",
       "}\n",
       "\n",
       ".xr-var-list,\n",
       ".xr-var-item {\n",
       "  display: contents;\n",
       "}\n",
       "\n",
       ".xr-var-item > div,\n",
       ".xr-var-item label,\n",
       ".xr-var-item > .xr-var-name span {\n",
       "  background-color: var(--xr-background-color-row-even);\n",
       "  border-color: var(--xr-background-color-row-odd);\n",
       "  margin-bottom: 0;\n",
       "  padding-top: 2px;\n",
       "}\n",
       "\n",
       ".xr-var-item > .xr-var-name:hover span {\n",
       "  padding-right: 5px;\n",
       "}\n",
       "\n",
       ".xr-var-list > li:nth-child(odd) > div,\n",
       ".xr-var-list > li:nth-child(odd) > label,\n",
       ".xr-var-list > li:nth-child(odd) > .xr-var-name span {\n",
       "  background-color: var(--xr-background-color-row-odd);\n",
       "  border-color: var(--xr-background-color-row-even);\n",
       "}\n",
       "\n",
       ".xr-var-name {\n",
       "  grid-column: 1;\n",
       "}\n",
       "\n",
       ".xr-var-dims {\n",
       "  grid-column: 2;\n",
       "}\n",
       "\n",
       ".xr-var-dtype {\n",
       "  grid-column: 3;\n",
       "  text-align: right;\n",
       "  color: var(--xr-font-color2);\n",
       "}\n",
       "\n",
       ".xr-var-preview {\n",
       "  grid-column: 4;\n",
       "}\n",
       "\n",
       ".xr-index-preview {\n",
       "  grid-column: 2 / 5;\n",
       "  color: var(--xr-font-color2);\n",
       "}\n",
       "\n",
       ".xr-var-name,\n",
       ".xr-var-dims,\n",
       ".xr-var-dtype,\n",
       ".xr-preview,\n",
       ".xr-attrs dt {\n",
       "  white-space: nowrap;\n",
       "  overflow: hidden;\n",
       "  text-overflow: ellipsis;\n",
       "  padding-right: 10px;\n",
       "}\n",
       "\n",
       ".xr-var-name:hover,\n",
       ".xr-var-dims:hover,\n",
       ".xr-var-dtype:hover,\n",
       ".xr-attrs dt:hover {\n",
       "  overflow: visible;\n",
       "  width: auto;\n",
       "  z-index: 1;\n",
       "}\n",
       "\n",
       ".xr-var-attrs,\n",
       ".xr-var-data,\n",
       ".xr-index-data {\n",
       "  display: none;\n",
       "  border-top: 2px dotted var(--xr-background-color);\n",
       "  padding-bottom: 20px !important;\n",
       "  padding-top: 10px !important;\n",
       "}\n",
       "\n",
       ".xr-var-attrs-in + label,\n",
       ".xr-var-data-in + label,\n",
       ".xr-index-data-in + label {\n",
       "  padding: 0 1px;\n",
       "}\n",
       "\n",
       ".xr-var-attrs-in:checked ~ .xr-var-attrs,\n",
       ".xr-var-data-in:checked ~ .xr-var-data,\n",
       ".xr-index-data-in:checked ~ .xr-index-data {\n",
       "  display: block;\n",
       "}\n",
       "\n",
       ".xr-var-data > table {\n",
       "  float: right;\n",
       "}\n",
       "\n",
       ".xr-var-data > pre,\n",
       ".xr-index-data > pre,\n",
       ".xr-var-data > table > tbody > tr {\n",
       "  background-color: transparent !important;\n",
       "}\n",
       "\n",
       ".xr-var-name span,\n",
       ".xr-var-data,\n",
       ".xr-index-name div,\n",
       ".xr-index-data,\n",
       ".xr-attrs {\n",
       "  padding-left: 25px !important;\n",
       "}\n",
       "\n",
       ".xr-attrs,\n",
       ".xr-var-attrs,\n",
       ".xr-var-data,\n",
       ".xr-index-data {\n",
       "  grid-column: 1 / -1;\n",
       "}\n",
       "\n",
       "dl.xr-attrs {\n",
       "  padding: 0;\n",
       "  margin: 0;\n",
       "  display: grid;\n",
       "  grid-template-columns: 125px auto;\n",
       "}\n",
       "\n",
       ".xr-attrs dt,\n",
       ".xr-attrs dd {\n",
       "  padding: 0;\n",
       "  margin: 0;\n",
       "  float: left;\n",
       "  padding-right: 10px;\n",
       "  width: auto;\n",
       "}\n",
       "\n",
       ".xr-attrs dt {\n",
       "  font-weight: normal;\n",
       "  grid-column: 1;\n",
       "}\n",
       "\n",
       ".xr-attrs dt:hover span {\n",
       "  display: inline-block;\n",
       "  background: var(--xr-background-color);\n",
       "  padding-right: 10px;\n",
       "}\n",
       "\n",
       ".xr-attrs dd {\n",
       "  grid-column: 2;\n",
       "  white-space: pre-wrap;\n",
       "  word-break: break-all;\n",
       "}\n",
       "\n",
       ".xr-icon-database,\n",
       ".xr-icon-file-text2,\n",
       ".xr-no-icon {\n",
       "  display: inline-block;\n",
       "  vertical-align: middle;\n",
       "  width: 1em;\n",
       "  height: 1.5em !important;\n",
       "  stroke-width: 0;\n",
       "  stroke: currentColor;\n",
       "  fill: currentColor;\n",
       "}\n",
       "\n",
       ".xr-var-attrs-in:checked + label > .xr-icon-file-text2,\n",
       ".xr-var-data-in:checked + label > .xr-icon-database,\n",
       ".xr-index-data-in:checked + label > .xr-icon-database {\n",
       "  color: var(--xr-font-color0);\n",
       "  filter: drop-shadow(1px 1px 5px var(--xr-font-color2));\n",
       "  stroke-width: 0.8px;\n",
       "}\n",
       "</style><pre class='xr-text-repr-fallback'>&lt;xarray.Dataset&gt; Size: 290kB\n",
       "Dimensions:                                   (sg_data_point: 586,\n",
       "                                               gc_event: 36, gc_state: 10,\n",
       "                                               gps_info: 3, trajectory: 1)\n",
       "Coordinates:\n",
       "    ctd_time                                  (sg_data_point) datetime64[ns] 5kB ...\n",
       "    longitude                                 (sg_data_point) float64 5kB ...\n",
       "    latitude                                  (sg_data_point) float64 5kB ...\n",
       "    ctd_depth                                 (sg_data_point) float64 5kB ...\n",
       "  * trajectory                                (trajectory) int32 4B 15\n",
       "Dimensions without coordinates: sg_data_point, gc_event, gc_state, gps_info\n",
       "Data variables: (12/397)\n",
       "    salinity_qc                               (sg_data_point) |S1 586B ...\n",
       "    eng_depth                                 (sg_data_point) float64 5kB ...\n",
       "    eng_aa4330_Temp                           (sg_data_point) float64 5kB ...\n",
       "    eng_vbdCC                                 (sg_data_point) float64 5kB ...\n",
       "    north_displacement                        (sg_data_point) float64 5kB ...\n",
       "    east_displacement                         (sg_data_point) float64 5kB ...\n",
       "    ...                                        ...\n",
       "    sg_cal_optode_FoilCoefB0                  float64 8B ...\n",
       "    log_MISSION                               int32 4B ...\n",
       "    log_FG_AHR_24V                            float64 8B ...\n",
       "    log_ICE_FREEZE_MARGIN                     float64 8B ...\n",
       "    surface_curr_north                        float64 8B ...\n",
       "    log_RAFOS_DEVICE                          float64 8B ...\n",
       "Attributes: (12/59)\n",
       "    quality_control_version:         1.12\n",
       "    base_station_micro_version:      4935\n",
       "    time_coverage_resolution:        PT1S\n",
       "    geospatial_vertical_max:         511.8935394557861\n",
       "    sea_name:                        Caribbean Sea\n",
       "    mission:                         1\n",
       "    ...                              ...\n",
       "    source:                          Deepglider SG033\n",
       "    geospatial_vertical_min:         0.2601223952664329\n",
       "    creator_url:                     http://iop.apl.washington.edu/seaglider/...\n",
       "    geospatial_vertical_units:       meter\n",
       "    dive_number:                     15\n",
       "    disclaimer:                      Data has not been reviewed and is provid...</pre><div class='xr-wrap' style='display:none'><div class='xr-header'><div class='xr-obj-type'>xarray.Dataset</div></div><ul class='xr-sections'><li class='xr-section-item'><input id='section-3f4cda27-0557-44a0-8e6a-8b196e2b10bb' class='xr-section-summary-in' type='checkbox' disabled ><label for='section-3f4cda27-0557-44a0-8e6a-8b196e2b10bb' class='xr-section-summary'  title='Expand/collapse section'>Dimensions:</label><div class='xr-section-inline-details'><ul class='xr-dim-list'><li><span>sg_data_point</span>: 586</li><li><span>gc_event</span>: 36</li><li><span>gc_state</span>: 10</li><li><span>gps_info</span>: 3</li><li><span class='xr-has-index'>trajectory</span>: 1</li></ul></div><div class='xr-section-details'></div></li><li class='xr-section-item'><input id='section-1ff598b1-897a-4d95-9c02-cc2c729e966c' class='xr-section-summary-in' type='checkbox'  checked><label for='section-1ff598b1-897a-4d95-9c02-cc2c729e966c' class='xr-section-summary' >Coordinates: <span>(5)</span></label><div class='xr-section-inline-details'></div><div class='xr-section-details'><ul class='xr-var-list'><li class='xr-var-item'><div class='xr-var-name'><span>ctd_time</span></div><div class='xr-var-dims'>(sg_data_point)</div><div class='xr-var-dtype'>datetime64[ns]</div><div class='xr-var-preview xr-preview'>...</div><input id='attrs-90bf1b23-59a9-49be-a5a8-9f98d5d9b184' class='xr-var-attrs-in' type='checkbox' ><label for='attrs-90bf1b23-59a9-49be-a5a8-9f98d5d9b184' title='Show/Hide attributes'><svg class='icon xr-icon-file-text2'><use xlink:href='#icon-file-text2'></use></svg></label><input id='data-3cfe797d-38f4-4a5d-b1dc-99467194ab4b' class='xr-var-data-in' type='checkbox'><label for='data-3cfe797d-38f4-4a5d-b1dc-99467194ab4b' title='Show/Hide data repr'><svg class='icon xr-icon-database'><use xlink:href='#icon-database'></use></svg></label><div class='xr-var-attrs'><dl class='xr-attrs'><dt><span>comment :</span></dt><dd>Time of CTD sample in GMT epoch format</dd><dt><span>standard_name :</span></dt><dd>time</dd><dt><span>platform :</span></dt><dd>glider</dd><dt><span>axis :</span></dt><dd>T</dd></dl></div><div class='xr-var-data'><pre>[586 values with dtype=datetime64[ns]]</pre></div></li><li class='xr-var-item'><div class='xr-var-name'><span>longitude</span></div><div class='xr-var-dims'>(sg_data_point)</div><div class='xr-var-dtype'>float64</div><div class='xr-var-preview xr-preview'>...</div><input id='attrs-1a58c03a-cca2-487d-bb19-7b411c2007aa' class='xr-var-attrs-in' type='checkbox' ><label for='attrs-1a58c03a-cca2-487d-bb19-7b411c2007aa' title='Show/Hide attributes'><svg class='icon xr-icon-file-text2'><use xlink:href='#icon-file-text2'></use></svg></label><input id='data-1335c6a8-9358-48db-ae95-859e82bd8f04' class='xr-var-data-in' type='checkbox'><label for='data-1335c6a8-9358-48db-ae95-859e82bd8f04' title='Show/Hide data repr'><svg class='icon xr-icon-database'><use xlink:href='#icon-database'></use></svg></label><div class='xr-var-attrs'><dl class='xr-attrs'><dt><span>comment :</span></dt><dd>Longitude of the sample based on hdm DAC</dd><dt><span>platform :</span></dt><dd>glider</dd><dt><span>standard_name :</span></dt><dd>longitude</dd><dt><span>units :</span></dt><dd>degrees_east</dd><dt><span>axis :</span></dt><dd>X</dd></dl></div><div class='xr-var-data'><pre>[586 values with dtype=float64]</pre></div></li><li class='xr-var-item'><div class='xr-var-name'><span>latitude</span></div><div class='xr-var-dims'>(sg_data_point)</div><div class='xr-var-dtype'>float64</div><div class='xr-var-preview xr-preview'>...</div><input id='attrs-1aeb50c8-5619-4d20-b047-76028a1eeab8' class='xr-var-attrs-in' type='checkbox' ><label for='attrs-1aeb50c8-5619-4d20-b047-76028a1eeab8' title='Show/Hide attributes'><svg class='icon xr-icon-file-text2'><use xlink:href='#icon-file-text2'></use></svg></label><input id='data-8ef7d7de-9c6c-4ec5-862d-c493f4271c3f' class='xr-var-data-in' type='checkbox'><label for='data-8ef7d7de-9c6c-4ec5-862d-c493f4271c3f' title='Show/Hide data repr'><svg class='icon xr-icon-database'><use xlink:href='#icon-database'></use></svg></label><div class='xr-var-attrs'><dl class='xr-attrs'><dt><span>comment :</span></dt><dd>Latitude of the sample based on hdm DAC</dd><dt><span>platform :</span></dt><dd>glider</dd><dt><span>standard_name :</span></dt><dd>latitude</dd><dt><span>units :</span></dt><dd>degrees_north</dd><dt><span>axis :</span></dt><dd>Y</dd></dl></div><div class='xr-var-data'><pre>[586 values with dtype=float64]</pre></div></li><li class='xr-var-item'><div class='xr-var-name'><span>ctd_depth</span></div><div class='xr-var-dims'>(sg_data_point)</div><div class='xr-var-dtype'>float64</div><div class='xr-var-preview xr-preview'>...</div><input id='attrs-9f23be84-5fb5-48ae-b451-305e542bf650' class='xr-var-attrs-in' type='checkbox' ><label for='attrs-9f23be84-5fb5-48ae-b451-305e542bf650' title='Show/Hide attributes'><svg class='icon xr-icon-file-text2'><use xlink:href='#icon-file-text2'></use></svg></label><input id='data-9a6ffc33-d554-4a2a-acd7-7f4176fb6bb9' class='xr-var-data-in' type='checkbox'><label for='data-9a6ffc33-d554-4a2a-acd7-7f4176fb6bb9' title='Show/Hide data repr'><svg class='icon xr-icon-database'><use xlink:href='#icon-database'></use></svg></label><div class='xr-var-attrs'><dl class='xr-attrs'><dt><span>comment :</span></dt><dd>CTD thermistor depth corrected for average latitude</dd><dt><span>positive :</span></dt><dd>down</dd><dt><span>platform :</span></dt><dd>glider</dd><dt><span>standard_name :</span></dt><dd>depth</dd><dt><span>units :</span></dt><dd>meters</dd><dt><span>axis :</span></dt><dd>Z</dd></dl></div><div class='xr-var-data'><pre>[586 values with dtype=float64]</pre></div></li><li class='xr-var-item'><div class='xr-var-name'><span class='xr-has-index'>trajectory</span></div><div class='xr-var-dims'>(trajectory)</div><div class='xr-var-dtype'>int32</div><div class='xr-var-preview xr-preview'>15</div><input id='attrs-8667e266-59df-4a85-83aa-b64b2a1c0e59' class='xr-var-attrs-in' type='checkbox' ><label for='attrs-8667e266-59df-4a85-83aa-b64b2a1c0e59' title='Show/Hide attributes'><svg class='icon xr-icon-file-text2'><use xlink:href='#icon-file-text2'></use></svg></label><input id='data-9ee96477-3e50-45f1-b156-47ad24a58255' class='xr-var-data-in' type='checkbox'><label for='data-9ee96477-3e50-45f1-b156-47ad24a58255' title='Show/Hide data repr'><svg class='icon xr-icon-database'><use xlink:href='#icon-database'></use></svg></label><div class='xr-var-attrs'><dl class='xr-attrs'><dt><span>comment :</span></dt><dd>Dive number for observations</dd><dt><span>long_name :</span></dt><dd>Unique identifier for each feature instance</dd><dt><span>cf_role :</span></dt><dd>trajectory_id</dd></dl></div><div class='xr-var-data'><pre>array([15], dtype=int32)</pre></div></li></ul></div></li><li class='xr-section-item'><input id='section-4fa851ae-2d14-4336-92d9-c9222e4e85e2' class='xr-section-summary-in' type='checkbox'  ><label for='section-4fa851ae-2d14-4336-92d9-c9222e4e85e2' class='xr-section-summary' >Data variables: <span>(397)</span></label><div class='xr-section-inline-details'></div><div class='xr-section-details'><ul class='xr-var-list'><li class='xr-var-item'><div class='xr-var-name'><span>salinity_qc</span></div><div class='xr-var-dims'>(sg_data_point)</div><div class='xr-var-dtype'>|S1</div><div class='xr-var-preview xr-preview'>...</div><input id='attrs-1ca542a6-85e9-4f78-a443-879784656193' class='xr-var-attrs-in' type='checkbox' ><label for='attrs-1ca542a6-85e9-4f78-a443-879784656193' title='Show/Hide attributes'><svg class='icon xr-icon-file-text2'><use xlink:href='#icon-file-text2'></use></svg></label><input id='data-0608384f-2686-4500-bf57-c2e9ac9eb400' class='xr-var-data-in' type='checkbox'><label for='data-0608384f-2686-4500-bf57-c2e9ac9eb400' title='Show/Hide data repr'><svg class='icon xr-icon-database'><use xlink:href='#icon-database'></use></svg></label><div class='xr-var-attrs'><dl class='xr-attrs'><dt><span>flag_meanings :</span></dt><dd>QC_NO_CHANGE QC_GOOD QC_PROBABLY_GOOD QC_PROBABLY_BAD QC_BAD QC_CHANGED QC_UNSAMPLED QC_INTERPOLATED QC_MISSING</dd><dt><span>comment :</span></dt><dd>Whether to trust each corrected salinity value</dd><dt><span>flag_values :</span></dt><dd>0 1 2 3 4 5 6 8 9</dd><dt><span>platform :</span></dt><dd>glider</dd></dl></div><div class='xr-var-data'><pre>[586 values with dtype=|S1]</pre></div></li><li class='xr-var-item'><div class='xr-var-name'><span>eng_depth</span></div><div class='xr-var-dims'>(sg_data_point)</div><div class='xr-var-dtype'>float64</div><div class='xr-var-preview xr-preview'>...</div><input id='attrs-fa780407-4ca3-4446-9101-c95996cf75ff' class='xr-var-attrs-in' type='checkbox' ><label for='attrs-fa780407-4ca3-4446-9101-c95996cf75ff' title='Show/Hide attributes'><svg class='icon xr-icon-file-text2'><use xlink:href='#icon-file-text2'></use></svg></label><input id='data-5d92eddc-5389-4a88-a655-9e7fa3ecc235' class='xr-var-data-in' type='checkbox'><label for='data-5d92eddc-5389-4a88-a655-9e7fa3ecc235' title='Show/Hide data repr'><svg class='icon xr-icon-database'><use xlink:href='#icon-database'></use></svg></label><div class='xr-var-attrs'><dl class='xr-attrs'><dt><span>units :</span></dt><dd>cm</dd><dt><span>positive :</span></dt><dd>down</dd><dt><span>standard_name :</span></dt><dd>depth</dd><dt><span>comment :</span></dt><dd>Measured vertical distance below the surface</dd><dt><span>platform :</span></dt><dd>glider</dd></dl></div><div class='xr-var-data'><pre>[586 values with dtype=float64]</pre></div></li><li class='xr-var-item'><div class='xr-var-name'><span>eng_aa4330_Temp</span></div><div class='xr-var-dims'>(sg_data_point)</div><div class='xr-var-dtype'>float64</div><div class='xr-var-preview xr-preview'>...</div><input id='attrs-018536bf-aede-48c8-a0d7-ba34a61df231' class='xr-var-attrs-in' type='checkbox' ><label for='attrs-018536bf-aede-48c8-a0d7-ba34a61df231' title='Show/Hide attributes'><svg class='icon xr-icon-file-text2'><use xlink:href='#icon-file-text2'></use></svg></label><input id='data-28bb09a1-25e2-42e2-8dbd-019f4691d90f' class='xr-var-data-in' type='checkbox'><label for='data-28bb09a1-25e2-42e2-8dbd-019f4691d90f' title='Show/Hide data repr'><svg class='icon xr-icon-database'><use xlink:href='#icon-database'></use></svg></label><div class='xr-var-attrs'><dl class='xr-attrs'><dt><span>units :</span></dt><dd>degrees_Celsius</dd><dt><span>platform :</span></dt><dd>glider</dd><dt><span>comment :</span></dt><dd>As reported by the instrument</dd><dt><span>instrument :</span></dt><dd>aa4330</dd></dl></div><div class='xr-var-data'><pre>[586 values with dtype=float64]</pre></div></li><li class='xr-var-item'><div class='xr-var-name'><span>eng_vbdCC</span></div><div class='xr-var-dims'>(sg_data_point)</div><div class='xr-var-dtype'>float64</div><div class='xr-var-preview xr-preview'>...</div><input id='attrs-acc4ea6e-1754-45d1-a773-20f54287cde1' class='xr-var-attrs-in' type='checkbox' ><label for='attrs-acc4ea6e-1754-45d1-a773-20f54287cde1' title='Show/Hide attributes'><svg class='icon xr-icon-file-text2'><use xlink:href='#icon-file-text2'></use></svg></label><input id='data-a2c1279a-5bb1-45ce-9933-7fb99ce2d713' class='xr-var-data-in' type='checkbox'><label for='data-a2c1279a-5bb1-45ce-9933-7fb99ce2d713' title='Show/Hide data repr'><svg class='icon xr-icon-database'><use xlink:href='#icon-database'></use></svg></label><div class='xr-var-attrs'><dl class='xr-attrs'><dt><span>platform :</span></dt><dd>glider</dd></dl></div><div class='xr-var-data'><pre>[586 values with dtype=float64]</pre></div></li><li class='xr-var-item'><div class='xr-var-name'><span>north_displacement</span></div><div class='xr-var-dims'>(sg_data_point)</div><div class='xr-var-dtype'>float64</div><div class='xr-var-preview xr-preview'>...</div><input id='attrs-2d18e7c3-1197-4806-9145-0d4b6409a3ed' class='xr-var-attrs-in' type='checkbox' ><label for='attrs-2d18e7c3-1197-4806-9145-0d4b6409a3ed' title='Show/Hide attributes'><svg class='icon xr-icon-file-text2'><use xlink:href='#icon-file-text2'></use></svg></label><input id='data-7a659c7c-538f-4166-bbe2-7a556b94afbe' class='xr-var-data-in' type='checkbox'><label for='data-7a659c7c-538f-4166-bbe2-7a556b94afbe' title='Show/Hide data repr'><svg class='icon xr-icon-database'><use xlink:href='#icon-database'></use></svg></label><div class='xr-var-attrs'><dl class='xr-attrs'><dt><span>units :</span></dt><dd>meters</dd><dt><span>comment :</span></dt><dd>Northward displacement from hdm</dd><dt><span>platform :</span></dt><dd>glider</dd></dl></div><div class='xr-var-data'><pre>[586 values with dtype=float64]</pre></div></li><li class='xr-var-item'><div class='xr-var-name'><span>east_displacement</span></div><div class='xr-var-dims'>(sg_data_point)</div><div class='xr-var-dtype'>float64</div><div class='xr-var-preview xr-preview'>...</div><input id='attrs-5c4f5905-9e82-4a6b-9dc3-abd5df20f032' class='xr-var-attrs-in' type='checkbox' ><label for='attrs-5c4f5905-9e82-4a6b-9dc3-abd5df20f032' title='Show/Hide attributes'><svg class='icon xr-icon-file-text2'><use xlink:href='#icon-file-text2'></use></svg></label><input id='data-870d5955-1ede-4eb0-95c9-453e499d1faf' class='xr-var-data-in' type='checkbox'><label for='data-870d5955-1ede-4eb0-95c9-453e499d1faf' title='Show/Hide data repr'><svg class='icon xr-icon-database'><use xlink:href='#icon-database'></use></svg></label><div class='xr-var-attrs'><dl class='xr-attrs'><dt><span>units :</span></dt><dd>meters</dd><dt><span>comment :</span></dt><dd>Eastward displacement from hdm</dd><dt><span>platform :</span></dt><dd>glider</dd></dl></div><div class='xr-var-data'><pre>[586 values with dtype=float64]</pre></div></li><li class='xr-var-item'><div class='xr-var-name'><span>salinity_raw</span></div><div class='xr-var-dims'>(sg_data_point)</div><div class='xr-var-dtype'>float64</div><div class='xr-var-preview xr-preview'>...</div><input id='attrs-88ccb740-629f-4ced-8468-066c5c5c0e4b' class='xr-var-attrs-in' type='checkbox' ><label for='attrs-88ccb740-629f-4ced-8468-066c5c5c0e4b' title='Show/Hide attributes'><svg class='icon xr-icon-file-text2'><use xlink:href='#icon-file-text2'></use></svg></label><input id='data-2a03b26a-c4f5-46be-9d42-2893d319e4d7' class='xr-var-data-in' type='checkbox'><label for='data-2a03b26a-c4f5-46be-9d42-2893d319e4d7' title='Show/Hide data repr'><svg class='icon xr-icon-database'><use xlink:href='#icon-database'></use></svg></label><div class='xr-var-attrs'><dl class='xr-attrs'><dt><span>units :</span></dt><dd>1e-3</dd><dt><span>comment :</span></dt><dd>Uncorrected salinity derived from temperature_raw and conductivity_raw (PSU)</dd><dt><span>platform :</span></dt><dd>glider</dd></dl></div><div class='xr-var-data'><pre>[586 values with dtype=float64]</pre></div></li><li class='xr-var-item'><div class='xr-var-name'><span>temperature_qc</span></div><div class='xr-var-dims'>(sg_data_point)</div><div class='xr-var-dtype'>|S1</div><div class='xr-var-preview xr-preview'>...</div><input id='attrs-0ab53150-b31f-458d-9e35-b3691531a051' class='xr-var-attrs-in' type='checkbox' ><label for='attrs-0ab53150-b31f-458d-9e35-b3691531a051' title='Show/Hide attributes'><svg class='icon xr-icon-file-text2'><use xlink:href='#icon-file-text2'></use></svg></label><input id='data-e04f26c9-7b3a-4dac-b8b5-84f8eb115437' class='xr-var-data-in' type='checkbox'><label for='data-e04f26c9-7b3a-4dac-b8b5-84f8eb115437' title='Show/Hide data repr'><svg class='icon xr-icon-database'><use xlink:href='#icon-database'></use></svg></label><div class='xr-var-attrs'><dl class='xr-attrs'><dt><span>flag_meanings :</span></dt><dd>QC_NO_CHANGE QC_GOOD QC_PROBABLY_GOOD QC_PROBABLY_BAD QC_BAD QC_CHANGED QC_UNSAMPLED QC_INTERPOLATED QC_MISSING</dd><dt><span>comment :</span></dt><dd>Whether to trust each corrected temperature value</dd><dt><span>flag_values :</span></dt><dd>0 1 2 3 4 5 6 8 9</dd><dt><span>platform :</span></dt><dd>glider</dd></dl></div><div class='xr-var-data'><pre>[586 values with dtype=|S1]</pre></div></li><li class='xr-var-item'><div class='xr-var-name'><span>eng_rollAng</span></div><div class='xr-var-dims'>(sg_data_point)</div><div class='xr-var-dtype'>float64</div><div class='xr-var-preview xr-preview'>...</div><input id='attrs-9f19f780-9acd-4eda-b39b-e5f6a96a7bb0' class='xr-var-attrs-in' type='checkbox' ><label for='attrs-9f19f780-9acd-4eda-b39b-e5f6a96a7bb0' title='Show/Hide attributes'><svg class='icon xr-icon-file-text2'><use xlink:href='#icon-file-text2'></use></svg></label><input id='data-34e54736-1a0e-44c7-b59c-c7e47067cb14' class='xr-var-data-in' type='checkbox'><label for='data-34e54736-1a0e-44c7-b59c-c7e47067cb14' title='Show/Hide data repr'><svg class='icon xr-icon-database'><use xlink:href='#icon-database'></use></svg></label><div class='xr-var-attrs'><dl class='xr-attrs'><dt><span>units :</span></dt><dd>degrees</dd><dt><span>comment :</span></dt><dd>Vehicle roll</dd><dt><span>platform :</span></dt><dd>glider</dd></dl></div><div class='xr-var-data'><pre>[586 values with dtype=float64]</pre></div></li><li class='xr-var-item'><div class='xr-var-name'><span>longitude_gsm</span></div><div class='xr-var-dims'>(sg_data_point)</div><div class='xr-var-dtype'>float64</div><div class='xr-var-preview xr-preview'>...</div><input id='attrs-138f96e3-7e49-4ad1-a4a4-0fde93d16544' class='xr-var-attrs-in' type='checkbox' ><label for='attrs-138f96e3-7e49-4ad1-a4a4-0fde93d16544' title='Show/Hide attributes'><svg class='icon xr-icon-file-text2'><use xlink:href='#icon-file-text2'></use></svg></label><input id='data-2268c867-cdb3-4e4f-896d-9792685668f3' class='xr-var-data-in' type='checkbox'><label for='data-2268c867-cdb3-4e4f-896d-9792685668f3' title='Show/Hide data repr'><svg class='icon xr-icon-database'><use xlink:href='#icon-database'></use></svg></label><div class='xr-var-attrs'><dl class='xr-attrs'><dt><span>units :</span></dt><dd>degrees_east</dd><dt><span>comment :</span></dt><dd>Longitude of the sample based on gsm DAC</dd><dt><span>platform :</span></dt><dd>glider</dd></dl></div><div class='xr-var-data'><pre>[586 values with dtype=float64]</pre></div></li><li class='xr-var-item'><div class='xr-var-name'><span>speed_gsm</span></div><div class='xr-var-dims'>(sg_data_point)</div><div class='xr-var-dtype'>float64</div><div class='xr-var-preview xr-preview'>...</div><input id='attrs-34557d04-3f6a-40b6-8c13-214bc30359e6' class='xr-var-attrs-in' type='checkbox' ><label for='attrs-34557d04-3f6a-40b6-8c13-214bc30359e6' title='Show/Hide attributes'><svg class='icon xr-icon-file-text2'><use xlink:href='#icon-file-text2'></use></svg></label><input id='data-7fee6cd3-02f4-4e51-854c-36e44f801df2' class='xr-var-data-in' type='checkbox'><label for='data-7fee6cd3-02f4-4e51-854c-36e44f801df2' title='Show/Hide data repr'><svg class='icon xr-icon-database'><use xlink:href='#icon-database'></use></svg></label><div class='xr-var-attrs'><dl class='xr-attrs'><dt><span>units :</span></dt><dd>cm/s</dd><dt><span>comment :</span></dt><dd>Vehicle speed based on gsm</dd><dt><span>platform :</span></dt><dd>glider</dd></dl></div><div class='xr-var-data'><pre>[586 values with dtype=float64]</pre></div></li><li class='xr-var-item'><div class='xr-var-name'><span>sigma_t</span></div><div class='xr-var-dims'>(sg_data_point)</div><div class='xr-var-dtype'>float64</div><div class='xr-var-preview xr-preview'>...</div><input id='attrs-4ab64bcf-02bc-41c5-98bf-b0f41bd8b294' class='xr-var-attrs-in' type='checkbox' ><label for='attrs-4ab64bcf-02bc-41c5-98bf-b0f41bd8b294' title='Show/Hide attributes'><svg class='icon xr-icon-file-text2'><use xlink:href='#icon-file-text2'></use></svg></label><input id='data-0f5854a5-d8a1-422b-a386-7ba00290d937' class='xr-var-data-in' type='checkbox'><label for='data-0f5854a5-d8a1-422b-a386-7ba00290d937' title='Show/Hide data repr'><svg class='icon xr-icon-database'><use xlink:href='#icon-database'></use></svg></label><div class='xr-var-attrs'><dl class='xr-attrs'><dt><span>comment :</span></dt><dd>Sigma based on density</dd><dt><span>ref_pressure :</span></dt><dd>0</dd><dt><span>platform :</span></dt><dd>glider</dd><dt><span>standard_name :</span></dt><dd>sea_water_sigma_t</dd><dt><span>units :</span></dt><dd>g/m^3</dd></dl></div><div class='xr-var-data'><pre>[586 values with dtype=float64]</pre></div></li><li class='xr-var-item'><div class='xr-var-name'><span>vert_speed_gsm</span></div><div class='xr-var-dims'>(sg_data_point)</div><div class='xr-var-dtype'>float64</div><div class='xr-var-preview xr-preview'>...</div><input id='attrs-831fb553-a862-421d-9c50-183ac960c175' class='xr-var-attrs-in' type='checkbox' ><label for='attrs-831fb553-a862-421d-9c50-183ac960c175' title='Show/Hide attributes'><svg class='icon xr-icon-file-text2'><use xlink:href='#icon-file-text2'></use></svg></label><input id='data-4f148b9c-df0c-4279-8f79-28027b994be0' class='xr-var-data-in' type='checkbox'><label for='data-4f148b9c-df0c-4279-8f79-28027b994be0' title='Show/Hide data repr'><svg class='icon xr-icon-database'><use xlink:href='#icon-database'></use></svg></label><div class='xr-var-attrs'><dl class='xr-attrs'><dt><span>units :</span></dt><dd>cm/s</dd><dt><span>comment :</span></dt><dd>Vehicle vertical speed based on gsm</dd><dt><span>platform :</span></dt><dd>glider</dd></dl></div><div class='xr-var-data'><pre>[586 values with dtype=float64]</pre></div></li><li class='xr-var-item'><div class='xr-var-name'><span>temperature_raw_qc</span></div><div class='xr-var-dims'>(sg_data_point)</div><div class='xr-var-dtype'>|S1</div><div class='xr-var-preview xr-preview'>...</div><input id='attrs-b3a83ffc-0e4e-4086-a3d1-2a39aeb6d28f' class='xr-var-attrs-in' type='checkbox' ><label for='attrs-b3a83ffc-0e4e-4086-a3d1-2a39aeb6d28f' title='Show/Hide attributes'><svg class='icon xr-icon-file-text2'><use xlink:href='#icon-file-text2'></use></svg></label><input id='data-3c31239e-e94a-4144-896c-287241410829' class='xr-var-data-in' type='checkbox'><label for='data-3c31239e-e94a-4144-896c-287241410829' title='Show/Hide data repr'><svg class='icon xr-icon-database'><use xlink:href='#icon-database'></use></svg></label><div class='xr-var-attrs'><dl class='xr-attrs'><dt><span>flag_meanings :</span></dt><dd>QC_NO_CHANGE QC_GOOD QC_PROBABLY_GOOD QC_PROBABLY_BAD QC_BAD QC_CHANGED QC_UNSAMPLED QC_INTERPOLATED QC_MISSING</dd><dt><span>comment :</span></dt><dd>Whether to trust each raw temperature value</dd><dt><span>flag_values :</span></dt><dd>0 1 2 3 4 5 6 8 9</dd><dt><span>platform :</span></dt><dd>glider</dd></dl></div><div class='xr-var-data'><pre>[586 values with dtype=|S1]</pre></div></li><li class='xr-var-item'><div class='xr-var-name'><span>vert_speed</span></div><div class='xr-var-dims'>(sg_data_point)</div><div class='xr-var-dtype'>float64</div><div class='xr-var-preview xr-preview'>...</div><input id='attrs-3d65bdb4-9c58-453a-bc6d-7c2a3593871b' class='xr-var-attrs-in' type='checkbox' ><label for='attrs-3d65bdb4-9c58-453a-bc6d-7c2a3593871b' title='Show/Hide attributes'><svg class='icon xr-icon-file-text2'><use xlink:href='#icon-file-text2'></use></svg></label><input id='data-670b2f34-e99a-4641-b8c5-9f6e5389b90c' class='xr-var-data-in' type='checkbox'><label for='data-670b2f34-e99a-4641-b8c5-9f6e5389b90c' title='Show/Hide data repr'><svg class='icon xr-icon-database'><use xlink:href='#icon-database'></use></svg></label><div class='xr-var-attrs'><dl class='xr-attrs'><dt><span>units :</span></dt><dd>cm/s</dd><dt><span>comment :</span></dt><dd>Vehicle vertical speed based on hdm</dd><dt><span>platform :</span></dt><dd>glider</dd></dl></div><div class='xr-var-data'><pre>[586 values with dtype=float64]</pre></div></li><li class='xr-var-item'><div class='xr-var-name'><span>temperature</span></div><div class='xr-var-dims'>(sg_data_point)</div><div class='xr-var-dtype'>float64</div><div class='xr-var-preview xr-preview'>...</div><input id='attrs-f199c268-8129-40d4-bade-204ecc35b30b' class='xr-var-attrs-in' type='checkbox' ><label for='attrs-f199c268-8129-40d4-bade-204ecc35b30b' title='Show/Hide attributes'><svg class='icon xr-icon-file-text2'><use xlink:href='#icon-file-text2'></use></svg></label><input id='data-5f3dd73f-92ae-4df2-99e9-b2d06bc3949c' class='xr-var-data-in' type='checkbox'><label for='data-5f3dd73f-92ae-4df2-99e9-b2d06bc3949c' title='Show/Hide data repr'><svg class='icon xr-icon-database'><use xlink:href='#icon-database'></use></svg></label><div class='xr-var-attrs'><dl class='xr-attrs'><dt><span>units :</span></dt><dd>degrees_Celsius</dd><dt><span>comment :</span></dt><dd>Termperature (in situ) corrected for thermistor first-order lag</dd><dt><span>standard_name :</span></dt><dd>sea_water_temperature</dd><dt><span>platform :</span></dt><dd>glider</dd></dl></div><div class='xr-var-data'><pre>[586 values with dtype=float64]</pre></div></li><li class='xr-var-item'><div class='xr-var-name'><span>temperature_raw</span></div><div class='xr-var-dims'>(sg_data_point)</div><div class='xr-var-dtype'>float64</div><div class='xr-var-preview xr-preview'>...</div><input id='attrs-ea294fcc-faa8-4337-a062-b00911adfa25' class='xr-var-attrs-in' type='checkbox' ><label for='attrs-ea294fcc-faa8-4337-a062-b00911adfa25' title='Show/Hide attributes'><svg class='icon xr-icon-file-text2'><use xlink:href='#icon-file-text2'></use></svg></label><input id='data-e26e85b9-62aa-4e02-a09c-136c464a37b8' class='xr-var-data-in' type='checkbox'><label for='data-e26e85b9-62aa-4e02-a09c-136c464a37b8' title='Show/Hide data repr'><svg class='icon xr-icon-database'><use xlink:href='#icon-database'></use></svg></label><div class='xr-var-attrs'><dl class='xr-attrs'><dt><span>units :</span></dt><dd>degrees_Celsius</dd><dt><span>comment :</span></dt><dd>Uncorrected temperature (in situ)</dd><dt><span>platform :</span></dt><dd>glider</dd></dl></div><div class='xr-var-data'><pre>[586 values with dtype=float64]</pre></div></li><li class='xr-var-item'><div class='xr-var-name'><span>conductivity_raw_qc</span></div><div class='xr-var-dims'>(sg_data_point)</div><div class='xr-var-dtype'>|S1</div><div class='xr-var-preview xr-preview'>...</div><input id='attrs-8149d2cf-02c4-4335-a6e0-d39f647360e4' class='xr-var-attrs-in' type='checkbox' ><label for='attrs-8149d2cf-02c4-4335-a6e0-d39f647360e4' title='Show/Hide attributes'><svg class='icon xr-icon-file-text2'><use xlink:href='#icon-file-text2'></use></svg></label><input id='data-588967f3-84b5-4d2c-bf14-0d37d220c537' class='xr-var-data-in' type='checkbox'><label for='data-588967f3-84b5-4d2c-bf14-0d37d220c537' title='Show/Hide data repr'><svg class='icon xr-icon-database'><use xlink:href='#icon-database'></use></svg></label><div class='xr-var-attrs'><dl class='xr-attrs'><dt><span>flag_meanings :</span></dt><dd>QC_NO_CHANGE QC_GOOD QC_PROBABLY_GOOD QC_PROBABLY_BAD QC_BAD QC_CHANGED QC_UNSAMPLED QC_INTERPOLATED QC_MISSING</dd><dt><span>comment :</span></dt><dd>Whether to trust each raw conductivity value</dd><dt><span>flag_values :</span></dt><dd>0 1 2 3 4 5 6 8 9</dd><dt><span>platform :</span></dt><dd>glider</dd></dl></div><div class='xr-var-data'><pre>[586 values with dtype=|S1]</pre></div></li><li class='xr-var-item'><div class='xr-var-name'><span>eng_aa4330_TCPhase</span></div><div class='xr-var-dims'>(sg_data_point)</div><div class='xr-var-dtype'>float64</div><div class='xr-var-preview xr-preview'>...</div><input id='attrs-1df0f15f-70ca-4a98-90c4-9fe47a8bed37' class='xr-var-attrs-in' type='checkbox' ><label for='attrs-1df0f15f-70ca-4a98-90c4-9fe47a8bed37' title='Show/Hide attributes'><svg class='icon xr-icon-file-text2'><use xlink:href='#icon-file-text2'></use></svg></label><input id='data-31c17f0d-6602-44f5-9570-410ca2152392' class='xr-var-data-in' type='checkbox'><label for='data-31c17f0d-6602-44f5-9570-410ca2152392' title='Show/Hide data repr'><svg class='icon xr-icon-database'><use xlink:href='#icon-database'></use></svg></label><div class='xr-var-attrs'><dl class='xr-attrs'><dt><span>comment :</span></dt><dd>As reported by the instrument</dd><dt><span>platform :</span></dt><dd>glider</dd><dt><span>instrument :</span></dt><dd>aa4330</dd></dl></div><div class='xr-var-data'><pre>[586 values with dtype=float64]</pre></div></li><li class='xr-var-item'><div class='xr-var-name'><span>eng_sbect_tempFreq</span></div><div class='xr-var-dims'>(sg_data_point)</div><div class='xr-var-dtype'>float64</div><div class='xr-var-preview xr-preview'>...</div><input id='attrs-529891c0-2326-469d-880f-5b89dd674948' class='xr-var-attrs-in' type='checkbox' ><label for='attrs-529891c0-2326-469d-880f-5b89dd674948' title='Show/Hide attributes'><svg class='icon xr-icon-file-text2'><use xlink:href='#icon-file-text2'></use></svg></label><input id='data-cafb0c86-3662-408a-ac8c-f237f06a28a6' class='xr-var-data-in' type='checkbox'><label for='data-cafb0c86-3662-408a-ac8c-f237f06a28a6' title='Show/Hide data repr'><svg class='icon xr-icon-database'><use xlink:href='#icon-database'></use></svg></label><div class='xr-var-attrs'><dl class='xr-attrs'><dt><span>comment :</span></dt><dd>As reported by the instrument</dd><dt><span>instrument :</span></dt><dd>sbe41</dd><dt><span>platform :</span></dt><dd>glider</dd></dl></div><div class='xr-var-data'><pre>[586 values with dtype=float64]</pre></div></li><li class='xr-var-item'><div class='xr-var-name'><span>eng_sbect_condFreq</span></div><div class='xr-var-dims'>(sg_data_point)</div><div class='xr-var-dtype'>float64</div><div class='xr-var-preview xr-preview'>...</div><input id='attrs-bdfcfe91-e960-429a-9711-3cc677e79e62' class='xr-var-attrs-in' type='checkbox' ><label for='attrs-bdfcfe91-e960-429a-9711-3cc677e79e62' title='Show/Hide attributes'><svg class='icon xr-icon-file-text2'><use xlink:href='#icon-file-text2'></use></svg></label><input id='data-c7894969-e8a7-4d3e-aebe-f6b591fe7eea' class='xr-var-data-in' type='checkbox'><label for='data-c7894969-e8a7-4d3e-aebe-f6b591fe7eea' title='Show/Hide data repr'><svg class='icon xr-icon-database'><use xlink:href='#icon-database'></use></svg></label><div class='xr-var-attrs'><dl class='xr-attrs'><dt><span>comment :</span></dt><dd>As reported by the instrument</dd><dt><span>instrument :</span></dt><dd>sbe41</dd><dt><span>platform :</span></dt><dd>glider</dd></dl></div><div class='xr-var-data'><pre>[586 values with dtype=float64]</pre></div></li><li class='xr-var-item'><div class='xr-var-name'><span>eng_rec</span></div><div class='xr-var-dims'>(sg_data_point)</div><div class='xr-var-dtype'>float64</div><div class='xr-var-preview xr-preview'>...</div><input id='attrs-725a7a42-22ea-423b-852d-af9c5cffa196' class='xr-var-attrs-in' type='checkbox' ><label for='attrs-725a7a42-22ea-423b-852d-af9c5cffa196' title='Show/Hide attributes'><svg class='icon xr-icon-file-text2'><use xlink:href='#icon-file-text2'></use></svg></label><input id='data-0168cefb-96ef-46d4-a476-ba26a22a0294' class='xr-var-data-in' type='checkbox'><label for='data-0168cefb-96ef-46d4-a476-ba26a22a0294' title='Show/Hide data repr'><svg class='icon xr-icon-database'><use xlink:href='#icon-database'></use></svg></label><div class='xr-var-attrs'><dl class='xr-attrs'><dt><span>platform :</span></dt><dd>glider</dd></dl></div><div class='xr-var-data'><pre>[586 values with dtype=float64]</pre></div></li><li class='xr-var-item'><div class='xr-var-name'><span>north_displacement_gsm</span></div><div class='xr-var-dims'>(sg_data_point)</div><div class='xr-var-dtype'>float64</div><div class='xr-var-preview xr-preview'>...</div><input id='attrs-2eb4ed7c-6dc7-4e5b-9bba-b72ae0749e27' class='xr-var-attrs-in' type='checkbox' ><label for='attrs-2eb4ed7c-6dc7-4e5b-9bba-b72ae0749e27' title='Show/Hide attributes'><svg class='icon xr-icon-file-text2'><use xlink:href='#icon-file-text2'></use></svg></label><input id='data-e9871475-0c65-4a4c-a576-8c8e477ad4c3' class='xr-var-data-in' type='checkbox'><label for='data-e9871475-0c65-4a4c-a576-8c8e477ad4c3' title='Show/Hide data repr'><svg class='icon xr-icon-database'><use xlink:href='#icon-database'></use></svg></label><div class='xr-var-attrs'><dl class='xr-attrs'><dt><span>units :</span></dt><dd>meters</dd><dt><span>comment :</span></dt><dd>Northward displacement from gsm</dd><dt><span>platform :</span></dt><dd>glider</dd></dl></div><div class='xr-var-data'><pre>[586 values with dtype=float64]</pre></div></li><li class='xr-var-item'><div class='xr-var-name'><span>eng_rollCtl</span></div><div class='xr-var-dims'>(sg_data_point)</div><div class='xr-var-dtype'>float64</div><div class='xr-var-preview xr-preview'>...</div><input id='attrs-cdc11805-29c7-4c4e-b544-d6889940563d' class='xr-var-attrs-in' type='checkbox' ><label for='attrs-cdc11805-29c7-4c4e-b544-d6889940563d' title='Show/Hide attributes'><svg class='icon xr-icon-file-text2'><use xlink:href='#icon-file-text2'></use></svg></label><input id='data-fffada99-5840-4c62-82c6-ffc583b10349' class='xr-var-data-in' type='checkbox'><label for='data-fffada99-5840-4c62-82c6-ffc583b10349' title='Show/Hide data repr'><svg class='icon xr-icon-database'><use xlink:href='#icon-database'></use></svg></label><div class='xr-var-attrs'><dl class='xr-attrs'><dt><span>platform :</span></dt><dd>glider</dd></dl></div><div class='xr-var-data'><pre>[586 values with dtype=float64]</pre></div></li><li class='xr-var-item'><div class='xr-var-name'><span>horz_speed_gsm</span></div><div class='xr-var-dims'>(sg_data_point)</div><div class='xr-var-dtype'>float64</div><div class='xr-var-preview xr-preview'>...</div><input id='attrs-4bd0d527-57cb-4a85-8454-5ee08821fe90' class='xr-var-attrs-in' type='checkbox' ><label for='attrs-4bd0d527-57cb-4a85-8454-5ee08821fe90' title='Show/Hide attributes'><svg class='icon xr-icon-file-text2'><use xlink:href='#icon-file-text2'></use></svg></label><input id='data-2c233b42-29a0-4143-b174-219d3bd949d3' class='xr-var-data-in' type='checkbox'><label for='data-2c233b42-29a0-4143-b174-219d3bd949d3' title='Show/Hide data repr'><svg class='icon xr-icon-database'><use xlink:href='#icon-database'></use></svg></label><div class='xr-var-attrs'><dl class='xr-attrs'><dt><span>units :</span></dt><dd>cm/s</dd><dt><span>comment :</span></dt><dd>Vehicle horizontal speed based on gsm</dd><dt><span>platform :</span></dt><dd>glider</dd></dl></div><div class='xr-var-data'><pre>[586 values with dtype=float64]</pre></div></li><li class='xr-var-item'><div class='xr-var-name'><span>speed_qc</span></div><div class='xr-var-dims'>(sg_data_point)</div><div class='xr-var-dtype'>|S1</div><div class='xr-var-preview xr-preview'>...</div><input id='attrs-3708a273-7b88-44c9-9f6e-50cbac109c1a' class='xr-var-attrs-in' type='checkbox' ><label for='attrs-3708a273-7b88-44c9-9f6e-50cbac109c1a' title='Show/Hide attributes'><svg class='icon xr-icon-file-text2'><use xlink:href='#icon-file-text2'></use></svg></label><input id='data-af142f3e-e0ef-47f3-bbbb-1842848abb34' class='xr-var-data-in' type='checkbox'><label for='data-af142f3e-e0ef-47f3-bbbb-1842848abb34' title='Show/Hide data repr'><svg class='icon xr-icon-database'><use xlink:href='#icon-database'></use></svg></label><div class='xr-var-attrs'><dl class='xr-attrs'><dt><span>flag_meanings :</span></dt><dd>QC_NO_CHANGE QC_GOOD QC_PROBABLY_GOOD QC_PROBABLY_BAD QC_BAD QC_CHANGED QC_UNSAMPLED QC_INTERPOLATED QC_MISSING</dd><dt><span>comment :</span></dt><dd>Whether to trust each hdm speed value</dd><dt><span>flag_values :</span></dt><dd>0 1 2 3 4 5 6 8 9</dd><dt><span>platform :</span></dt><dd>glider</dd></dl></div><div class='xr-var-data'><pre>[586 values with dtype=|S1]</pre></div></li><li class='xr-var-item'><div class='xr-var-name'><span>dissolved_oxygen_sat</span></div><div class='xr-var-dims'>(sg_data_point)</div><div class='xr-var-dtype'>float64</div><div class='xr-var-preview xr-preview'>...</div><input id='attrs-189733d2-d755-4737-8e73-bdb713bfda08' class='xr-var-attrs-in' type='checkbox' ><label for='attrs-189733d2-d755-4737-8e73-bdb713bfda08' title='Show/Hide attributes'><svg class='icon xr-icon-file-text2'><use xlink:href='#icon-file-text2'></use></svg></label><input id='data-7922ef71-b7a0-4ad5-93fe-d130a097161c' class='xr-var-data-in' type='checkbox'><label for='data-7922ef71-b7a0-4ad5-93fe-d130a097161c' title='Show/Hide data repr'><svg class='icon xr-icon-database'><use xlink:href='#icon-database'></use></svg></label><div class='xr-var-attrs'><dl class='xr-attrs'><dt><span>units :</span></dt><dd>micromoles/kg</dd><dt><span>comment :</span></dt><dd>Calculated saturation value for oxygen given measured presure and corrected temperature, and salinity</dd><dt><span>platform :</span></dt><dd>glider</dd></dl></div><div class='xr-var-data'><pre>[586 values with dtype=float64]</pre></div></li><li class='xr-var-item'><div class='xr-var-name'><span>eng_aa4330_O2</span></div><div class='xr-var-dims'>(sg_data_point)</div><div class='xr-var-dtype'>float64</div><div class='xr-var-preview xr-preview'>...</div><input id='attrs-c40f9a39-6c10-40c0-bc6f-961ea8e3383a' class='xr-var-attrs-in' type='checkbox' ><label for='attrs-c40f9a39-6c10-40c0-bc6f-961ea8e3383a' title='Show/Hide attributes'><svg class='icon xr-icon-file-text2'><use xlink:href='#icon-file-text2'></use></svg></label><input id='data-fbdf210c-f67e-40dc-80b7-02dca232884a' class='xr-var-data-in' type='checkbox'><label for='data-fbdf210c-f67e-40dc-80b7-02dca232884a' title='Show/Hide data repr'><svg class='icon xr-icon-database'><use xlink:href='#icon-database'></use></svg></label><div class='xr-var-attrs'><dl class='xr-attrs'><dt><span>units :</span></dt><dd>micromoles/L</dd><dt><span>platform :</span></dt><dd>glider</dd><dt><span>comment :</span></dt><dd>Dissolved oxygen as reported by the instument, based on on-board calibration data, assuming optode temperature but without depth or salinity correction</dd><dt><span>instrument :</span></dt><dd>aa4330</dd></dl></div><div class='xr-var-data'><pre>[586 values with dtype=float64]</pre></div></li><li class='xr-var-item'><div class='xr-var-name'><span>conductivity_raw</span></div><div class='xr-var-dims'>(sg_data_point)</div><div class='xr-var-dtype'>float64</div><div class='xr-var-preview xr-preview'>...</div><input id='attrs-1146022f-7a6b-46a8-bb55-a889de4b3726' class='xr-var-attrs-in' type='checkbox' ><label for='attrs-1146022f-7a6b-46a8-bb55-a889de4b3726' title='Show/Hide attributes'><svg class='icon xr-icon-file-text2'><use xlink:href='#icon-file-text2'></use></svg></label><input id='data-c099766c-bd6a-4056-9576-545a912f126f' class='xr-var-data-in' type='checkbox'><label for='data-c099766c-bd6a-4056-9576-545a912f126f' title='Show/Hide data repr'><svg class='icon xr-icon-database'><use xlink:href='#icon-database'></use></svg></label><div class='xr-var-attrs'><dl class='xr-attrs'><dt><span>units :</span></dt><dd>S/m</dd><dt><span>comment :</span></dt><dd>Uncorrected conductivity</dd><dt><span>platform :</span></dt><dd>glider</dd></dl></div><div class='xr-var-data'><pre>[586 values with dtype=float64]</pre></div></li><li class='xr-var-item'><div class='xr-var-name'><span>eng_aa4330_AirSat</span></div><div class='xr-var-dims'>(sg_data_point)</div><div class='xr-var-dtype'>float64</div><div class='xr-var-preview xr-preview'>...</div><input id='attrs-550fbd5e-1d71-4f34-a633-ad7529f7fe48' class='xr-var-attrs-in' type='checkbox' ><label for='attrs-550fbd5e-1d71-4f34-a633-ad7529f7fe48' title='Show/Hide attributes'><svg class='icon xr-icon-file-text2'><use xlink:href='#icon-file-text2'></use></svg></label><input id='data-93a3e832-80a9-4f0c-a410-42cf7bcff34d' class='xr-var-data-in' type='checkbox'><label for='data-93a3e832-80a9-4f0c-a410-42cf7bcff34d' title='Show/Hide data repr'><svg class='icon xr-icon-database'><use xlink:href='#icon-database'></use></svg></label><div class='xr-var-attrs'><dl class='xr-attrs'><dt><span>comment :</span></dt><dd>As reported by the instrument</dd><dt><span>platform :</span></dt><dd>glider</dd><dt><span>instrument :</span></dt><dd>aa4330</dd></dl></div><div class='xr-var-data'><pre>[586 values with dtype=float64]</pre></div></li><li class='xr-var-item'><div class='xr-var-name'><span>eng_pitchCtl</span></div><div class='xr-var-dims'>(sg_data_point)</div><div class='xr-var-dtype'>float64</div><div class='xr-var-preview xr-preview'>...</div><input id='attrs-dc6de319-f379-4af5-b1d8-bc70c8e951bb' class='xr-var-attrs-in' type='checkbox' ><label for='attrs-dc6de319-f379-4af5-b1d8-bc70c8e951bb' title='Show/Hide attributes'><svg class='icon xr-icon-file-text2'><use xlink:href='#icon-file-text2'></use></svg></label><input id='data-cf399890-9f47-498d-a834-49646161a28b' class='xr-var-data-in' type='checkbox'><label for='data-cf399890-9f47-498d-a834-49646161a28b' title='Show/Hide data repr'><svg class='icon xr-icon-database'><use xlink:href='#icon-database'></use></svg></label><div class='xr-var-attrs'><dl class='xr-attrs'><dt><span>platform :</span></dt><dd>glider</dd></dl></div><div class='xr-var-data'><pre>[586 values with dtype=float64]</pre></div></li><li class='xr-var-item'><div class='xr-var-name'><span>conductivity</span></div><div class='xr-var-dims'>(sg_data_point)</div><div class='xr-var-dtype'>float64</div><div class='xr-var-preview xr-preview'>...</div><input id='attrs-58b0f01a-26c8-49dc-9b45-b678d56466d8' class='xr-var-attrs-in' type='checkbox' ><label for='attrs-58b0f01a-26c8-49dc-9b45-b678d56466d8' title='Show/Hide attributes'><svg class='icon xr-icon-file-text2'><use xlink:href='#icon-file-text2'></use></svg></label><input id='data-64da4f35-46e2-426a-82d9-36d3270288ca' class='xr-var-data-in' type='checkbox'><label for='data-64da4f35-46e2-426a-82d9-36d3270288ca' title='Show/Hide data repr'><svg class='icon xr-icon-database'><use xlink:href='#icon-database'></use></svg></label><div class='xr-var-attrs'><dl class='xr-attrs'><dt><span>units :</span></dt><dd>S/m</dd><dt><span>comment :</span></dt><dd>Conductivity corrected for anomalies</dd><dt><span>standard_name :</span></dt><dd>sea_water_electrical_conductivity</dd><dt><span>platform :</span></dt><dd>glider</dd></dl></div><div class='xr-var-data'><pre>[586 values with dtype=float64]</pre></div></li><li class='xr-var-item'><div class='xr-var-name'><span>latitude_gsm</span></div><div class='xr-var-dims'>(sg_data_point)</div><div class='xr-var-dtype'>float64</div><div class='xr-var-preview xr-preview'>...</div><input id='attrs-06b64906-7357-4d87-b845-299a1dcda126' class='xr-var-attrs-in' type='checkbox' ><label for='attrs-06b64906-7357-4d87-b845-299a1dcda126' title='Show/Hide attributes'><svg class='icon xr-icon-file-text2'><use xlink:href='#icon-file-text2'></use></svg></label><input id='data-7c31f307-35a5-411a-8641-c7d430a4d45c' class='xr-var-data-in' type='checkbox'><label for='data-7c31f307-35a5-411a-8641-c7d430a4d45c' title='Show/Hide data repr'><svg class='icon xr-icon-database'><use xlink:href='#icon-database'></use></svg></label><div class='xr-var-attrs'><dl class='xr-attrs'><dt><span>units :</span></dt><dd>degrees_north</dd><dt><span>comment :</span></dt><dd>Latitude of the sample based on gsm DAC</dd><dt><span>platform :</span></dt><dd>glider</dd></dl></div><div class='xr-var-data'><pre>[586 values with dtype=float64]</pre></div></li><li class='xr-var-item'><div class='xr-var-name'><span>aanderaa4330_instrument_dissolved_oxygen</span></div><div class='xr-var-dims'>(sg_data_point)</div><div class='xr-var-dtype'>float64</div><div class='xr-var-preview xr-preview'>...</div><input id='attrs-e448d919-d4a6-4c06-8dd1-a92276d88a17' class='xr-var-attrs-in' type='checkbox' ><label for='attrs-e448d919-d4a6-4c06-8dd1-a92276d88a17' title='Show/Hide attributes'><svg class='icon xr-icon-file-text2'><use xlink:href='#icon-file-text2'></use></svg></label><input id='data-562dbd46-cefa-4efc-8447-73b76ca8aa0b' class='xr-var-data-in' type='checkbox'><label for='data-562dbd46-cefa-4efc-8447-73b76ca8aa0b' title='Show/Hide data repr'><svg class='icon xr-icon-database'><use xlink:href='#icon-database'></use></svg></label><div class='xr-var-attrs'><dl class='xr-attrs'><dt><span>units :</span></dt><dd>micromoles/kg</dd><dt><span>instrument :</span></dt><dd>aa4330</dd><dt><span>comment :</span></dt><dd>Dissolved oxygen concentration reported from optode corrected for salinity</dd><dt><span>platform :</span></dt><dd>glider</dd></dl></div><div class='xr-var-data'><pre>[586 values with dtype=float64]</pre></div></li><li class='xr-var-item'><div class='xr-var-name'><span>eng_pitchAng</span></div><div class='xr-var-dims'>(sg_data_point)</div><div class='xr-var-dtype'>float64</div><div class='xr-var-preview xr-preview'>...</div><input id='attrs-b312326d-9ea1-4b00-8235-4aa0bc870733' class='xr-var-attrs-in' type='checkbox' ><label for='attrs-b312326d-9ea1-4b00-8235-4aa0bc870733' title='Show/Hide attributes'><svg class='icon xr-icon-file-text2'><use xlink:href='#icon-file-text2'></use></svg></label><input id='data-ed3f7e11-b7e5-4cbd-b064-aa06f7fd4ebc' class='xr-var-data-in' type='checkbox'><label for='data-ed3f7e11-b7e5-4cbd-b064-aa06f7fd4ebc' title='Show/Hide data repr'><svg class='icon xr-icon-database'><use xlink:href='#icon-database'></use></svg></label><div class='xr-var-attrs'><dl class='xr-attrs'><dt><span>units :</span></dt><dd>degrees</dd><dt><span>comment :</span></dt><dd>Vehicle pitch</dd><dt><span>platform :</span></dt><dd>glider</dd></dl></div><div class='xr-var-data'><pre>[586 values with dtype=float64]</pre></div></li><li class='xr-var-item'><div class='xr-var-name'><span>theta</span></div><div class='xr-var-dims'>(sg_data_point)</div><div class='xr-var-dtype'>float64</div><div class='xr-var-preview xr-preview'>...</div><input id='attrs-f437d53e-d008-4c3c-8c23-67622fda03af' class='xr-var-attrs-in' type='checkbox' ><label for='attrs-f437d53e-d008-4c3c-8c23-67622fda03af' title='Show/Hide attributes'><svg class='icon xr-icon-file-text2'><use xlink:href='#icon-file-text2'></use></svg></label><input id='data-5cfc356f-4bce-43d3-b279-a68fa4e4ba89' class='xr-var-data-in' type='checkbox'><label for='data-5cfc356f-4bce-43d3-b279-a68fa4e4ba89' title='Show/Hide data repr'><svg class='icon xr-icon-database'><use xlink:href='#icon-database'></use></svg></label><div class='xr-var-attrs'><dl class='xr-attrs'><dt><span>units :</span></dt><dd>degrees_Celsius</dd><dt><span>comment :</span></dt><dd>Potential temperature based on corrected salinity</dd><dt><span>standard_name :</span></dt><dd>sea_water_potential_temperature</dd><dt><span>platform :</span></dt><dd>glider</dd></dl></div><div class='xr-var-data'><pre>[586 values with dtype=float64]</pre></div></li><li class='xr-var-item'><div class='xr-var-name'><span>eng_elaps_t_0000</span></div><div class='xr-var-dims'>(sg_data_point)</div><div class='xr-var-dtype'>timedelta64[ns]</div><div class='xr-var-preview xr-preview'>...</div><input id='attrs-be980686-7426-43c7-860c-b26acc488a08' class='xr-var-attrs-in' type='checkbox' ><label for='attrs-be980686-7426-43c7-860c-b26acc488a08' title='Show/Hide attributes'><svg class='icon xr-icon-file-text2'><use xlink:href='#icon-file-text2'></use></svg></label><input id='data-bfa66663-80cb-4d8b-a81b-1c74cfd1b582' class='xr-var-data-in' type='checkbox'><label for='data-bfa66663-80cb-4d8b-a81b-1c74cfd1b582' title='Show/Hide data repr'><svg class='icon xr-icon-database'><use xlink:href='#icon-database'></use></svg></label><div class='xr-var-attrs'><dl class='xr-attrs'><dt><span>comment :</span></dt><dd>Elapsed seconds since start of mission</dd><dt><span>standard_name :</span></dt><dd>time</dd><dt><span>platform :</span></dt><dd>glider</dd></dl></div><div class='xr-var-data'><pre>[586 values with dtype=timedelta64[ns]]</pre></div></li><li class='xr-var-item'><div class='xr-var-name'><span>buoyancy</span></div><div class='xr-var-dims'>(sg_data_point)</div><div class='xr-var-dtype'>float64</div><div class='xr-var-preview xr-preview'>...</div><input id='attrs-a2d66b20-ee7e-4fa3-a103-2742a740a648' class='xr-var-attrs-in' type='checkbox' ><label for='attrs-a2d66b20-ee7e-4fa3-a103-2742a740a648' title='Show/Hide attributes'><svg class='icon xr-icon-file-text2'><use xlink:href='#icon-file-text2'></use></svg></label><input id='data-50546092-e690-4bc0-b23d-7b48986b96a4' class='xr-var-data-in' type='checkbox'><label for='data-50546092-e690-4bc0-b23d-7b48986b96a4' title='Show/Hide data repr'><svg class='icon xr-icon-database'><use xlink:href='#icon-database'></use></svg></label><div class='xr-var-attrs'><dl class='xr-attrs'><dt><span>units :</span></dt><dd>g</dd><dt><span>comment :</span></dt><dd>Buoyancy of vehicle, corrected for compression effects</dd><dt><span>platform :</span></dt><dd>glider</dd></dl></div><div class='xr-var-data'><pre>[586 values with dtype=float64]</pre></div></li><li class='xr-var-item'><div class='xr-var-name'><span>aanderaa4330_results_time</span></div><div class='xr-var-dims'>(sg_data_point)</div><div class='xr-var-dtype'>datetime64[ns]</div><div class='xr-var-preview xr-preview'>...</div><input id='attrs-f3d75df8-11bf-4fb1-b78e-391afa231509' class='xr-var-attrs-in' type='checkbox' ><label for='attrs-f3d75df8-11bf-4fb1-b78e-391afa231509' title='Show/Hide attributes'><svg class='icon xr-icon-file-text2'><use xlink:href='#icon-file-text2'></use></svg></label><input id='data-19bf11a6-94f1-4cf4-ba84-47370a08e083' class='xr-var-data-in' type='checkbox'><label for='data-19bf11a6-94f1-4cf4-ba84-47370a08e083' title='Show/Hide data repr'><svg class='icon xr-icon-database'><use xlink:href='#icon-database'></use></svg></label><div class='xr-var-attrs'><dl class='xr-attrs'><dt><span>comment :</span></dt><dd>time for Aanderaa 4330 in GMT epoch format</dd><dt><span>standard_name :</span></dt><dd>time</dd><dt><span>instrument :</span></dt><dd>aa4330</dd><dt><span>platform :</span></dt><dd>glider</dd></dl></div><div class='xr-var-data'><pre>[586 values with dtype=datetime64[ns]]</pre></div></li><li class='xr-var-item'><div class='xr-var-name'><span>east_displacement_gsm</span></div><div class='xr-var-dims'>(sg_data_point)</div><div class='xr-var-dtype'>float64</div><div class='xr-var-preview xr-preview'>...</div><input id='attrs-342a4f8a-78f7-460c-a051-de82cc497aeb' class='xr-var-attrs-in' type='checkbox' ><label for='attrs-342a4f8a-78f7-460c-a051-de82cc497aeb' title='Show/Hide attributes'><svg class='icon xr-icon-file-text2'><use xlink:href='#icon-file-text2'></use></svg></label><input id='data-d888b7ed-611d-4639-b2b3-ef7ccadf38b6' class='xr-var-data-in' type='checkbox'><label for='data-d888b7ed-611d-4639-b2b3-ef7ccadf38b6' title='Show/Hide data repr'><svg class='icon xr-icon-database'><use xlink:href='#icon-database'></use></svg></label><div class='xr-var-attrs'><dl class='xr-attrs'><dt><span>units :</span></dt><dd>meters</dd><dt><span>comment :</span></dt><dd>Eastward displacement from gsm</dd><dt><span>platform :</span></dt><dd>glider</dd></dl></div><div class='xr-var-data'><pre>[586 values with dtype=float64]</pre></div></li><li class='xr-var-item'><div class='xr-var-name'><span>sound_velocity</span></div><div class='xr-var-dims'>(sg_data_point)</div><div class='xr-var-dtype'>float64</div><div class='xr-var-preview xr-preview'>...</div><input id='attrs-70493143-9dd2-49aa-8eef-8747f3dceb81' class='xr-var-attrs-in' type='checkbox' ><label for='attrs-70493143-9dd2-49aa-8eef-8747f3dceb81' title='Show/Hide attributes'><svg class='icon xr-icon-file-text2'><use xlink:href='#icon-file-text2'></use></svg></label><input id='data-b5e5754f-af9f-4e31-81b6-bdce6799be2f' class='xr-var-data-in' type='checkbox'><label for='data-b5e5754f-af9f-4e31-81b6-bdce6799be2f' title='Show/Hide data repr'><svg class='icon xr-icon-database'><use xlink:href='#icon-database'></use></svg></label><div class='xr-var-attrs'><dl class='xr-attrs'><dt><span>units :</span></dt><dd>m/s</dd><dt><span>comment :</span></dt><dd>Sound velocity</dd><dt><span>standard_name :</span></dt><dd>speed_of_sound_in_sea_water</dd><dt><span>platform :</span></dt><dd>glider</dd></dl></div><div class='xr-var-data'><pre>[586 values with dtype=float64]</pre></div></li><li class='xr-var-item'><div class='xr-var-name'><span>density_insitu</span></div><div class='xr-var-dims'>(sg_data_point)</div><div class='xr-var-dtype'>float64</div><div class='xr-var-preview xr-preview'>...</div><input id='attrs-e3a8b81e-c4cf-4c04-9d5d-ee8554116f3e' class='xr-var-attrs-in' type='checkbox' ><label for='attrs-e3a8b81e-c4cf-4c04-9d5d-ee8554116f3e' title='Show/Hide attributes'><svg class='icon xr-icon-file-text2'><use xlink:href='#icon-file-text2'></use></svg></label><input id='data-63807ff7-64a5-4db3-a62c-d732e7a6dc6b' class='xr-var-data-in' type='checkbox'><label for='data-63807ff7-64a5-4db3-a62c-d732e7a6dc6b' title='Show/Hide data repr'><svg class='icon xr-icon-database'><use xlink:href='#icon-database'></use></svg></label><div class='xr-var-attrs'><dl class='xr-attrs'><dt><span>units :</span></dt><dd>g/m^3</dd><dt><span>comment :</span></dt><dd>Sea water in-situ density based on pressure</dd><dt><span>platform :</span></dt><dd>glider</dd></dl></div><div class='xr-var-data'><pre>[586 values with dtype=float64]</pre></div></li><li class='xr-var-item'><div class='xr-var-name'><span>sigma_theta</span></div><div class='xr-var-dims'>(sg_data_point)</div><div class='xr-var-dtype'>float64</div><div class='xr-var-preview xr-preview'>...</div><input id='attrs-26dc1760-ac44-4ffa-a24d-21f2afb255e3' class='xr-var-attrs-in' type='checkbox' ><label for='attrs-26dc1760-ac44-4ffa-a24d-21f2afb255e3' title='Show/Hide attributes'><svg class='icon xr-icon-file-text2'><use xlink:href='#icon-file-text2'></use></svg></label><input id='data-86337a0f-3be2-4fa0-b5ff-678eb3b34139' class='xr-var-data-in' type='checkbox'><label for='data-86337a0f-3be2-4fa0-b5ff-678eb3b34139' title='Show/Hide data repr'><svg class='icon xr-icon-database'><use xlink:href='#icon-database'></use></svg></label><div class='xr-var-attrs'><dl class='xr-attrs'><dt><span>units :</span></dt><dd>g/m^3</dd><dt><span>platform :</span></dt><dd>glider</dd><dt><span>standard_name :</span></dt><dd>sea_water_sigma_theta</dd><dt><span>ref_pressure :</span></dt><dd>0</dd></dl></div><div class='xr-var-data'><pre>[586 values with dtype=float64]</pre></div></li><li class='xr-var-item'><div class='xr-var-name'><span>salinity_raw_qc</span></div><div class='xr-var-dims'>(sg_data_point)</div><div class='xr-var-dtype'>|S1</div><div class='xr-var-preview xr-preview'>...</div><input id='attrs-437f85a3-0156-485f-977c-fed005f39d50' class='xr-var-attrs-in' type='checkbox' ><label for='attrs-437f85a3-0156-485f-977c-fed005f39d50' title='Show/Hide attributes'><svg class='icon xr-icon-file-text2'><use xlink:href='#icon-file-text2'></use></svg></label><input id='data-26b5a8ef-b891-402c-9e92-901973e52d5f' class='xr-var-data-in' type='checkbox'><label for='data-26b5a8ef-b891-402c-9e92-901973e52d5f' title='Show/Hide data repr'><svg class='icon xr-icon-database'><use xlink:href='#icon-database'></use></svg></label><div class='xr-var-attrs'><dl class='xr-attrs'><dt><span>flag_meanings :</span></dt><dd>QC_NO_CHANGE QC_GOOD QC_PROBABLY_GOOD QC_PROBABLY_BAD QC_BAD QC_CHANGED QC_UNSAMPLED QC_INTERPOLATED QC_MISSING</dd><dt><span>comment :</span></dt><dd>Whether to trust each raw salinity value</dd><dt><span>flag_values :</span></dt><dd>0 1 2 3 4 5 6 8 9</dd><dt><span>platform :</span></dt><dd>glider</dd></dl></div><div class='xr-var-data'><pre>[586 values with dtype=|S1]</pre></div></li><li class='xr-var-item'><div class='xr-var-name'><span>aanderaa4330_dissolved_oxygen_qc</span></div><div class='xr-var-dims'>(sg_data_point)</div><div class='xr-var-dtype'>|S1</div><div class='xr-var-preview xr-preview'>...</div><input id='attrs-65873960-f879-468d-ba25-34725e8ed9cf' class='xr-var-attrs-in' type='checkbox' ><label for='attrs-65873960-f879-468d-ba25-34725e8ed9cf' title='Show/Hide attributes'><svg class='icon xr-icon-file-text2'><use xlink:href='#icon-file-text2'></use></svg></label><input id='data-9c164fa0-8523-4662-8385-b5d75be07b97' class='xr-var-data-in' type='checkbox'><label for='data-9c164fa0-8523-4662-8385-b5d75be07b97' title='Show/Hide data repr'><svg class='icon xr-icon-database'><use xlink:href='#icon-database'></use></svg></label><div class='xr-var-attrs'><dl class='xr-attrs'><dt><span>flag_meanings :</span></dt><dd>QC_NO_CHANGE QC_GOOD QC_PROBABLY_GOOD QC_PROBABLY_BAD QC_BAD QC_CHANGED QC_UNSAMPLED QC_INTERPOLATED QC_MISSING</dd><dt><span>comment :</span></dt><dd>Whether to trust each optode dissolved oxygen value</dd><dt><span>flag_values :</span></dt><dd>0 1 2 3 4 5 6 8 9</dd><dt><span>instrument :</span></dt><dd>aa4330</dd><dt><span>platform :</span></dt><dd>glider</dd></dl></div><div class='xr-var-data'><pre>[586 values with dtype=|S1]</pre></div></li><li class='xr-var-item'><div class='xr-var-name'><span>speed</span></div><div class='xr-var-dims'>(sg_data_point)</div><div class='xr-var-dtype'>float64</div><div class='xr-var-preview xr-preview'>...</div><input id='attrs-e56096cd-ce8a-41d4-9467-58355fc4358f' class='xr-var-attrs-in' type='checkbox' ><label for='attrs-e56096cd-ce8a-41d4-9467-58355fc4358f' title='Show/Hide attributes'><svg class='icon xr-icon-file-text2'><use xlink:href='#icon-file-text2'></use></svg></label><input id='data-148c21e6-b286-48e1-a9fe-eeba55d6e268' class='xr-var-data-in' type='checkbox'><label for='data-148c21e6-b286-48e1-a9fe-eeba55d6e268' title='Show/Hide data repr'><svg class='icon xr-icon-database'><use xlink:href='#icon-database'></use></svg></label><div class='xr-var-attrs'><dl class='xr-attrs'><dt><span>units :</span></dt><dd>cm/s</dd><dt><span>comment :</span></dt><dd>Vehicle speed based on hdm</dd><dt><span>platform :</span></dt><dd>glider</dd></dl></div><div class='xr-var-data'><pre>[586 values with dtype=float64]</pre></div></li><li class='xr-var-item'><div class='xr-var-name'><span>density</span></div><div class='xr-var-dims'>(sg_data_point)</div><div class='xr-var-dtype'>float64</div><div class='xr-var-preview xr-preview'>...</div><input id='attrs-77fd7d3e-c25d-491b-8d83-8bce95b37b94' class='xr-var-attrs-in' type='checkbox' ><label for='attrs-77fd7d3e-c25d-491b-8d83-8bce95b37b94' title='Show/Hide attributes'><svg class='icon xr-icon-file-text2'><use xlink:href='#icon-file-text2'></use></svg></label><input id='data-15fb3bfc-5c0b-4327-b4d3-6c64d1f94382' class='xr-var-data-in' type='checkbox'><label for='data-15fb3bfc-5c0b-4327-b4d3-6c64d1f94382' title='Show/Hide data repr'><svg class='icon xr-icon-database'><use xlink:href='#icon-database'></use></svg></label><div class='xr-var-attrs'><dl class='xr-attrs'><dt><span>comment :</span></dt><dd>Sea water potential density</dd><dt><span>ref_pressure :</span></dt><dd>0</dd><dt><span>platform :</span></dt><dd>glider</dd><dt><span>standard_name :</span></dt><dd>sea_water_density</dd><dt><span>units :</span></dt><dd>g/m^3</dd></dl></div><div class='xr-var-data'><pre>[586 values with dtype=float64]</pre></div></li><li class='xr-var-item'><div class='xr-var-name'><span>eng_aa4330_CalPhase</span></div><div class='xr-var-dims'>(sg_data_point)</div><div class='xr-var-dtype'>float64</div><div class='xr-var-preview xr-preview'>...</div><input id='attrs-69b77718-c517-4932-b2ec-ef832f7f9a5d' class='xr-var-attrs-in' type='checkbox' ><label for='attrs-69b77718-c517-4932-b2ec-ef832f7f9a5d' title='Show/Hide attributes'><svg class='icon xr-icon-file-text2'><use xlink:href='#icon-file-text2'></use></svg></label><input id='data-778e425c-b57a-40f4-8d44-c185c0e89639' class='xr-var-data-in' type='checkbox'><label for='data-778e425c-b57a-40f4-8d44-c185c0e89639' title='Show/Hide data repr'><svg class='icon xr-icon-database'><use xlink:href='#icon-database'></use></svg></label><div class='xr-var-attrs'><dl class='xr-attrs'><dt><span>comment :</span></dt><dd>As reported by the instrument</dd><dt><span>platform :</span></dt><dd>glider</dd><dt><span>instrument :</span></dt><dd>aa4330</dd></dl></div><div class='xr-var-data'><pre>[586 values with dtype=float64]</pre></div></li><li class='xr-var-item'><div class='xr-var-name'><span>eng_GC_phase</span></div><div class='xr-var-dims'>(sg_data_point)</div><div class='xr-var-dtype'>float64</div><div class='xr-var-preview xr-preview'>...</div><input id='attrs-3419f787-31fd-459b-bd68-5af5a4531eb6' class='xr-var-attrs-in' type='checkbox' ><label for='attrs-3419f787-31fd-459b-bd68-5af5a4531eb6' title='Show/Hide attributes'><svg class='icon xr-icon-file-text2'><use xlink:href='#icon-file-text2'></use></svg></label><input id='data-6945e018-027b-40db-8f8d-080959ba2204' class='xr-var-data-in' type='checkbox'><label for='data-6945e018-027b-40db-8f8d-080959ba2204' title='Show/Hide data repr'><svg class='icon xr-icon-database'><use xlink:href='#icon-database'></use></svg></label><div class='xr-var-attrs'><dl class='xr-attrs'><dt><span>flag_meanings :</span></dt><dd>pitch vbd active_roll passive_roll roll_back passive</dd><dt><span>platform :</span></dt><dd>glider</dd><dt><span>flag_values :</span></dt><dd>[1 2 3 4 5 6]</dd></dl></div><div class='xr-var-data'><pre>[586 values with dtype=float64]</pre></div></li><li class='xr-var-item'><div class='xr-var-name'><span>glide_angle</span></div><div class='xr-var-dims'>(sg_data_point)</div><div class='xr-var-dtype'>float64</div><div class='xr-var-preview xr-preview'>...</div><input id='attrs-b1338190-726b-43cd-a16a-f7b3d097a4bd' class='xr-var-attrs-in' type='checkbox' ><label for='attrs-b1338190-726b-43cd-a16a-f7b3d097a4bd' title='Show/Hide attributes'><svg class='icon xr-icon-file-text2'><use xlink:href='#icon-file-text2'></use></svg></label><input id='data-ded06af7-5665-4740-8fa9-bf2b168a2ed0' class='xr-var-data-in' type='checkbox'><label for='data-ded06af7-5665-4740-8fa9-bf2b168a2ed0' title='Show/Hide data repr'><svg class='icon xr-icon-database'><use xlink:href='#icon-database'></use></svg></label><div class='xr-var-attrs'><dl class='xr-attrs'><dt><span>units :</span></dt><dd>cm/s</dd><dt><span>comment :</span></dt><dd>Glide angle based on hdm</dd><dt><span>platform :</span></dt><dd>glider</dd></dl></div><div class='xr-var-data'><pre>[586 values with dtype=float64]</pre></div></li><li class='xr-var-item'><div class='xr-var-name'><span>conservative_temperature</span></div><div class='xr-var-dims'>(sg_data_point)</div><div class='xr-var-dtype'>float64</div><div class='xr-var-preview xr-preview'>...</div><input id='attrs-f50f45bf-f613-4c28-8912-f2e77b5890d1' class='xr-var-attrs-in' type='checkbox' ><label for='attrs-f50f45bf-f613-4c28-8912-f2e77b5890d1' title='Show/Hide attributes'><svg class='icon xr-icon-file-text2'><use xlink:href='#icon-file-text2'></use></svg></label><input id='data-3600e087-36ff-4f8b-8ee2-7184b879924d' class='xr-var-data-in' type='checkbox'><label for='data-3600e087-36ff-4f8b-8ee2-7184b879924d' title='Show/Hide data repr'><svg class='icon xr-icon-database'><use xlink:href='#icon-database'></use></svg></label><div class='xr-var-attrs'><dl class='xr-attrs'><dt><span>units :</span></dt><dd>degrees_Celsius</dd><dt><span>comment :</span></dt><dd>Conservative termperature per TEOS-10</dd><dt><span>platform :</span></dt><dd>glider</dd></dl></div><div class='xr-var-data'><pre>[586 values with dtype=float64]</pre></div></li><li class='xr-var-item'><div class='xr-var-name'><span>pressure</span></div><div class='xr-var-dims'>(sg_data_point)</div><div class='xr-var-dtype'>float64</div><div class='xr-var-preview xr-preview'>...</div><input id='attrs-e0bfe8bd-d160-4e35-a7aa-5516be0cf0c0' class='xr-var-attrs-in' type='checkbox' ><label for='attrs-e0bfe8bd-d160-4e35-a7aa-5516be0cf0c0' title='Show/Hide attributes'><svg class='icon xr-icon-file-text2'><use xlink:href='#icon-file-text2'></use></svg></label><input id='data-ae768796-1bae-4c00-9f03-e38001f16530' class='xr-var-data-in' type='checkbox'><label for='data-ae768796-1bae-4c00-9f03-e38001f16530' title='Show/Hide data repr'><svg class='icon xr-icon-database'><use xlink:href='#icon-database'></use></svg></label><div class='xr-var-attrs'><dl class='xr-attrs'><dt><span>units :</span></dt><dd>dbar</dd><dt><span>comment :</span></dt><dd>Uncorrected sea-water pressure at pressure sensor</dd><dt><span>platform :</span></dt><dd>glider</dd></dl></div><div class='xr-var-data'><pre>[586 values with dtype=float64]</pre></div></li><li class='xr-var-item'><div class='xr-var-name'><span>eng_head</span></div><div class='xr-var-dims'>(sg_data_point)</div><div class='xr-var-dtype'>float64</div><div class='xr-var-preview xr-preview'>...</div><input id='attrs-4b4b3c3f-4a78-47e8-9544-2dd91279a6c7' class='xr-var-attrs-in' type='checkbox' ><label for='attrs-4b4b3c3f-4a78-47e8-9544-2dd91279a6c7' title='Show/Hide attributes'><svg class='icon xr-icon-file-text2'><use xlink:href='#icon-file-text2'></use></svg></label><input id='data-1e9daab1-1c83-4f89-9d46-2219e6dea804' class='xr-var-data-in' type='checkbox'><label for='data-1e9daab1-1c83-4f89-9d46-2219e6dea804' title='Show/Hide data repr'><svg class='icon xr-icon-database'><use xlink:href='#icon-database'></use></svg></label><div class='xr-var-attrs'><dl class='xr-attrs'><dt><span>units :</span></dt><dd>degrees</dd><dt><span>comment :</span></dt><dd>Vehicle heading (magnetic)</dd><dt><span>platform :</span></dt><dd>glider</dd></dl></div><div class='xr-var-data'><pre>[586 values with dtype=float64]</pre></div></li><li class='xr-var-item'><div class='xr-var-name'><span>glide_angle_gsm</span></div><div class='xr-var-dims'>(sg_data_point)</div><div class='xr-var-dtype'>float64</div><div class='xr-var-preview xr-preview'>...</div><input id='attrs-c630812f-10ee-4474-a809-6a35b791a748' class='xr-var-attrs-in' type='checkbox' ><label for='attrs-c630812f-10ee-4474-a809-6a35b791a748' title='Show/Hide attributes'><svg class='icon xr-icon-file-text2'><use xlink:href='#icon-file-text2'></use></svg></label><input id='data-998af17f-57ea-4545-bfba-60842683ac52' class='xr-var-data-in' type='checkbox'><label for='data-998af17f-57ea-4545-bfba-60842683ac52' title='Show/Hide data repr'><svg class='icon xr-icon-database'><use xlink:href='#icon-database'></use></svg></label><div class='xr-var-attrs'><dl class='xr-attrs'><dt><span>units :</span></dt><dd>cm/s</dd><dt><span>comment :</span></dt><dd>Glide angle based on gsm</dd><dt><span>platform :</span></dt><dd>glider</dd></dl></div><div class='xr-var-data'><pre>[586 values with dtype=float64]</pre></div></li><li class='xr-var-item'><div class='xr-var-name'><span>eng_elaps_t</span></div><div class='xr-var-dims'>(sg_data_point)</div><div class='xr-var-dtype'>timedelta64[ns]</div><div class='xr-var-preview xr-preview'>...</div><input id='attrs-47fc5065-87bd-467d-a72d-f20c8f9d0189' class='xr-var-attrs-in' type='checkbox' ><label for='attrs-47fc5065-87bd-467d-a72d-f20c8f9d0189' title='Show/Hide attributes'><svg class='icon xr-icon-file-text2'><use xlink:href='#icon-file-text2'></use></svg></label><input id='data-70e86e29-125f-4a82-848d-4c59d8cba692' class='xr-var-data-in' type='checkbox'><label for='data-70e86e29-125f-4a82-848d-4c59d8cba692' title='Show/Hide data repr'><svg class='icon xr-icon-database'><use xlink:href='#icon-database'></use></svg></label><div class='xr-var-attrs'><dl class='xr-attrs'><dt><span>comment :</span></dt><dd>Elapsed seconds since start of dive</dd><dt><span>standard_name :</span></dt><dd>time</dd><dt><span>platform :</span></dt><dd>glider</dd></dl></div><div class='xr-var-data'><pre>[586 values with dtype=timedelta64[ns]]</pre></div></li><li class='xr-var-item'><div class='xr-var-name'><span>conductivity_qc</span></div><div class='xr-var-dims'>(sg_data_point)</div><div class='xr-var-dtype'>|S1</div><div class='xr-var-preview xr-preview'>...</div><input id='attrs-7c995b05-1caf-4258-b7ba-26e3bf28a4a0' class='xr-var-attrs-in' type='checkbox' ><label for='attrs-7c995b05-1caf-4258-b7ba-26e3bf28a4a0' title='Show/Hide attributes'><svg class='icon xr-icon-file-text2'><use xlink:href='#icon-file-text2'></use></svg></label><input id='data-f30b9d31-4b5f-4d73-b3bc-c0b353ed95ef' class='xr-var-data-in' type='checkbox'><label for='data-f30b9d31-4b5f-4d73-b3bc-c0b353ed95ef' title='Show/Hide data repr'><svg class='icon xr-icon-database'><use xlink:href='#icon-database'></use></svg></label><div class='xr-var-attrs'><dl class='xr-attrs'><dt><span>flag_meanings :</span></dt><dd>QC_NO_CHANGE QC_GOOD QC_PROBABLY_GOOD QC_PROBABLY_BAD QC_BAD QC_CHANGED QC_UNSAMPLED QC_INTERPOLATED QC_MISSING</dd><dt><span>comment :</span></dt><dd>Whether to trust each corrected conductivity value</dd><dt><span>flag_values :</span></dt><dd>0 1 2 3 4 5 6 8 9</dd><dt><span>platform :</span></dt><dd>glider</dd></dl></div><div class='xr-var-data'><pre>[586 values with dtype=|S1]</pre></div></li><li class='xr-var-item'><div class='xr-var-name'><span>absolute_salinity</span></div><div class='xr-var-dims'>(sg_data_point)</div><div class='xr-var-dtype'>float64</div><div class='xr-var-preview xr-preview'>...</div><input id='attrs-a6bb329c-07df-45d7-b0d2-e28342475007' class='xr-var-attrs-in' type='checkbox' ><label for='attrs-a6bb329c-07df-45d7-b0d2-e28342475007' title='Show/Hide attributes'><svg class='icon xr-icon-file-text2'><use xlink:href='#icon-file-text2'></use></svg></label><input id='data-1d91a146-db2a-490c-a4da-a4b06d30de4f' class='xr-var-data-in' type='checkbox'><label for='data-1d91a146-db2a-490c-a4da-a4b06d30de4f' title='Show/Hide data repr'><svg class='icon xr-icon-database'><use xlink:href='#icon-database'></use></svg></label><div class='xr-var-attrs'><dl class='xr-attrs'><dt><span>units :</span></dt><dd>g/kg</dd><dt><span>comment :</span></dt><dd>Absolute salinity per TEOS-10</dd><dt><span>platform :</span></dt><dd>glider</dd></dl></div><div class='xr-var-data'><pre>[586 values with dtype=float64]</pre></div></li><li class='xr-var-item'><div class='xr-var-name'><span>aanderaa4330_dissolved_oxygen</span></div><div class='xr-var-dims'>(sg_data_point)</div><div class='xr-var-dtype'>float64</div><div class='xr-var-preview xr-preview'>...</div><input id='attrs-60a799c3-ab35-40c5-a4cb-0a276dc7af94' class='xr-var-attrs-in' type='checkbox' ><label for='attrs-60a799c3-ab35-40c5-a4cb-0a276dc7af94' title='Show/Hide attributes'><svg class='icon xr-icon-file-text2'><use xlink:href='#icon-file-text2'></use></svg></label><input id='data-8a65d897-0ef7-4670-ac4a-e4e87248fca5' class='xr-var-data-in' type='checkbox'><label for='data-8a65d897-0ef7-4670-ac4a-e4e87248fca5' title='Show/Hide data repr'><svg class='icon xr-icon-database'><use xlink:href='#icon-database'></use></svg></label><div class='xr-var-attrs'><dl class='xr-attrs'><dt><span>comment :</span></dt><dd>Dissolved oxygen concentration, calculated from optode tcphase corrected for salininty and depth</dd><dt><span>instrument :</span></dt><dd>aa4330</dd><dt><span>platform :</span></dt><dd>glider</dd><dt><span>standard_name :</span></dt><dd>mole_concentration_of_dissolved_molecular_oxygen_in_sea_water</dd><dt><span>units :</span></dt><dd>micromoles/kg</dd></dl></div><div class='xr-var-data'><pre>[586 values with dtype=float64]</pre></div></li><li class='xr-var-item'><div class='xr-var-name'><span>salinity</span></div><div class='xr-var-dims'>(sg_data_point)</div><div class='xr-var-dtype'>float64</div><div class='xr-var-preview xr-preview'>...</div><input id='attrs-c0cdc830-9d4e-4e16-8dc3-2a15171f52f5' class='xr-var-attrs-in' type='checkbox' ><label for='attrs-c0cdc830-9d4e-4e16-8dc3-2a15171f52f5' title='Show/Hide attributes'><svg class='icon xr-icon-file-text2'><use xlink:href='#icon-file-text2'></use></svg></label><input id='data-f3b0b4ae-6da4-4293-ac84-47349492b3ed' class='xr-var-data-in' type='checkbox'><label for='data-f3b0b4ae-6da4-4293-ac84-47349492b3ed' title='Show/Hide data repr'><svg class='icon xr-icon-database'><use xlink:href='#icon-database'></use></svg></label><div class='xr-var-attrs'><dl class='xr-attrs'><dt><span>units :</span></dt><dd>1e-3</dd><dt><span>comment :</span></dt><dd>Salinity corrected for thermal-inertia effects (PSU)</dd><dt><span>standard_name :</span></dt><dd>sea_water_salinity</dd><dt><span>platform :</span></dt><dd>glider</dd></dl></div><div class='xr-var-data'><pre>[586 values with dtype=float64]</pre></div></li><li class='xr-var-item'><div class='xr-var-name'><span>ctd_pressure</span></div><div class='xr-var-dims'>(sg_data_point)</div><div class='xr-var-dtype'>float64</div><div class='xr-var-preview xr-preview'>...</div><input id='attrs-a994a935-1584-4303-987b-4af9e8fe6991' class='xr-var-attrs-in' type='checkbox' ><label for='attrs-a994a935-1584-4303-987b-4af9e8fe6991' title='Show/Hide attributes'><svg class='icon xr-icon-file-text2'><use xlink:href='#icon-file-text2'></use></svg></label><input id='data-781dc153-4891-428c-830c-5b676daf7571' class='xr-var-data-in' type='checkbox'><label for='data-781dc153-4891-428c-830c-5b676daf7571' title='Show/Hide data repr'><svg class='icon xr-icon-database'><use xlink:href='#icon-database'></use></svg></label><div class='xr-var-attrs'><dl class='xr-attrs'><dt><span>units :</span></dt><dd>dbar</dd><dt><span>comment :</span></dt><dd>Pressure at CTD thermistor</dd><dt><span>standard_name :</span></dt><dd>sea_water_pressure</dd><dt><span>platform :</span></dt><dd>glider</dd></dl></div><div class='xr-var-data'><pre>[586 values with dtype=float64]</pre></div></li><li class='xr-var-item'><div class='xr-var-name'><span>depth</span></div><div class='xr-var-dims'>(sg_data_point)</div><div class='xr-var-dtype'>float64</div><div class='xr-var-preview xr-preview'>...</div><input id='attrs-aad09c06-8b2b-4bc4-b012-2921dd62a2ae' class='xr-var-attrs-in' type='checkbox' ><label for='attrs-aad09c06-8b2b-4bc4-b012-2921dd62a2ae' title='Show/Hide attributes'><svg class='icon xr-icon-file-text2'><use xlink:href='#icon-file-text2'></use></svg></label><input id='data-a8aee055-3d7e-4f46-b9d7-ec5af510f150' class='xr-var-data-in' type='checkbox'><label for='data-a8aee055-3d7e-4f46-b9d7-ec5af510f150' title='Show/Hide data repr'><svg class='icon xr-icon-database'><use xlink:href='#icon-database'></use></svg></label><div class='xr-var-attrs'><dl class='xr-attrs'><dt><span>comment :</span></dt><dd>Depth below the surface, corrected for average latitude</dd><dt><span>positive :</span></dt><dd>down</dd><dt><span>platform :</span></dt><dd>glider</dd><dt><span>standard_name :</span></dt><dd>depth</dd><dt><span>units :</span></dt><dd>meters</dd><dt><span>axis :</span></dt><dd>Z</dd></dl></div><div class='xr-var-data'><pre>[586 values with dtype=float64]</pre></div></li><li class='xr-var-item'><div class='xr-var-name'><span>time</span></div><div class='xr-var-dims'>(sg_data_point)</div><div class='xr-var-dtype'>datetime64[ns]</div><div class='xr-var-preview xr-preview'>...</div><input id='attrs-5b28434b-8955-48bc-adc3-3813bd8e6fbf' class='xr-var-attrs-in' type='checkbox' ><label for='attrs-5b28434b-8955-48bc-adc3-3813bd8e6fbf' title='Show/Hide attributes'><svg class='icon xr-icon-file-text2'><use xlink:href='#icon-file-text2'></use></svg></label><input id='data-a2b8452e-3d1b-408f-b9da-af3ab6670f1c' class='xr-var-data-in' type='checkbox'><label for='data-a2b8452e-3d1b-408f-b9da-af3ab6670f1c' title='Show/Hide data repr'><svg class='icon xr-icon-database'><use xlink:href='#icon-database'></use></svg></label><div class='xr-var-attrs'><dl class='xr-attrs'><dt><span>comment :</span></dt><dd>Time of the sample in GMT epoch format</dd><dt><span>standard_name :</span></dt><dd>time</dd><dt><span>platform :</span></dt><dd>glider</dd><dt><span>axis :</span></dt><dd>T</dd></dl></div><div class='xr-var-data'><pre>[586 values with dtype=datetime64[ns]]</pre></div></li><li class='xr-var-item'><div class='xr-var-name'><span>horz_speed</span></div><div class='xr-var-dims'>(sg_data_point)</div><div class='xr-var-dtype'>float64</div><div class='xr-var-preview xr-preview'>...</div><input id='attrs-532fde1d-a89c-4600-b38a-5f8fec812793' class='xr-var-attrs-in' type='checkbox' ><label for='attrs-532fde1d-a89c-4600-b38a-5f8fec812793' title='Show/Hide attributes'><svg class='icon xr-icon-file-text2'><use xlink:href='#icon-file-text2'></use></svg></label><input id='data-a17602a5-612b-43f0-856b-8dd5d0264c99' class='xr-var-data-in' type='checkbox'><label for='data-a17602a5-612b-43f0-856b-8dd5d0264c99' title='Show/Hide data repr'><svg class='icon xr-icon-database'><use xlink:href='#icon-database'></use></svg></label><div class='xr-var-attrs'><dl class='xr-attrs'><dt><span>units :</span></dt><dd>cm/s</dd><dt><span>comment :</span></dt><dd>Vehicle horizontal speed based on hdm</dd><dt><span>platform :</span></dt><dd>glider</dd></dl></div><div class='xr-var-data'><pre>[586 values with dtype=float64]</pre></div></li><li class='xr-var-item'><div class='xr-var-name'><span>log_DEVICES</span></div><div class='xr-var-dims'>()</div><div class='xr-var-dtype'>|S294</div><div class='xr-var-preview xr-preview'>...</div><input id='attrs-00715d6e-40aa-41dd-9d80-da285e58da4a' class='xr-var-attrs-in' type='checkbox' disabled><label for='attrs-00715d6e-40aa-41dd-9d80-da285e58da4a' title='Show/Hide attributes'><svg class='icon xr-icon-file-text2'><use xlink:href='#icon-file-text2'></use></svg></label><input id='data-044c5508-ac5e-4bd4-bc8e-b6234a9824ff' class='xr-var-data-in' type='checkbox'><label for='data-044c5508-ac5e-4bd4-bc8e-b6234a9824ff' title='Show/Hide data repr'><svg class='icon xr-icon-database'><use xlink:href='#icon-database'></use></svg></label><div class='xr-var-attrs'><dl class='xr-attrs'></dl></div><div class='xr-var-data'><pre>[1 values with dtype=|S294]</pre></div></li><li class='xr-var-item'><div class='xr-var-name'><span>log_DEVICE_SECS</span></div><div class='xr-var-dims'>()</div><div class='xr-var-dtype'>|S169</div><div class='xr-var-preview xr-preview'>...</div><input id='attrs-300167b2-daa1-437c-85bb-b05f7e018ca6' class='xr-var-attrs-in' type='checkbox' disabled><label for='attrs-300167b2-daa1-437c-85bb-b05f7e018ca6' title='Show/Hide attributes'><svg class='icon xr-icon-file-text2'><use xlink:href='#icon-file-text2'></use></svg></label><input id='data-00dc5762-93b9-47ef-befa-4bcabe38e1ab' class='xr-var-data-in' type='checkbox'><label for='data-00dc5762-93b9-47ef-befa-4bcabe38e1ab' title='Show/Hide data repr'><svg class='icon xr-icon-database'><use xlink:href='#icon-database'></use></svg></label><div class='xr-var-attrs'><dl class='xr-attrs'></dl></div><div class='xr-var-data'><pre>[1 values with dtype=|S169]</pre></div></li><li class='xr-var-item'><div class='xr-var-name'><span>log_DEVICE_MAMPS</span></div><div class='xr-var-dims'>()</div><div class='xr-var-dtype'>|S160</div><div class='xr-var-preview xr-preview'>...</div><input id='attrs-ae8f503a-f282-47e8-a456-64ac11daf889' class='xr-var-attrs-in' type='checkbox' disabled><label for='attrs-ae8f503a-f282-47e8-a456-64ac11daf889' title='Show/Hide attributes'><svg class='icon xr-icon-file-text2'><use xlink:href='#icon-file-text2'></use></svg></label><input id='data-4607712b-6516-49ac-91e6-18e30ab4a9ed' class='xr-var-data-in' type='checkbox'><label for='data-4607712b-6516-49ac-91e6-18e30ab4a9ed' title='Show/Hide data repr'><svg class='icon xr-icon-database'><use xlink:href='#icon-database'></use></svg></label><div class='xr-var-attrs'><dl class='xr-attrs'></dl></div><div class='xr-var-data'><pre>[1 values with dtype=|S160]</pre></div></li><li class='xr-var-item'><div class='xr-var-name'><span>log_SM_GC</span></div><div class='xr-var-dims'>()</div><div class='xr-var-dtype'>|S69</div><div class='xr-var-preview xr-preview'>...</div><input id='attrs-5d4ad844-ce7d-448c-923d-3e6171f73de9' class='xr-var-attrs-in' type='checkbox' disabled><label for='attrs-5d4ad844-ce7d-448c-923d-3e6171f73de9' title='Show/Hide attributes'><svg class='icon xr-icon-file-text2'><use xlink:href='#icon-file-text2'></use></svg></label><input id='data-7afeffee-1fd5-42fc-8ada-ce0c58b18480' class='xr-var-data-in' type='checkbox'><label for='data-7afeffee-1fd5-42fc-8ada-ce0c58b18480' title='Show/Hide data repr'><svg class='icon xr-icon-database'><use xlink:href='#icon-database'></use></svg></label><div class='xr-var-attrs'><dl class='xr-attrs'></dl></div><div class='xr-var-data'><pre>[1 values with dtype=|S69]</pre></div></li><li class='xr-var-item'><div class='xr-var-name'><span>log_SENSOR_SECS</span></div><div class='xr-var-dims'>()</div><div class='xr-var-dtype'>|S63</div><div class='xr-var-preview xr-preview'>...</div><input id='attrs-3c929603-049c-4477-b92e-ed045f8c0979' class='xr-var-attrs-in' type='checkbox' disabled><label for='attrs-3c929603-049c-4477-b92e-ed045f8c0979' title='Show/Hide attributes'><svg class='icon xr-icon-file-text2'><use xlink:href='#icon-file-text2'></use></svg></label><input id='data-e7235b67-1c42-45c3-9883-13797abb0a91' class='xr-var-data-in' type='checkbox'><label for='data-e7235b67-1c42-45c3-9883-13797abb0a91' title='Show/Hide data repr'><svg class='icon xr-icon-database'><use xlink:href='#icon-database'></use></svg></label><div class='xr-var-attrs'><dl class='xr-attrs'></dl></div><div class='xr-var-data'><pre>[1 values with dtype=|S63]</pre></div></li><li class='xr-var-item'><div class='xr-var-name'><span>log_SENSOR_MAMPS</span></div><div class='xr-var-dims'>()</div><div class='xr-var-dtype'>|S61</div><div class='xr-var-preview xr-preview'>...</div><input id='attrs-2c9f3262-b26b-4737-b4eb-61b66d300593' class='xr-var-attrs-in' type='checkbox' disabled><label for='attrs-2c9f3262-b26b-4737-b4eb-61b66d300593' title='Show/Hide attributes'><svg class='icon xr-icon-file-text2'><use xlink:href='#icon-file-text2'></use></svg></label><input id='data-b9a82d14-99da-4797-b6bf-ff4921102d5f' class='xr-var-data-in' type='checkbox'><label for='data-b9a82d14-99da-4797-b6bf-ff4921102d5f' title='Show/Hide data repr'><svg class='icon xr-icon-database'><use xlink:href='#icon-database'></use></svg></label><div class='xr-var-attrs'><dl class='xr-attrs'></dl></div><div class='xr-var-data'><pre>[1 values with dtype=|S61]</pre></div></li><li class='xr-var-item'><div class='xr-var-name'><span>sg_cal_calibcomm_optode</span></div><div class='xr-var-dims'>()</div><div class='xr-var-dtype'>|S56</div><div class='xr-var-preview xr-preview'>...</div><input id='attrs-aeb5201c-1331-4e4c-8d4b-1e820d9a3ff2' class='xr-var-attrs-in' type='checkbox' disabled><label for='attrs-aeb5201c-1331-4e4c-8d4b-1e820d9a3ff2' title='Show/Hide attributes'><svg class='icon xr-icon-file-text2'><use xlink:href='#icon-file-text2'></use></svg></label><input id='data-c5f24fcc-fb4f-4179-8ed5-240d2f90b886' class='xr-var-data-in' type='checkbox'><label for='data-c5f24fcc-fb4f-4179-8ed5-240d2f90b886' title='Show/Hide data repr'><svg class='icon xr-icon-database'><use xlink:href='#icon-database'></use></svg></label><div class='xr-var-attrs'><dl class='xr-attrs'></dl></div><div class='xr-var-data'><pre>[1 values with dtype=|S56]</pre></div></li><li class='xr-var-item'><div class='xr-var-name'><span>log_GPS2</span></div><div class='xr-var-dims'>()</div><div class='xr-var-dtype'>|S54</div><div class='xr-var-preview xr-preview'>...</div><input id='attrs-632e4c86-298f-421d-b307-92996e4748e9' class='xr-var-attrs-in' type='checkbox' ><label for='attrs-632e4c86-298f-421d-b307-92996e4748e9' title='Show/Hide attributes'><svg class='icon xr-icon-file-text2'><use xlink:href='#icon-file-text2'></use></svg></label><input id='data-51937fa3-4a4f-41fd-905c-0c7a63d7cd22' class='xr-var-data-in' type='checkbox'><label for='data-51937fa3-4a4f-41fd-905c-0c7a63d7cd22' title='Show/Hide data repr'><svg class='icon xr-icon-database'><use xlink:href='#icon-database'></use></svg></label><div class='xr-var-attrs'><dl class='xr-attrs'><dt><span>comment :</span></dt><dd>String reported in logfile for GPS2 fix (last surface position before dive)</dd></dl></div><div class='xr-var-data'><pre>[1 values with dtype=|S54]</pre></div></li><li class='xr-var-item'><div class='xr-var-name'><span>log_GPS</span></div><div class='xr-var-dims'>()</div><div class='xr-var-dtype'>|S53</div><div class='xr-var-preview xr-preview'>...</div><input id='attrs-0aacf2c9-a7dc-40d5-86d1-e2cc38123aa1' class='xr-var-attrs-in' type='checkbox' ><label for='attrs-0aacf2c9-a7dc-40d5-86d1-e2cc38123aa1' title='Show/Hide attributes'><svg class='icon xr-icon-file-text2'><use xlink:href='#icon-file-text2'></use></svg></label><input id='data-a6e9a37d-b295-4f6f-a1ab-f5c20ff6fd61' class='xr-var-data-in' type='checkbox'><label for='data-a6e9a37d-b295-4f6f-a1ab-f5c20ff6fd61' title='Show/Hide data repr'><svg class='icon xr-icon-database'><use xlink:href='#icon-database'></use></svg></label><div class='xr-var-attrs'><dl class='xr-attrs'><dt><span>comment :</span></dt><dd>String reported in logfile for GPS fix (first surface position after dive)</dd></dl></div><div class='xr-var-data'><pre>[1 values with dtype=|S53]</pre></div></li><li class='xr-var-item'><div class='xr-var-name'><span>log_GPS1</span></div><div class='xr-var-dims'>()</div><div class='xr-var-dtype'>|S52</div><div class='xr-var-preview xr-preview'>...</div><input id='attrs-5c72fc27-4987-40b2-8d3d-3af8460099af' class='xr-var-attrs-in' type='checkbox' ><label for='attrs-5c72fc27-4987-40b2-8d3d-3af8460099af' title='Show/Hide attributes'><svg class='icon xr-icon-file-text2'><use xlink:href='#icon-file-text2'></use></svg></label><input id='data-5332340b-4c46-4f26-8c45-d9e09b0b3947' class='xr-var-data-in' type='checkbox'><label for='data-5332340b-4c46-4f26-8c45-d9e09b0b3947' title='Show/Hide data repr'><svg class='icon xr-icon-database'><use xlink:href='#icon-database'></use></svg></label><div class='xr-var-attrs'><dl class='xr-attrs'><dt><span>comment :</span></dt><dd>String reported in logfile for GPS1 fix (first surface position before dive)</dd></dl></div><div class='xr-var-data'><pre>[1 values with dtype=|S52]</pre></div></li><li class='xr-var-item'><div class='xr-var-name'><span>log_SENSORS</span></div><div class='xr-var-dims'>()</div><div class='xr-var-dtype'>|S45</div><div class='xr-var-preview xr-preview'>...</div><input id='attrs-271099f9-6800-45ce-af76-4ed97d86106a' class='xr-var-attrs-in' type='checkbox' disabled><label for='attrs-271099f9-6800-45ce-af76-4ed97d86106a' title='Show/Hide attributes'><svg class='icon xr-icon-file-text2'><use xlink:href='#icon-file-text2'></use></svg></label><input id='data-494f310d-ff55-46fc-9556-293fc706524e' class='xr-var-data-in' type='checkbox'><label for='data-494f310d-ff55-46fc-9556-293fc706524e' title='Show/Hide data repr'><svg class='icon xr-icon-database'><use xlink:href='#icon-database'></use></svg></label><div class='xr-var-attrs'><dl class='xr-attrs'></dl></div><div class='xr-var-data'><pre>[1 values with dtype=|S45]</pre></div></li><li class='xr-var-item'><div class='xr-var-name'><span>sg_cal_mission_title</span></div><div class='xr-var-dims'>()</div><div class='xr-var-dtype'>|S37</div><div class='xr-var-preview xr-preview'>...</div><input id='attrs-6701dc41-d746-4d25-9d1f-930b7e9b848b' class='xr-var-attrs-in' type='checkbox' ><label for='attrs-6701dc41-d746-4d25-9d1f-930b7e9b848b' title='Show/Hide attributes'><svg class='icon xr-icon-file-text2'><use xlink:href='#icon-file-text2'></use></svg></label><input id='data-8301857e-d659-4bce-ba2d-1684959af8fb' class='xr-var-data-in' type='checkbox'><label for='data-8301857e-d659-4bce-ba2d-1684959af8fb' title='Show/Hide data repr'><svg class='icon xr-icon-database'><use xlink:href='#icon-database'></use></svg></label><div class='xr-var-attrs'><dl class='xr-attrs'><dt><span>comment :</span></dt><dd>Description of mission</dd></dl></div><div class='xr-var-data'><pre>[1 values with dtype=|S37]</pre></div></li><li class='xr-var-item'><div class='xr-var-name'><span>gc_vbd_ad</span></div><div class='xr-var-dims'>(gc_event)</div><div class='xr-var-dtype'>float64</div><div class='xr-var-preview xr-preview'>...</div><input id='attrs-955f288b-25c2-40f1-84b8-52bf8c245d2f' class='xr-var-attrs-in' type='checkbox' ><label for='attrs-955f288b-25c2-40f1-84b8-52bf8c245d2f' title='Show/Hide attributes'><svg class='icon xr-icon-file-text2'><use xlink:href='#icon-file-text2'></use></svg></label><input id='data-7385d1f6-3d70-492e-be9d-634b7565f42e' class='xr-var-data-in' type='checkbox'><label for='data-7385d1f6-3d70-492e-be9d-634b7565f42e' title='Show/Hide data repr'><svg class='icon xr-icon-database'><use xlink:href='#icon-database'></use></svg></label><div class='xr-var-attrs'><dl class='xr-attrs'><dt><span>units :</span></dt><dd>1</dd></dl></div><div class='xr-var-data'><pre>[36 values with dtype=float64]</pre></div></li><li class='xr-var-item'><div class='xr-var-name'><span>gc_roll_i</span></div><div class='xr-var-dims'>(gc_event)</div><div class='xr-var-dtype'>float64</div><div class='xr-var-preview xr-preview'>...</div><input id='attrs-8ee4bbfa-5838-45dc-ac01-f0dbd6c27ecb' class='xr-var-attrs-in' type='checkbox' ><label for='attrs-8ee4bbfa-5838-45dc-ac01-f0dbd6c27ecb' title='Show/Hide attributes'><svg class='icon xr-icon-file-text2'><use xlink:href='#icon-file-text2'></use></svg></label><input id='data-23d566da-5e9a-4958-9eee-510fe10970f1' class='xr-var-data-in' type='checkbox'><label for='data-23d566da-5e9a-4958-9eee-510fe10970f1' title='Show/Hide data repr'><svg class='icon xr-icon-database'><use xlink:href='#icon-database'></use></svg></label><div class='xr-var-attrs'><dl class='xr-attrs'><dt><span>units :</span></dt><dd>A</dd></dl></div><div class='xr-var-data'><pre>[36 values with dtype=float64]</pre></div></li><li class='xr-var-item'><div class='xr-var-name'><span>gc_pitch_ctl</span></div><div class='xr-var-dims'>(gc_event)</div><div class='xr-var-dtype'>float64</div><div class='xr-var-preview xr-preview'>...</div><input id='attrs-f41a7b81-d073-4e75-9803-9ca7a3f78983' class='xr-var-attrs-in' type='checkbox' ><label for='attrs-f41a7b81-d073-4e75-9803-9ca7a3f78983' title='Show/Hide attributes'><svg class='icon xr-icon-file-text2'><use xlink:href='#icon-file-text2'></use></svg></label><input id='data-9d34f6f1-9d3d-43fc-b06c-f3351ee5300a' class='xr-var-data-in' type='checkbox'><label for='data-9d34f6f1-9d3d-43fc-b06c-f3351ee5300a' title='Show/Hide data repr'><svg class='icon xr-icon-database'><use xlink:href='#icon-database'></use></svg></label><div class='xr-var-attrs'><dl class='xr-attrs'><dt><span>units :</span></dt><dd>cm</dd></dl></div><div class='xr-var-data'><pre>[36 values with dtype=float64]</pre></div></li><li class='xr-var-item'><div class='xr-var-name'><span>gc_pitch_ad</span></div><div class='xr-var-dims'>(gc_event)</div><div class='xr-var-dtype'>float64</div><div class='xr-var-preview xr-preview'>...</div><input id='attrs-e2a70648-d1a8-4029-a671-4450305ef2a3' class='xr-var-attrs-in' type='checkbox' ><label for='attrs-e2a70648-d1a8-4029-a671-4450305ef2a3' title='Show/Hide attributes'><svg class='icon xr-icon-file-text2'><use xlink:href='#icon-file-text2'></use></svg></label><input id='data-d2fc66e4-c830-487b-9904-e171abf84ac5' class='xr-var-data-in' type='checkbox'><label for='data-d2fc66e4-c830-487b-9904-e171abf84ac5' title='Show/Hide data repr'><svg class='icon xr-icon-database'><use xlink:href='#icon-database'></use></svg></label><div class='xr-var-attrs'><dl class='xr-attrs'><dt><span>units :</span></dt><dd>1</dd></dl></div><div class='xr-var-data'><pre>[36 values with dtype=float64]</pre></div></li><li class='xr-var-item'><div class='xr-var-name'><span>gc_pitch_i</span></div><div class='xr-var-dims'>(gc_event)</div><div class='xr-var-dtype'>float64</div><div class='xr-var-preview xr-preview'>...</div><input id='attrs-a8874961-868f-4700-8914-0e7cb2a018ae' class='xr-var-attrs-in' type='checkbox' ><label for='attrs-a8874961-868f-4700-8914-0e7cb2a018ae' title='Show/Hide attributes'><svg class='icon xr-icon-file-text2'><use xlink:href='#icon-file-text2'></use></svg></label><input id='data-8475c9e0-20e4-474b-a858-2382d221feac' class='xr-var-data-in' type='checkbox'><label for='data-8475c9e0-20e4-474b-a858-2382d221feac' title='Show/Hide data repr'><svg class='icon xr-icon-database'><use xlink:href='#icon-database'></use></svg></label><div class='xr-var-attrs'><dl class='xr-attrs'><dt><span>units :</span></dt><dd>A</dd></dl></div><div class='xr-var-data'><pre>[36 values with dtype=float64]</pre></div></li><li class='xr-var-item'><div class='xr-var-name'><span>gc_vbd_i</span></div><div class='xr-var-dims'>(gc_event)</div><div class='xr-var-dtype'>float64</div><div class='xr-var-preview xr-preview'>...</div><input id='attrs-c92cbf94-553d-44d2-af87-69ec117aa46b' class='xr-var-attrs-in' type='checkbox' ><label for='attrs-c92cbf94-553d-44d2-af87-69ec117aa46b' title='Show/Hide attributes'><svg class='icon xr-icon-file-text2'><use xlink:href='#icon-file-text2'></use></svg></label><input id='data-ff5f093a-0da5-4792-b87c-e68ca8a7ef79' class='xr-var-data-in' type='checkbox'><label for='data-ff5f093a-0da5-4792-b87c-e68ca8a7ef79' title='Show/Hide data repr'><svg class='icon xr-icon-database'><use xlink:href='#icon-database'></use></svg></label><div class='xr-var-attrs'><dl class='xr-attrs'><dt><span>units :</span></dt><dd>A</dd></dl></div><div class='xr-var-data'><pre>[36 values with dtype=float64]</pre></div></li><li class='xr-var-item'><div class='xr-var-name'><span>gc_ob_vertv</span></div><div class='xr-var-dims'>(gc_event)</div><div class='xr-var-dtype'>float64</div><div class='xr-var-preview xr-preview'>...</div><input id='attrs-0e9d75b8-f84f-490c-bf82-1ca1311118e3' class='xr-var-attrs-in' type='checkbox' ><label for='attrs-0e9d75b8-f84f-490c-bf82-1ca1311118e3' title='Show/Hide attributes'><svg class='icon xr-icon-file-text2'><use xlink:href='#icon-file-text2'></use></svg></label><input id='data-543a3694-04ea-4611-96be-7e29e8d868ce' class='xr-var-data-in' type='checkbox'><label for='data-543a3694-04ea-4611-96be-7e29e8d868ce' title='Show/Hide data repr'><svg class='icon xr-icon-database'><use xlink:href='#icon-database'></use></svg></label><div class='xr-var-attrs'><dl class='xr-attrs'><dt><span>units :</span></dt><dd>cm/s</dd></dl></div><div class='xr-var-data'><pre>[36 values with dtype=float64]</pre></div></li><li class='xr-var-item'><div class='xr-var-name'><span>gc_roll_retries</span></div><div class='xr-var-dims'>(gc_event)</div><div class='xr-var-dtype'>int32</div><div class='xr-var-preview xr-preview'>...</div><input id='attrs-38e88e2e-03bb-446a-b8ce-d956ea24a2e1' class='xr-var-attrs-in' type='checkbox' ><label for='attrs-38e88e2e-03bb-446a-b8ce-d956ea24a2e1' title='Show/Hide attributes'><svg class='icon xr-icon-file-text2'><use xlink:href='#icon-file-text2'></use></svg></label><input id='data-d33bfbe3-1db9-45c4-8b94-a4c0c1cc3a7d' class='xr-var-data-in' type='checkbox'><label for='data-d33bfbe3-1db9-45c4-8b94-a4c0c1cc3a7d' title='Show/Hide data repr'><svg class='icon xr-icon-database'><use xlink:href='#icon-database'></use></svg></label><div class='xr-var-attrs'><dl class='xr-attrs'><dt><span>units :</span></dt><dd>1</dd></dl></div><div class='xr-var-data'><pre>[36 values with dtype=int32]</pre></div></li><li class='xr-var-item'><div class='xr-var-name'><span>gc_vbd_ctl</span></div><div class='xr-var-dims'>(gc_event)</div><div class='xr-var-dtype'>float64</div><div class='xr-var-preview xr-preview'>...</div><input id='attrs-60db32cc-292a-4c82-a836-c3fbcaa82828' class='xr-var-attrs-in' type='checkbox' ><label for='attrs-60db32cc-292a-4c82-a836-c3fbcaa82828' title='Show/Hide attributes'><svg class='icon xr-icon-file-text2'><use xlink:href='#icon-file-text2'></use></svg></label><input id='data-203759e4-1e2e-46f5-8ab5-7d2ab8aa28cf' class='xr-var-data-in' type='checkbox'><label for='data-203759e4-1e2e-46f5-8ab5-7d2ab8aa28cf' title='Show/Hide data repr'><svg class='icon xr-icon-database'><use xlink:href='#icon-database'></use></svg></label><div class='xr-var-attrs'><dl class='xr-attrs'><dt><span>units :</span></dt><dd>cm</dd></dl></div><div class='xr-var-data'><pre>[36 values with dtype=float64]</pre></div></li><li class='xr-var-item'><div class='xr-var-name'><span>gc_st_secs</span></div><div class='xr-var-dims'>(gc_event)</div><div class='xr-var-dtype'>datetime64[ns]</div><div class='xr-var-preview xr-preview'>...</div><input id='attrs-70d68a15-ad96-4046-96f8-ff03eb50e85d' class='xr-var-attrs-in' type='checkbox' ><label for='attrs-70d68a15-ad96-4046-96f8-ff03eb50e85d' title='Show/Hide attributes'><svg class='icon xr-icon-file-text2'><use xlink:href='#icon-file-text2'></use></svg></label><input id='data-6c01a48d-c17f-4dda-b972-10bb439131c9' class='xr-var-data-in' type='checkbox'><label for='data-6c01a48d-c17f-4dda-b972-10bb439131c9' title='Show/Hide data repr'><svg class='icon xr-icon-database'><use xlink:href='#icon-database'></use></svg></label><div class='xr-var-attrs'><dl class='xr-attrs'><dt><span>comment :</span></dt><dd>Start of GC time in GMT epoch format</dd></dl></div><div class='xr-var-data'><pre>[36 values with dtype=datetime64[ns]]</pre></div></li><li class='xr-var-item'><div class='xr-var-name'><span>gc_pitch_secs</span></div><div class='xr-var-dims'>(gc_event)</div><div class='xr-var-dtype'>timedelta64[ns]</div><div class='xr-var-preview xr-preview'>...</div><input id='attrs-af3773f9-19f7-4e7d-84db-319d2e125112' class='xr-var-attrs-in' type='checkbox' ><label for='attrs-af3773f9-19f7-4e7d-84db-319d2e125112' title='Show/Hide attributes'><svg class='icon xr-icon-file-text2'><use xlink:href='#icon-file-text2'></use></svg></label><input id='data-af41e460-cea4-42eb-9787-76d2c6d11282' class='xr-var-data-in' type='checkbox'><label for='data-af41e460-cea4-42eb-9787-76d2c6d11282' title='Show/Hide data repr'><svg class='icon xr-icon-database'><use xlink:href='#icon-database'></use></svg></label><div class='xr-var-attrs'><dl class='xr-attrs'><dt><span>comment :</span></dt><dd>Elapsed seconds since start of this pitch change</dd></dl></div><div class='xr-var-data'><pre>[36 values with dtype=timedelta64[ns]]</pre></div></li><li class='xr-var-item'><div class='xr-var-name'><span>gc_end_secs</span></div><div class='xr-var-dims'>(gc_event)</div><div class='xr-var-dtype'>datetime64[ns]</div><div class='xr-var-preview xr-preview'>...</div><input id='attrs-03dd3c79-755d-4a92-ad32-754f59d2e43d' class='xr-var-attrs-in' type='checkbox' ><label for='attrs-03dd3c79-755d-4a92-ad32-754f59d2e43d' title='Show/Hide attributes'><svg class='icon xr-icon-file-text2'><use xlink:href='#icon-file-text2'></use></svg></label><input id='data-47941551-67a9-4e05-a195-2aa4e384497e' class='xr-var-data-in' type='checkbox'><label for='data-47941551-67a9-4e05-a195-2aa4e384497e' title='Show/Hide data repr'><svg class='icon xr-icon-database'><use xlink:href='#icon-database'></use></svg></label><div class='xr-var-attrs'><dl class='xr-attrs'><dt><span>comment :</span></dt><dd>End of GC time in GMT epoch format</dd></dl></div><div class='xr-var-data'><pre>[36 values with dtype=datetime64[ns]]</pre></div></li><li class='xr-var-item'><div class='xr-var-name'><span>gc_depth</span></div><div class='xr-var-dims'>(gc_event)</div><div class='xr-var-dtype'>float64</div><div class='xr-var-preview xr-preview'>...</div><input id='attrs-7308b0b9-0510-4e38-ae35-57c3430295ef' class='xr-var-attrs-in' type='checkbox' ><label for='attrs-7308b0b9-0510-4e38-ae35-57c3430295ef' title='Show/Hide attributes'><svg class='icon xr-icon-file-text2'><use xlink:href='#icon-file-text2'></use></svg></label><input id='data-6a061a7f-7eb4-4b20-82a9-2b7b57b385c8' class='xr-var-data-in' type='checkbox'><label for='data-6a061a7f-7eb4-4b20-82a9-2b7b57b385c8' title='Show/Hide data repr'><svg class='icon xr-icon-database'><use xlink:href='#icon-database'></use></svg></label><div class='xr-var-attrs'><dl class='xr-attrs'><dt><span>units :</span></dt><dd>meters</dd></dl></div><div class='xr-var-data'><pre>[36 values with dtype=float64]</pre></div></li><li class='xr-var-item'><div class='xr-var-name'><span>gc_vbd_errors</span></div><div class='xr-var-dims'>(gc_event)</div><div class='xr-var-dtype'>int32</div><div class='xr-var-preview xr-preview'>...</div><input id='attrs-879e2b57-8878-44f3-a220-7f498fd47adf' class='xr-var-attrs-in' type='checkbox' ><label for='attrs-879e2b57-8878-44f3-a220-7f498fd47adf' title='Show/Hide attributes'><svg class='icon xr-icon-file-text2'><use xlink:href='#icon-file-text2'></use></svg></label><input id='data-f5e04fd3-7a7b-4661-abe5-daff2947e121' class='xr-var-data-in' type='checkbox'><label for='data-f5e04fd3-7a7b-4661-abe5-daff2947e121' title='Show/Hide data repr'><svg class='icon xr-icon-database'><use xlink:href='#icon-database'></use></svg></label><div class='xr-var-attrs'><dl class='xr-attrs'><dt><span>units :</span></dt><dd>1</dd></dl></div><div class='xr-var-data'><pre>[36 values with dtype=int32]</pre></div></li><li class='xr-var-item'><div class='xr-var-name'><span>gc_gcphase</span></div><div class='xr-var-dims'>(gc_event)</div><div class='xr-var-dtype'>int32</div><div class='xr-var-preview xr-preview'>...</div><input id='attrs-6e0fae8a-82d7-4fa1-bd8c-9317ef95ae18' class='xr-var-attrs-in' type='checkbox' ><label for='attrs-6e0fae8a-82d7-4fa1-bd8c-9317ef95ae18' title='Show/Hide attributes'><svg class='icon xr-icon-file-text2'><use xlink:href='#icon-file-text2'></use></svg></label><input id='data-e4c7a2fe-b5dd-4343-8c09-15177bb6c6b6' class='xr-var-data-in' type='checkbox'><label for='data-e4c7a2fe-b5dd-4343-8c09-15177bb6c6b6' title='Show/Hide data repr'><svg class='icon xr-icon-database'><use xlink:href='#icon-database'></use></svg></label><div class='xr-var-attrs'><dl class='xr-attrs'><dt><span>flag_meanings :</span></dt><dd>pitch vbd active_roll passive_roll roll_back passive</dd><dt><span>flag_values :</span></dt><dd>[1 2 3 4 5 6]</dd></dl></div><div class='xr-var-data'><pre>[36 values with dtype=int32]</pre></div></li><li class='xr-var-item'><div class='xr-var-name'><span>gc_data_pts</span></div><div class='xr-var-dims'>(gc_event)</div><div class='xr-var-dtype'>int32</div><div class='xr-var-preview xr-preview'>...</div><input id='attrs-5115b265-8bda-4c9b-83d2-88f5a86ccde6' class='xr-var-attrs-in' type='checkbox' ><label for='attrs-5115b265-8bda-4c9b-83d2-88f5a86ccde6' title='Show/Hide attributes'><svg class='icon xr-icon-file-text2'><use xlink:href='#icon-file-text2'></use></svg></label><input id='data-78f96bc7-2305-4984-baf6-4f79603c591b' class='xr-var-data-in' type='checkbox'><label for='data-78f96bc7-2305-4984-baf6-4f79603c591b' title='Show/Hide data repr'><svg class='icon xr-icon-database'><use xlink:href='#icon-database'></use></svg></label><div class='xr-var-attrs'><dl class='xr-attrs'><dt><span>units :</span></dt><dd>1</dd></dl></div><div class='xr-var-data'><pre>[36 values with dtype=int32]</pre></div></li><li class='xr-var-item'><div class='xr-var-name'><span>gc_pitch_errors</span></div><div class='xr-var-dims'>(gc_event)</div><div class='xr-var-dtype'>int32</div><div class='xr-var-preview xr-preview'>...</div><input id='attrs-a3465059-05e9-4803-a0cb-b86435fe1f2d' class='xr-var-attrs-in' type='checkbox' ><label for='attrs-a3465059-05e9-4803-a0cb-b86435fe1f2d' title='Show/Hide attributes'><svg class='icon xr-icon-file-text2'><use xlink:href='#icon-file-text2'></use></svg></label><input id='data-58984937-d8fb-4b50-8ce3-e7be8d6424af' class='xr-var-data-in' type='checkbox'><label for='data-58984937-d8fb-4b50-8ce3-e7be8d6424af' title='Show/Hide data repr'><svg class='icon xr-icon-database'><use xlink:href='#icon-database'></use></svg></label><div class='xr-var-attrs'><dl class='xr-attrs'><dt><span>units :</span></dt><dd>1</dd></dl></div><div class='xr-var-data'><pre>[36 values with dtype=int32]</pre></div></li><li class='xr-var-item'><div class='xr-var-name'><span>gc_roll_ad</span></div><div class='xr-var-dims'>(gc_event)</div><div class='xr-var-dtype'>float64</div><div class='xr-var-preview xr-preview'>...</div><input id='attrs-6765b6bf-5ba7-4497-9caf-a0fd42e47360' class='xr-var-attrs-in' type='checkbox' ><label for='attrs-6765b6bf-5ba7-4497-9caf-a0fd42e47360' title='Show/Hide attributes'><svg class='icon xr-icon-file-text2'><use xlink:href='#icon-file-text2'></use></svg></label><input id='data-3e4e6084-fd9c-4e88-b9c1-eb6a591bef3d' class='xr-var-data-in' type='checkbox'><label for='data-3e4e6084-fd9c-4e88-b9c1-eb6a591bef3d' title='Show/Hide data repr'><svg class='icon xr-icon-database'><use xlink:href='#icon-database'></use></svg></label><div class='xr-var-attrs'><dl class='xr-attrs'><dt><span>units :</span></dt><dd>1</dd></dl></div><div class='xr-var-data'><pre>[36 values with dtype=float64]</pre></div></li><li class='xr-var-item'><div class='xr-var-name'><span>gc_pitch_retries</span></div><div class='xr-var-dims'>(gc_event)</div><div class='xr-var-dtype'>int32</div><div class='xr-var-preview xr-preview'>...</div><input id='attrs-e12a5b2e-052b-412b-a514-9d9964f6378f' class='xr-var-attrs-in' type='checkbox' ><label for='attrs-e12a5b2e-052b-412b-a514-9d9964f6378f' title='Show/Hide attributes'><svg class='icon xr-icon-file-text2'><use xlink:href='#icon-file-text2'></use></svg></label><input id='data-4fb9364a-e839-48e2-a7f1-ff18ab4def26' class='xr-var-data-in' type='checkbox'><label for='data-4fb9364a-e839-48e2-a7f1-ff18ab4def26' title='Show/Hide data repr'><svg class='icon xr-icon-database'><use xlink:href='#icon-database'></use></svg></label><div class='xr-var-attrs'><dl class='xr-attrs'><dt><span>units :</span></dt><dd>1</dd></dl></div><div class='xr-var-data'><pre>[36 values with dtype=int32]</pre></div></li><li class='xr-var-item'><div class='xr-var-name'><span>gc_roll_errors</span></div><div class='xr-var-dims'>(gc_event)</div><div class='xr-var-dtype'>int32</div><div class='xr-var-preview xr-preview'>...</div><input id='attrs-ecae3b10-a030-430c-b574-e974d4836cbb' class='xr-var-attrs-in' type='checkbox' ><label for='attrs-ecae3b10-a030-430c-b574-e974d4836cbb' title='Show/Hide attributes'><svg class='icon xr-icon-file-text2'><use xlink:href='#icon-file-text2'></use></svg></label><input id='data-9f38b1d8-96f3-44c4-9542-33a04d9a7c01' class='xr-var-data-in' type='checkbox'><label for='data-9f38b1d8-96f3-44c4-9542-33a04d9a7c01' title='Show/Hide data repr'><svg class='icon xr-icon-database'><use xlink:href='#icon-database'></use></svg></label><div class='xr-var-attrs'><dl class='xr-attrs'><dt><span>units :</span></dt><dd>1</dd></dl></div><div class='xr-var-data'><pre>[36 values with dtype=int32]</pre></div></li><li class='xr-var-item'><div class='xr-var-name'><span>gc_vbd_secs</span></div><div class='xr-var-dims'>(gc_event)</div><div class='xr-var-dtype'>timedelta64[ns]</div><div class='xr-var-preview xr-preview'>...</div><input id='attrs-e9b0f3b6-9b83-41dd-88a1-8e27a6ab6f84' class='xr-var-attrs-in' type='checkbox' ><label for='attrs-e9b0f3b6-9b83-41dd-88a1-8e27a6ab6f84' title='Show/Hide attributes'><svg class='icon xr-icon-file-text2'><use xlink:href='#icon-file-text2'></use></svg></label><input id='data-ef882f54-fd3e-4eb7-8273-9cc24ee004f4' class='xr-var-data-in' type='checkbox'><label for='data-ef882f54-fd3e-4eb7-8273-9cc24ee004f4' title='Show/Hide data repr'><svg class='icon xr-icon-database'><use xlink:href='#icon-database'></use></svg></label><div class='xr-var-attrs'><dl class='xr-attrs'><dt><span>comment :</span></dt><dd>Elapsed seconds since start of this VBD change</dd></dl></div><div class='xr-var-data'><pre>[36 values with dtype=timedelta64[ns]]</pre></div></li><li class='xr-var-item'><div class='xr-var-name'><span>gc_vbd_retries</span></div><div class='xr-var-dims'>(gc_event)</div><div class='xr-var-dtype'>int32</div><div class='xr-var-preview xr-preview'>...</div><input id='attrs-76a116de-7998-45d7-998b-6d3377a2be23' class='xr-var-attrs-in' type='checkbox' ><label for='attrs-76a116de-7998-45d7-998b-6d3377a2be23' title='Show/Hide attributes'><svg class='icon xr-icon-file-text2'><use xlink:href='#icon-file-text2'></use></svg></label><input id='data-53c99e7f-936f-4b6e-803c-f6d339c1d380' class='xr-var-data-in' type='checkbox'><label for='data-53c99e7f-936f-4b6e-803c-f6d339c1d380' title='Show/Hide data repr'><svg class='icon xr-icon-database'><use xlink:href='#icon-database'></use></svg></label><div class='xr-var-attrs'><dl class='xr-attrs'><dt><span>units :</span></dt><dd>1</dd></dl></div><div class='xr-var-data'><pre>[36 values with dtype=int32]</pre></div></li><li class='xr-var-item'><div class='xr-var-name'><span>gc_roll_secs</span></div><div class='xr-var-dims'>(gc_event)</div><div class='xr-var-dtype'>timedelta64[ns]</div><div class='xr-var-preview xr-preview'>...</div><input id='attrs-6e76c8be-e435-4d18-b1d0-5ca7fe946dee' class='xr-var-attrs-in' type='checkbox' ><label for='attrs-6e76c8be-e435-4d18-b1d0-5ca7fe946dee' title='Show/Hide attributes'><svg class='icon xr-icon-file-text2'><use xlink:href='#icon-file-text2'></use></svg></label><input id='data-8be5d702-e7f4-440d-9cfc-42bade26b8fb' class='xr-var-data-in' type='checkbox'><label for='data-8be5d702-e7f4-440d-9cfc-42bade26b8fb' title='Show/Hide data repr'><svg class='icon xr-icon-database'><use xlink:href='#icon-database'></use></svg></label><div class='xr-var-attrs'><dl class='xr-attrs'><dt><span>comment :</span></dt><dd>Elapsed seconds since start of this roll change</dd></dl></div><div class='xr-var-data'><pre>[36 values with dtype=timedelta64[ns]]</pre></div></li><li class='xr-var-item'><div class='xr-var-name'><span>log_SM_CCo</span></div><div class='xr-var-dims'>()</div><div class='xr-var-dtype'>|S33</div><div class='xr-var-preview xr-preview'>...</div><input id='attrs-7103b7cf-8c33-45b3-bf6b-d7cafb4a6914' class='xr-var-attrs-in' type='checkbox' disabled><label for='attrs-7103b7cf-8c33-45b3-bf6b-d7cafb4a6914' title='Show/Hide attributes'><svg class='icon xr-icon-file-text2'><use xlink:href='#icon-file-text2'></use></svg></label><input id='data-f4ab2f20-5f90-43fa-9b64-6381eddc9bf0' class='xr-var-data-in' type='checkbox'><label for='data-f4ab2f20-5f90-43fa-9b64-6381eddc9bf0' title='Show/Hide data repr'><svg class='icon xr-icon-database'><use xlink:href='#icon-database'></use></svg></label><div class='xr-var-attrs'><dl class='xr-attrs'></dl></div><div class='xr-var-data'><pre>[1 values with dtype=|S33]</pre></div></li><li class='xr-var-item'><div class='xr-var-name'><span>sg_cal_calibcomm</span></div><div class='xr-var-dims'>()</div><div class='xr-var-dtype'>|S32</div><div class='xr-var-preview xr-preview'>...</div><input id='attrs-b57c36fb-51c6-484d-bc3f-c2a8f2e0a55c' class='xr-var-attrs-in' type='checkbox' disabled><label for='attrs-b57c36fb-51c6-484d-bc3f-c2a8f2e0a55c' title='Show/Hide attributes'><svg class='icon xr-icon-file-text2'><use xlink:href='#icon-file-text2'></use></svg></label><input id='data-4cb92ba5-ded2-45dc-875c-25939a8ed16d' class='xr-var-data-in' type='checkbox'><label for='data-4cb92ba5-ded2-45dc-875c-25939a8ed16d' title='Show/Hide data repr'><svg class='icon xr-icon-database'><use xlink:href='#icon-database'></use></svg></label><div class='xr-var-attrs'><dl class='xr-attrs'></dl></div><div class='xr-var-data'><pre>[1 values with dtype=|S32]</pre></div></li><li class='xr-var-item'><div class='xr-var-name'><span>log_IRIDIUM_FIX</span></div><div class='xr-var-dims'>()</div><div class='xr-var-dtype'>|S30</div><div class='xr-var-preview xr-preview'>...</div><input id='attrs-0c114176-c0fd-42ef-8b05-515623ba26c0' class='xr-var-attrs-in' type='checkbox' disabled><label for='attrs-0c114176-c0fd-42ef-8b05-515623ba26c0' title='Show/Hide attributes'><svg class='icon xr-icon-file-text2'><use xlink:href='#icon-file-text2'></use></svg></label><input id='data-973a3e1e-fa73-40f3-97e4-0385aa16724b' class='xr-var-data-in' type='checkbox'><label for='data-973a3e1e-fa73-40f3-97e4-0385aa16724b' title='Show/Hide data repr'><svg class='icon xr-icon-database'><use xlink:href='#icon-database'></use></svg></label><div class='xr-var-attrs'><dl class='xr-attrs'></dl></div><div class='xr-var-data'><pre>[1 values with dtype=|S30]</pre></div></li><li class='xr-var-item'><div class='xr-var-name'><span>log_ERRORS</span></div><div class='xr-var-dims'>()</div><div class='xr-var-dtype'>|S29</div><div class='xr-var-preview xr-preview'>...</div><input id='attrs-39f0ae5c-3415-4cfa-99b3-a5459ea834c8' class='xr-var-attrs-in' type='checkbox' disabled><label for='attrs-39f0ae5c-3415-4cfa-99b3-a5459ea834c8' title='Show/Hide attributes'><svg class='icon xr-icon-file-text2'><use xlink:href='#icon-file-text2'></use></svg></label><input id='data-fb33f4b3-7f22-4a4d-94a9-3786c70a6100' class='xr-var-data-in' type='checkbox'><label for='data-fb33f4b3-7f22-4a4d-94a9-3786c70a6100' title='Show/Hide data repr'><svg class='icon xr-icon-database'><use xlink:href='#icon-database'></use></svg></label><div class='xr-var-attrs'><dl class='xr-attrs'></dl></div><div class='xr-var-data'><pre>[1 values with dtype=|S29]</pre></div></li><li class='xr-var-item'><div class='xr-var-name'><span>log_MHEAD_RNG_PITCHd_Wd</span></div><div class='xr-var-dims'>()</div><div class='xr-var-dtype'>|S23</div><div class='xr-var-preview xr-preview'>...</div><input id='attrs-632fb68a-054f-4481-a908-7b8795237d9d' class='xr-var-attrs-in' type='checkbox' disabled><label for='attrs-632fb68a-054f-4481-a908-7b8795237d9d' title='Show/Hide attributes'><svg class='icon xr-icon-file-text2'><use xlink:href='#icon-file-text2'></use></svg></label><input id='data-5b940218-03b6-4ba5-9905-adcbbbb69529' class='xr-var-data-in' type='checkbox'><label for='data-5b940218-03b6-4ba5-9905-adcbbbb69529' title='Show/Hide data repr'><svg class='icon xr-icon-database'><use xlink:href='#icon-database'></use></svg></label><div class='xr-var-attrs'><dl class='xr-attrs'></dl></div><div class='xr-var-data'><pre>[1 values with dtype=|S23]</pre></div></li><li class='xr-var-item'><div class='xr-var-name'><span>log_KALMAN_X</span></div><div class='xr-var-dims'>()</div><div class='xr-var-dtype'>|S19</div><div class='xr-var-preview xr-preview'>...</div><input id='attrs-f12f5ecf-980c-40c6-86ea-1acd5cf7829b' class='xr-var-attrs-in' type='checkbox' disabled><label for='attrs-f12f5ecf-980c-40c6-86ea-1acd5cf7829b' title='Show/Hide attributes'><svg class='icon xr-icon-file-text2'><use xlink:href='#icon-file-text2'></use></svg></label><input id='data-7c35b645-bf52-4e48-b5d6-f1146c9ae0d6' class='xr-var-data-in' type='checkbox'><label for='data-7c35b645-bf52-4e48-b5d6-f1146c9ae0d6' title='Show/Hide data repr'><svg class='icon xr-icon-database'><use xlink:href='#icon-database'></use></svg></label><div class='xr-var-attrs'><dl class='xr-attrs'></dl></div><div class='xr-var-data'><pre>[1 values with dtype=|S19]</pre></div></li><li class='xr-var-item'><div class='xr-var-name'><span>log_KALMAN_Y</span></div><div class='xr-var-dims'>()</div><div class='xr-var-dtype'>|S19</div><div class='xr-var-preview xr-preview'>...</div><input id='attrs-0b0c938e-1fb5-4dab-9f1d-1923875e6cdf' class='xr-var-attrs-in' type='checkbox' disabled><label for='attrs-0b0c938e-1fb5-4dab-9f1d-1923875e6cdf' title='Show/Hide attributes'><svg class='icon xr-icon-file-text2'><use xlink:href='#icon-file-text2'></use></svg></label><input id='data-5bca5c6b-3474-47fe-835b-ec22adc269c9' class='xr-var-data-in' type='checkbox'><label for='data-5bca5c6b-3474-47fe-835b-ec22adc269c9' title='Show/Hide data repr'><svg class='icon xr-icon-database'><use xlink:href='#icon-database'></use></svg></label><div class='xr-var-attrs'><dl class='xr-attrs'></dl></div><div class='xr-var-data'><pre>[1 values with dtype=|S19]</pre></div></li><li class='xr-var-item'><div class='xr-var-name'><span>log_CFSIZE</span></div><div class='xr-var-dims'>()</div><div class='xr-var-dtype'>|S19</div><div class='xr-var-preview xr-preview'>...</div><input id='attrs-0227fd19-e8d4-4724-8c18-64584a3409e2' class='xr-var-attrs-in' type='checkbox' disabled><label for='attrs-0227fd19-e8d4-4724-8c18-64584a3409e2' title='Show/Hide attributes'><svg class='icon xr-icon-file-text2'><use xlink:href='#icon-file-text2'></use></svg></label><input id='data-b2c5c1e7-f3d8-432b-9845-5b87a39828a7' class='xr-var-data-in' type='checkbox'><label for='data-b2c5c1e7-f3d8-432b-9845-5b87a39828a7' title='Show/Hide data repr'><svg class='icon xr-icon-database'><use xlink:href='#icon-database'></use></svg></label><div class='xr-var-attrs'><dl class='xr-attrs'></dl></div><div class='xr-var-data'><pre>[1 values with dtype=|S19]</pre></div></li><li class='xr-var-item'><div class='xr-var-name'><span>log_TGT_LATLONG</span></div><div class='xr-var-dims'>()</div><div class='xr-var-dtype'>|S18</div><div class='xr-var-preview xr-preview'>...</div><input id='attrs-f64b04ee-7d9a-4c44-9bd7-0761ef677a87' class='xr-var-attrs-in' type='checkbox' disabled><label for='attrs-f64b04ee-7d9a-4c44-9bd7-0761ef677a87' title='Show/Hide attributes'><svg class='icon xr-icon-file-text2'><use xlink:href='#icon-file-text2'></use></svg></label><input id='data-7e1deb52-24d7-473d-b507-40851e256a95' class='xr-var-data-in' type='checkbox'><label for='data-7e1deb52-24d7-473d-b507-40851e256a95' title='Show/Hide data repr'><svg class='icon xr-icon-database'><use xlink:href='#icon-database'></use></svg></label><div class='xr-var-attrs'><dl class='xr-attrs'></dl></div><div class='xr-var-data'><pre>[1 values with dtype=|S18]</pre></div></li><li class='xr-var-item'><div class='xr-var-name'><span>glider</span></div><div class='xr-var-dims'>()</div><div class='xr-var-dtype'>|S16</div><div class='xr-var-preview xr-preview'>...</div><input id='attrs-f4f7c445-1f38-4114-b36d-3ddd62ce6dca' class='xr-var-attrs-in' type='checkbox' ><label for='attrs-f4f7c445-1f38-4114-b36d-3ddd62ce6dca' title='Show/Hide attributes'><svg class='icon xr-icon-file-text2'><use xlink:href='#icon-file-text2'></use></svg></label><input id='data-0fc7a3f6-8dae-4ec5-81be-66ef7c5b0cdc' class='xr-var-data-in' type='checkbox'><label for='data-0fc7a3f6-8dae-4ec5-81be-66ef7c5b0cdc' title='Show/Hide data repr'><svg class='icon xr-icon-database'><use xlink:href='#icon-database'></use></svg></label><div class='xr-var-attrs'><dl class='xr-attrs'><dt><span>nodc_name :</span></dt><dd>glider</dd><dt><span>call_sign :</span></dt><dd>SG033</dd><dt><span>long_name :</span></dt><dd>deepglider</dd></dl></div><div class='xr-var-data'><pre>[1 values with dtype=|S16]</pre></div></li><li class='xr-var-item'><div class='xr-var-name'><span>log_SPEED_LIMITS</span></div><div class='xr-var-dims'>()</div><div class='xr-var-dtype'>|S11</div><div class='xr-var-preview xr-preview'>...</div><input id='attrs-224ef75e-62a7-453b-b60a-35bc0257c047' class='xr-var-attrs-in' type='checkbox' disabled><label for='attrs-224ef75e-62a7-453b-b60a-35bc0257c047' title='Show/Hide attributes'><svg class='icon xr-icon-file-text2'><use xlink:href='#icon-file-text2'></use></svg></label><input id='data-3794cd88-0ddf-4c62-a24a-754b42cb2460' class='xr-var-data-in' type='checkbox'><label for='data-3794cd88-0ddf-4c62-a24a-754b42cb2460' title='Show/Hide data repr'><svg class='icon xr-icon-database'><use xlink:href='#icon-database'></use></svg></label><div class='xr-var-attrs'><dl class='xr-attrs'></dl></div><div class='xr-var-data'><pre>[1 values with dtype=|S11]</pre></div></li><li class='xr-var-item'><div class='xr-var-name'><span>log_TGT_NAME</span></div><div class='xr-var-dims'>()</div><div class='xr-var-dtype'>|S11</div><div class='xr-var-preview xr-preview'>...</div><input id='attrs-5f61ebb0-7c72-4958-a338-8b8b6975e055' class='xr-var-attrs-in' type='checkbox' disabled><label for='attrs-5f61ebb0-7c72-4958-a338-8b8b6975e055' title='Show/Hide attributes'><svg class='icon xr-icon-file-text2'><use xlink:href='#icon-file-text2'></use></svg></label><input id='data-e21d07f5-f746-4427-82e4-8798b50c101d' class='xr-var-data-in' type='checkbox'><label for='data-e21d07f5-f746-4427-82e4-8798b50c101d' title='Show/Hide data repr'><svg class='icon xr-icon-database'><use xlink:href='#icon-database'></use></svg></label><div class='xr-var-attrs'><dl class='xr-attrs'></dl></div><div class='xr-var-data'><pre>[1 values with dtype=|S11]</pre></div></li><li class='xr-var-item'><div class='xr-var-name'><span>log_KALMAN_CONTROL</span></div><div class='xr-var-dims'>()</div><div class='xr-var-dtype'>|S11</div><div class='xr-var-preview xr-preview'>...</div><input id='attrs-f7e4e19f-0af5-456b-91f3-401c5c561918' class='xr-var-attrs-in' type='checkbox' disabled><label for='attrs-f7e4e19f-0af5-456b-91f3-401c5c561918' title='Show/Hide attributes'><svg class='icon xr-icon-file-text2'><use xlink:href='#icon-file-text2'></use></svg></label><input id='data-273b5973-f8e9-4350-a6bd-9d2ed73e3c04' class='xr-var-data-in' type='checkbox'><label for='data-273b5973-f8e9-4350-a6bd-9d2ed73e3c04' title='Show/Hide data repr'><svg class='icon xr-icon-database'><use xlink:href='#icon-database'></use></svg></label><div class='xr-var-attrs'><dl class='xr-attrs'></dl></div><div class='xr-var-data'><pre>[1 values with dtype=|S11]</pre></div></li><li class='xr-var-item'><div class='xr-var-name'><span>log_24V_AH</span></div><div class='xr-var-dims'>()</div><div class='xr-var-dtype'>|S11</div><div class='xr-var-preview xr-preview'>...</div><input id='attrs-81f18b56-de33-4eac-a7d2-f6deb442fc74' class='xr-var-attrs-in' type='checkbox' disabled><label for='attrs-81f18b56-de33-4eac-a7d2-f6deb442fc74' title='Show/Hide attributes'><svg class='icon xr-icon-file-text2'><use xlink:href='#icon-file-text2'></use></svg></label><input id='data-b11f3cef-5707-4970-baf1-a3af5b4c7b75' class='xr-var-data-in' type='checkbox'><label for='data-b11f3cef-5707-4970-baf1-a3af5b4c7b75' title='Show/Hide data repr'><svg class='icon xr-icon-database'><use xlink:href='#icon-database'></use></svg></label><div class='xr-var-attrs'><dl class='xr-attrs'></dl></div><div class='xr-var-data'><pre>[1 values with dtype=|S11]</pre></div></li><li class='xr-var-item'><div class='xr-var-name'><span>log_10V_AH</span></div><div class='xr-var-dims'>()</div><div class='xr-var-dtype'>|S11</div><div class='xr-var-preview xr-preview'>...</div><input id='attrs-15ff1b0b-6e70-4f7d-aa97-88e740a78bf1' class='xr-var-attrs-in' type='checkbox' disabled><label for='attrs-15ff1b0b-6e70-4f7d-aa97-88e740a78bf1' title='Show/Hide attributes'><svg class='icon xr-icon-file-text2'><use xlink:href='#icon-file-text2'></use></svg></label><input id='data-5e42255b-329d-42b1-8069-d5ba193860b9' class='xr-var-data-in' type='checkbox'><label for='data-5e42255b-329d-42b1-8069-d5ba193860b9' title='Show/Hide data repr'><svg class='icon xr-icon-database'><use xlink:href='#icon-database'></use></svg></label><div class='xr-var-attrs'><dl class='xr-attrs'></dl></div><div class='xr-var-data'><pre>[1 values with dtype=|S11]</pre></div></li><li class='xr-var-item'><div class='xr-var-name'><span>gc_state_state</span></div><div class='xr-var-dims'>(gc_state)</div><div class='xr-var-dtype'>int32</div><div class='xr-var-preview xr-preview'>...</div><input id='attrs-46c1e91b-b0b7-4f82-9977-8db6e3227a19' class='xr-var-attrs-in' type='checkbox' ><label for='attrs-46c1e91b-b0b7-4f82-9977-8db6e3227a19' title='Show/Hide attributes'><svg class='icon xr-icon-file-text2'><use xlink:href='#icon-file-text2'></use></svg></label><input id='data-98871098-9864-4994-9c6c-f4894f26e78a' class='xr-var-data-in' type='checkbox'><label for='data-98871098-9864-4994-9c6c-f4894f26e78a' title='Show/Hide data repr'><svg class='icon xr-icon-database'><use xlink:href='#icon-database'></use></svg></label><div class='xr-var-attrs'><dl class='xr-attrs'><dt><span>comment :</span></dt><dd>Name of the GC state</dd></dl></div><div class='xr-var-data'><pre>[10 values with dtype=int32]</pre></div></li><li class='xr-var-item'><div class='xr-var-name'><span>gc_state_eop_code</span></div><div class='xr-var-dims'>(gc_state)</div><div class='xr-var-dtype'>int32</div><div class='xr-var-preview xr-preview'>...</div><input id='attrs-0f2435e2-2de4-439c-ac52-1233e31b8bc3' class='xr-var-attrs-in' type='checkbox' ><label for='attrs-0f2435e2-2de4-439c-ac52-1233e31b8bc3' title='Show/Hide attributes'><svg class='icon xr-icon-file-text2'><use xlink:href='#icon-file-text2'></use></svg></label><input id='data-c7bcb283-8d3f-4a70-9303-d2f429e079ec' class='xr-var-data-in' type='checkbox'><label for='data-c7bcb283-8d3f-4a70-9303-d2f429e079ec' title='Show/Hide data repr'><svg class='icon xr-icon-database'><use xlink:href='#icon-database'></use></svg></label><div class='xr-var-attrs'><dl class='xr-attrs'><dt><span>comment :</span></dt><dd>GC states end of phase (EOP) code</dd></dl></div><div class='xr-var-data'><pre>[10 values with dtype=int32]</pre></div></li><li class='xr-var-item'><div class='xr-var-name'><span>gc_state_secs</span></div><div class='xr-var-dims'>(gc_state)</div><div class='xr-var-dtype'>datetime64[ns]</div><div class='xr-var-preview xr-preview'>...</div><input id='attrs-d5f31244-b58c-4565-96a1-7cb45c3c8fdf' class='xr-var-attrs-in' type='checkbox' ><label for='attrs-d5f31244-b58c-4565-96a1-7cb45c3c8fdf' title='Show/Hide attributes'><svg class='icon xr-icon-file-text2'><use xlink:href='#icon-file-text2'></use></svg></label><input id='data-73ff0219-b166-4449-88d6-8ab88be2ba83' class='xr-var-data-in' type='checkbox'><label for='data-73ff0219-b166-4449-88d6-8ab88be2ba83' title='Show/Hide data repr'><svg class='icon xr-icon-database'><use xlink:href='#icon-database'></use></svg></label><div class='xr-var-attrs'><dl class='xr-attrs'><dt><span>comment :</span></dt><dd>Start of STAGE time in GMT epoch format</dd></dl></div><div class='xr-var-data'><pre>[10 values with dtype=datetime64[ns]]</pre></div></li><li class='xr-var-item'><div class='xr-var-name'><span>log_ALTIM_TOP_PING</span></div><div class='xr-var-dims'>()</div><div class='xr-var-dtype'>|S9</div><div class='xr-var-preview xr-preview'>...</div><input id='attrs-473b26e3-27f3-4a55-931b-85f981319747' class='xr-var-attrs-in' type='checkbox' disabled><label for='attrs-473b26e3-27f3-4a55-931b-85f981319747' title='Show/Hide attributes'><svg class='icon xr-icon-file-text2'><use xlink:href='#icon-file-text2'></use></svg></label><input id='data-ecf81c91-91b8-421c-a191-48f4dc619189' class='xr-var-data-in' type='checkbox'><label for='data-ecf81c91-91b8-421c-a191-48f4dc619189' title='Show/Hide data repr'><svg class='icon xr-icon-database'><use xlink:href='#icon-database'></use></svg></label><div class='xr-var-attrs'><dl class='xr-attrs'></dl></div><div class='xr-var-data'><pre>[1 values with dtype=|S9]</pre></div></li><li class='xr-var-item'><div class='xr-var-name'><span>log_DATA_FILE_SIZE</span></div><div class='xr-var-dims'>()</div><div class='xr-var-dtype'>|S9</div><div class='xr-var-preview xr-preview'>...</div><input id='attrs-cc929578-4e12-4a0e-b9a3-c124ff0374b4' class='xr-var-attrs-in' type='checkbox' disabled><label for='attrs-cc929578-4e12-4a0e-b9a3-c124ff0374b4' title='Show/Hide attributes'><svg class='icon xr-icon-file-text2'><use xlink:href='#icon-file-text2'></use></svg></label><input id='data-da3af0fc-a63a-4c95-839d-08d5243879ce' class='xr-var-data-in' type='checkbox'><label for='data-da3af0fc-a63a-4c95-839d-08d5243879ce' title='Show/Hide data repr'><svg class='icon xr-icon-database'><use xlink:href='#icon-database'></use></svg></label><div class='xr-var-attrs'><dl class='xr-attrs'></dl></div><div class='xr-var-data'><pre>[1 values with dtype=|S9]</pre></div></li><li class='xr-var-item'><div class='xr-var-name'><span>log_TT8_MAMPS</span></div><div class='xr-var-dims'>()</div><div class='xr-var-dtype'>|S8</div><div class='xr-var-preview xr-preview'>...</div><input id='attrs-d14ef783-0876-40dc-bca3-3336b228c0b1' class='xr-var-attrs-in' type='checkbox' disabled><label for='attrs-d14ef783-0876-40dc-bca3-3336b228c0b1' title='Show/Hide attributes'><svg class='icon xr-icon-file-text2'><use xlink:href='#icon-file-text2'></use></svg></label><input id='data-991c5794-7317-435c-9bad-fe09ae891e7d' class='xr-var-data-in' type='checkbox'><label for='data-991c5794-7317-435c-9bad-fe09ae891e7d' title='Show/Hide data repr'><svg class='icon xr-icon-database'><use xlink:href='#icon-database'></use></svg></label><div class='xr-var-attrs'><dl class='xr-attrs'></dl></div><div class='xr-var-data'><pre>[1 values with dtype=|S8]</pre></div></li><li class='xr-var-item'><div class='xr-var-name'><span>log_CAP_FILE_SIZE</span></div><div class='xr-var-dims'>()</div><div class='xr-var-dtype'>|S8</div><div class='xr-var-preview xr-preview'>...</div><input id='attrs-4f9d1cf9-a299-4a5e-b50b-2e83daefb55c' class='xr-var-attrs-in' type='checkbox' disabled><label for='attrs-4f9d1cf9-a299-4a5e-b50b-2e83daefb55c' title='Show/Hide attributes'><svg class='icon xr-icon-file-text2'><use xlink:href='#icon-file-text2'></use></svg></label><input id='data-d61888d7-fead-488a-8c43-fbaee2019634' class='xr-var-data-in' type='checkbox'><label for='data-d61888d7-fead-488a-8c43-fbaee2019634' title='Show/Hide data repr'><svg class='icon xr-icon-database'><use xlink:href='#icon-database'></use></svg></label><div class='xr-var-attrs'><dl class='xr-attrs'></dl></div><div class='xr-var-data'><pre>[1 values with dtype=|S8]</pre></div></li><li class='xr-var-item'><div class='xr-var-name'><span>aa4330</span></div><div class='xr-var-dims'>()</div><div class='xr-var-dtype'>|S6</div><div class='xr-var-preview xr-preview'>...</div><input id='attrs-d7c80f19-c8ec-48aa-99dd-6c4849ff955d' class='xr-var-attrs-in' type='checkbox' ><label for='attrs-d7c80f19-c8ec-48aa-99dd-6c4849ff955d' title='Show/Hide attributes'><svg class='icon xr-icon-file-text2'><use xlink:href='#icon-file-text2'></use></svg></label><input id='data-5801980c-ac6f-4b54-ba63-853f57e67dcd' class='xr-var-data-in' type='checkbox'><label for='data-5801980c-ac6f-4b54-ba63-853f57e67dcd' title='Show/Hide data repr'><svg class='icon xr-icon-database'><use xlink:href='#icon-database'></use></svg></label><div class='xr-var-attrs'><dl class='xr-attrs'><dt><span>long_name :</span></dt><dd>underway optode</dd><dt><span>ancillary_variables :</span></dt><dd>temperature salinity ctd_pressure density eng_aa4330_TCPhase aa4330_tcphase sg_cal_optode_FoilCoef*</dd><dt><span>make_model :</span></dt><dd>Aanderaa 4330</dd><dt><span>nodc_name :</span></dt><dd>optode</dd></dl></div><div class='xr-var-data'><pre>[1 values with dtype=|S6]</pre></div></li><li class='xr-var-item'><div class='xr-var-name'><span>log_MEM</span></div><div class='xr-var-dims'>()</div><div class='xr-var-dtype'>|S6</div><div class='xr-var-preview xr-preview'>...</div><input id='attrs-1b7efff2-d33e-44cd-b03e-8cff53bd400e' class='xr-var-attrs-in' type='checkbox' disabled><label for='attrs-1b7efff2-d33e-44cd-b03e-8cff53bd400e' title='Show/Hide attributes'><svg class='icon xr-icon-file-text2'><use xlink:href='#icon-file-text2'></use></svg></label><input id='data-68dfe219-0d30-4bcd-bb04-371917d8134c' class='xr-var-data-in' type='checkbox'><label for='data-68dfe219-0d30-4bcd-bb04-371917d8134c' title='Show/Hide data repr'><svg class='icon xr-icon-database'><use xlink:href='#icon-database'></use></svg></label><div class='xr-var-attrs'><dl class='xr-attrs'></dl></div><div class='xr-var-data'><pre>[1 values with dtype=|S6]</pre></div></li><li class='xr-var-item'><div class='xr-var-name'><span>sbe41</span></div><div class='xr-var-dims'>()</div><div class='xr-var-dtype'>|S5</div><div class='xr-var-preview xr-preview'>...</div><input id='attrs-4a24f0df-f5ed-4de4-8dfb-d20a62fab5d2' class='xr-var-attrs-in' type='checkbox' ><label for='attrs-4a24f0df-f5ed-4de4-8dfb-d20a62fab5d2' title='Show/Hide attributes'><svg class='icon xr-icon-file-text2'><use xlink:href='#icon-file-text2'></use></svg></label><input id='data-acb5d394-f878-45e6-861b-404d5dc63321' class='xr-var-data-in' type='checkbox'><label for='data-acb5d394-f878-45e6-861b-404d5dc63321' title='Show/Hide data repr'><svg class='icon xr-icon-database'><use xlink:href='#icon-database'></use></svg></label><div class='xr-var-attrs'><dl class='xr-attrs'><dt><span>long_name :</span></dt><dd>underway thermosalinograph</dd><dt><span>ancillary_variables :</span></dt><dd> sg_cal_t_g sg_cal_t_h sg_cal_t_i sg_cal_t_jsg_cal_c_g sg_cal_c_h sg_cal_c_i sg_cal_c_j sg_cal_cpcor sg_cal_ctcor</dd><dt><span>make_model :</span></dt><dd>unpumped Seabird SBE41</dd><dt><span>nodc_name :</span></dt><dd>thermosalinograph</dd></dl></div><div class='xr-var-data'><pre>[1 values with dtype=|S5]</pre></div></li><li class='xr-var-item'><div class='xr-var-name'><span>log_gps_time</span></div><div class='xr-var-dims'>(gps_info)</div><div class='xr-var-dtype'>datetime64[ns]</div><div class='xr-var-preview xr-preview'>...</div><input id='attrs-c57d95e0-fe6b-42ee-bd8c-ce4b656a47be' class='xr-var-attrs-in' type='checkbox' ><label for='attrs-c57d95e0-fe6b-42ee-bd8c-ce4b656a47be' title='Show/Hide attributes'><svg class='icon xr-icon-file-text2'><use xlink:href='#icon-file-text2'></use></svg></label><input id='data-0b6cae0f-5f52-48a1-9e70-ed8a7dffc4ee' class='xr-var-data-in' type='checkbox'><label for='data-0b6cae0f-5f52-48a1-9e70-ed8a7dffc4ee' title='Show/Hide data repr'><svg class='icon xr-icon-database'><use xlink:href='#icon-database'></use></svg></label><div class='xr-var-attrs'><dl class='xr-attrs'><dt><span>comment :</span></dt><dd>GPS times in GMT epoch format</dd><dt><span>standard_name :</span></dt><dd>time</dd></dl></div><div class='xr-var-data'><pre>[3 values with dtype=datetime64[ns]]</pre></div></li><li class='xr-var-item'><div class='xr-var-name'><span>log_gps_lat</span></div><div class='xr-var-dims'>(gps_info)</div><div class='xr-var-dtype'>float64</div><div class='xr-var-preview xr-preview'>...</div><input id='attrs-e49403e1-12e6-489e-9917-e25338fd92ad' class='xr-var-attrs-in' type='checkbox' ><label for='attrs-e49403e1-12e6-489e-9917-e25338fd92ad' title='Show/Hide attributes'><svg class='icon xr-icon-file-text2'><use xlink:href='#icon-file-text2'></use></svg></label><input id='data-73035285-3634-4d1f-97bd-0d50c5d7214f' class='xr-var-data-in' type='checkbox'><label for='data-73035285-3634-4d1f-97bd-0d50c5d7214f' title='Show/Hide data repr'><svg class='icon xr-icon-database'><use xlink:href='#icon-database'></use></svg></label><div class='xr-var-attrs'><dl class='xr-attrs'><dt><span>units :</span></dt><dd>degrees_north</dd><dt><span>comment :</span></dt><dd>GPS latitudes</dd><dt><span>standard_name :</span></dt><dd>latitude</dd></dl></div><div class='xr-var-data'><pre>[3 values with dtype=float64]</pre></div></li><li class='xr-var-item'><div class='xr-var-name'><span>sg_cal_id_str</span></div><div class='xr-var-dims'>()</div><div class='xr-var-dtype'>|S3</div><div class='xr-var-preview xr-preview'>...</div><input id='attrs-3d019f02-153b-48d7-a7b4-0e1edcea5149' class='xr-var-attrs-in' type='checkbox' ><label for='attrs-3d019f02-153b-48d7-a7b4-0e1edcea5149' title='Show/Hide attributes'><svg class='icon xr-icon-file-text2'><use xlink:href='#icon-file-text2'></use></svg></label><input id='data-b92c57b8-983e-4cb7-8dde-63a8e05660ec' class='xr-var-data-in' type='checkbox'><label for='data-b92c57b8-983e-4cb7-8dde-63a8e05660ec' title='Show/Hide data repr'><svg class='icon xr-icon-database'><use xlink:href='#icon-database'></use></svg></label><div class='xr-var-attrs'><dl class='xr-attrs'><dt><span>comment :</span></dt><dd>Three digit vehicle identification string</dd></dl></div><div class='xr-var-data'><pre>[1 values with dtype=|S3]</pre></div></li><li class='xr-var-item'><div class='xr-var-name'><span>log_gps_lon</span></div><div class='xr-var-dims'>(gps_info)</div><div class='xr-var-dtype'>float64</div><div class='xr-var-preview xr-preview'>...</div><input id='attrs-090bbad6-7dae-4177-89bf-cacd06d048cb' class='xr-var-attrs-in' type='checkbox' ><label for='attrs-090bbad6-7dae-4177-89bf-cacd06d048cb' title='Show/Hide attributes'><svg class='icon xr-icon-file-text2'><use xlink:href='#icon-file-text2'></use></svg></label><input id='data-cc3cf3ce-b380-42c3-a3ba-cdb5635375af' class='xr-var-data-in' type='checkbox'><label for='data-cc3cf3ce-b380-42c3-a3ba-cdb5635375af' title='Show/Hide data repr'><svg class='icon xr-icon-database'><use xlink:href='#icon-database'></use></svg></label><div class='xr-var-attrs'><dl class='xr-attrs'><dt><span>units :</span></dt><dd>degrees_east</dd><dt><span>comment :</span></dt><dd>GPS longitudes</dd><dt><span>standard_name :</span></dt><dd>longitude</dd></dl></div><div class='xr-var-data'><pre>[3 values with dtype=float64]</pre></div></li><li class='xr-var-item'><div class='xr-var-name'><span>aanderaa4330_qc</span></div><div class='xr-var-dims'>()</div><div class='xr-var-dtype'>|S1</div><div class='xr-var-preview xr-preview'>...</div><input id='attrs-19b3a486-f18c-4afa-a5ce-91d51d1c74a4' class='xr-var-attrs-in' type='checkbox' ><label for='attrs-19b3a486-f18c-4afa-a5ce-91d51d1c74a4' title='Show/Hide attributes'><svg class='icon xr-icon-file-text2'><use xlink:href='#icon-file-text2'></use></svg></label><input id='data-26da4457-2b6d-466f-a5e9-6104c14e14e8' class='xr-var-data-in' type='checkbox'><label for='data-26da4457-2b6d-466f-a5e9-6104c14e14e8' title='Show/Hide data repr'><svg class='icon xr-icon-database'><use xlink:href='#icon-database'></use></svg></label><div class='xr-var-attrs'><dl class='xr-attrs'><dt><span>flag_meanings :</span></dt><dd>QC_NO_CHANGE QC_GOOD QC_PROBABLY_GOOD QC_PROBABLY_BAD QC_BAD QC_CHANGED QC_UNSAMPLED QC_INTERPOLATED QC_MISSING</dd><dt><span>comment :</span></dt><dd>Whether to trust the Aanderaa 3880 results</dd><dt><span>flag_values :</span></dt><dd>0 1 2 3 4 5 6 8 9</dd></dl></div><div class='xr-var-data'><pre>[1 values with dtype=|S1]</pre></div></li><li class='xr-var-item'><div class='xr-var-name'><span>GPS2_qc</span></div><div class='xr-var-dims'>()</div><div class='xr-var-dtype'>|S1</div><div class='xr-var-preview xr-preview'>...</div><input id='attrs-da0826c5-417c-4dd7-ab2d-9754163424a3' class='xr-var-attrs-in' type='checkbox' ><label for='attrs-da0826c5-417c-4dd7-ab2d-9754163424a3' title='Show/Hide attributes'><svg class='icon xr-icon-file-text2'><use xlink:href='#icon-file-text2'></use></svg></label><input id='data-61b2d6de-0728-4c3b-b6bd-ce298ba7f791' class='xr-var-data-in' type='checkbox'><label for='data-61b2d6de-0728-4c3b-b6bd-ce298ba7f791' title='Show/Hide data repr'><svg class='icon xr-icon-database'><use xlink:href='#icon-database'></use></svg></label><div class='xr-var-attrs'><dl class='xr-attrs'><dt><span>flag_meanings :</span></dt><dd>QC_NO_CHANGE QC_GOOD QC_PROBABLY_GOOD QC_PROBABLY_BAD QC_BAD QC_CHANGED QC_UNSAMPLED QC_INTERPOLATED QC_MISSING</dd><dt><span>comment :</span></dt><dd>Whether to trust the GPS2 information</dd><dt><span>flag_values :</span></dt><dd>0 1 2 3 4 5 6 8 9</dd></dl></div><div class='xr-var-data'><pre>[1 values with dtype=|S1]</pre></div></li><li class='xr-var-item'><div class='xr-var-name'><span>CTD_qc</span></div><div class='xr-var-dims'>()</div><div class='xr-var-dtype'>|S1</div><div class='xr-var-preview xr-preview'>...</div><input id='attrs-44d1759d-3e2c-4404-a454-5ae430775a5b' class='xr-var-attrs-in' type='checkbox' ><label for='attrs-44d1759d-3e2c-4404-a454-5ae430775a5b' title='Show/Hide attributes'><svg class='icon xr-icon-file-text2'><use xlink:href='#icon-file-text2'></use></svg></label><input id='data-3a520d5a-f749-4ded-83ad-b5844fda38db' class='xr-var-data-in' type='checkbox'><label for='data-3a520d5a-f749-4ded-83ad-b5844fda38db' title='Show/Hide data repr'><svg class='icon xr-icon-database'><use xlink:href='#icon-database'></use></svg></label><div class='xr-var-attrs'><dl class='xr-attrs'><dt><span>flag_meanings :</span></dt><dd>QC_NO_CHANGE QC_GOOD QC_PROBABLY_GOOD QC_PROBABLY_BAD QC_BAD QC_CHANGED QC_UNSAMPLED QC_INTERPOLATED QC_MISSING</dd><dt><span>comment :</span></dt><dd>Whether to trust the corrected CTD values</dd><dt><span>flag_values :</span></dt><dd>0 1 2 3 4 5 6 8 9</dd></dl></div><div class='xr-var-data'><pre>[1 values with dtype=|S1]</pre></div></li><li class='xr-var-item'><div class='xr-var-name'><span>hdm_qc</span></div><div class='xr-var-dims'>()</div><div class='xr-var-dtype'>|S1</div><div class='xr-var-preview xr-preview'>...</div><input id='attrs-9779d358-b409-4385-95b5-b1377083922f' class='xr-var-attrs-in' type='checkbox' ><label for='attrs-9779d358-b409-4385-95b5-b1377083922f' title='Show/Hide attributes'><svg class='icon xr-icon-file-text2'><use xlink:href='#icon-file-text2'></use></svg></label><input id='data-edc750f2-1c13-42c0-a4cc-9ac85f47430f' class='xr-var-data-in' type='checkbox'><label for='data-edc750f2-1c13-42c0-a4cc-9ac85f47430f' title='Show/Hide data repr'><svg class='icon xr-icon-database'><use xlink:href='#icon-database'></use></svg></label><div class='xr-var-attrs'><dl class='xr-attrs'><dt><span>flag_meanings :</span></dt><dd>QC_NO_CHANGE QC_GOOD QC_PROBABLY_GOOD QC_PROBABLY_BAD QC_BAD QC_CHANGED QC_UNSAMPLED QC_INTERPOLATED QC_MISSING</dd><dt><span>comment :</span></dt><dd>Whether corrected temperatures, salinities, and velocities from the hydrodynamic model converged on a consistent solution</dd><dt><span>flag_values :</span></dt><dd>0 1 2 3 4 5 6 8 9</dd></dl></div><div class='xr-var-data'><pre>[1 values with dtype=|S1]</pre></div></li><li class='xr-var-item'><div class='xr-var-name'><span>latlong_qc</span></div><div class='xr-var-dims'>()</div><div class='xr-var-dtype'>|S1</div><div class='xr-var-preview xr-preview'>...</div><input id='attrs-75d42b81-fc3f-4828-9f49-beb767d9e1e7' class='xr-var-attrs-in' type='checkbox' ><label for='attrs-75d42b81-fc3f-4828-9f49-beb767d9e1e7' title='Show/Hide attributes'><svg class='icon xr-icon-file-text2'><use xlink:href='#icon-file-text2'></use></svg></label><input id='data-00e6c6f3-21b5-4209-9bf3-a1b519adcca9' class='xr-var-data-in' type='checkbox'><label for='data-00e6c6f3-21b5-4209-9bf3-a1b519adcca9' title='Show/Hide data repr'><svg class='icon xr-icon-database'><use xlink:href='#icon-database'></use></svg></label><div class='xr-var-attrs'><dl class='xr-attrs'><dt><span>flag_meanings :</span></dt><dd>QC_NO_CHANGE QC_GOOD QC_PROBABLY_GOOD QC_PROBABLY_BAD QC_BAD QC_CHANGED QC_UNSAMPLED QC_INTERPOLATED QC_MISSING</dd><dt><span>comment :</span></dt><dd>Whether to trust the dive estimated latitude and longitude estimates</dd><dt><span>flag_values :</span></dt><dd>0 1 2 3 4 5 6 8 9</dd></dl></div><div class='xr-var-data'><pre>[1 values with dtype=|S1]</pre></div></li><li class='xr-var-item'><div class='xr-var-name'><span>surface_curr_qc</span></div><div class='xr-var-dims'>()</div><div class='xr-var-dtype'>|S1</div><div class='xr-var-preview xr-preview'>...</div><input id='attrs-db9b0759-7dfe-4fd2-b30b-913affdf91c6' class='xr-var-attrs-in' type='checkbox' ><label for='attrs-db9b0759-7dfe-4fd2-b30b-913affdf91c6' title='Show/Hide attributes'><svg class='icon xr-icon-file-text2'><use xlink:href='#icon-file-text2'></use></svg></label><input id='data-3712f17f-f806-4941-bced-fffab90d4938' class='xr-var-data-in' type='checkbox'><label for='data-3712f17f-f806-4941-bced-fffab90d4938' title='Show/Hide data repr'><svg class='icon xr-icon-database'><use xlink:href='#icon-database'></use></svg></label><div class='xr-var-attrs'><dl class='xr-attrs'><dt><span>flag_meanings :</span></dt><dd>QC_NO_CHANGE QC_GOOD QC_PROBABLY_GOOD QC_PROBABLY_BAD QC_BAD QC_CHANGED QC_UNSAMPLED QC_INTERPOLATED QC_MISSING</dd><dt><span>comment :</span></dt><dd>Whether to trust the surface current values</dd><dt><span>flag_values :</span></dt><dd>0 1 2 3 4 5 6 8 9</dd></dl></div><div class='xr-var-data'><pre>[1 values with dtype=|S1]</pre></div></li><li class='xr-var-item'><div class='xr-var-name'><span>depth_avg_curr_qc</span></div><div class='xr-var-dims'>()</div><div class='xr-var-dtype'>|S1</div><div class='xr-var-preview xr-preview'>...</div><input id='attrs-4292c23e-255c-492c-a3f9-b17633ce05e2' class='xr-var-attrs-in' type='checkbox' ><label for='attrs-4292c23e-255c-492c-a3f9-b17633ce05e2' title='Show/Hide attributes'><svg class='icon xr-icon-file-text2'><use xlink:href='#icon-file-text2'></use></svg></label><input id='data-f1d730d6-d148-4804-a5d9-98bd4734d692' class='xr-var-data-in' type='checkbox'><label for='data-f1d730d6-d148-4804-a5d9-98bd4734d692' title='Show/Hide data repr'><svg class='icon xr-icon-database'><use xlink:href='#icon-database'></use></svg></label><div class='xr-var-attrs'><dl class='xr-attrs'><dt><span>flag_meanings :</span></dt><dd>QC_NO_CHANGE QC_GOOD QC_PROBABLY_GOOD QC_PROBABLY_BAD QC_BAD QC_CHANGED QC_UNSAMPLED QC_INTERPOLATED QC_MISSING</dd><dt><span>comment :</span></dt><dd>Whether to trust the dive depth-average current values and displacements</dd><dt><span>flag_values :</span></dt><dd>0 1 2 3 4 5 6 8 9</dd></dl></div><div class='xr-var-data'><pre>[1 values with dtype=|S1]</pre></div></li><li class='xr-var-item'><div class='xr-var-name'><span>GPS1_qc</span></div><div class='xr-var-dims'>()</div><div class='xr-var-dtype'>|S1</div><div class='xr-var-preview xr-preview'>...</div><input id='attrs-d9312d99-c390-4b58-8be0-c5247680f8f8' class='xr-var-attrs-in' type='checkbox' ><label for='attrs-d9312d99-c390-4b58-8be0-c5247680f8f8' title='Show/Hide attributes'><svg class='icon xr-icon-file-text2'><use xlink:href='#icon-file-text2'></use></svg></label><input id='data-570ea480-f6bd-4796-8225-81db9545d1c7' class='xr-var-data-in' type='checkbox'><label for='data-570ea480-f6bd-4796-8225-81db9545d1c7' title='Show/Hide data repr'><svg class='icon xr-icon-database'><use xlink:href='#icon-database'></use></svg></label><div class='xr-var-attrs'><dl class='xr-attrs'><dt><span>flag_meanings :</span></dt><dd>QC_NO_CHANGE QC_GOOD QC_PROBABLY_GOOD QC_PROBABLY_BAD QC_BAD QC_CHANGED QC_UNSAMPLED QC_INTERPOLATED QC_MISSING</dd><dt><span>comment :</span></dt><dd>Whether to trust the GPS1 information</dd><dt><span>flag_values :</span></dt><dd>0 1 2 3 4 5 6 8 9</dd></dl></div><div class='xr-var-data'><pre>[1 values with dtype=|S1]</pre></div></li><li class='xr-var-item'><div class='xr-var-name'><span>GPSE_qc</span></div><div class='xr-var-dims'>()</div><div class='xr-var-dtype'>|S1</div><div class='xr-var-preview xr-preview'>...</div><input id='attrs-87cc40ab-e5c1-4ed1-9e26-f071f12081da' class='xr-var-attrs-in' type='checkbox' ><label for='attrs-87cc40ab-e5c1-4ed1-9e26-f071f12081da' title='Show/Hide attributes'><svg class='icon xr-icon-file-text2'><use xlink:href='#icon-file-text2'></use></svg></label><input id='data-3d727526-4fd9-4bef-a0a2-33d2e5cbf279' class='xr-var-data-in' type='checkbox'><label for='data-3d727526-4fd9-4bef-a0a2-33d2e5cbf279' title='Show/Hide data repr'><svg class='icon xr-icon-database'><use xlink:href='#icon-database'></use></svg></label><div class='xr-var-attrs'><dl class='xr-attrs'><dt><span>flag_meanings :</span></dt><dd>QC_NO_CHANGE QC_GOOD QC_PROBABLY_GOOD QC_PROBABLY_BAD QC_BAD QC_CHANGED QC_UNSAMPLED QC_INTERPOLATED QC_MISSING</dd><dt><span>comment :</span></dt><dd>Whether to trust the final GPS information</dd><dt><span>flag_values :</span></dt><dd>0 1 2 3 4 5 6 8 9</dd></dl></div><div class='xr-var-data'><pre>[1 values with dtype=|S1]</pre></div></li><li class='xr-var-item'><div class='xr-var-name'><span>log_T_MISSION</span></div><div class='xr-var-dims'>()</div><div class='xr-var-dtype'>float64</div><div class='xr-var-preview xr-preview'>...</div><input id='attrs-9d38eeab-6c7a-44a8-aab9-3cf851df6433' class='xr-var-attrs-in' type='checkbox' disabled><label for='attrs-9d38eeab-6c7a-44a8-aab9-3cf851df6433' title='Show/Hide attributes'><svg class='icon xr-icon-file-text2'><use xlink:href='#icon-file-text2'></use></svg></label><input id='data-5b708e54-0d6a-4b3a-a14a-779149e3330e' class='xr-var-data-in' type='checkbox'><label for='data-5b708e54-0d6a-4b3a-a14a-779149e3330e' title='Show/Hide data repr'><svg class='icon xr-icon-database'><use xlink:href='#icon-database'></use></svg></label><div class='xr-var-attrs'><dl class='xr-attrs'></dl></div><div class='xr-var-data'><pre>[1 values with dtype=float64]</pre></div></li><li class='xr-var-item'><div class='xr-var-name'><span>log_T_ABORT</span></div><div class='xr-var-dims'>()</div><div class='xr-var-dtype'>float64</div><div class='xr-var-preview xr-preview'>...</div><input id='attrs-083fb32d-9f89-4c0c-97d3-3cdda73f3b88' class='xr-var-attrs-in' type='checkbox' disabled><label for='attrs-083fb32d-9f89-4c0c-97d3-3cdda73f3b88' title='Show/Hide attributes'><svg class='icon xr-icon-file-text2'><use xlink:href='#icon-file-text2'></use></svg></label><input id='data-ad7b8d49-b2b4-4771-8849-6f7886faa2d8' class='xr-var-data-in' type='checkbox'><label for='data-ad7b8d49-b2b4-4771-8849-6f7886faa2d8' title='Show/Hide data repr'><svg class='icon xr-icon-database'><use xlink:href='#icon-database'></use></svg></label><div class='xr-var-attrs'><dl class='xr-attrs'></dl></div><div class='xr-var-data'><pre>[1 values with dtype=float64]</pre></div></li><li class='xr-var-item'><div class='xr-var-name'><span>log_PITCH_AD_RATE</span></div><div class='xr-var-dims'>()</div><div class='xr-var-dtype'>float64</div><div class='xr-var-preview xr-preview'>...</div><input id='attrs-60652a42-93e2-4f6c-b828-3f37f1ae3d16' class='xr-var-attrs-in' type='checkbox' disabled><label for='attrs-60652a42-93e2-4f6c-b828-3f37f1ae3d16' title='Show/Hide attributes'><svg class='icon xr-icon-file-text2'><use xlink:href='#icon-file-text2'></use></svg></label><input id='data-6fd4dd37-ac51-4783-a9b6-af7ee75487ac' class='xr-var-data-in' type='checkbox'><label for='data-6fd4dd37-ac51-4783-a9b6-af7ee75487ac' title='Show/Hide data repr'><svg class='icon xr-icon-database'><use xlink:href='#icon-database'></use></svg></label><div class='xr-var-attrs'><dl class='xr-attrs'></dl></div><div class='xr-var-data'><pre>[1 values with dtype=float64]</pre></div></li><li class='xr-var-item'><div class='xr-var-name'><span>log_ROLL_MAX</span></div><div class='xr-var-dims'>()</div><div class='xr-var-dtype'>int32</div><div class='xr-var-preview xr-preview'>...</div><input id='attrs-9bd795a7-716c-4331-8f69-a82d793563dd' class='xr-var-attrs-in' type='checkbox' disabled><label for='attrs-9bd795a7-716c-4331-8f69-a82d793563dd' title='Show/Hide attributes'><svg class='icon xr-icon-file-text2'><use xlink:href='#icon-file-text2'></use></svg></label><input id='data-ff10c122-e07f-43e5-8c0e-812693e93a74' class='xr-var-data-in' type='checkbox'><label for='data-ff10c122-e07f-43e5-8c0e-812693e93a74' title='Show/Hide data repr'><svg class='icon xr-icon-database'><use xlink:href='#icon-database'></use></svg></label><div class='xr-var-attrs'><dl class='xr-attrs'></dl></div><div class='xr-var-data'><pre>[1 values with dtype=int32]</pre></div></li><li class='xr-var-item'><div class='xr-var-name'><span>log_PRESSURE_YINT</span></div><div class='xr-var-dims'>()</div><div class='xr-var-dtype'>float64</div><div class='xr-var-preview xr-preview'>...</div><input id='attrs-03503668-ce52-4bdc-a3e7-ffa63873948d' class='xr-var-attrs-in' type='checkbox' disabled><label for='attrs-03503668-ce52-4bdc-a3e7-ffa63873948d' title='Show/Hide attributes'><svg class='icon xr-icon-file-text2'><use xlink:href='#icon-file-text2'></use></svg></label><input id='data-c6b15d83-1102-4dd4-9126-c2aaa32d4d32' class='xr-var-data-in' type='checkbox'><label for='data-c6b15d83-1102-4dd4-9126-c2aaa32d4d32' title='Show/Hide data repr'><svg class='icon xr-icon-database'><use xlink:href='#icon-database'></use></svg></label><div class='xr-var-attrs'><dl class='xr-attrs'></dl></div><div class='xr-var-data'><pre>[1 values with dtype=float64]</pre></div></li><li class='xr-var-item'><div class='xr-var-name'><span>log_D_FINISH</span></div><div class='xr-var-dims'>()</div><div class='xr-var-dtype'>float64</div><div class='xr-var-preview xr-preview'>...</div><input id='attrs-9d4cd15d-0ae1-4b34-9fd0-328a22a69807' class='xr-var-attrs-in' type='checkbox' disabled><label for='attrs-9d4cd15d-0ae1-4b34-9fd0-328a22a69807' title='Show/Hide attributes'><svg class='icon xr-icon-file-text2'><use xlink:href='#icon-file-text2'></use></svg></label><input id='data-1dd9f362-5529-40ad-9e8d-7e62160a5bfb' class='xr-var-data-in' type='checkbox'><label for='data-1dd9f362-5529-40ad-9e8d-7e62160a5bfb' title='Show/Hide data repr'><svg class='icon xr-icon-database'><use xlink:href='#icon-database'></use></svg></label><div class='xr-var-attrs'><dl class='xr-attrs'></dl></div><div class='xr-var-data'><pre>[1 values with dtype=float64]</pre></div></li><li class='xr-var-item'><div class='xr-var-name'><span>log_VBD_CNV</span></div><div class='xr-var-dims'>()</div><div class='xr-var-dtype'>float64</div><div class='xr-var-preview xr-preview'>...</div><input id='attrs-1536811d-2558-4eb0-9047-2c5e187f06d6' class='xr-var-attrs-in' type='checkbox' disabled><label for='attrs-1536811d-2558-4eb0-9047-2c5e187f06d6' title='Show/Hide attributes'><svg class='icon xr-icon-file-text2'><use xlink:href='#icon-file-text2'></use></svg></label><input id='data-52f0675b-c81f-4662-8424-e6a16ea171fa' class='xr-var-data-in' type='checkbox'><label for='data-52f0675b-c81f-4662-8424-e6a16ea171fa' title='Show/Hide data repr'><svg class='icon xr-icon-database'><use xlink:href='#icon-database'></use></svg></label><div class='xr-var-attrs'><dl class='xr-attrs'></dl></div><div class='xr-var-data'><pre>[1 values with dtype=float64]</pre></div></li><li class='xr-var-item'><div class='xr-var-name'><span>log_T_TURN</span></div><div class='xr-var-dims'>()</div><div class='xr-var-dtype'>float64</div><div class='xr-var-preview xr-preview'>...</div><input id='attrs-f3774674-944e-4f87-bb81-eff75e52fd4d' class='xr-var-attrs-in' type='checkbox' disabled><label for='attrs-f3774674-944e-4f87-bb81-eff75e52fd4d' title='Show/Hide attributes'><svg class='icon xr-icon-file-text2'><use xlink:href='#icon-file-text2'></use></svg></label><input id='data-fd3bd120-8137-4e2f-9aa8-236774a67181' class='xr-var-data-in' type='checkbox'><label for='data-fd3bd120-8137-4e2f-9aa8-236774a67181' title='Show/Hide data repr'><svg class='icon xr-icon-database'><use xlink:href='#icon-database'></use></svg></label><div class='xr-var-attrs'><dl class='xr-attrs'></dl></div><div class='xr-var-data'><pre>[1 values with dtype=float64]</pre></div></li><li class='xr-var-item'><div class='xr-var-name'><span>log_VBD_MAXERRORS</span></div><div class='xr-var-dims'>()</div><div class='xr-var-dtype'>int32</div><div class='xr-var-preview xr-preview'>...</div><input id='attrs-7b4aa49d-782c-4886-9142-a7e1212e7f63' class='xr-var-attrs-in' type='checkbox' disabled><label for='attrs-7b4aa49d-782c-4886-9142-a7e1212e7f63' title='Show/Hide attributes'><svg class='icon xr-icon-file-text2'><use xlink:href='#icon-file-text2'></use></svg></label><input id='data-9bfcdadf-5ab7-413d-99a9-4675aa6d9fd1' class='xr-var-data-in' type='checkbox'><label for='data-9bfcdadf-5ab7-413d-99a9-4675aa6d9fd1' title='Show/Hide data repr'><svg class='icon xr-icon-database'><use xlink:href='#icon-database'></use></svg></label><div class='xr-var-attrs'><dl class='xr-attrs'></dl></div><div class='xr-var-data'><pre>[1 values with dtype=int32]</pre></div></li><li class='xr-var-item'><div class='xr-var-name'><span>log_SIM_W</span></div><div class='xr-var-dims'>()</div><div class='xr-var-dtype'>float64</div><div class='xr-var-preview xr-preview'>...</div><input id='attrs-7f808edd-6a40-40fa-a353-e1d06c3bff94' class='xr-var-attrs-in' type='checkbox' disabled><label for='attrs-7f808edd-6a40-40fa-a353-e1d06c3bff94' title='Show/Hide attributes'><svg class='icon xr-icon-file-text2'><use xlink:href='#icon-file-text2'></use></svg></label><input id='data-399e2c82-2ce9-4535-b5ab-39116a26cb21' class='xr-var-data-in' type='checkbox'><label for='data-399e2c82-2ce9-4535-b5ab-39116a26cb21' title='Show/Hide data repr'><svg class='icon xr-icon-database'><use xlink:href='#icon-database'></use></svg></label><div class='xr-var-attrs'><dl class='xr-attrs'></dl></div><div class='xr-var-data'><pre>[1 values with dtype=float64]</pre></div></li><li class='xr-var-item'><div class='xr-var-name'><span>sg_cal_optode_FoilCoefB13</span></div><div class='xr-var-dims'>()</div><div class='xr-var-dtype'>float64</div><div class='xr-var-preview xr-preview'>...</div><input id='attrs-4ceb3e5f-50d9-4c0f-83f6-139eea7e2f50' class='xr-var-attrs-in' type='checkbox' disabled><label for='attrs-4ceb3e5f-50d9-4c0f-83f6-139eea7e2f50' title='Show/Hide attributes'><svg class='icon xr-icon-file-text2'><use xlink:href='#icon-file-text2'></use></svg></label><input id='data-25605c32-d6ec-402d-b2c2-c6d312ee5138' class='xr-var-data-in' type='checkbox'><label for='data-25605c32-d6ec-402d-b2c2-c6d312ee5138' title='Show/Hide data repr'><svg class='icon xr-icon-database'><use xlink:href='#icon-database'></use></svg></label><div class='xr-var-attrs'><dl class='xr-attrs'></dl></div><div class='xr-var-data'><pre>[1 values with dtype=float64]</pre></div></li><li class='xr-var-item'><div class='xr-var-name'><span>sg_cal_optode_FoilCoefB12</span></div><div class='xr-var-dims'>()</div><div class='xr-var-dtype'>float64</div><div class='xr-var-preview xr-preview'>...</div><input id='attrs-da9fc5f5-691d-4d52-a782-652812ac6142' class='xr-var-attrs-in' type='checkbox' disabled><label for='attrs-da9fc5f5-691d-4d52-a782-652812ac6142' title='Show/Hide attributes'><svg class='icon xr-icon-file-text2'><use xlink:href='#icon-file-text2'></use></svg></label><input id='data-efd500fa-ce83-414e-afd8-972b3a558fd6' class='xr-var-data-in' type='checkbox'><label for='data-efd500fa-ce83-414e-afd8-972b3a558fd6' title='Show/Hide data repr'><svg class='icon xr-icon-database'><use xlink:href='#icon-database'></use></svg></label><div class='xr-var-attrs'><dl class='xr-attrs'></dl></div><div class='xr-var-data'><pre>[1 values with dtype=float64]</pre></div></li><li class='xr-var-item'><div class='xr-var-name'><span>sg_cal_optode_FoilCoefB11</span></div><div class='xr-var-dims'>()</div><div class='xr-var-dtype'>float64</div><div class='xr-var-preview xr-preview'>...</div><input id='attrs-95efa4a1-30e0-48dc-b1ae-41baed81eaea' class='xr-var-attrs-in' type='checkbox' disabled><label for='attrs-95efa4a1-30e0-48dc-b1ae-41baed81eaea' title='Show/Hide attributes'><svg class='icon xr-icon-file-text2'><use xlink:href='#icon-file-text2'></use></svg></label><input id='data-120b499c-6a52-435c-9f26-caa43df26411' class='xr-var-data-in' type='checkbox'><label for='data-120b499c-6a52-435c-9f26-caa43df26411' title='Show/Hide data repr'><svg class='icon xr-icon-database'><use xlink:href='#icon-database'></use></svg></label><div class='xr-var-attrs'><dl class='xr-attrs'></dl></div><div class='xr-var-data'><pre>[1 values with dtype=float64]</pre></div></li><li class='xr-var-item'><div class='xr-var-name'><span>sg_cal_optode_FoilCoefB10</span></div><div class='xr-var-dims'>()</div><div class='xr-var-dtype'>float64</div><div class='xr-var-preview xr-preview'>...</div><input id='attrs-2db09176-8058-41c6-b4cb-84ec64f02959' class='xr-var-attrs-in' type='checkbox' disabled><label for='attrs-2db09176-8058-41c6-b4cb-84ec64f02959' title='Show/Hide attributes'><svg class='icon xr-icon-file-text2'><use xlink:href='#icon-file-text2'></use></svg></label><input id='data-35be5c74-49f9-460d-94fa-a570f63dd892' class='xr-var-data-in' type='checkbox'><label for='data-35be5c74-49f9-460d-94fa-a570f63dd892' title='Show/Hide data repr'><svg class='icon xr-icon-database'><use xlink:href='#icon-database'></use></svg></label><div class='xr-var-attrs'><dl class='xr-attrs'></dl></div><div class='xr-var-data'><pre>[1 values with dtype=float64]</pre></div></li><li class='xr-var-item'><div class='xr-var-name'><span>log__SM_ANGLEo</span></div><div class='xr-var-dims'>()</div><div class='xr-var-dtype'>float64</div><div class='xr-var-preview xr-preview'>...</div><input id='attrs-4f03162c-e5fe-427e-856d-0290ecaa4348' class='xr-var-attrs-in' type='checkbox' disabled><label for='attrs-4f03162c-e5fe-427e-856d-0290ecaa4348' title='Show/Hide attributes'><svg class='icon xr-icon-file-text2'><use xlink:href='#icon-file-text2'></use></svg></label><input id='data-720c9f77-5c98-4a99-a3c7-bbf7da290884' class='xr-var-data-in' type='checkbox'><label for='data-720c9f77-5c98-4a99-a3c7-bbf7da290884' title='Show/Hide data repr'><svg class='icon xr-icon-database'><use xlink:href='#icon-database'></use></svg></label><div class='xr-var-attrs'><dl class='xr-attrs'></dl></div><div class='xr-var-data'><pre>[1 values with dtype=float64]</pre></div></li><li class='xr-var-item'><div class='xr-var-name'><span>log_ALTIM_PULSE</span></div><div class='xr-var-dims'>()</div><div class='xr-var-dtype'>float64</div><div class='xr-var-preview xr-preview'>...</div><input id='attrs-c506a0d7-640c-4168-b338-be48b423662e' class='xr-var-attrs-in' type='checkbox' disabled><label for='attrs-c506a0d7-640c-4168-b338-be48b423662e' title='Show/Hide attributes'><svg class='icon xr-icon-file-text2'><use xlink:href='#icon-file-text2'></use></svg></label><input id='data-cbd05095-5116-40e4-8f39-90d62d1d2e75' class='xr-var-data-in' type='checkbox'><label for='data-cbd05095-5116-40e4-8f39-90d62d1d2e75' title='Show/Hide data repr'><svg class='icon xr-icon-database'><use xlink:href='#icon-database'></use></svg></label><div class='xr-var-attrs'><dl class='xr-attrs'></dl></div><div class='xr-var-data'><pre>[1 values with dtype=float64]</pre></div></li><li class='xr-var-item'><div class='xr-var-name'><span>log_SM_CC</span></div><div class='xr-var-dims'>()</div><div class='xr-var-dtype'>float64</div><div class='xr-var-preview xr-preview'>...</div><input id='attrs-bcf89abe-d805-4f09-a403-573f7e78e336' class='xr-var-attrs-in' type='checkbox' disabled><label for='attrs-bcf89abe-d805-4f09-a403-573f7e78e336' title='Show/Hide attributes'><svg class='icon xr-icon-file-text2'><use xlink:href='#icon-file-text2'></use></svg></label><input id='data-a1af989b-dda5-439c-ace8-2919db2b056d' class='xr-var-data-in' type='checkbox'><label for='data-a1af989b-dda5-439c-ace8-2919db2b056d' title='Show/Hide data repr'><svg class='icon xr-icon-database'><use xlink:href='#icon-database'></use></svg></label><div class='xr-var-attrs'><dl class='xr-attrs'></dl></div><div class='xr-var-data'><pre>[1 values with dtype=float64]</pre></div></li><li class='xr-var-item'><div class='xr-var-name'><span>log_VBD_DBAND</span></div><div class='xr-var-dims'>()</div><div class='xr-var-dtype'>float64</div><div class='xr-var-preview xr-preview'>...</div><input id='attrs-2c28e4e3-8e46-49f0-a67d-f00cacb4d12e' class='xr-var-attrs-in' type='checkbox' disabled><label for='attrs-2c28e4e3-8e46-49f0-a67d-f00cacb4d12e' title='Show/Hide attributes'><svg class='icon xr-icon-file-text2'><use xlink:href='#icon-file-text2'></use></svg></label><input id='data-df50ec39-9fab-46f0-b2c0-33c36654f053' class='xr-var-data-in' type='checkbox'><label for='data-df50ec39-9fab-46f0-b2c0-33c36654f053' title='Show/Hide data repr'><svg class='icon xr-icon-database'><use xlink:href='#icon-database'></use></svg></label><div class='xr-var-attrs'><dl class='xr-attrs'></dl></div><div class='xr-var-data'><pre>[1 values with dtype=float64]</pre></div></li><li class='xr-var-item'><div class='xr-var-name'><span>log_ESCAPE_HEADING_DELTA</span></div><div class='xr-var-dims'>()</div><div class='xr-var-dtype'>float64</div><div class='xr-var-preview xr-preview'>...</div><input id='attrs-b0627c4d-b393-4c58-b140-18e1c75cf786' class='xr-var-attrs-in' type='checkbox' disabled><label for='attrs-b0627c4d-b393-4c58-b140-18e1c75cf786' title='Show/Hide attributes'><svg class='icon xr-icon-file-text2'><use xlink:href='#icon-file-text2'></use></svg></label><input id='data-cd584429-e3e3-4940-b6dc-190dbccc9214' class='xr-var-data-in' type='checkbox'><label for='data-cd584429-e3e3-4940-b6dc-190dbccc9214' title='Show/Hide data repr'><svg class='icon xr-icon-database'><use xlink:href='#icon-database'></use></svg></label><div class='xr-var-attrs'><dl class='xr-attrs'></dl></div><div class='xr-var-data'><pre>[1 values with dtype=float64]</pre></div></li><li class='xr-var-item'><div class='xr-var-name'><span>sg_cal_c_j</span></div><div class='xr-var-dims'>()</div><div class='xr-var-dtype'>float64</div><div class='xr-var-preview xr-preview'>...</div><input id='attrs-de7e00fd-2150-4fe1-8f09-1309de0a39b3' class='xr-var-attrs-in' type='checkbox' disabled><label for='attrs-de7e00fd-2150-4fe1-8f09-1309de0a39b3' title='Show/Hide attributes'><svg class='icon xr-icon-file-text2'><use xlink:href='#icon-file-text2'></use></svg></label><input id='data-b69b6a06-ca61-4f6b-8f9a-f1a25017569f' class='xr-var-data-in' type='checkbox'><label for='data-b69b6a06-ca61-4f6b-8f9a-f1a25017569f' title='Show/Hide data repr'><svg class='icon xr-icon-database'><use xlink:href='#icon-database'></use></svg></label><div class='xr-var-attrs'><dl class='xr-attrs'></dl></div><div class='xr-var-data'><pre>[1 values with dtype=float64]</pre></div></li><li class='xr-var-item'><div class='xr-var-name'><span>sg_cal_c_h</span></div><div class='xr-var-dims'>()</div><div class='xr-var-dtype'>float64</div><div class='xr-var-preview xr-preview'>...</div><input id='attrs-f8bff1a7-3042-4d53-a3c4-e87eb357ae70' class='xr-var-attrs-in' type='checkbox' disabled><label for='attrs-f8bff1a7-3042-4d53-a3c4-e87eb357ae70' title='Show/Hide attributes'><svg class='icon xr-icon-file-text2'><use xlink:href='#icon-file-text2'></use></svg></label><input id='data-13bb3755-335b-4b85-bfb7-a0ee4efb7b52' class='xr-var-data-in' type='checkbox'><label for='data-13bb3755-335b-4b85-bfb7-a0ee4efb7b52' title='Show/Hide data repr'><svg class='icon xr-icon-database'><use xlink:href='#icon-database'></use></svg></label><div class='xr-var-attrs'><dl class='xr-attrs'></dl></div><div class='xr-var-data'><pre>[1 values with dtype=float64]</pre></div></li><li class='xr-var-item'><div class='xr-var-name'><span>sg_cal_c_i</span></div><div class='xr-var-dims'>()</div><div class='xr-var-dtype'>float64</div><div class='xr-var-preview xr-preview'>...</div><input id='attrs-d34399f1-76c5-403a-acba-621086359891' class='xr-var-attrs-in' type='checkbox' disabled><label for='attrs-d34399f1-76c5-403a-acba-621086359891' title='Show/Hide attributes'><svg class='icon xr-icon-file-text2'><use xlink:href='#icon-file-text2'></use></svg></label><input id='data-607b2955-e87d-4e96-be36-68820d891254' class='xr-var-data-in' type='checkbox'><label for='data-607b2955-e87d-4e96-be36-68820d891254' title='Show/Hide data repr'><svg class='icon xr-icon-database'><use xlink:href='#icon-database'></use></svg></label><div class='xr-var-attrs'><dl class='xr-attrs'></dl></div><div class='xr-var-data'><pre>[1 values with dtype=float64]</pre></div></li><li class='xr-var-item'><div class='xr-var-name'><span>sg_cal_c_g</span></div><div class='xr-var-dims'>()</div><div class='xr-var-dtype'>float64</div><div class='xr-var-preview xr-preview'>...</div><input id='attrs-46083794-c1f4-4da0-b162-aa0b6c4576e1' class='xr-var-attrs-in' type='checkbox' disabled><label for='attrs-46083794-c1f4-4da0-b162-aa0b6c4576e1' title='Show/Hide attributes'><svg class='icon xr-icon-file-text2'><use xlink:href='#icon-file-text2'></use></svg></label><input id='data-c3c3acb7-4a79-4695-abd1-220daea3c689' class='xr-var-data-in' type='checkbox'><label for='data-c3c3acb7-4a79-4695-abd1-220daea3c689' title='Show/Hide data repr'><svg class='icon xr-icon-database'><use xlink:href='#icon-database'></use></svg></label><div class='xr-var-attrs'><dl class='xr-attrs'></dl></div><div class='xr-var-data'><pre>[1 values with dtype=float64]</pre></div></li><li class='xr-var-item'><div class='xr-var-name'><span>log_PITCH_ADJ_GAIN</span></div><div class='xr-var-dims'>()</div><div class='xr-var-dtype'>float64</div><div class='xr-var-preview xr-preview'>...</div><input id='attrs-1e9ab493-9fb3-4c6a-bc9a-c0aef1fc0517' class='xr-var-attrs-in' type='checkbox' disabled><label for='attrs-1e9ab493-9fb3-4c6a-bc9a-c0aef1fc0517' title='Show/Hide attributes'><svg class='icon xr-icon-file-text2'><use xlink:href='#icon-file-text2'></use></svg></label><input id='data-6b4c81dd-4a07-4bba-a44d-c2e1726710da' class='xr-var-data-in' type='checkbox'><label for='data-6b4c81dd-4a07-4bba-a44d-c2e1726710da' title='Show/Hide data repr'><svg class='icon xr-icon-database'><use xlink:href='#icon-database'></use></svg></label><div class='xr-var-attrs'><dl class='xr-attrs'></dl></div><div class='xr-var-data'><pre>[1 values with dtype=float64]</pre></div></li><li class='xr-var-item'><div class='xr-var-name'><span>log_T_WATCHDOG</span></div><div class='xr-var-dims'>()</div><div class='xr-var-dtype'>float64</div><div class='xr-var-preview xr-preview'>...</div><input id='attrs-56c886af-770d-421b-988c-2cc7b97cff24' class='xr-var-attrs-in' type='checkbox' disabled><label for='attrs-56c886af-770d-421b-988c-2cc7b97cff24' title='Show/Hide attributes'><svg class='icon xr-icon-file-text2'><use xlink:href='#icon-file-text2'></use></svg></label><input id='data-77f05364-25a1-4581-8d7f-10e95125edda' class='xr-var-data-in' type='checkbox'><label for='data-77f05364-25a1-4581-8d7f-10e95125edda' title='Show/Hide data repr'><svg class='icon xr-icon-database'><use xlink:href='#icon-database'></use></svg></label><div class='xr-var-attrs'><dl class='xr-attrs'></dl></div><div class='xr-var-data'><pre>[1 values with dtype=float64]</pre></div></li><li class='xr-var-item'><div class='xr-var-name'><span>sg_cal_optode_TempCoef4</span></div><div class='xr-var-dims'>()</div><div class='xr-var-dtype'>float64</div><div class='xr-var-preview xr-preview'>...</div><input id='attrs-f5667baf-7450-4c3f-ab19-3c0ee531aeba' class='xr-var-attrs-in' type='checkbox' disabled><label for='attrs-f5667baf-7450-4c3f-ab19-3c0ee531aeba' title='Show/Hide attributes'><svg class='icon xr-icon-file-text2'><use xlink:href='#icon-file-text2'></use></svg></label><input id='data-22ffd1c7-1ada-471f-b853-b58e54dbd7dc' class='xr-var-data-in' type='checkbox'><label for='data-22ffd1c7-1ada-471f-b853-b58e54dbd7dc' title='Show/Hide data repr'><svg class='icon xr-icon-database'><use xlink:href='#icon-database'></use></svg></label><div class='xr-var-attrs'><dl class='xr-attrs'></dl></div><div class='xr-var-data'><pre>[1 values with dtype=float64]</pre></div></li><li class='xr-var-item'><div class='xr-var-name'><span>sg_cal_optode_TempCoef5</span></div><div class='xr-var-dims'>()</div><div class='xr-var-dtype'>float64</div><div class='xr-var-preview xr-preview'>...</div><input id='attrs-2b820189-361c-4081-a2dc-323622078941' class='xr-var-attrs-in' type='checkbox' disabled><label for='attrs-2b820189-361c-4081-a2dc-323622078941' title='Show/Hide attributes'><svg class='icon xr-icon-file-text2'><use xlink:href='#icon-file-text2'></use></svg></label><input id='data-371cf146-846c-49cb-a9ad-88aec6582338' class='xr-var-data-in' type='checkbox'><label for='data-371cf146-846c-49cb-a9ad-88aec6582338' title='Show/Hide data repr'><svg class='icon xr-icon-database'><use xlink:href='#icon-database'></use></svg></label><div class='xr-var-attrs'><dl class='xr-attrs'></dl></div><div class='xr-var-data'><pre>[1 values with dtype=float64]</pre></div></li><li class='xr-var-item'><div class='xr-var-name'><span>sg_cal_optode_TempCoef0</span></div><div class='xr-var-dims'>()</div><div class='xr-var-dtype'>float64</div><div class='xr-var-preview xr-preview'>...</div><input id='attrs-98bb86dc-ad61-4ee2-a0ff-b6b814bd37b7' class='xr-var-attrs-in' type='checkbox' disabled><label for='attrs-98bb86dc-ad61-4ee2-a0ff-b6b814bd37b7' title='Show/Hide attributes'><svg class='icon xr-icon-file-text2'><use xlink:href='#icon-file-text2'></use></svg></label><input id='data-11a83801-4728-47e9-aee5-263e3af82036' class='xr-var-data-in' type='checkbox'><label for='data-11a83801-4728-47e9-aee5-263e3af82036' title='Show/Hide data repr'><svg class='icon xr-icon-database'><use xlink:href='#icon-database'></use></svg></label><div class='xr-var-attrs'><dl class='xr-attrs'></dl></div><div class='xr-var-data'><pre>[1 values with dtype=float64]</pre></div></li><li class='xr-var-item'><div class='xr-var-name'><span>sg_cal_optode_TempCoef1</span></div><div class='xr-var-dims'>()</div><div class='xr-var-dtype'>float64</div><div class='xr-var-preview xr-preview'>...</div><input id='attrs-dcf677c0-356d-48a3-ba99-2c8a1aec2389' class='xr-var-attrs-in' type='checkbox' disabled><label for='attrs-dcf677c0-356d-48a3-ba99-2c8a1aec2389' title='Show/Hide attributes'><svg class='icon xr-icon-file-text2'><use xlink:href='#icon-file-text2'></use></svg></label><input id='data-28cbc7ec-499b-48ba-bb34-a76ff9ecc1c2' class='xr-var-data-in' type='checkbox'><label for='data-28cbc7ec-499b-48ba-bb34-a76ff9ecc1c2' title='Show/Hide data repr'><svg class='icon xr-icon-database'><use xlink:href='#icon-database'></use></svg></label><div class='xr-var-attrs'><dl class='xr-attrs'></dl></div><div class='xr-var-data'><pre>[1 values with dtype=float64]</pre></div></li><li class='xr-var-item'><div class='xr-var-name'><span>sg_cal_optode_TempCoef2</span></div><div class='xr-var-dims'>()</div><div class='xr-var-dtype'>float64</div><div class='xr-var-preview xr-preview'>...</div><input id='attrs-9f35a12f-2139-4adf-8815-15811c7b869a' class='xr-var-attrs-in' type='checkbox' disabled><label for='attrs-9f35a12f-2139-4adf-8815-15811c7b869a' title='Show/Hide attributes'><svg class='icon xr-icon-file-text2'><use xlink:href='#icon-file-text2'></use></svg></label><input id='data-0de5454c-ca58-4303-9dfc-12425fd1b684' class='xr-var-data-in' type='checkbox'><label for='data-0de5454c-ca58-4303-9dfc-12425fd1b684' title='Show/Hide data repr'><svg class='icon xr-icon-database'><use xlink:href='#icon-database'></use></svg></label><div class='xr-var-attrs'><dl class='xr-attrs'></dl></div><div class='xr-var-data'><pre>[1 values with dtype=float64]</pre></div></li><li class='xr-var-item'><div class='xr-var-name'><span>sg_cal_optode_TempCoef3</span></div><div class='xr-var-dims'>()</div><div class='xr-var-dtype'>float64</div><div class='xr-var-preview xr-preview'>...</div><input id='attrs-a72cb2e4-803b-4148-9e00-e9be2d436020' class='xr-var-attrs-in' type='checkbox' disabled><label for='attrs-a72cb2e4-803b-4148-9e00-e9be2d436020' title='Show/Hide attributes'><svg class='icon xr-icon-file-text2'><use xlink:href='#icon-file-text2'></use></svg></label><input id='data-7784a00b-cf29-4a73-9959-b811a6f897d4' class='xr-var-data-in' type='checkbox'><label for='data-7784a00b-cf29-4a73-9959-b811a6f897d4' title='Show/Hide data repr'><svg class='icon xr-icon-database'><use xlink:href='#icon-database'></use></svg></label><div class='xr-var-attrs'><dl class='xr-attrs'></dl></div><div class='xr-var-data'><pre>[1 values with dtype=float64]</pre></div></li><li class='xr-var-item'><div class='xr-var-name'><span>log_SURFACE_URGENCY_FORCE</span></div><div class='xr-var-dims'>()</div><div class='xr-var-dtype'>int32</div><div class='xr-var-preview xr-preview'>...</div><input id='attrs-b90798b6-6e19-48f8-9c7a-398f86a08375' class='xr-var-attrs-in' type='checkbox' disabled><label for='attrs-b90798b6-6e19-48f8-9c7a-398f86a08375' title='Show/Hide attributes'><svg class='icon xr-icon-file-text2'><use xlink:href='#icon-file-text2'></use></svg></label><input id='data-2caafc87-568b-4f1c-a92c-f088c0e9b579' class='xr-var-data-in' type='checkbox'><label for='data-2caafc87-568b-4f1c-a92c-f088c0e9b579' title='Show/Hide data repr'><svg class='icon xr-icon-database'><use xlink:href='#icon-database'></use></svg></label><div class='xr-var-attrs'><dl class='xr-attrs'></dl></div><div class='xr-var-data'><pre>[1 values with dtype=int32]</pre></div></li><li class='xr-var-item'><div class='xr-var-name'><span>log_INT_PRESSURE_SLOPE</span></div><div class='xr-var-dims'>()</div><div class='xr-var-dtype'>float64</div><div class='xr-var-preview xr-preview'>...</div><input id='attrs-e80377bc-76db-425c-b67d-9427126ac328' class='xr-var-attrs-in' type='checkbox' disabled><label for='attrs-e80377bc-76db-425c-b67d-9427126ac328' title='Show/Hide attributes'><svg class='icon xr-icon-file-text2'><use xlink:href='#icon-file-text2'></use></svg></label><input id='data-bd4b31c2-6186-49f6-9c66-2f67a3a0bcf1' class='xr-var-data-in' type='checkbox'><label for='data-bd4b31c2-6186-49f6-9c66-2f67a3a0bcf1' title='Show/Hide data repr'><svg class='icon xr-icon-database'><use xlink:href='#icon-database'></use></svg></label><div class='xr-var-attrs'><dl class='xr-attrs'></dl></div><div class='xr-var-data'><pre>[1 values with dtype=float64]</pre></div></li><li class='xr-var-item'><div class='xr-var-name'><span>log_SURFACE_URGENCY_TRY</span></div><div class='xr-var-dims'>()</div><div class='xr-var-dtype'>int32</div><div class='xr-var-preview xr-preview'>...</div><input id='attrs-3ef959b1-52bf-4a38-a087-35181cf3c967' class='xr-var-attrs-in' type='checkbox' disabled><label for='attrs-3ef959b1-52bf-4a38-a087-35181cf3c967' title='Show/Hide attributes'><svg class='icon xr-icon-file-text2'><use xlink:href='#icon-file-text2'></use></svg></label><input id='data-a69ccb37-ec83-46bb-819b-fe4526e352e2' class='xr-var-data-in' type='checkbox'><label for='data-a69ccb37-ec83-46bb-819b-fe4526e352e2' title='Show/Hide data repr'><svg class='icon xr-icon-database'><use xlink:href='#icon-database'></use></svg></label><div class='xr-var-attrs'><dl class='xr-attrs'></dl></div><div class='xr-var-data'><pre>[1 values with dtype=int32]</pre></div></li><li class='xr-var-item'><div class='xr-var-name'><span>log_C_ROLL_DIVE</span></div><div class='xr-var-dims'>()</div><div class='xr-var-dtype'>float64</div><div class='xr-var-preview xr-preview'>...</div><input id='attrs-9771928b-d282-4969-a61b-107e12336704' class='xr-var-attrs-in' type='checkbox' disabled><label for='attrs-9771928b-d282-4969-a61b-107e12336704' title='Show/Hide attributes'><svg class='icon xr-icon-file-text2'><use xlink:href='#icon-file-text2'></use></svg></label><input id='data-55c9b5d1-6f62-4ad0-8f78-28013e13fdfa' class='xr-var-data-in' type='checkbox'><label for='data-55c9b5d1-6f62-4ad0-8f78-28013e13fdfa' title='Show/Hide data repr'><svg class='icon xr-icon-database'><use xlink:href='#icon-database'></use></svg></label><div class='xr-var-attrs'><dl class='xr-attrs'></dl></div><div class='xr-var-data'><pre>[1 values with dtype=float64]</pre></div></li><li class='xr-var-item'><div class='xr-var-name'><span>log_D_OFFGRID</span></div><div class='xr-var-dims'>()</div><div class='xr-var-dtype'>float64</div><div class='xr-var-preview xr-preview'>...</div><input id='attrs-bbfb4eac-2e8b-470a-81ce-3012fadfc6d5' class='xr-var-attrs-in' type='checkbox' disabled><label for='attrs-bbfb4eac-2e8b-470a-81ce-3012fadfc6d5' title='Show/Hide attributes'><svg class='icon xr-icon-file-text2'><use xlink:href='#icon-file-text2'></use></svg></label><input id='data-3b8e4212-a49f-4a8d-9193-5f55f9b26276' class='xr-var-data-in' type='checkbox'><label for='data-3b8e4212-a49f-4a8d-9193-5f55f9b26276' title='Show/Hide data repr'><svg class='icon xr-icon-database'><use xlink:href='#icon-database'></use></svg></label><div class='xr-var-attrs'><dl class='xr-attrs'></dl></div><div class='xr-var-data'><pre>[1 values with dtype=float64]</pre></div></li><li class='xr-var-item'><div class='xr-var-name'><span>log_HEAD_ERRBAND</span></div><div class='xr-var-dims'>()</div><div class='xr-var-dtype'>float64</div><div class='xr-var-preview xr-preview'>...</div><input id='attrs-a59c6196-62de-4091-8ae2-6ccbdc7a434e' class='xr-var-attrs-in' type='checkbox' disabled><label for='attrs-a59c6196-62de-4091-8ae2-6ccbdc7a434e' title='Show/Hide attributes'><svg class='icon xr-icon-file-text2'><use xlink:href='#icon-file-text2'></use></svg></label><input id='data-2a89ad93-8ff1-4d27-ba7c-965a5c9a49c4' class='xr-var-data-in' type='checkbox'><label for='data-2a89ad93-8ff1-4d27-ba7c-965a5c9a49c4' title='Show/Hide data repr'><svg class='icon xr-icon-database'><use xlink:href='#icon-database'></use></svg></label><div class='xr-var-attrs'><dl class='xr-attrs'></dl></div><div class='xr-var-data'><pre>[1 values with dtype=float64]</pre></div></li><li class='xr-var-item'><div class='xr-var-name'><span>log_PHONE_SUPPLY</span></div><div class='xr-var-dims'>()</div><div class='xr-var-dtype'>int32</div><div class='xr-var-preview xr-preview'>...</div><input id='attrs-0ace7f2a-3839-40bf-bd23-961a6d2d8d90' class='xr-var-attrs-in' type='checkbox' disabled><label for='attrs-0ace7f2a-3839-40bf-bd23-961a6d2d8d90' title='Show/Hide attributes'><svg class='icon xr-icon-file-text2'><use xlink:href='#icon-file-text2'></use></svg></label><input id='data-a522225c-a76d-4232-a5af-e29b0dafc79f' class='xr-var-data-in' type='checkbox'><label for='data-a522225c-a76d-4232-a5af-e29b0dafc79f' title='Show/Hide data repr'><svg class='icon xr-icon-database'><use xlink:href='#icon-database'></use></svg></label><div class='xr-var-attrs'><dl class='xr-attrs'></dl></div><div class='xr-var-data'><pre>[1 values with dtype=int32]</pre></div></li><li class='xr-var-item'><div class='xr-var-name'><span>log_T_RSLEEP</span></div><div class='xr-var-dims'>()</div><div class='xr-var-dtype'>float64</div><div class='xr-var-preview xr-preview'>...</div><input id='attrs-109cac29-77f3-49d8-b1fb-32bcb64a780f' class='xr-var-attrs-in' type='checkbox' disabled><label for='attrs-109cac29-77f3-49d8-b1fb-32bcb64a780f' title='Show/Hide attributes'><svg class='icon xr-icon-file-text2'><use xlink:href='#icon-file-text2'></use></svg></label><input id='data-249b917f-3ffd-4b74-bd9c-c1cf0d5aed1f' class='xr-var-data-in' type='checkbox'><label for='data-249b917f-3ffd-4b74-bd9c-c1cf0d5aed1f' title='Show/Hide data repr'><svg class='icon xr-icon-database'><use xlink:href='#icon-database'></use></svg></label><div class='xr-var-attrs'><dl class='xr-attrs'></dl></div><div class='xr-var-data'><pre>[1 values with dtype=float64]</pre></div></li><li class='xr-var-item'><div class='xr-var-name'><span>log_C_ROLL_CLIMB</span></div><div class='xr-var-dims'>()</div><div class='xr-var-dtype'>float64</div><div class='xr-var-preview xr-preview'>...</div><input id='attrs-76999bb8-22a3-48a3-890d-b4e58da65de5' class='xr-var-attrs-in' type='checkbox' disabled><label for='attrs-76999bb8-22a3-48a3-890d-b4e58da65de5' title='Show/Hide attributes'><svg class='icon xr-icon-file-text2'><use xlink:href='#icon-file-text2'></use></svg></label><input id='data-3882e5ff-9565-4554-80dc-1e03c64af2b6' class='xr-var-data-in' type='checkbox'><label for='data-3882e5ff-9565-4554-80dc-1e03c64af2b6' title='Show/Hide data repr'><svg class='icon xr-icon-database'><use xlink:href='#icon-database'></use></svg></label><div class='xr-var-attrs'><dl class='xr-attrs'></dl></div><div class='xr-var-data'><pre>[1 values with dtype=float64]</pre></div></li><li class='xr-var-item'><div class='xr-var-name'><span>log_ALTIM_TOP_TURN_MARGIN</span></div><div class='xr-var-dims'>()</div><div class='xr-var-dtype'>float64</div><div class='xr-var-preview xr-preview'>...</div><input id='attrs-4c68f10f-fdeb-47dc-befd-50dc85e971fc' class='xr-var-attrs-in' type='checkbox' disabled><label for='attrs-4c68f10f-fdeb-47dc-befd-50dc85e971fc' title='Show/Hide attributes'><svg class='icon xr-icon-file-text2'><use xlink:href='#icon-file-text2'></use></svg></label><input id='data-492293c4-cb22-43ab-a99e-85274629d491' class='xr-var-data-in' type='checkbox'><label for='data-492293c4-cb22-43ab-a99e-85274629d491' title='Show/Hide data repr'><svg class='icon xr-icon-database'><use xlink:href='#icon-database'></use></svg></label><div class='xr-var-attrs'><dl class='xr-attrs'></dl></div><div class='xr-var-data'><pre>[1 values with dtype=float64]</pre></div></li><li class='xr-var-item'><div class='xr-var-name'><span>sg_cal_volmax</span></div><div class='xr-var-dims'>()</div><div class='xr-var-dtype'>float64</div><div class='xr-var-preview xr-preview'>...</div><input id='attrs-5cd8aece-1bdf-47a5-b808-6b52dbd39287' class='xr-var-attrs-in' type='checkbox' ><label for='attrs-5cd8aece-1bdf-47a5-b808-6b52dbd39287' title='Show/Hide attributes'><svg class='icon xr-icon-file-text2'><use xlink:href='#icon-file-text2'></use></svg></label><input id='data-4876aa88-5203-4db5-95ed-ee898ba6f47d' class='xr-var-data-in' type='checkbox'><label for='data-4876aa88-5203-4db5-95ed-ee898ba6f47d' title='Show/Hide data repr'><svg class='icon xr-icon-database'><use xlink:href='#icon-database'></use></svg></label><div class='xr-var-attrs'><dl class='xr-attrs'><dt><span>units :</span></dt><dd>m^3</dd><dt><span>comment :</span></dt><dd>Maximum displaced volume of the glider</dd></dl></div><div class='xr-var-data'><pre>[1 values with dtype=float64]</pre></div></li><li class='xr-var-item'><div class='xr-var-name'><span>log_N_NOCOMM</span></div><div class='xr-var-dims'>()</div><div class='xr-var-dtype'>int32</div><div class='xr-var-preview xr-preview'>...</div><input id='attrs-525d3eeb-25df-490e-acd7-de7eb9812027' class='xr-var-attrs-in' type='checkbox' disabled><label for='attrs-525d3eeb-25df-490e-acd7-de7eb9812027' title='Show/Hide attributes'><svg class='icon xr-icon-file-text2'><use xlink:href='#icon-file-text2'></use></svg></label><input id='data-853ee2e6-2fbe-4e92-b5ae-bde63b49bc5c' class='xr-var-data-in' type='checkbox'><label for='data-853ee2e6-2fbe-4e92-b5ae-bde63b49bc5c' title='Show/Hide data repr'><svg class='icon xr-icon-database'><use xlink:href='#icon-database'></use></svg></label><div class='xr-var-attrs'><dl class='xr-attrs'></dl></div><div class='xr-var-data'><pre>[1 values with dtype=int32]</pre></div></li><li class='xr-var-item'><div class='xr-var-name'><span>log_D_TGT</span></div><div class='xr-var-dims'>()</div><div class='xr-var-dtype'>float64</div><div class='xr-var-preview xr-preview'>...</div><input id='attrs-77270b2e-b0f2-462d-a7ea-e6c146c08ab2' class='xr-var-attrs-in' type='checkbox' disabled><label for='attrs-77270b2e-b0f2-462d-a7ea-e6c146c08ab2' title='Show/Hide attributes'><svg class='icon xr-icon-file-text2'><use xlink:href='#icon-file-text2'></use></svg></label><input id='data-7705b552-5601-462f-9820-62e39d1f495c' class='xr-var-data-in' type='checkbox'><label for='data-7705b552-5601-462f-9820-62e39d1f495c' title='Show/Hide data repr'><svg class='icon xr-icon-database'><use xlink:href='#icon-database'></use></svg></label><div class='xr-var-attrs'><dl class='xr-attrs'></dl></div><div class='xr-var-data'><pre>[1 values with dtype=float64]</pre></div></li><li class='xr-var-item'><div class='xr-var-name'><span>depth_avg_curr_error</span></div><div class='xr-var-dims'>()</div><div class='xr-var-dtype'>float64</div><div class='xr-var-preview xr-preview'>...</div><input id='attrs-3fbf5203-91f7-4e58-93d8-7ea64df3184f' class='xr-var-attrs-in' type='checkbox' ><label for='attrs-3fbf5203-91f7-4e58-93d8-7ea64df3184f' title='Show/Hide attributes'><svg class='icon xr-icon-file-text2'><use xlink:href='#icon-file-text2'></use></svg></label><input id='data-1d512de2-cfda-4d76-87d6-93749ceaf88f' class='xr-var-data-in' type='checkbox'><label for='data-1d512de2-cfda-4d76-87d6-93749ceaf88f' title='Show/Hide data repr'><svg class='icon xr-icon-database'><use xlink:href='#icon-database'></use></svg></label><div class='xr-var-attrs'><dl class='xr-attrs'><dt><span>units :</span></dt><dd>m/s</dd><dt><span>comment :</span></dt><dd>Expected error of depth-average current from GPS</dd></dl></div><div class='xr-var-data'><pre>[1 values with dtype=float64]</pre></div></li><li class='xr-var-item'><div class='xr-var-name'><span>log_TCM_TEMP</span></div><div class='xr-var-dims'>()</div><div class='xr-var-dtype'>float64</div><div class='xr-var-preview xr-preview'>...</div><input id='attrs-15f14926-04ea-46d1-9615-f267faef5b8c' class='xr-var-attrs-in' type='checkbox' disabled><label for='attrs-15f14926-04ea-46d1-9615-f267faef5b8c' title='Show/Hide attributes'><svg class='icon xr-icon-file-text2'><use xlink:href='#icon-file-text2'></use></svg></label><input id='data-660d8cee-45f4-430a-9838-b77ef06afde7' class='xr-var-data-in' type='checkbox'><label for='data-660d8cee-45f4-430a-9838-b77ef06afde7' title='Show/Hide data repr'><svg class='icon xr-icon-database'><use xlink:href='#icon-database'></use></svg></label><div class='xr-var-attrs'><dl class='xr-attrs'></dl></div><div class='xr-var-data'><pre>[1 values with dtype=float64]</pre></div></li><li class='xr-var-item'><div class='xr-var-name'><span>log_HUMID</span></div><div class='xr-var-dims'>()</div><div class='xr-var-dtype'>float64</div><div class='xr-var-preview xr-preview'>...</div><input id='attrs-101b9efe-c92a-427d-aefd-db0bf90295a1' class='xr-var-attrs-in' type='checkbox' disabled><label for='attrs-101b9efe-c92a-427d-aefd-db0bf90295a1' title='Show/Hide attributes'><svg class='icon xr-icon-file-text2'><use xlink:href='#icon-file-text2'></use></svg></label><input id='data-5505bfc7-a54f-48e3-9d66-ff7ce889a6ef' class='xr-var-data-in' type='checkbox'><label for='data-5505bfc7-a54f-48e3-9d66-ff7ce889a6ef' title='Show/Hide data repr'><svg class='icon xr-icon-database'><use xlink:href='#icon-database'></use></svg></label><div class='xr-var-attrs'><dl class='xr-attrs'></dl></div><div class='xr-var-data'><pre>[1 values with dtype=float64]</pre></div></li><li class='xr-var-item'><div class='xr-var-name'><span>log_D_BOOST</span></div><div class='xr-var-dims'>()</div><div class='xr-var-dtype'>float64</div><div class='xr-var-preview xr-preview'>...</div><input id='attrs-b23c55eb-3bd1-4af2-98be-d142557c6b49' class='xr-var-attrs-in' type='checkbox' disabled><label for='attrs-b23c55eb-3bd1-4af2-98be-d142557c6b49' title='Show/Hide attributes'><svg class='icon xr-icon-file-text2'><use xlink:href='#icon-file-text2'></use></svg></label><input id='data-30c111b9-a519-4e6c-9019-f3bf5a11b982' class='xr-var-data-in' type='checkbox'><label for='data-30c111b9-a519-4e6c-9019-f3bf5a11b982' title='Show/Hide data repr'><svg class='icon xr-icon-database'><use xlink:href='#icon-database'></use></svg></label><div class='xr-var-attrs'><dl class='xr-attrs'></dl></div><div class='xr-var-data'><pre>[1 values with dtype=float64]</pre></div></li><li class='xr-var-item'><div class='xr-var-name'><span>sg_cal_optode_FoilCoefA3</span></div><div class='xr-var-dims'>()</div><div class='xr-var-dtype'>float64</div><div class='xr-var-preview xr-preview'>...</div><input id='attrs-d855a37c-3d82-49b3-9caf-61ce111b8f03' class='xr-var-attrs-in' type='checkbox' disabled><label for='attrs-d855a37c-3d82-49b3-9caf-61ce111b8f03' title='Show/Hide attributes'><svg class='icon xr-icon-file-text2'><use xlink:href='#icon-file-text2'></use></svg></label><input id='data-69e13569-5468-4016-a74c-b2e90b965a76' class='xr-var-data-in' type='checkbox'><label for='data-69e13569-5468-4016-a74c-b2e90b965a76' title='Show/Hide data repr'><svg class='icon xr-icon-database'><use xlink:href='#icon-database'></use></svg></label><div class='xr-var-attrs'><dl class='xr-attrs'></dl></div><div class='xr-var-data'><pre>[1 values with dtype=float64]</pre></div></li><li class='xr-var-item'><div class='xr-var-name'><span>sg_cal_optode_FoilCoefA1</span></div><div class='xr-var-dims'>()</div><div class='xr-var-dtype'>float64</div><div class='xr-var-preview xr-preview'>...</div><input id='attrs-8aa0bdb4-f3e4-4ead-9a6a-2c931f2ff9e4' class='xr-var-attrs-in' type='checkbox' disabled><label for='attrs-8aa0bdb4-f3e4-4ead-9a6a-2c931f2ff9e4' title='Show/Hide attributes'><svg class='icon xr-icon-file-text2'><use xlink:href='#icon-file-text2'></use></svg></label><input id='data-0cc4745c-33ea-4143-acbb-4a6a3915eddd' class='xr-var-data-in' type='checkbox'><label for='data-0cc4745c-33ea-4143-acbb-4a6a3915eddd' title='Show/Hide data repr'><svg class='icon xr-icon-database'><use xlink:href='#icon-database'></use></svg></label><div class='xr-var-attrs'><dl class='xr-attrs'></dl></div><div class='xr-var-data'><pre>[1 values with dtype=float64]</pre></div></li><li class='xr-var-item'><div class='xr-var-name'><span>sg_cal_optode_FoilCoefA6</span></div><div class='xr-var-dims'>()</div><div class='xr-var-dtype'>float64</div><div class='xr-var-preview xr-preview'>...</div><input id='attrs-26970b19-6303-4c9a-9a85-230a07d43393' class='xr-var-attrs-in' type='checkbox' disabled><label for='attrs-26970b19-6303-4c9a-9a85-230a07d43393' title='Show/Hide attributes'><svg class='icon xr-icon-file-text2'><use xlink:href='#icon-file-text2'></use></svg></label><input id='data-1489b7cd-7969-4b69-9fb8-a090ab4f089c' class='xr-var-data-in' type='checkbox'><label for='data-1489b7cd-7969-4b69-9fb8-a090ab4f089c' title='Show/Hide data repr'><svg class='icon xr-icon-database'><use xlink:href='#icon-database'></use></svg></label><div class='xr-var-attrs'><dl class='xr-attrs'></dl></div><div class='xr-var-data'><pre>[1 values with dtype=float64]</pre></div></li><li class='xr-var-item'><div class='xr-var-name'><span>sg_cal_optode_FoilCoefA7</span></div><div class='xr-var-dims'>()</div><div class='xr-var-dtype'>float64</div><div class='xr-var-preview xr-preview'>...</div><input id='attrs-4817c967-0b94-4d88-a3ea-a2fed2e8696c' class='xr-var-attrs-in' type='checkbox' disabled><label for='attrs-4817c967-0b94-4d88-a3ea-a2fed2e8696c' title='Show/Hide attributes'><svg class='icon xr-icon-file-text2'><use xlink:href='#icon-file-text2'></use></svg></label><input id='data-437898d1-63f7-4e5d-9822-21b7477c9bfc' class='xr-var-data-in' type='checkbox'><label for='data-437898d1-63f7-4e5d-9822-21b7477c9bfc' title='Show/Hide data repr'><svg class='icon xr-icon-database'><use xlink:href='#icon-database'></use></svg></label><div class='xr-var-attrs'><dl class='xr-attrs'></dl></div><div class='xr-var-data'><pre>[1 values with dtype=float64]</pre></div></li><li class='xr-var-item'><div class='xr-var-name'><span>sg_cal_optode_FoilCoefA4</span></div><div class='xr-var-dims'>()</div><div class='xr-var-dtype'>float64</div><div class='xr-var-preview xr-preview'>...</div><input id='attrs-b4e93bca-73cb-4efd-88bc-faff7781bda8' class='xr-var-attrs-in' type='checkbox' disabled><label for='attrs-b4e93bca-73cb-4efd-88bc-faff7781bda8' title='Show/Hide attributes'><svg class='icon xr-icon-file-text2'><use xlink:href='#icon-file-text2'></use></svg></label><input id='data-e58293e6-8c5d-48a0-82de-6bdbc386a540' class='xr-var-data-in' type='checkbox'><label for='data-e58293e6-8c5d-48a0-82de-6bdbc386a540' title='Show/Hide data repr'><svg class='icon xr-icon-database'><use xlink:href='#icon-database'></use></svg></label><div class='xr-var-attrs'><dl class='xr-attrs'></dl></div><div class='xr-var-data'><pre>[1 values with dtype=float64]</pre></div></li><li class='xr-var-item'><div class='xr-var-name'><span>sg_cal_optode_FoilCoefA5</span></div><div class='xr-var-dims'>()</div><div class='xr-var-dtype'>float64</div><div class='xr-var-preview xr-preview'>...</div><input id='attrs-47c48e79-c6eb-411f-9f24-498b5e1a7e94' class='xr-var-attrs-in' type='checkbox' disabled><label for='attrs-47c48e79-c6eb-411f-9f24-498b5e1a7e94' title='Show/Hide attributes'><svg class='icon xr-icon-file-text2'><use xlink:href='#icon-file-text2'></use></svg></label><input id='data-1ef72f49-2d1c-4ddc-a65d-51de7335aa50' class='xr-var-data-in' type='checkbox'><label for='data-1ef72f49-2d1c-4ddc-a65d-51de7335aa50' title='Show/Hide data repr'><svg class='icon xr-icon-database'><use xlink:href='#icon-database'></use></svg></label><div class='xr-var-attrs'><dl class='xr-attrs'></dl></div><div class='xr-var-data'><pre>[1 values with dtype=float64]</pre></div></li><li class='xr-var-item'><div class='xr-var-name'><span>sg_cal_optode_FoilCoefA8</span></div><div class='xr-var-dims'>()</div><div class='xr-var-dtype'>float64</div><div class='xr-var-preview xr-preview'>...</div><input id='attrs-2968fba2-9eec-4533-aa62-ec02d9b21406' class='xr-var-attrs-in' type='checkbox' disabled><label for='attrs-2968fba2-9eec-4533-aa62-ec02d9b21406' title='Show/Hide attributes'><svg class='icon xr-icon-file-text2'><use xlink:href='#icon-file-text2'></use></svg></label><input id='data-83dbbe05-040b-424d-8d0e-1234a9501b73' class='xr-var-data-in' type='checkbox'><label for='data-83dbbe05-040b-424d-8d0e-1234a9501b73' title='Show/Hide data repr'><svg class='icon xr-icon-database'><use xlink:href='#icon-database'></use></svg></label><div class='xr-var-attrs'><dl class='xr-attrs'></dl></div><div class='xr-var-data'><pre>[1 values with dtype=float64]</pre></div></li><li class='xr-var-item'><div class='xr-var-name'><span>sg_cal_optode_FoilCoefA9</span></div><div class='xr-var-dims'>()</div><div class='xr-var-dtype'>float64</div><div class='xr-var-preview xr-preview'>...</div><input id='attrs-3bcede38-81a9-49bc-901f-9cd29afdad8f' class='xr-var-attrs-in' type='checkbox' disabled><label for='attrs-3bcede38-81a9-49bc-901f-9cd29afdad8f' title='Show/Hide attributes'><svg class='icon xr-icon-file-text2'><use xlink:href='#icon-file-text2'></use></svg></label><input id='data-b160bcc2-9a83-4c53-b270-321eb330d48a' class='xr-var-data-in' type='checkbox'><label for='data-b160bcc2-9a83-4c53-b270-321eb330d48a' title='Show/Hide data repr'><svg class='icon xr-icon-database'><use xlink:href='#icon-database'></use></svg></label><div class='xr-var-attrs'><dl class='xr-attrs'></dl></div><div class='xr-var-data'><pre>[1 values with dtype=float64]</pre></div></li><li class='xr-var-item'><div class='xr-var-name'><span>log_ROLL_CNV</span></div><div class='xr-var-dims'>()</div><div class='xr-var-dtype'>float64</div><div class='xr-var-preview xr-preview'>...</div><input id='attrs-d75b7155-aad3-48d7-baa5-780412ac88fc' class='xr-var-attrs-in' type='checkbox' disabled><label for='attrs-d75b7155-aad3-48d7-baa5-780412ac88fc' title='Show/Hide attributes'><svg class='icon xr-icon-file-text2'><use xlink:href='#icon-file-text2'></use></svg></label><input id='data-3b84bb50-1806-4427-b836-1f2e34f119d1' class='xr-var-data-in' type='checkbox'><label for='data-3b84bb50-1806-4427-b836-1f2e34f119d1' title='Show/Hide data repr'><svg class='icon xr-icon-database'><use xlink:href='#icon-database'></use></svg></label><div class='xr-var-attrs'><dl class='xr-attrs'></dl></div><div class='xr-var-data'><pre>[1 values with dtype=float64]</pre></div></li><li class='xr-var-item'><div class='xr-var-name'><span>log_PITCH_CNV</span></div><div class='xr-var-dims'>()</div><div class='xr-var-dtype'>float64</div><div class='xr-var-preview xr-preview'>...</div><input id='attrs-0552af55-06b6-4dd5-8ba5-e91bbc7aedfb' class='xr-var-attrs-in' type='checkbox' disabled><label for='attrs-0552af55-06b6-4dd5-8ba5-e91bbc7aedfb' title='Show/Hide attributes'><svg class='icon xr-icon-file-text2'><use xlink:href='#icon-file-text2'></use></svg></label><input id='data-6eef46e5-3c6d-4d34-b8cb-9cf604b5a2d0' class='xr-var-data-in' type='checkbox'><label for='data-6eef46e5-3c6d-4d34-b8cb-9cf604b5a2d0' title='Show/Hide data repr'><svg class='icon xr-icon-database'><use xlink:href='#icon-database'></use></svg></label><div class='xr-var-attrs'><dl class='xr-attrs'></dl></div><div class='xr-var-data'><pre>[1 values with dtype=float64]</pre></div></li><li class='xr-var-item'><div class='xr-var-name'><span>log_R_STBD_OVSHOOT</span></div><div class='xr-var-dims'>()</div><div class='xr-var-dtype'>float64</div><div class='xr-var-preview xr-preview'>...</div><input id='attrs-46ca62ba-cd13-489a-8481-362281d24dc2' class='xr-var-attrs-in' type='checkbox' disabled><label for='attrs-46ca62ba-cd13-489a-8481-362281d24dc2' title='Show/Hide attributes'><svg class='icon xr-icon-file-text2'><use xlink:href='#icon-file-text2'></use></svg></label><input id='data-ff1a86d7-83c1-44c6-8ff1-300331804275' class='xr-var-data-in' type='checkbox'><label for='data-ff1a86d7-83c1-44c6-8ff1-300331804275' title='Show/Hide data repr'><svg class='icon xr-icon-database'><use xlink:href='#icon-database'></use></svg></label><div class='xr-var-attrs'><dl class='xr-attrs'></dl></div><div class='xr-var-data'><pre>[1 values with dtype=float64]</pre></div></li><li class='xr-var-item'><div class='xr-var-name'><span>sg_cal_t_i</span></div><div class='xr-var-dims'>()</div><div class='xr-var-dtype'>float64</div><div class='xr-var-preview xr-preview'>...</div><input id='attrs-8fea4214-1825-4c63-8364-39ac3cd9b587' class='xr-var-attrs-in' type='checkbox' disabled><label for='attrs-8fea4214-1825-4c63-8364-39ac3cd9b587' title='Show/Hide attributes'><svg class='icon xr-icon-file-text2'><use xlink:href='#icon-file-text2'></use></svg></label><input id='data-b8ccbff5-8db9-486f-8bab-aa973eef5f08' class='xr-var-data-in' type='checkbox'><label for='data-b8ccbff5-8db9-486f-8bab-aa973eef5f08' title='Show/Hide data repr'><svg class='icon xr-icon-database'><use xlink:href='#icon-database'></use></svg></label><div class='xr-var-attrs'><dl class='xr-attrs'></dl></div><div class='xr-var-data'><pre>[1 values with dtype=float64]</pre></div></li><li class='xr-var-item'><div class='xr-var-name'><span>sg_cal_t_h</span></div><div class='xr-var-dims'>()</div><div class='xr-var-dtype'>float64</div><div class='xr-var-preview xr-preview'>...</div><input id='attrs-622d221f-63e7-4f38-9caf-1ae3f48ef375' class='xr-var-attrs-in' type='checkbox' disabled><label for='attrs-622d221f-63e7-4f38-9caf-1ae3f48ef375' title='Show/Hide attributes'><svg class='icon xr-icon-file-text2'><use xlink:href='#icon-file-text2'></use></svg></label><input id='data-703d1fab-2a83-4a42-bfce-c16693103a98' class='xr-var-data-in' type='checkbox'><label for='data-703d1fab-2a83-4a42-bfce-c16693103a98' title='Show/Hide data repr'><svg class='icon xr-icon-database'><use xlink:href='#icon-database'></use></svg></label><div class='xr-var-attrs'><dl class='xr-attrs'></dl></div><div class='xr-var-data'><pre>[1 values with dtype=float64]</pre></div></li><li class='xr-var-item'><div class='xr-var-name'><span>sg_cal_t_j</span></div><div class='xr-var-dims'>()</div><div class='xr-var-dtype'>float64</div><div class='xr-var-preview xr-preview'>...</div><input id='attrs-a0a3f286-e1a1-419e-8b27-f4511db30660' class='xr-var-attrs-in' type='checkbox' disabled><label for='attrs-a0a3f286-e1a1-419e-8b27-f4511db30660' title='Show/Hide attributes'><svg class='icon xr-icon-file-text2'><use xlink:href='#icon-file-text2'></use></svg></label><input id='data-cefa934a-19ee-4fb1-9653-3c2580c0e28a' class='xr-var-data-in' type='checkbox'><label for='data-cefa934a-19ee-4fb1-9653-3c2580c0e28a' title='Show/Hide data repr'><svg class='icon xr-icon-database'><use xlink:href='#icon-database'></use></svg></label><div class='xr-var-attrs'><dl class='xr-attrs'></dl></div><div class='xr-var-data'><pre>[1 values with dtype=float64]</pre></div></li><li class='xr-var-item'><div class='xr-var-name'><span>log_USE_ICE</span></div><div class='xr-var-dims'>()</div><div class='xr-var-dtype'>int32</div><div class='xr-var-preview xr-preview'>...</div><input id='attrs-7f79846f-d262-4736-bd0d-98ad3a4a7e5a' class='xr-var-attrs-in' type='checkbox' disabled><label for='attrs-7f79846f-d262-4736-bd0d-98ad3a4a7e5a' title='Show/Hide attributes'><svg class='icon xr-icon-file-text2'><use xlink:href='#icon-file-text2'></use></svg></label><input id='data-2dde7c98-f7c3-43ba-9d75-451cd9574666' class='xr-var-data-in' type='checkbox'><label for='data-2dde7c98-f7c3-43ba-9d75-451cd9574666' title='Show/Hide data repr'><svg class='icon xr-icon-database'><use xlink:href='#icon-database'></use></svg></label><div class='xr-var-attrs'><dl class='xr-attrs'></dl></div><div class='xr-var-data'><pre>[1 values with dtype=int32]</pre></div></li><li class='xr-var-item'><div class='xr-var-name'><span>sg_cal_t_g</span></div><div class='xr-var-dims'>()</div><div class='xr-var-dtype'>float64</div><div class='xr-var-preview xr-preview'>...</div><input id='attrs-a6084a4b-d784-4361-a346-536ab59d19b3' class='xr-var-attrs-in' type='checkbox' disabled><label for='attrs-a6084a4b-d784-4361-a346-536ab59d19b3' title='Show/Hide attributes'><svg class='icon xr-icon-file-text2'><use xlink:href='#icon-file-text2'></use></svg></label><input id='data-6fcf2711-6761-41d4-95cb-a25fd2fad7b9' class='xr-var-data-in' type='checkbox'><label for='data-6fcf2711-6761-41d4-95cb-a25fd2fad7b9' title='Show/Hide data repr'><svg class='icon xr-icon-database'><use xlink:href='#icon-database'></use></svg></label><div class='xr-var-attrs'><dl class='xr-attrs'></dl></div><div class='xr-var-data'><pre>[1 values with dtype=float64]</pre></div></li><li class='xr-var-item'><div class='xr-var-name'><span>flight_avg_speed_east</span></div><div class='xr-var-dims'>()</div><div class='xr-var-dtype'>float64</div><div class='xr-var-preview xr-preview'>...</div><input id='attrs-28ac142b-94e6-45bf-8d23-7d6795a6903b' class='xr-var-attrs-in' type='checkbox' ><label for='attrs-28ac142b-94e6-45bf-8d23-7d6795a6903b' title='Show/Hide attributes'><svg class='icon xr-icon-file-text2'><use xlink:href='#icon-file-text2'></use></svg></label><input id='data-772fec66-ebfb-4b64-b691-1bd10dff38b8' class='xr-var-data-in' type='checkbox'><label for='data-772fec66-ebfb-4b64-b691-1bd10dff38b8' title='Show/Hide data repr'><svg class='icon xr-icon-database'><use xlink:href='#icon-database'></use></svg></label><div class='xr-var-attrs'><dl class='xr-attrs'><dt><span>units :</span></dt><dd>m/s</dd><dt><span>comment :</span></dt><dd>Eastward component of flight average speed based on hdm</dd></dl></div><div class='xr-var-data'><pre>[1 values with dtype=float64]</pre></div></li><li class='xr-var-item'><div class='xr-var-name'><span>log_TGT_RADIUS</span></div><div class='xr-var-dims'>()</div><div class='xr-var-dtype'>float64</div><div class='xr-var-preview xr-preview'>...</div><input id='attrs-86a2c77a-cc88-42dd-a8bf-b6913d1be004' class='xr-var-attrs-in' type='checkbox' disabled><label for='attrs-86a2c77a-cc88-42dd-a8bf-b6913d1be004' title='Show/Hide attributes'><svg class='icon xr-icon-file-text2'><use xlink:href='#icon-file-text2'></use></svg></label><input id='data-5f6c107e-1052-4e24-b7a1-3012317cdc3c' class='xr-var-data-in' type='checkbox'><label for='data-5f6c107e-1052-4e24-b7a1-3012317cdc3c' title='Show/Hide data repr'><svg class='icon xr-icon-database'><use xlink:href='#icon-database'></use></svg></label><div class='xr-var-attrs'><dl class='xr-attrs'></dl></div><div class='xr-var-data'><pre>[1 values with dtype=float64]</pre></div></li><li class='xr-var-item'><div class='xr-var-name'><span>log_VBD_MAX</span></div><div class='xr-var-dims'>()</div><div class='xr-var-dtype'>int32</div><div class='xr-var-preview xr-preview'>...</div><input id='attrs-b6f13262-a3f5-46e5-9cc3-5330629db782' class='xr-var-attrs-in' type='checkbox' disabled><label for='attrs-b6f13262-a3f5-46e5-9cc3-5330629db782' title='Show/Hide attributes'><svg class='icon xr-icon-file-text2'><use xlink:href='#icon-file-text2'></use></svg></label><input id='data-8d634573-ed29-4638-9dff-557278839775' class='xr-var-data-in' type='checkbox'><label for='data-8d634573-ed29-4638-9dff-557278839775' title='Show/Hide data repr'><svg class='icon xr-icon-database'><use xlink:href='#icon-database'></use></svg></label><div class='xr-var-attrs'><dl class='xr-attrs'></dl></div><div class='xr-var-data'><pre>[1 values with dtype=int32]</pre></div></li><li class='xr-var-item'><div class='xr-var-name'><span>log_ALTIM_SENSITIVITY</span></div><div class='xr-var-dims'>()</div><div class='xr-var-dtype'>float64</div><div class='xr-var-preview xr-preview'>...</div><input id='attrs-313b6864-a78c-40da-a209-72af29a61be6' class='xr-var-attrs-in' type='checkbox' disabled><label for='attrs-313b6864-a78c-40da-a209-72af29a61be6' title='Show/Hide attributes'><svg class='icon xr-icon-file-text2'><use xlink:href='#icon-file-text2'></use></svg></label><input id='data-066b7934-a1d1-42e5-965a-d4108ad746cc' class='xr-var-data-in' type='checkbox'><label for='data-066b7934-a1d1-42e5-965a-d4108ad746cc' title='Show/Hide data repr'><svg class='icon xr-icon-database'><use xlink:href='#icon-database'></use></svg></label><div class='xr-var-attrs'><dl class='xr-attrs'></dl></div><div class='xr-var-data'><pre>[1 values with dtype=float64]</pre></div></li><li class='xr-var-item'><div class='xr-var-name'><span>log_SPEED_FACTOR</span></div><div class='xr-var-dims'>()</div><div class='xr-var-dtype'>float64</div><div class='xr-var-preview xr-preview'>...</div><input id='attrs-52e3d596-c4ef-4825-91e9-437813741b59' class='xr-var-attrs-in' type='checkbox' disabled><label for='attrs-52e3d596-c4ef-4825-91e9-437813741b59' title='Show/Hide attributes'><svg class='icon xr-icon-file-text2'><use xlink:href='#icon-file-text2'></use></svg></label><input id='data-b0153e84-0310-4773-88a0-431771522d20' class='xr-var-data-in' type='checkbox'><label for='data-b0153e84-0310-4773-88a0-431771522d20' title='Show/Hide data repr'><svg class='icon xr-icon-database'><use xlink:href='#icon-database'></use></svg></label><div class='xr-var-attrs'><dl class='xr-attrs'></dl></div><div class='xr-var-data'><pre>[1 values with dtype=float64]</pre></div></li><li class='xr-var-item'><div class='xr-var-name'><span>sg_cal_mass_comp</span></div><div class='xr-var-dims'>()</div><div class='xr-var-dtype'>float64</div><div class='xr-var-preview xr-preview'>...</div><input id='attrs-e8d1a22d-981b-4d5c-9e7f-102bfed1e6ee' class='xr-var-attrs-in' type='checkbox' ><label for='attrs-e8d1a22d-981b-4d5c-9e7f-102bfed1e6ee' title='Show/Hide attributes'><svg class='icon xr-icon-file-text2'><use xlink:href='#icon-file-text2'></use></svg></label><input id='data-db2d7ca7-966e-466b-a859-42285e844d67' class='xr-var-data-in' type='checkbox'><label for='data-db2d7ca7-966e-466b-a859-42285e844d67' title='Show/Hide data repr'><svg class='icon xr-icon-database'><use xlink:href='#icon-database'></use></svg></label><div class='xr-var-attrs'><dl class='xr-attrs'><dt><span>units :</span></dt><dd>kg</dd><dt><span>comment :</span></dt><dd>Mass of the compressee</dd></dl></div><div class='xr-var-data'><pre>[1 values with dtype=float64]</pre></div></li><li class='xr-var-item'><div class='xr-var-name'><span>log_COMPASS2_DEVICE</span></div><div class='xr-var-dims'>()</div><div class='xr-var-dtype'>float64</div><div class='xr-var-preview xr-preview'>...</div><input id='attrs-52bd7fca-59cf-4ce4-a5eb-e0c12724d8b0' class='xr-var-attrs-in' type='checkbox' disabled><label for='attrs-52bd7fca-59cf-4ce4-a5eb-e0c12724d8b0' title='Show/Hide attributes'><svg class='icon xr-icon-file-text2'><use xlink:href='#icon-file-text2'></use></svg></label><input id='data-4a0e31ea-e099-42e2-8795-869fbab15182' class='xr-var-data-in' type='checkbox'><label for='data-4a0e31ea-e099-42e2-8795-869fbab15182' title='Show/Hide data repr'><svg class='icon xr-icon-database'><use xlink:href='#icon-database'></use></svg></label><div class='xr-var-attrs'><dl class='xr-attrs'></dl></div><div class='xr-var-data'><pre>[1 values with dtype=float64]</pre></div></li><li class='xr-var-item'><div class='xr-var-name'><span>log_VBD_PUMP_AD_RATE_SURFACE</span></div><div class='xr-var-dims'>()</div><div class='xr-var-dtype'>float64</div><div class='xr-var-preview xr-preview'>...</div><input id='attrs-ec519324-8c16-40d7-83f3-ad0f65567c18' class='xr-var-attrs-in' type='checkbox' disabled><label for='attrs-ec519324-8c16-40d7-83f3-ad0f65567c18' title='Show/Hide attributes'><svg class='icon xr-icon-file-text2'><use xlink:href='#icon-file-text2'></use></svg></label><input id='data-2d28edc8-d52b-4f34-9ab1-9659ddee663e' class='xr-var-data-in' type='checkbox'><label for='data-2d28edc8-d52b-4f34-9ab1-9659ddee663e' title='Show/Hide data repr'><svg class='icon xr-icon-database'><use xlink:href='#icon-database'></use></svg></label><div class='xr-var-attrs'><dl class='xr-attrs'></dl></div><div class='xr-var-data'><pre>[1 values with dtype=float64]</pre></div></li><li class='xr-var-item'><div class='xr-var-name'><span>log_VBD_BLEED_AD_RATE</span></div><div class='xr-var-dims'>()</div><div class='xr-var-dtype'>float64</div><div class='xr-var-preview xr-preview'>...</div><input id='attrs-d0059793-cada-4cc6-b326-4bfed06653aa' class='xr-var-attrs-in' type='checkbox' disabled><label for='attrs-d0059793-cada-4cc6-b326-4bfed06653aa' title='Show/Hide attributes'><svg class='icon xr-icon-file-text2'><use xlink:href='#icon-file-text2'></use></svg></label><input id='data-15dd8f41-f809-4d60-bfd1-535b0f599f78' class='xr-var-data-in' type='checkbox'><label for='data-15dd8f41-f809-4d60-bfd1-535b0f599f78' title='Show/Hide data repr'><svg class='icon xr-icon-database'><use xlink:href='#icon-database'></use></svg></label><div class='xr-var-attrs'><dl class='xr-attrs'></dl></div><div class='xr-var-data'><pre>[1 values with dtype=float64]</pre></div></li><li class='xr-var-item'><div class='xr-var-name'><span>log_T_GPS</span></div><div class='xr-var-dims'>()</div><div class='xr-var-dtype'>float64</div><div class='xr-var-preview xr-preview'>...</div><input id='attrs-a0f7e820-be1b-48c2-a965-dd78913c0b72' class='xr-var-attrs-in' type='checkbox' disabled><label for='attrs-a0f7e820-be1b-48c2-a965-dd78913c0b72' title='Show/Hide attributes'><svg class='icon xr-icon-file-text2'><use xlink:href='#icon-file-text2'></use></svg></label><input id='data-40d41af5-bfe6-4554-9e87-1c8f80a3546b' class='xr-var-data-in' type='checkbox'><label for='data-40d41af5-bfe6-4554-9e87-1c8f80a3546b' title='Show/Hide data repr'><svg class='icon xr-icon-database'><use xlink:href='#icon-database'></use></svg></label><div class='xr-var-attrs'><dl class='xr-attrs'></dl></div><div class='xr-var-data'><pre>[1 values with dtype=float64]</pre></div></li><li class='xr-var-item'><div class='xr-var-name'><span>log_XPDR_VALID</span></div><div class='xr-var-dims'>()</div><div class='xr-var-dtype'>float64</div><div class='xr-var-preview xr-preview'>...</div><input id='attrs-c9f9cca0-8b20-4294-9d4f-93770599cd20' class='xr-var-attrs-in' type='checkbox' disabled><label for='attrs-c9f9cca0-8b20-4294-9d4f-93770599cd20' title='Show/Hide attributes'><svg class='icon xr-icon-file-text2'><use xlink:href='#icon-file-text2'></use></svg></label><input id='data-e7486eb0-9ab9-440d-aa7e-bccea7da8fc3' class='xr-var-data-in' type='checkbox'><label for='data-e7486eb0-9ab9-440d-aa7e-bccea7da8fc3' title='Show/Hide data repr'><svg class='icon xr-icon-database'><use xlink:href='#icon-database'></use></svg></label><div class='xr-var-attrs'><dl class='xr-attrs'></dl></div><div class='xr-var-data'><pre>[1 values with dtype=float64]</pre></div></li><li class='xr-var-item'><div class='xr-var-name'><span>log_PITCH_ADJ_DBAND</span></div><div class='xr-var-dims'>()</div><div class='xr-var-dtype'>float64</div><div class='xr-var-preview xr-preview'>...</div><input id='attrs-fcde37bc-2c43-441f-b417-b220eca5cc5c' class='xr-var-attrs-in' type='checkbox' disabled><label for='attrs-fcde37bc-2c43-441f-b417-b220eca5cc5c' title='Show/Hide attributes'><svg class='icon xr-icon-file-text2'><use xlink:href='#icon-file-text2'></use></svg></label><input id='data-6831f374-c906-41a5-9bfb-3db65026b542' class='xr-var-data-in' type='checkbox'><label for='data-6831f374-c906-41a5-9bfb-3db65026b542' title='Show/Hide data repr'><svg class='icon xr-icon-database'><use xlink:href='#icon-database'></use></svg></label><div class='xr-var-attrs'><dl class='xr-attrs'></dl></div><div class='xr-var-data'><pre>[1 values with dtype=float64]</pre></div></li><li class='xr-var-item'><div class='xr-var-name'><span>log_NAV_MODE</span></div><div class='xr-var-dims'>()</div><div class='xr-var-dtype'>int32</div><div class='xr-var-preview xr-preview'>...</div><input id='attrs-40f61e75-8aab-4c7e-a25e-bd996050ac5a' class='xr-var-attrs-in' type='checkbox' disabled><label for='attrs-40f61e75-8aab-4c7e-a25e-bd996050ac5a' title='Show/Hide attributes'><svg class='icon xr-icon-file-text2'><use xlink:href='#icon-file-text2'></use></svg></label><input id='data-45952a93-6cca-4f54-b5a5-3763c7b0306c' class='xr-var-data-in' type='checkbox'><label for='data-45952a93-6cca-4f54-b5a5-3763c7b0306c' title='Show/Hide data repr'><svg class='icon xr-icon-database'><use xlink:href='#icon-database'></use></svg></label><div class='xr-var-attrs'><dl class='xr-attrs'></dl></div><div class='xr-var-data'><pre>[1 values with dtype=int32]</pre></div></li><li class='xr-var-item'><div class='xr-var-name'><span>log_LOGGERDEVICE1</span></div><div class='xr-var-dims'>()</div><div class='xr-var-dtype'>float64</div><div class='xr-var-preview xr-preview'>...</div><input id='attrs-72cf9919-9262-4095-ac71-51df25d751dc' class='xr-var-attrs-in' type='checkbox' disabled><label for='attrs-72cf9919-9262-4095-ac71-51df25d751dc' title='Show/Hide attributes'><svg class='icon xr-icon-file-text2'><use xlink:href='#icon-file-text2'></use></svg></label><input id='data-a3726f83-d485-499b-84a5-19243e6c6e17' class='xr-var-data-in' type='checkbox'><label for='data-a3726f83-d485-499b-84a5-19243e6c6e17' title='Show/Hide data repr'><svg class='icon xr-icon-database'><use xlink:href='#icon-database'></use></svg></label><div class='xr-var-attrs'><dl class='xr-attrs'></dl></div><div class='xr-var-data'><pre>[1 values with dtype=float64]</pre></div></li><li class='xr-var-item'><div class='xr-var-name'><span>log_LOGGERDEVICE2</span></div><div class='xr-var-dims'>()</div><div class='xr-var-dtype'>float64</div><div class='xr-var-preview xr-preview'>...</div><input id='attrs-7e862cda-bf9d-4fa1-adda-7ed2bffcebf2' class='xr-var-attrs-in' type='checkbox' disabled><label for='attrs-7e862cda-bf9d-4fa1-adda-7ed2bffcebf2' title='Show/Hide attributes'><svg class='icon xr-icon-file-text2'><use xlink:href='#icon-file-text2'></use></svg></label><input id='data-fde80d4e-5fe8-47a3-9a77-6be2c47fede4' class='xr-var-data-in' type='checkbox'><label for='data-fde80d4e-5fe8-47a3-9a77-6be2c47fede4' title='Show/Hide data repr'><svg class='icon xr-icon-database'><use xlink:href='#icon-database'></use></svg></label><div class='xr-var-attrs'><dl class='xr-attrs'></dl></div><div class='xr-var-data'><pre>[1 values with dtype=float64]</pre></div></li><li class='xr-var-item'><div class='xr-var-name'><span>log_LOGGERDEVICE3</span></div><div class='xr-var-dims'>()</div><div class='xr-var-dtype'>float64</div><div class='xr-var-preview xr-preview'>...</div><input id='attrs-cf38e18b-47a3-41f5-930a-2e8f26a630b9' class='xr-var-attrs-in' type='checkbox' disabled><label for='attrs-cf38e18b-47a3-41f5-930a-2e8f26a630b9' title='Show/Hide attributes'><svg class='icon xr-icon-file-text2'><use xlink:href='#icon-file-text2'></use></svg></label><input id='data-d8449d54-f3a6-413e-9334-e2f13e296d83' class='xr-var-data-in' type='checkbox'><label for='data-d8449d54-f3a6-413e-9334-e2f13e296d83' title='Show/Hide data repr'><svg class='icon xr-icon-database'><use xlink:href='#icon-database'></use></svg></label><div class='xr-var-attrs'><dl class='xr-attrs'></dl></div><div class='xr-var-data'><pre>[1 values with dtype=float64]</pre></div></li><li class='xr-var-item'><div class='xr-var-name'><span>log_PITCH_GAIN</span></div><div class='xr-var-dims'>()</div><div class='xr-var-dtype'>float64</div><div class='xr-var-preview xr-preview'>...</div><input id='attrs-6537750b-76b3-4f60-9b33-a3bf6e3815eb' class='xr-var-attrs-in' type='checkbox' disabled><label for='attrs-6537750b-76b3-4f60-9b33-a3bf6e3815eb' title='Show/Hide attributes'><svg class='icon xr-icon-file-text2'><use xlink:href='#icon-file-text2'></use></svg></label><input id='data-7da69997-e807-4e64-882e-3a09c94538ad' class='xr-var-data-in' type='checkbox'><label for='data-7da69997-e807-4e64-882e-3a09c94538ad' title='Show/Hide data repr'><svg class='icon xr-icon-database'><use xlink:href='#icon-database'></use></svg></label><div class='xr-var-attrs'><dl class='xr-attrs'></dl></div><div class='xr-var-data'><pre>[1 values with dtype=float64]</pre></div></li><li class='xr-var-item'><div class='xr-var-name'><span>log_D_GRID</span></div><div class='xr-var-dims'>()</div><div class='xr-var-dtype'>float64</div><div class='xr-var-preview xr-preview'>...</div><input id='attrs-97f94864-5ad8-4685-a501-23029fb53bdd' class='xr-var-attrs-in' type='checkbox' disabled><label for='attrs-97f94864-5ad8-4685-a501-23029fb53bdd' title='Show/Hide attributes'><svg class='icon xr-icon-file-text2'><use xlink:href='#icon-file-text2'></use></svg></label><input id='data-f31d8c32-e0d7-4f90-a240-ab5f800d5148' class='xr-var-data-in' type='checkbox'><label for='data-f31d8c32-e0d7-4f90-a240-ab5f800d5148' title='Show/Hide data repr'><svg class='icon xr-icon-database'><use xlink:href='#icon-database'></use></svg></label><div class='xr-var-attrs'><dl class='xr-attrs'></dl></div><div class='xr-var-data'><pre>[1 values with dtype=float64]</pre></div></li><li class='xr-var-item'><div class='xr-var-name'><span>depth_avg_curr_north_gsm</span></div><div class='xr-var-dims'>()</div><div class='xr-var-dtype'>float64</div><div class='xr-var-preview xr-preview'>...</div><input id='attrs-2c557891-79c9-44f8-8937-cf339a2baf10' class='xr-var-attrs-in' type='checkbox' ><label for='attrs-2c557891-79c9-44f8-8937-cf339a2baf10' title='Show/Hide attributes'><svg class='icon xr-icon-file-text2'><use xlink:href='#icon-file-text2'></use></svg></label><input id='data-a80e9d1b-3e9c-4627-9a46-c68d20d720a0' class='xr-var-data-in' type='checkbox'><label for='data-a80e9d1b-3e9c-4627-9a46-c68d20d720a0' title='Show/Hide data repr'><svg class='icon xr-icon-database'><use xlink:href='#icon-database'></use></svg></label><div class='xr-var-attrs'><dl class='xr-attrs'><dt><span>units :</span></dt><dd>m/s</dd><dt><span>comment :</span></dt><dd>Northward component of depth-average current based on gsm</dd></dl></div><div class='xr-var-data'><pre>[1 values with dtype=float64]</pre></div></li><li class='xr-var-item'><div class='xr-var-name'><span>log_CALL_NDIVES</span></div><div class='xr-var-dims'>()</div><div class='xr-var-dtype'>int32</div><div class='xr-var-preview xr-preview'>...</div><input id='attrs-a7aac0da-a5f2-45e5-9297-1f120d7462a6' class='xr-var-attrs-in' type='checkbox' disabled><label for='attrs-a7aac0da-a5f2-45e5-9297-1f120d7462a6' title='Show/Hide attributes'><svg class='icon xr-icon-file-text2'><use xlink:href='#icon-file-text2'></use></svg></label><input id='data-76a132fa-2de2-4acc-9f1f-b3f5fd12db7b' class='xr-var-data-in' type='checkbox'><label for='data-76a132fa-2de2-4acc-9f1f-b3f5fd12db7b' title='Show/Hide data repr'><svg class='icon xr-icon-database'><use xlink:href='#icon-database'></use></svg></label><div class='xr-var-attrs'><dl class='xr-attrs'></dl></div><div class='xr-var-data'><pre>[1 values with dtype=int32]</pre></div></li><li class='xr-var-item'><div class='xr-var-name'><span>log_ALTIM_TOP_MIN_OBSTACLE</span></div><div class='xr-var-dims'>()</div><div class='xr-var-dtype'>float64</div><div class='xr-var-preview xr-preview'>...</div><input id='attrs-69777ede-f561-4998-9ab3-a972a12c2c0e' class='xr-var-attrs-in' type='checkbox' disabled><label for='attrs-69777ede-f561-4998-9ab3-a972a12c2c0e' title='Show/Hide attributes'><svg class='icon xr-icon-file-text2'><use xlink:href='#icon-file-text2'></use></svg></label><input id='data-91431fa3-cf3a-44e0-8b13-dd6a3d3a6334' class='xr-var-data-in' type='checkbox'><label for='data-91431fa3-cf3a-44e0-8b13-dd6a3d3a6334' title='Show/Hide data repr'><svg class='icon xr-icon-database'><use xlink:href='#icon-database'></use></svg></label><div class='xr-var-attrs'><dl class='xr-attrs'></dl></div><div class='xr-var-data'><pre>[1 values with dtype=float64]</pre></div></li><li class='xr-var-item'><div class='xr-var-name'><span>sg_cal_mass</span></div><div class='xr-var-dims'>()</div><div class='xr-var-dtype'>float64</div><div class='xr-var-preview xr-preview'>...</div><input id='attrs-cb8f3b7c-7c57-4c39-9170-ae195906d772' class='xr-var-attrs-in' type='checkbox' ><label for='attrs-cb8f3b7c-7c57-4c39-9170-ae195906d772' title='Show/Hide attributes'><svg class='icon xr-icon-file-text2'><use xlink:href='#icon-file-text2'></use></svg></label><input id='data-eda9b832-3337-4bb3-bdb9-00b3386eac74' class='xr-var-data-in' type='checkbox'><label for='data-eda9b832-3337-4bb3-bdb9-00b3386eac74' title='Show/Hide data repr'><svg class='icon xr-icon-database'><use xlink:href='#icon-database'></use></svg></label><div class='xr-var-attrs'><dl class='xr-attrs'><dt><span>units :</span></dt><dd>kg</dd><dt><span>comment :</span></dt><dd>Mass of the glider</dd></dl></div><div class='xr-var-data'><pre>[1 values with dtype=float64]</pre></div></li><li class='xr-var-item'><div class='xr-var-name'><span>log_ALTIM_FREQUENCY</span></div><div class='xr-var-dims'>()</div><div class='xr-var-dtype'>float64</div><div class='xr-var-preview xr-preview'>...</div><input id='attrs-ad5dc70b-74bf-4cfc-bcc7-927587d49197' class='xr-var-attrs-in' type='checkbox' disabled><label for='attrs-ad5dc70b-74bf-4cfc-bcc7-927587d49197' title='Show/Hide attributes'><svg class='icon xr-icon-file-text2'><use xlink:href='#icon-file-text2'></use></svg></label><input id='data-06d940a9-feaf-4568-9c0d-b7af5c7cf1a0' class='xr-var-data-in' type='checkbox'><label for='data-06d940a9-feaf-4568-9c0d-b7af5c7cf1a0' title='Show/Hide data repr'><svg class='icon xr-icon-database'><use xlink:href='#icon-database'></use></svg></label><div class='xr-var-attrs'><dl class='xr-attrs'></dl></div><div class='xr-var-data'><pre>[1 values with dtype=float64]</pre></div></li><li class='xr-var-item'><div class='xr-var-name'><span>sg_cal_optode_FoilCoefA10</span></div><div class='xr-var-dims'>()</div><div class='xr-var-dtype'>float64</div><div class='xr-var-preview xr-preview'>...</div><input id='attrs-40b2255f-b1f7-4f8b-ba4b-3d7cb7f799f9' class='xr-var-attrs-in' type='checkbox' disabled><label for='attrs-40b2255f-b1f7-4f8b-ba4b-3d7cb7f799f9' title='Show/Hide attributes'><svg class='icon xr-icon-file-text2'><use xlink:href='#icon-file-text2'></use></svg></label><input id='data-64c31978-da4b-4b1f-a691-3fe2ef7a6e4d' class='xr-var-data-in' type='checkbox'><label for='data-64c31978-da4b-4b1f-a691-3fe2ef7a6e4d' title='Show/Hide data repr'><svg class='icon xr-icon-database'><use xlink:href='#icon-database'></use></svg></label><div class='xr-var-attrs'><dl class='xr-attrs'></dl></div><div class='xr-var-data'><pre>[1 values with dtype=float64]</pre></div></li><li class='xr-var-item'><div class='xr-var-name'><span>sg_cal_optode_FoilCoefA12</span></div><div class='xr-var-dims'>()</div><div class='xr-var-dtype'>float64</div><div class='xr-var-preview xr-preview'>...</div><input id='attrs-6200203d-00fa-41cb-a74d-ff16ead647ae' class='xr-var-attrs-in' type='checkbox' disabled><label for='attrs-6200203d-00fa-41cb-a74d-ff16ead647ae' title='Show/Hide attributes'><svg class='icon xr-icon-file-text2'><use xlink:href='#icon-file-text2'></use></svg></label><input id='data-f3ba0b74-d002-4bd4-97c0-93faaa42692c' class='xr-var-data-in' type='checkbox'><label for='data-f3ba0b74-d002-4bd4-97c0-93faaa42692c' title='Show/Hide data repr'><svg class='icon xr-icon-database'><use xlink:href='#icon-database'></use></svg></label><div class='xr-var-attrs'><dl class='xr-attrs'></dl></div><div class='xr-var-data'><pre>[1 values with dtype=float64]</pre></div></li><li class='xr-var-item'><div class='xr-var-name'><span>sg_cal_optode_FoilCoefA13</span></div><div class='xr-var-dims'>()</div><div class='xr-var-dtype'>float64</div><div class='xr-var-preview xr-preview'>...</div><input id='attrs-38fdfb02-d823-46d2-a213-72b63ed88bb2' class='xr-var-attrs-in' type='checkbox' disabled><label for='attrs-38fdfb02-d823-46d2-a213-72b63ed88bb2' title='Show/Hide attributes'><svg class='icon xr-icon-file-text2'><use xlink:href='#icon-file-text2'></use></svg></label><input id='data-7f55d7a8-b075-43cd-b092-c011d14883bb' class='xr-var-data-in' type='checkbox'><label for='data-7f55d7a8-b075-43cd-b092-c011d14883bb' title='Show/Hide data repr'><svg class='icon xr-icon-database'><use xlink:href='#icon-database'></use></svg></label><div class='xr-var-attrs'><dl class='xr-attrs'></dl></div><div class='xr-var-data'><pre>[1 values with dtype=float64]</pre></div></li><li class='xr-var-item'><div class='xr-var-name'><span>sg_cal_optode_FoilCoefA2</span></div><div class='xr-var-dims'>()</div><div class='xr-var-dtype'>float64</div><div class='xr-var-preview xr-preview'>...</div><input id='attrs-ea45ad77-010f-427c-9c5e-f50198052b15' class='xr-var-attrs-in' type='checkbox' disabled><label for='attrs-ea45ad77-010f-427c-9c5e-f50198052b15' title='Show/Hide attributes'><svg class='icon xr-icon-file-text2'><use xlink:href='#icon-file-text2'></use></svg></label><input id='data-891200f0-a046-4983-891a-5dc7571f1ae0' class='xr-var-data-in' type='checkbox'><label for='data-891200f0-a046-4983-891a-5dc7571f1ae0' title='Show/Hide data repr'><svg class='icon xr-icon-database'><use xlink:href='#icon-database'></use></svg></label><div class='xr-var-attrs'><dl class='xr-attrs'></dl></div><div class='xr-var-data'><pre>[1 values with dtype=float64]</pre></div></li><li class='xr-var-item'><div class='xr-var-name'><span>log_COURSE_BIAS</span></div><div class='xr-var-dims'>()</div><div class='xr-var-dtype'>float64</div><div class='xr-var-preview xr-preview'>...</div><input id='attrs-7df41a90-4a2d-4491-ba47-4457a2c717ec' class='xr-var-attrs-in' type='checkbox' disabled><label for='attrs-7df41a90-4a2d-4491-ba47-4457a2c717ec' title='Show/Hide attributes'><svg class='icon xr-icon-file-text2'><use xlink:href='#icon-file-text2'></use></svg></label><input id='data-d1e99c05-614f-47a6-80d8-13fdbdb25290' class='xr-var-data-in' type='checkbox'><label for='data-d1e99c05-614f-47a6-80d8-13fdbdb25290' title='Show/Hide data repr'><svg class='icon xr-icon-database'><use xlink:href='#icon-database'></use></svg></label><div class='xr-var-attrs'><dl class='xr-attrs'></dl></div><div class='xr-var-data'><pre>[1 values with dtype=float64]</pre></div></li><li class='xr-var-item'><div class='xr-var-name'><span>log_T_DIVE</span></div><div class='xr-var-dims'>()</div><div class='xr-var-dtype'>float64</div><div class='xr-var-preview xr-preview'>...</div><input id='attrs-78316729-4391-46d7-9238-34a9da2065d4' class='xr-var-attrs-in' type='checkbox' disabled><label for='attrs-78316729-4391-46d7-9238-34a9da2065d4' title='Show/Hide attributes'><svg class='icon xr-icon-file-text2'><use xlink:href='#icon-file-text2'></use></svg></label><input id='data-2aa9827f-c072-440e-9d58-23f69d969ef5' class='xr-var-data-in' type='checkbox'><label for='data-2aa9827f-c072-440e-9d58-23f69d969ef5' title='Show/Hide data repr'><svg class='icon xr-icon-database'><use xlink:href='#icon-database'></use></svg></label><div class='xr-var-attrs'><dl class='xr-attrs'></dl></div><div class='xr-var-data'><pre>[1 values with dtype=float64]</pre></div></li><li class='xr-var-item'><div class='xr-var-name'><span>sg_cal_optode_FoilCoefA0</span></div><div class='xr-var-dims'>()</div><div class='xr-var-dtype'>float64</div><div class='xr-var-preview xr-preview'>...</div><input id='attrs-50b9b3be-3bef-46ae-8e4e-c01c69488ebf' class='xr-var-attrs-in' type='checkbox' disabled><label for='attrs-50b9b3be-3bef-46ae-8e4e-c01c69488ebf' title='Show/Hide attributes'><svg class='icon xr-icon-file-text2'><use xlink:href='#icon-file-text2'></use></svg></label><input id='data-39acdacd-dc78-4474-88a7-e7d8fe946938' class='xr-var-data-in' type='checkbox'><label for='data-39acdacd-dc78-4474-88a7-e7d8fe946938' title='Show/Hide data repr'><svg class='icon xr-icon-database'><use xlink:href='#icon-database'></use></svg></label><div class='xr-var-attrs'><dl class='xr-attrs'></dl></div><div class='xr-var-data'><pre>[1 values with dtype=float64]</pre></div></li><li class='xr-var-item'><div class='xr-var-name'><span>log_FIX_MISSING_TIMEOUT</span></div><div class='xr-var-dims'>()</div><div class='xr-var-dtype'>float64</div><div class='xr-var-preview xr-preview'>...</div><input id='attrs-09178d7b-3aa6-4e37-9aff-f2179a10a147' class='xr-var-attrs-in' type='checkbox' disabled><label for='attrs-09178d7b-3aa6-4e37-9aff-f2179a10a147' title='Show/Hide attributes'><svg class='icon xr-icon-file-text2'><use xlink:href='#icon-file-text2'></use></svg></label><input id='data-4464ec2c-d93b-4bd5-bca4-df137bc7fa80' class='xr-var-data-in' type='checkbox'><label for='data-4464ec2c-d93b-4bd5-bca4-df137bc7fa80' title='Show/Hide data repr'><svg class='icon xr-icon-database'><use xlink:href='#icon-database'></use></svg></label><div class='xr-var-attrs'><dl class='xr-attrs'></dl></div><div class='xr-var-data'><pre>[1 values with dtype=float64]</pre></div></li><li class='xr-var-item'><div class='xr-var-name'><span>log_PITCH_MIN</span></div><div class='xr-var-dims'>()</div><div class='xr-var-dtype'>int32</div><div class='xr-var-preview xr-preview'>...</div><input id='attrs-90e66450-480a-4455-beb1-760647184c8a' class='xr-var-attrs-in' type='checkbox' disabled><label for='attrs-90e66450-480a-4455-beb1-760647184c8a' title='Show/Hide attributes'><svg class='icon xr-icon-file-text2'><use xlink:href='#icon-file-text2'></use></svg></label><input id='data-264ba96d-b1d3-4573-9b3e-7424c5a16382' class='xr-var-data-in' type='checkbox'><label for='data-264ba96d-b1d3-4573-9b3e-7424c5a16382' title='Show/Hide data repr'><svg class='icon xr-icon-database'><use xlink:href='#icon-database'></use></svg></label><div class='xr-var-attrs'><dl class='xr-attrs'></dl></div><div class='xr-var-data'><pre>[1 values with dtype=int32]</pre></div></li><li class='xr-var-item'><div class='xr-var-name'><span>log__SM_DEPTHo</span></div><div class='xr-var-dims'>()</div><div class='xr-var-dtype'>float64</div><div class='xr-var-preview xr-preview'>...</div><input id='attrs-a9940c1e-e4ca-4f65-bd68-6fb4f5dd40c8' class='xr-var-attrs-in' type='checkbox' disabled><label for='attrs-a9940c1e-e4ca-4f65-bd68-6fb4f5dd40c8' title='Show/Hide attributes'><svg class='icon xr-icon-file-text2'><use xlink:href='#icon-file-text2'></use></svg></label><input id='data-c95011a6-ea2d-49b4-9e91-812ec4624670' class='xr-var-data-in' type='checkbox'><label for='data-c95011a6-ea2d-49b4-9e91-812ec4624670' title='Show/Hide data repr'><svg class='icon xr-icon-database'><use xlink:href='#icon-database'></use></svg></label><div class='xr-var-attrs'><dl class='xr-attrs'></dl></div><div class='xr-var-data'><pre>[1 values with dtype=float64]</pre></div></li><li class='xr-var-item'><div class='xr-var-name'><span>log_ROLL_TIMEOUT</span></div><div class='xr-var-dims'>()</div><div class='xr-var-dtype'>float64</div><div class='xr-var-preview xr-preview'>...</div><input id='attrs-335211dd-b596-4453-945b-c253ff0aeed1' class='xr-var-attrs-in' type='checkbox' disabled><label for='attrs-335211dd-b596-4453-945b-c253ff0aeed1' title='Show/Hide attributes'><svg class='icon xr-icon-file-text2'><use xlink:href='#icon-file-text2'></use></svg></label><input id='data-4bdd4f56-9794-4c71-862d-3efe3d3f99b7' class='xr-var-data-in' type='checkbox'><label for='data-4bdd4f56-9794-4c71-862d-3efe3d3f99b7' title='Show/Hide data repr'><svg class='icon xr-icon-database'><use xlink:href='#icon-database'></use></svg></label><div class='xr-var-attrs'><dl class='xr-attrs'></dl></div><div class='xr-var-data'><pre>[1 values with dtype=float64]</pre></div></li><li class='xr-var-item'><div class='xr-var-name'><span>log_KERMIT</span></div><div class='xr-var-dims'>()</div><div class='xr-var-dtype'>int32</div><div class='xr-var-preview xr-preview'>...</div><input id='attrs-75f7a131-6255-4516-9c08-3aee06c3bd9a' class='xr-var-attrs-in' type='checkbox' disabled><label for='attrs-75f7a131-6255-4516-9c08-3aee06c3bd9a' title='Show/Hide attributes'><svg class='icon xr-icon-file-text2'><use xlink:href='#icon-file-text2'></use></svg></label><input id='data-1e71f0e2-51f8-4ccc-aa8b-73574a06d643' class='xr-var-data-in' type='checkbox'><label for='data-1e71f0e2-51f8-4ccc-aa8b-73574a06d643' title='Show/Hide data repr'><svg class='icon xr-icon-database'><use xlink:href='#icon-database'></use></svg></label><div class='xr-var-attrs'><dl class='xr-attrs'></dl></div><div class='xr-var-data'><pre>[1 values with dtype=int32]</pre></div></li><li class='xr-var-item'><div class='xr-var-name'><span>log_APOGEE_PITCH</span></div><div class='xr-var-dims'>()</div><div class='xr-var-dtype'>float64</div><div class='xr-var-preview xr-preview'>...</div><input id='attrs-044beee2-f7b0-4452-856d-c57d93db488b' class='xr-var-attrs-in' type='checkbox' disabled><label for='attrs-044beee2-f7b0-4452-856d-c57d93db488b' title='Show/Hide attributes'><svg class='icon xr-icon-file-text2'><use xlink:href='#icon-file-text2'></use></svg></label><input id='data-147a90a0-a706-4c12-b975-274f529a5279' class='xr-var-data-in' type='checkbox'><label for='data-147a90a0-a706-4c12-b975-274f529a5279' title='Show/Hide data repr'><svg class='icon xr-icon-database'><use xlink:href='#icon-database'></use></svg></label><div class='xr-var-attrs'><dl class='xr-attrs'></dl></div><div class='xr-var-data'><pre>[1 values with dtype=float64]</pre></div></li><li class='xr-var-item'><div class='xr-var-name'><span>log_MAX_BUOY</span></div><div class='xr-var-dims'>()</div><div class='xr-var-dtype'>float64</div><div class='xr-var-preview xr-preview'>...</div><input id='attrs-ce57171b-3cc9-40c3-b730-dc43b820af00' class='xr-var-attrs-in' type='checkbox' disabled><label for='attrs-ce57171b-3cc9-40c3-b730-dc43b820af00' title='Show/Hide attributes'><svg class='icon xr-icon-file-text2'><use xlink:href='#icon-file-text2'></use></svg></label><input id='data-bed64ef5-03d2-427d-a38d-0ae01bc7789b' class='xr-var-data-in' type='checkbox'><label for='data-bed64ef5-03d2-427d-a38d-0ae01bc7789b' title='Show/Hide data repr'><svg class='icon xr-icon-database'><use xlink:href='#icon-database'></use></svg></label><div class='xr-var-attrs'><dl class='xr-attrs'></dl></div><div class='xr-var-data'><pre>[1 values with dtype=float64]</pre></div></li><li class='xr-var-item'><div class='xr-var-name'><span>log_UNCOM_BLEED</span></div><div class='xr-var-dims'>()</div><div class='xr-var-dtype'>int32</div><div class='xr-var-preview xr-preview'>...</div><input id='attrs-bcd2ed38-dee8-4855-91cb-d92f414d3de2' class='xr-var-attrs-in' type='checkbox' disabled><label for='attrs-bcd2ed38-dee8-4855-91cb-d92f414d3de2' title='Show/Hide attributes'><svg class='icon xr-icon-file-text2'><use xlink:href='#icon-file-text2'></use></svg></label><input id='data-7dae77a8-f5cb-493e-9492-556ca89b7d98' class='xr-var-data-in' type='checkbox'><label for='data-7dae77a8-f5cb-493e-9492-556ca89b7d98' title='Show/Hide data repr'><svg class='icon xr-icon-database'><use xlink:href='#icon-database'></use></svg></label><div class='xr-var-attrs'><dl class='xr-attrs'></dl></div><div class='xr-var-data'><pre>[1 values with dtype=int32]</pre></div></li><li class='xr-var-item'><div class='xr-var-name'><span>log_PRESSURE_SLOPE</span></div><div class='xr-var-dims'>()</div><div class='xr-var-dtype'>float64</div><div class='xr-var-preview xr-preview'>...</div><input id='attrs-b122c530-f2ab-4ce5-89ac-b59df204030b' class='xr-var-attrs-in' type='checkbox' disabled><label for='attrs-b122c530-f2ab-4ce5-89ac-b59df204030b' title='Show/Hide attributes'><svg class='icon xr-icon-file-text2'><use xlink:href='#icon-file-text2'></use></svg></label><input id='data-b8e1441e-7c9d-43d2-a377-2fb10ebe8fb3' class='xr-var-data-in' type='checkbox'><label for='data-b8e1441e-7c9d-43d2-a377-2fb10ebe8fb3' title='Show/Hide data repr'><svg class='icon xr-icon-database'><use xlink:href='#icon-database'></use></svg></label><div class='xr-var-attrs'><dl class='xr-attrs'></dl></div><div class='xr-var-data'><pre>[1 values with dtype=float64]</pre></div></li><li class='xr-var-item'><div class='xr-var-name'><span>sg_cal_abs_compress</span></div><div class='xr-var-dims'>()</div><div class='xr-var-dtype'>float64</div><div class='xr-var-preview xr-preview'>...</div><input id='attrs-bb5199bf-51ff-4046-9770-daa1f438ec7a' class='xr-var-attrs-in' type='checkbox' ><label for='attrs-bb5199bf-51ff-4046-9770-daa1f438ec7a' title='Show/Hide attributes'><svg class='icon xr-icon-file-text2'><use xlink:href='#icon-file-text2'></use></svg></label><input id='data-eae4a5c6-67c4-41ad-a381-abfbcd302bce' class='xr-var-data-in' type='checkbox'><label for='data-eae4a5c6-67c4-41ad-a381-abfbcd302bce' title='Show/Hide data repr'><svg class='icon xr-icon-database'><use xlink:href='#icon-database'></use></svg></label><div class='xr-var-attrs'><dl class='xr-attrs'><dt><span>units :</span></dt><dd>cc/dbar</dd><dt><span>comment :</span></dt><dd>SG vehicle compressibility</dd></dl></div><div class='xr-var-data'><pre>[1 values with dtype=float64]</pre></div></li><li class='xr-var-item'><div class='xr-var-name'><span>log_VBD_MIN</span></div><div class='xr-var-dims'>()</div><div class='xr-var-dtype'>int32</div><div class='xr-var-preview xr-preview'>...</div><input id='attrs-3ad475fe-7eaa-4fbf-ac62-3001bd2294ec' class='xr-var-attrs-in' type='checkbox' disabled><label for='attrs-3ad475fe-7eaa-4fbf-ac62-3001bd2294ec' title='Show/Hide attributes'><svg class='icon xr-icon-file-text2'><use xlink:href='#icon-file-text2'></use></svg></label><input id='data-d43aa5c3-4405-4431-9c3e-26dfa4e89ff2' class='xr-var-data-in' type='checkbox'><label for='data-d43aa5c3-4405-4431-9c3e-26dfa4e89ff2' title='Show/Hide data repr'><svg class='icon xr-icon-database'><use xlink:href='#icon-database'></use></svg></label><div class='xr-var-attrs'><dl class='xr-attrs'></dl></div><div class='xr-var-data'><pre>[1 values with dtype=int32]</pre></div></li><li class='xr-var-item'><div class='xr-var-name'><span>log_ROLL_ADJ_GAIN</span></div><div class='xr-var-dims'>()</div><div class='xr-var-dtype'>float64</div><div class='xr-var-preview xr-preview'>...</div><input id='attrs-41ec666c-59eb-493e-a886-2362194604d2' class='xr-var-attrs-in' type='checkbox' disabled><label for='attrs-41ec666c-59eb-493e-a886-2362194604d2' title='Show/Hide attributes'><svg class='icon xr-icon-file-text2'><use xlink:href='#icon-file-text2'></use></svg></label><input id='data-84a0ceee-62c9-4553-90d3-5be02851ab95' class='xr-var-data-in' type='checkbox'><label for='data-84a0ceee-62c9-4553-90d3-5be02851ab95' title='Show/Hide data repr'><svg class='icon xr-icon-database'><use xlink:href='#icon-database'></use></svg></label><div class='xr-var-attrs'><dl class='xr-attrs'></dl></div><div class='xr-var-data'><pre>[1 values with dtype=float64]</pre></div></li><li class='xr-var-item'><div class='xr-var-name'><span>log_ESCAPE_HEADING</span></div><div class='xr-var-dims'>()</div><div class='xr-var-dtype'>float64</div><div class='xr-var-preview xr-preview'>...</div><input id='attrs-7068dd5e-df48-4459-b04a-e278a6bfefeb' class='xr-var-attrs-in' type='checkbox' disabled><label for='attrs-7068dd5e-df48-4459-b04a-e278a6bfefeb' title='Show/Hide attributes'><svg class='icon xr-icon-file-text2'><use xlink:href='#icon-file-text2'></use></svg></label><input id='data-d9abd21a-1ea4-46a1-9bab-9c269331c5ad' class='xr-var-data-in' type='checkbox'><label for='data-d9abd21a-1ea4-46a1-9bab-9c269331c5ad' title='Show/Hide data repr'><svg class='icon xr-icon-database'><use xlink:href='#icon-database'></use></svg></label><div class='xr-var-attrs'><dl class='xr-attrs'></dl></div><div class='xr-var-data'><pre>[1 values with dtype=float64]</pre></div></li><li class='xr-var-item'><div class='xr-var-name'><span>log_N_FILEKB</span></div><div class='xr-var-dims'>()</div><div class='xr-var-dtype'>int32</div><div class='xr-var-preview xr-preview'>...</div><input id='attrs-02855d89-6cb1-4d25-a942-4709de1c1b06' class='xr-var-attrs-in' type='checkbox' disabled><label for='attrs-02855d89-6cb1-4d25-a942-4709de1c1b06' title='Show/Hide attributes'><svg class='icon xr-icon-file-text2'><use xlink:href='#icon-file-text2'></use></svg></label><input id='data-76a184bf-0d3a-4af4-a668-a9a751b360ec' class='xr-var-data-in' type='checkbox'><label for='data-76a184bf-0d3a-4af4-a668-a9a751b360ec' title='Show/Hide data repr'><svg class='icon xr-icon-database'><use xlink:href='#icon-database'></use></svg></label><div class='xr-var-attrs'><dl class='xr-attrs'></dl></div><div class='xr-var-data'><pre>[1 values with dtype=int32]</pre></div></li><li class='xr-var-item'><div class='xr-var-name'><span>log_HEADING</span></div><div class='xr-var-dims'>()</div><div class='xr-var-dtype'>float64</div><div class='xr-var-preview xr-preview'>...</div><input id='attrs-401b75eb-0026-49db-9171-2d26f6a611f2' class='xr-var-attrs-in' type='checkbox' disabled><label for='attrs-401b75eb-0026-49db-9171-2d26f6a611f2' title='Show/Hide attributes'><svg class='icon xr-icon-file-text2'><use xlink:href='#icon-file-text2'></use></svg></label><input id='data-440ff200-ca13-46bf-a252-64f6fc80888e' class='xr-var-data-in' type='checkbox'><label for='data-440ff200-ca13-46bf-a252-64f6fc80888e' title='Show/Hide data repr'><svg class='icon xr-icon-database'><use xlink:href='#icon-database'></use></svg></label><div class='xr-var-attrs'><dl class='xr-attrs'></dl></div><div class='xr-var-data'><pre>[1 values with dtype=float64]</pre></div></li><li class='xr-var-item'><div class='xr-var-name'><span>log_ROLL_ADJ_DBAND</span></div><div class='xr-var-dims'>()</div><div class='xr-var-dtype'>float64</div><div class='xr-var-preview xr-preview'>...</div><input id='attrs-dded6146-1cdc-4f4c-abd8-fec2a5406472' class='xr-var-attrs-in' type='checkbox' disabled><label for='attrs-dded6146-1cdc-4f4c-abd8-fec2a5406472' title='Show/Hide attributes'><svg class='icon xr-icon-file-text2'><use xlink:href='#icon-file-text2'></use></svg></label><input id='data-4663dd61-ab02-4050-8e0a-522a398f1d44' class='xr-var-data-in' type='checkbox'><label for='data-4663dd61-ab02-4050-8e0a-522a398f1d44' title='Show/Hide data repr'><svg class='icon xr-icon-database'><use xlink:href='#icon-database'></use></svg></label><div class='xr-var-attrs'><dl class='xr-attrs'></dl></div><div class='xr-var-data'><pre>[1 values with dtype=float64]</pre></div></li><li class='xr-var-item'><div class='xr-var-name'><span>log_C_VBD</span></div><div class='xr-var-dims'>()</div><div class='xr-var-dtype'>int32</div><div class='xr-var-preview xr-preview'>...</div><input id='attrs-1a277f28-a46d-4cd7-a51c-995f27bcc428' class='xr-var-attrs-in' type='checkbox' disabled><label for='attrs-1a277f28-a46d-4cd7-a51c-995f27bcc428' title='Show/Hide attributes'><svg class='icon xr-icon-file-text2'><use xlink:href='#icon-file-text2'></use></svg></label><input id='data-dd058139-b024-4d04-8961-548ba57a479d' class='xr-var-data-in' type='checkbox'><label for='data-dd058139-b024-4d04-8961-548ba57a479d' title='Show/Hide data repr'><svg class='icon xr-icon-database'><use xlink:href='#icon-database'></use></svg></label><div class='xr-var-attrs'><dl class='xr-attrs'></dl></div><div class='xr-var-data'><pre>[1 values with dtype=int32]</pre></div></li><li class='xr-var-item'><div class='xr-var-name'><span>sg_cal_sg_configuration</span></div><div class='xr-var-dims'>()</div><div class='xr-var-dtype'>int32</div><div class='xr-var-preview xr-preview'>...</div><input id='attrs-a5b050d7-b59a-4d20-bdd7-2bb1c5a124ac' class='xr-var-attrs-in' type='checkbox' ><label for='attrs-a5b050d7-b59a-4d20-bdd7-2bb1c5a124ac' title='Show/Hide attributes'><svg class='icon xr-icon-file-text2'><use xlink:href='#icon-file-text2'></use></svg></label><input id='data-89c56afa-8c16-4023-81d5-1cfb2ff16e8e' class='xr-var-data-in' type='checkbox'><label for='data-89c56afa-8c16-4023-81d5-1cfb2ff16e8e' title='Show/Hide data repr'><svg class='icon xr-icon-database'><use xlink:href='#icon-database'></use></svg></label><div class='xr-var-attrs'><dl class='xr-attrs'><dt><span>comment :</span></dt><dd>The general configuration of the glider</dd></dl></div><div class='xr-var-data'><pre>[1 values with dtype=int32]</pre></div></li><li class='xr-var-item'><div class='xr-var-name'><span>log_TGT_DEFAULT_LAT</span></div><div class='xr-var-dims'>()</div><div class='xr-var-dtype'>float64</div><div class='xr-var-preview xr-preview'>...</div><input id='attrs-b44011dc-f3e3-4adc-b6e2-f5f3f59ee586' class='xr-var-attrs-in' type='checkbox' disabled><label for='attrs-b44011dc-f3e3-4adc-b6e2-f5f3f59ee586' title='Show/Hide attributes'><svg class='icon xr-icon-file-text2'><use xlink:href='#icon-file-text2'></use></svg></label><input id='data-39f37a93-ccd0-4598-a582-b08e86183543' class='xr-var-data-in' type='checkbox'><label for='data-39f37a93-ccd0-4598-a582-b08e86183543' title='Show/Hide data repr'><svg class='icon xr-icon-database'><use xlink:href='#icon-database'></use></svg></label><div class='xr-var-attrs'><dl class='xr-attrs'></dl></div><div class='xr-var-data'><pre>[1 values with dtype=float64]</pre></div></li><li class='xr-var-item'><div class='xr-var-name'><span>log_ALTIM_PING_DELTA</span></div><div class='xr-var-dims'>()</div><div class='xr-var-dtype'>float64</div><div class='xr-var-preview xr-preview'>...</div><input id='attrs-38a06232-f9b6-4339-8f5a-982d5a5c821d' class='xr-var-attrs-in' type='checkbox' disabled><label for='attrs-38a06232-f9b6-4339-8f5a-982d5a5c821d' title='Show/Hide attributes'><svg class='icon xr-icon-file-text2'><use xlink:href='#icon-file-text2'></use></svg></label><input id='data-2c169d77-6621-4712-b617-33a56dc82717' class='xr-var-data-in' type='checkbox'><label for='data-2c169d77-6621-4712-b617-33a56dc82717' title='Show/Hide data repr'><svg class='icon xr-icon-database'><use xlink:href='#icon-database'></use></svg></label><div class='xr-var-attrs'><dl class='xr-attrs'></dl></div><div class='xr-var-data'><pre>[1 values with dtype=float64]</pre></div></li><li class='xr-var-item'><div class='xr-var-name'><span>log_COMPASS_USE</span></div><div class='xr-var-dims'>()</div><div class='xr-var-dtype'>int32</div><div class='xr-var-preview xr-preview'>...</div><input id='attrs-58839ad3-8947-4584-88fa-4444492bd06d' class='xr-var-attrs-in' type='checkbox' disabled><label for='attrs-58839ad3-8947-4584-88fa-4444492bd06d' title='Show/Hide attributes'><svg class='icon xr-icon-file-text2'><use xlink:href='#icon-file-text2'></use></svg></label><input id='data-cc8ac77d-8d42-4ce3-9741-c3161ba8e83a' class='xr-var-data-in' type='checkbox'><label for='data-cc8ac77d-8d42-4ce3-9741-c3161ba8e83a' title='Show/Hide data repr'><svg class='icon xr-icon-database'><use xlink:href='#icon-database'></use></svg></label><div class='xr-var-attrs'><dl class='xr-attrs'></dl></div><div class='xr-var-data'><pre>[1 values with dtype=int32]</pre></div></li><li class='xr-var-item'><div class='xr-var-name'><span>log_FG_AHR_24Vo</span></div><div class='xr-var-dims'>()</div><div class='xr-var-dtype'>float64</div><div class='xr-var-preview xr-preview'>...</div><input id='attrs-bd14a19d-8b2d-45d9-948f-1723027348b5' class='xr-var-attrs-in' type='checkbox' disabled><label for='attrs-bd14a19d-8b2d-45d9-948f-1723027348b5' title='Show/Hide attributes'><svg class='icon xr-icon-file-text2'><use xlink:href='#icon-file-text2'></use></svg></label><input id='data-ba040ff5-b557-4814-80f2-c926ee05c25d' class='xr-var-data-in' type='checkbox'><label for='data-ba040ff5-b557-4814-80f2-c926ee05c25d' title='Show/Hide data repr'><svg class='icon xr-icon-database'><use xlink:href='#icon-database'></use></svg></label><div class='xr-var-attrs'><dl class='xr-attrs'></dl></div><div class='xr-var-data'><pre>[1 values with dtype=float64]</pre></div></li><li class='xr-var-item'><div class='xr-var-name'><span>log_T_BOOST</span></div><div class='xr-var-dims'>()</div><div class='xr-var-dtype'>float64</div><div class='xr-var-preview xr-preview'>...</div><input id='attrs-871d9a0f-d613-4a61-9820-e9c514f39d8a' class='xr-var-attrs-in' type='checkbox' disabled><label for='attrs-871d9a0f-d613-4a61-9820-e9c514f39d8a' title='Show/Hide attributes'><svg class='icon xr-icon-file-text2'><use xlink:href='#icon-file-text2'></use></svg></label><input id='data-e1bf339b-3ff6-4d21-819b-9c9f51bae622' class='xr-var-data-in' type='checkbox'><label for='data-e1bf339b-3ff6-4d21-819b-9c9f51bae622' title='Show/Hide data repr'><svg class='icon xr-icon-database'><use xlink:href='#icon-database'></use></svg></label><div class='xr-var-attrs'><dl class='xr-attrs'></dl></div><div class='xr-var-data'><pre>[1 values with dtype=float64]</pre></div></li><li class='xr-var-item'><div class='xr-var-name'><span>log_D_SAFE</span></div><div class='xr-var-dims'>()</div><div class='xr-var-dtype'>float64</div><div class='xr-var-preview xr-preview'>...</div><input id='attrs-7a38f206-eb70-43c8-88a8-70c73dbe2117' class='xr-var-attrs-in' type='checkbox' disabled><label for='attrs-7a38f206-eb70-43c8-88a8-70c73dbe2117' title='Show/Hide attributes'><svg class='icon xr-icon-file-text2'><use xlink:href='#icon-file-text2'></use></svg></label><input id='data-9dc29f80-2bae-4b3f-9072-47ea3b3c128a' class='xr-var-data-in' type='checkbox'><label for='data-9dc29f80-2bae-4b3f-9072-47ea3b3c128a' title='Show/Hide data repr'><svg class='icon xr-icon-database'><use xlink:href='#icon-database'></use></svg></label><div class='xr-var-attrs'><dl class='xr-attrs'></dl></div><div class='xr-var-data'><pre>[1 values with dtype=float64]</pre></div></li><li class='xr-var-item'><div class='xr-var-name'><span>flight_avg_speed_east_gsm</span></div><div class='xr-var-dims'>()</div><div class='xr-var-dtype'>float64</div><div class='xr-var-preview xr-preview'>...</div><input id='attrs-bcaf7205-be6d-4ce7-a637-8c8a4a77b626' class='xr-var-attrs-in' type='checkbox' ><label for='attrs-bcaf7205-be6d-4ce7-a637-8c8a4a77b626' title='Show/Hide attributes'><svg class='icon xr-icon-file-text2'><use xlink:href='#icon-file-text2'></use></svg></label><input id='data-79ad9cde-254f-4bb8-9ac5-4cdf7925d751' class='xr-var-data-in' type='checkbox'><label for='data-79ad9cde-254f-4bb8-9ac5-4cdf7925d751' title='Show/Hide data repr'><svg class='icon xr-icon-database'><use xlink:href='#icon-database'></use></svg></label><div class='xr-var-attrs'><dl class='xr-attrs'><dt><span>units :</span></dt><dd>m/s</dd><dt><span>comment :</span></dt><dd>Eastward component of flight average speed based on gsm</dd></dl></div><div class='xr-var-data'><pre>[1 values with dtype=float64]</pre></div></li><li class='xr-var-item'><div class='xr-var-name'><span>log_TCM_ROLL_OFFSET</span></div><div class='xr-var-dims'>()</div><div class='xr-var-dtype'>float64</div><div class='xr-var-preview xr-preview'>...</div><input id='attrs-57fdc17e-e3ea-43c2-ba1f-52d9c0cb244f' class='xr-var-attrs-in' type='checkbox' disabled><label for='attrs-57fdc17e-e3ea-43c2-ba1f-52d9c0cb244f' title='Show/Hide attributes'><svg class='icon xr-icon-file-text2'><use xlink:href='#icon-file-text2'></use></svg></label><input id='data-38a512f4-83fd-46e3-b080-03af5d2779a9' class='xr-var-data-in' type='checkbox'><label for='data-38a512f4-83fd-46e3-b080-03af5d2779a9' title='Show/Hide data repr'><svg class='icon xr-icon-database'><use xlink:href='#icon-database'></use></svg></label><div class='xr-var-attrs'><dl class='xr-attrs'></dl></div><div class='xr-var-data'><pre>[1 values with dtype=float64]</pre></div></li><li class='xr-var-item'><div class='xr-var-name'><span>log_GPS_DEVICE</span></div><div class='xr-var-dims'>()</div><div class='xr-var-dtype'>float64</div><div class='xr-var-preview xr-preview'>...</div><input id='attrs-56e41dbc-06c1-40b7-98f2-83096d001e6b' class='xr-var-attrs-in' type='checkbox' disabled><label for='attrs-56e41dbc-06c1-40b7-98f2-83096d001e6b' title='Show/Hide attributes'><svg class='icon xr-icon-file-text2'><use xlink:href='#icon-file-text2'></use></svg></label><input id='data-42f5ae01-323f-48b5-bf30-5f42e94ba706' class='xr-var-data-in' type='checkbox'><label for='data-42f5ae01-323f-48b5-bf30-5f42e94ba706' title='Show/Hide data repr'><svg class='icon xr-icon-database'><use xlink:href='#icon-database'></use></svg></label><div class='xr-var-attrs'><dl class='xr-attrs'></dl></div><div class='xr-var-data'><pre>[1 values with dtype=float64]</pre></div></li><li class='xr-var-item'><div class='xr-var-name'><span>log_FG_AHR_10Vo</span></div><div class='xr-var-dims'>()</div><div class='xr-var-dtype'>float64</div><div class='xr-var-preview xr-preview'>...</div><input id='attrs-93745730-a585-4e06-8b1b-23a5ba764ae7' class='xr-var-attrs-in' type='checkbox' disabled><label for='attrs-93745730-a585-4e06-8b1b-23a5ba764ae7' title='Show/Hide attributes'><svg class='icon xr-icon-file-text2'><use xlink:href='#icon-file-text2'></use></svg></label><input id='data-01be7262-834e-48a0-8635-0b91ac2dbc2c' class='xr-var-data-in' type='checkbox'><label for='data-01be7262-834e-48a0-8635-0b91ac2dbc2c' title='Show/Hide data repr'><svg class='icon xr-icon-database'><use xlink:href='#icon-database'></use></svg></label><div class='xr-var-attrs'><dl class='xr-attrs'></dl></div><div class='xr-var-data'><pre>[1 values with dtype=float64]</pre></div></li><li class='xr-var-item'><div class='xr-var-name'><span>log_T_GPS_CHARGE</span></div><div class='xr-var-dims'>()</div><div class='xr-var-dtype'>float64</div><div class='xr-var-preview xr-preview'>...</div><input id='attrs-1755f6d8-8292-42b4-a829-fc518e8ef420' class='xr-var-attrs-in' type='checkbox' disabled><label for='attrs-1755f6d8-8292-42b4-a829-fc518e8ef420' title='Show/Hide attributes'><svg class='icon xr-icon-file-text2'><use xlink:href='#icon-file-text2'></use></svg></label><input id='data-4b41dfe8-6060-48c9-92c0-1c3db56f8aa2' class='xr-var-data-in' type='checkbox'><label for='data-4b41dfe8-6060-48c9-92c0-1c3db56f8aa2' title='Show/Hide data repr'><svg class='icon xr-icon-database'><use xlink:href='#icon-database'></use></svg></label><div class='xr-var-attrs'><dl class='xr-attrs'></dl></div><div class='xr-var-data'><pre>[1 values with dtype=float64]</pre></div></li><li class='xr-var-item'><div class='xr-var-name'><span>log_CALL_TRIES</span></div><div class='xr-var-dims'>()</div><div class='xr-var-dtype'>int32</div><div class='xr-var-preview xr-preview'>...</div><input id='attrs-2dfc953d-edd0-4da5-af64-17f96b2e472b' class='xr-var-attrs-in' type='checkbox' disabled><label for='attrs-2dfc953d-edd0-4da5-af64-17f96b2e472b' title='Show/Hide attributes'><svg class='icon xr-icon-file-text2'><use xlink:href='#icon-file-text2'></use></svg></label><input id='data-aa6916b7-46f7-4d7f-91bc-aa43fef2f435' class='xr-var-data-in' type='checkbox'><label for='data-aa6916b7-46f7-4d7f-91bc-aa43fef2f435' title='Show/Hide data repr'><svg class='icon xr-icon-database'><use xlink:href='#icon-database'></use></svg></label><div class='xr-var-attrs'><dl class='xr-attrs'></dl></div><div class='xr-var-data'><pre>[1 values with dtype=int32]</pre></div></li><li class='xr-var-item'><div class='xr-var-name'><span>log_D_SURF</span></div><div class='xr-var-dims'>()</div><div class='xr-var-dtype'>float64</div><div class='xr-var-preview xr-preview'>...</div><input id='attrs-463f6ebb-285a-4647-92bb-e50533ba09f0' class='xr-var-attrs-in' type='checkbox' disabled><label for='attrs-463f6ebb-285a-4647-92bb-e50533ba09f0' title='Show/Hide attributes'><svg class='icon xr-icon-file-text2'><use xlink:href='#icon-file-text2'></use></svg></label><input id='data-261d4fcc-91c7-4077-814d-62eb16270a7a' class='xr-var-data-in' type='checkbox'><label for='data-261d4fcc-91c7-4077-814d-62eb16270a7a' title='Show/Hide data repr'><svg class='icon xr-icon-database'><use xlink:href='#icon-database'></use></svg></label><div class='xr-var-attrs'><dl class='xr-attrs'></dl></div><div class='xr-var-data'><pre>[1 values with dtype=float64]</pre></div></li><li class='xr-var-item'><div class='xr-var-name'><span>log_RAFOS_PEAK_OFFSET</span></div><div class='xr-var-dims'>()</div><div class='xr-var-dtype'>float64</div><div class='xr-var-preview xr-preview'>...</div><input id='attrs-a6bd20e3-48a2-4767-bc2d-c5cca534e60f' class='xr-var-attrs-in' type='checkbox' disabled><label for='attrs-a6bd20e3-48a2-4767-bc2d-c5cca534e60f' title='Show/Hide attributes'><svg class='icon xr-icon-file-text2'><use xlink:href='#icon-file-text2'></use></svg></label><input id='data-d06c1e8c-101e-40b5-8c8e-faca5289fcec' class='xr-var-data-in' type='checkbox'><label for='data-d06c1e8c-101e-40b5-8c8e-faca5289fcec' title='Show/Hide data repr'><svg class='icon xr-icon-database'><use xlink:href='#icon-database'></use></svg></label><div class='xr-var-attrs'><dl class='xr-attrs'></dl></div><div class='xr-var-data'><pre>[1 values with dtype=float64]</pre></div></li><li class='xr-var-item'><div class='xr-var-name'><span>log_T_NO_W</span></div><div class='xr-var-dims'>()</div><div class='xr-var-dtype'>float64</div><div class='xr-var-preview xr-preview'>...</div><input id='attrs-768c5baa-7725-43ef-8ab7-d8b53c1beda5' class='xr-var-attrs-in' type='checkbox' disabled><label for='attrs-768c5baa-7725-43ef-8ab7-d8b53c1beda5' title='Show/Hide attributes'><svg class='icon xr-icon-file-text2'><use xlink:href='#icon-file-text2'></use></svg></label><input id='data-4c81731a-769f-4a04-93c9-3b18c2927b25' class='xr-var-data-in' type='checkbox'><label for='data-4c81731a-769f-4a04-93c9-3b18c2927b25' title='Show/Hide data repr'><svg class='icon xr-icon-database'><use xlink:href='#icon-database'></use></svg></label><div class='xr-var-attrs'><dl class='xr-attrs'></dl></div><div class='xr-var-data'><pre>[1 values with dtype=float64]</pre></div></li><li class='xr-var-item'><div class='xr-var-name'><span>sg_cal_vbd_cnts_per_cc</span></div><div class='xr-var-dims'>()</div><div class='xr-var-dtype'>float64</div><div class='xr-var-preview xr-preview'>...</div><input id='attrs-4e24c833-601a-488a-8148-1bf394022243' class='xr-var-attrs-in' type='checkbox' disabled><label for='attrs-4e24c833-601a-488a-8148-1bf394022243' title='Show/Hide attributes'><svg class='icon xr-icon-file-text2'><use xlink:href='#icon-file-text2'></use></svg></label><input id='data-48c7c7f6-d14b-4c57-8dc9-91dd952fda1f' class='xr-var-data-in' type='checkbox'><label for='data-48c7c7f6-d14b-4c57-8dc9-91dd952fda1f' title='Show/Hide data repr'><svg class='icon xr-icon-database'><use xlink:href='#icon-database'></use></svg></label><div class='xr-var-attrs'><dl class='xr-attrs'></dl></div><div class='xr-var-data'><pre>[1 values with dtype=float64]</pre></div></li><li class='xr-var-item'><div class='xr-var-name'><span>log_ALTIM_BOTTOM_TURN_MARGIN</span></div><div class='xr-var-dims'>()</div><div class='xr-var-dtype'>float64</div><div class='xr-var-preview xr-preview'>...</div><input id='attrs-61561054-01e7-4a76-9d29-4ba3b4fa20bc' class='xr-var-attrs-in' type='checkbox' disabled><label for='attrs-61561054-01e7-4a76-9d29-4ba3b4fa20bc' title='Show/Hide attributes'><svg class='icon xr-icon-file-text2'><use xlink:href='#icon-file-text2'></use></svg></label><input id='data-250f5cd3-2031-4020-87ee-39569e98ddf8' class='xr-var-data-in' type='checkbox'><label for='data-250f5cd3-2031-4020-87ee-39569e98ddf8' title='Show/Hide data repr'><svg class='icon xr-icon-database'><use xlink:href='#icon-database'></use></svg></label><div class='xr-var-attrs'><dl class='xr-attrs'></dl></div><div class='xr-var-data'><pre>[1 values with dtype=float64]</pre></div></li><li class='xr-var-item'><div class='xr-var-name'><span>log_VBD_PUMP_AD_RATE_APOGEE</span></div><div class='xr-var-dims'>()</div><div class='xr-var-dtype'>float64</div><div class='xr-var-preview xr-preview'>...</div><input id='attrs-b924b6dc-edc5-4046-b6ca-dd57fa390927' class='xr-var-attrs-in' type='checkbox' disabled><label for='attrs-b924b6dc-edc5-4046-b6ca-dd57fa390927' title='Show/Hide attributes'><svg class='icon xr-icon-file-text2'><use xlink:href='#icon-file-text2'></use></svg></label><input id='data-141c4e9e-1b77-4313-920f-bfaa17552dc5' class='xr-var-data-in' type='checkbox'><label for='data-141c4e9e-1b77-4313-920f-bfaa17552dc5' title='Show/Hide data repr'><svg class='icon xr-icon-database'><use xlink:href='#icon-database'></use></svg></label><div class='xr-var-attrs'><dl class='xr-attrs'></dl></div><div class='xr-var-data'><pre>[1 values with dtype=float64]</pre></div></li><li class='xr-var-item'><div class='xr-var-name'><span>log_FG_AHR_10V</span></div><div class='xr-var-dims'>()</div><div class='xr-var-dtype'>float64</div><div class='xr-var-preview xr-preview'>...</div><input id='attrs-4d6bf3c0-4c5a-4ac1-8712-ad47a4a93a91' class='xr-var-attrs-in' type='checkbox' disabled><label for='attrs-4d6bf3c0-4c5a-4ac1-8712-ad47a4a93a91' title='Show/Hide attributes'><svg class='icon xr-icon-file-text2'><use xlink:href='#icon-file-text2'></use></svg></label><input id='data-a340d063-a704-4a88-bcd2-7acc6d035384' class='xr-var-data-in' type='checkbox'><label for='data-a340d063-a704-4a88-bcd2-7acc6d035384' title='Show/Hide data repr'><svg class='icon xr-icon-database'><use xlink:href='#icon-database'></use></svg></label><div class='xr-var-attrs'><dl class='xr-attrs'></dl></div><div class='xr-var-data'><pre>[1 values with dtype=float64]</pre></div></li><li class='xr-var-item'><div class='xr-var-name'><span>log_ALTIM_BOTTOM_PING_RANGE</span></div><div class='xr-var-dims'>()</div><div class='xr-var-dtype'>float64</div><div class='xr-var-preview xr-preview'>...</div><input id='attrs-58f0f89d-1409-49cf-9c6e-b86a1e17f26c' class='xr-var-attrs-in' type='checkbox' disabled><label for='attrs-58f0f89d-1409-49cf-9c6e-b86a1e17f26c' title='Show/Hide attributes'><svg class='icon xr-icon-file-text2'><use xlink:href='#icon-file-text2'></use></svg></label><input id='data-f5ff4f63-0438-485e-a6bb-6fc0bcc8f14f' class='xr-var-data-in' type='checkbox'><label for='data-f5ff4f63-0438-485e-a6bb-6fc0bcc8f14f' title='Show/Hide data repr'><svg class='icon xr-icon-database'><use xlink:href='#icon-database'></use></svg></label><div class='xr-var-attrs'><dl class='xr-attrs'></dl></div><div class='xr-var-data'><pre>[1 values with dtype=float64]</pre></div></li><li class='xr-var-item'><div class='xr-var-name'><span>log_FERRY_MAX</span></div><div class='xr-var-dims'>()</div><div class='xr-var-dtype'>float64</div><div class='xr-var-preview xr-preview'>...</div><input id='attrs-6196788d-417b-4bb7-8994-7eaf21df6de8' class='xr-var-attrs-in' type='checkbox' disabled><label for='attrs-6196788d-417b-4bb7-8994-7eaf21df6de8' title='Show/Hide attributes'><svg class='icon xr-icon-file-text2'><use xlink:href='#icon-file-text2'></use></svg></label><input id='data-8970bc1b-f184-49e0-8dd3-100b12bce7fc' class='xr-var-data-in' type='checkbox'><label for='data-8970bc1b-f184-49e0-8dd3-100b12bce7fc' title='Show/Hide data repr'><svg class='icon xr-icon-database'><use xlink:href='#icon-database'></use></svg></label><div class='xr-var-attrs'><dl class='xr-attrs'></dl></div><div class='xr-var-data'><pre>[1 values with dtype=float64]</pre></div></li><li class='xr-var-item'><div class='xr-var-name'><span>flight_avg_speed_north_gsm</span></div><div class='xr-var-dims'>()</div><div class='xr-var-dtype'>float64</div><div class='xr-var-preview xr-preview'>...</div><input id='attrs-50f5263d-f46f-4df4-bca9-6e5dd124a4b3' class='xr-var-attrs-in' type='checkbox' ><label for='attrs-50f5263d-f46f-4df4-bca9-6e5dd124a4b3' title='Show/Hide attributes'><svg class='icon xr-icon-file-text2'><use xlink:href='#icon-file-text2'></use></svg></label><input id='data-06da2f43-1739-4c55-b07a-bf7256d4b9dc' class='xr-var-data-in' type='checkbox'><label for='data-06da2f43-1739-4c55-b07a-bf7256d4b9dc' title='Show/Hide data repr'><svg class='icon xr-icon-database'><use xlink:href='#icon-database'></use></svg></label><div class='xr-var-attrs'><dl class='xr-attrs'><dt><span>units :</span></dt><dd>m/s</dd><dt><span>comment :</span></dt><dd>Northward component of flight average speed based on gsm</dd></dl></div><div class='xr-var-data'><pre>[1 values with dtype=float64]</pre></div></li><li class='xr-var-item'><div class='xr-var-name'><span>sg_cal_rho0</span></div><div class='xr-var-dims'>()</div><div class='xr-var-dtype'>float64</div><div class='xr-var-preview xr-preview'>...</div><input id='attrs-0d54849f-d35e-413c-9e3d-efa9481c83b2' class='xr-var-attrs-in' type='checkbox' ><label for='attrs-0d54849f-d35e-413c-9e3d-efa9481c83b2' title='Show/Hide attributes'><svg class='icon xr-icon-file-text2'><use xlink:href='#icon-file-text2'></use></svg></label><input id='data-b3b73416-03fd-44b9-8dff-91202aeccc04' class='xr-var-data-in' type='checkbox'><label for='data-b3b73416-03fd-44b9-8dff-91202aeccc04' title='Show/Hide data repr'><svg class='icon xr-icon-database'><use xlink:href='#icon-database'></use></svg></label><div class='xr-var-attrs'><dl class='xr-attrs'><dt><span>units :</span></dt><dd>kg/m^3</dd><dt><span>comment :</span></dt><dd>Typical expected density of seawater for this deployment</dd></dl></div><div class='xr-var-data'><pre>[1 values with dtype=float64]</pre></div></li><li class='xr-var-item'><div class='xr-var-name'><span>log_DIVE</span></div><div class='xr-var-dims'>()</div><div class='xr-var-dtype'>int32</div><div class='xr-var-preview xr-preview'>...</div><input id='attrs-7fa1fbd1-731e-4660-bdf4-927063c5afbc' class='xr-var-attrs-in' type='checkbox' disabled><label for='attrs-7fa1fbd1-731e-4660-bdf4-927063c5afbc' title='Show/Hide attributes'><svg class='icon xr-icon-file-text2'><use xlink:href='#icon-file-text2'></use></svg></label><input id='data-5cb42900-5dc9-4743-af2b-cc05f613a0d9' class='xr-var-data-in' type='checkbox'><label for='data-5cb42900-5dc9-4743-af2b-cc05f613a0d9' title='Show/Hide data repr'><svg class='icon xr-icon-database'><use xlink:href='#icon-database'></use></svg></label><div class='xr-var-attrs'><dl class='xr-attrs'></dl></div><div class='xr-var-data'><pre>[1 values with dtype=int32]</pre></div></li><li class='xr-var-item'><div class='xr-var-name'><span>log_PITCH_TIMEOUT</span></div><div class='xr-var-dims'>()</div><div class='xr-var-dtype'>float64</div><div class='xr-var-preview xr-preview'>...</div><input id='attrs-b13b004f-69a3-44fd-a03f-d45315a45be5' class='xr-var-attrs-in' type='checkbox' disabled><label for='attrs-b13b004f-69a3-44fd-a03f-d45315a45be5' title='Show/Hide attributes'><svg class='icon xr-icon-file-text2'><use xlink:href='#icon-file-text2'></use></svg></label><input id='data-3de27981-d7c9-4cf2-aee3-67aa3fd9aea7' class='xr-var-data-in' type='checkbox'><label for='data-3de27981-d7c9-4cf2-aee3-67aa3fd9aea7' title='Show/Hide data repr'><svg class='icon xr-icon-database'><use xlink:href='#icon-database'></use></svg></label><div class='xr-var-attrs'><dl class='xr-attrs'></dl></div><div class='xr-var-data'><pre>[1 values with dtype=float64]</pre></div></li><li class='xr-var-item'><div class='xr-var-name'><span>log_HD_A</span></div><div class='xr-var-dims'>()</div><div class='xr-var-dtype'>float64</div><div class='xr-var-preview xr-preview'>...</div><input id='attrs-409a17b7-59a3-4847-88c1-39d20e4044a5' class='xr-var-attrs-in' type='checkbox' ><label for='attrs-409a17b7-59a3-4847-88c1-39d20e4044a5' title='Show/Hide attributes'><svg class='icon xr-icon-file-text2'><use xlink:href='#icon-file-text2'></use></svg></label><input id='data-cefd220b-7745-4bed-9422-29fc20270180' class='xr-var-data-in' type='checkbox'><label for='data-cefd220b-7745-4bed-9422-29fc20270180' title='Show/Hide data repr'><svg class='icon xr-icon-database'><use xlink:href='#icon-database'></use></svg></label><div class='xr-var-attrs'><dl class='xr-attrs'><dt><span>comment :</span></dt><dd>Hydrodynamic lift factor for given hull shape (1/degrees of attack angle)</dd></dl></div><div class='xr-var-data'><pre>[1 values with dtype=float64]</pre></div></li><li class='xr-var-item'><div class='xr-var-name'><span>log_HD_B</span></div><div class='xr-var-dims'>()</div><div class='xr-var-dtype'>float64</div><div class='xr-var-preview xr-preview'>...</div><input id='attrs-5e2d3f75-29cd-4ea0-ba76-44865321aaab' class='xr-var-attrs-in' type='checkbox' ><label for='attrs-5e2d3f75-29cd-4ea0-ba76-44865321aaab' title='Show/Hide attributes'><svg class='icon xr-icon-file-text2'><use xlink:href='#icon-file-text2'></use></svg></label><input id='data-9a2eef7f-0642-4fbb-b224-1ae8bf91e392' class='xr-var-data-in' type='checkbox'><label for='data-9a2eef7f-0642-4fbb-b224-1ae8bf91e392' title='Show/Hide data repr'><svg class='icon xr-icon-database'><use xlink:href='#icon-database'></use></svg></label><div class='xr-var-attrs'><dl class='xr-attrs'><dt><span>comment :</span></dt><dd>Hydrodynamic drag factor for given hull shape (Pa^(-1/4))</dd></dl></div><div class='xr-var-data'><pre>[1 values with dtype=float64]</pre></div></li><li class='xr-var-item'><div class='xr-var-name'><span>log_HD_C</span></div><div class='xr-var-dims'>()</div><div class='xr-var-dtype'>float64</div><div class='xr-var-preview xr-preview'>...</div><input id='attrs-2619f714-829d-415f-a4e4-e3938ece4154' class='xr-var-attrs-in' type='checkbox' ><label for='attrs-2619f714-829d-415f-a4e4-e3938ece4154' title='Show/Hide attributes'><svg class='icon xr-icon-file-text2'><use xlink:href='#icon-file-text2'></use></svg></label><input id='data-1938e03b-16fd-4247-a2f1-a28f6f1119fc' class='xr-var-data-in' type='checkbox'><label for='data-1938e03b-16fd-4247-a2f1-a28f6f1119fc' title='Show/Hide data repr'><svg class='icon xr-icon-database'><use xlink:href='#icon-database'></use></svg></label><div class='xr-var-attrs'><dl class='xr-attrs'><dt><span>comment :</span></dt><dd>Hydrodynamic induced drag factor for given hull shape (1/degrees^2 of attack angle)</dd></dl></div><div class='xr-var-data'><pre>[1 values with dtype=float64]</pre></div></li><li class='xr-var-item'><div class='xr-var-name'><span>log_D_PITCH</span></div><div class='xr-var-dims'>()</div><div class='xr-var-dtype'>float64</div><div class='xr-var-preview xr-preview'>...</div><input id='attrs-759cff78-28a2-4342-a848-aa18c7e781ba' class='xr-var-attrs-in' type='checkbox' disabled><label for='attrs-759cff78-28a2-4342-a848-aa18c7e781ba' title='Show/Hide attributes'><svg class='icon xr-icon-file-text2'><use xlink:href='#icon-file-text2'></use></svg></label><input id='data-cd6cafe7-c3ad-4005-8f01-095f1dd05e86' class='xr-var-data-in' type='checkbox'><label for='data-cd6cafe7-c3ad-4005-8f01-095f1dd05e86' title='Show/Hide data repr'><svg class='icon xr-icon-database'><use xlink:href='#icon-database'></use></svg></label><div class='xr-var-attrs'><dl class='xr-attrs'></dl></div><div class='xr-var-data'><pre>[1 values with dtype=float64]</pre></div></li><li class='xr-var-item'><div class='xr-var-name'><span>depth_avg_curr_east_gsm</span></div><div class='xr-var-dims'>()</div><div class='xr-var-dtype'>float64</div><div class='xr-var-preview xr-preview'>...</div><input id='attrs-5029991d-0cf6-4355-b50b-a7dc2cbc9092' class='xr-var-attrs-in' type='checkbox' ><label for='attrs-5029991d-0cf6-4355-b50b-a7dc2cbc9092' title='Show/Hide attributes'><svg class='icon xr-icon-file-text2'><use xlink:href='#icon-file-text2'></use></svg></label><input id='data-459e32c2-9c89-4183-bb3a-8fb1263d3ebc' class='xr-var-data-in' type='checkbox'><label for='data-459e32c2-9c89-4183-bb3a-8fb1263d3ebc' title='Show/Hide data repr'><svg class='icon xr-icon-database'><use xlink:href='#icon-database'></use></svg></label><div class='xr-var-attrs'><dl class='xr-attrs'><dt><span>units :</span></dt><dd>m/s</dd><dt><span>comment :</span></dt><dd>Eastward component of depth-average current based on gsm</dd></dl></div><div class='xr-var-data'><pre>[1 values with dtype=float64]</pre></div></li><li class='xr-var-item'><div class='xr-var-name'><span>depth_avg_curr_east</span></div><div class='xr-var-dims'>()</div><div class='xr-var-dtype'>float64</div><div class='xr-var-preview xr-preview'>...</div><input id='attrs-788a6144-22ba-4c3e-9598-3c4904ed2e5c' class='xr-var-attrs-in' type='checkbox' ><label for='attrs-788a6144-22ba-4c3e-9598-3c4904ed2e5c' title='Show/Hide attributes'><svg class='icon xr-icon-file-text2'><use xlink:href='#icon-file-text2'></use></svg></label><input id='data-c208036b-2106-430f-9500-3f473129fa88' class='xr-var-data-in' type='checkbox'><label for='data-c208036b-2106-430f-9500-3f473129fa88' title='Show/Hide data repr'><svg class='icon xr-icon-database'><use xlink:href='#icon-database'></use></svg></label><div class='xr-var-attrs'><dl class='xr-attrs'><dt><span>units :</span></dt><dd>m/s</dd><dt><span>comment :</span></dt><dd>Eastward component of the dive depth-average current based on hdm</dd><dt><span>standard_name :</span></dt><dd>eastward_sea_water_velocity</dd></dl></div><div class='xr-var-data'><pre>[1 values with dtype=float64]</pre></div></li><li class='xr-var-item'><div class='xr-var-name'><span>log_MOTHERBOARD</span></div><div class='xr-var-dims'>()</div><div class='xr-var-dtype'>int32</div><div class='xr-var-preview xr-preview'>...</div><input id='attrs-2598741f-9149-48cd-9e5c-c3429a481962' class='xr-var-attrs-in' type='checkbox' disabled><label for='attrs-2598741f-9149-48cd-9e5c-c3429a481962' title='Show/Hide attributes'><svg class='icon xr-icon-file-text2'><use xlink:href='#icon-file-text2'></use></svg></label><input id='data-bd13113d-6dc1-448f-b15d-0cfb14a919b1' class='xr-var-data-in' type='checkbox'><label for='data-bd13113d-6dc1-448f-b15d-0cfb14a919b1' title='Show/Hide data repr'><svg class='icon xr-icon-database'><use xlink:href='#icon-database'></use></svg></label><div class='xr-var-attrs'><dl class='xr-attrs'></dl></div><div class='xr-var-data'><pre>[1 values with dtype=int32]</pre></div></li><li class='xr-var-item'><div class='xr-var-name'><span>log_D_CALL</span></div><div class='xr-var-dims'>()</div><div class='xr-var-dtype'>float64</div><div class='xr-var-preview xr-preview'>...</div><input id='attrs-52ffd860-c45e-47be-8bed-556e022ee9e1' class='xr-var-attrs-in' type='checkbox' disabled><label for='attrs-52ffd860-c45e-47be-8bed-556e022ee9e1' title='Show/Hide attributes'><svg class='icon xr-icon-file-text2'><use xlink:href='#icon-file-text2'></use></svg></label><input id='data-4a1c35a4-7615-41cd-bcbe-16e73e106633' class='xr-var-data-in' type='checkbox'><label for='data-4a1c35a4-7615-41cd-bcbe-16e73e106633' title='Show/Hide data repr'><svg class='icon xr-icon-database'><use xlink:href='#icon-database'></use></svg></label><div class='xr-var-attrs'><dl class='xr-attrs'></dl></div><div class='xr-var-data'><pre>[1 values with dtype=float64]</pre></div></li><li class='xr-var-item'><div class='xr-var-name'><span>avg_latitude</span></div><div class='xr-var-dims'>()</div><div class='xr-var-dtype'>float64</div><div class='xr-var-preview xr-preview'>...</div><input id='attrs-e663b785-4aab-43ba-857f-83389ac0c10e' class='xr-var-attrs-in' type='checkbox' ><label for='attrs-e663b785-4aab-43ba-857f-83389ac0c10e' title='Show/Hide attributes'><svg class='icon xr-icon-file-text2'><use xlink:href='#icon-file-text2'></use></svg></label><input id='data-3b0cd8fa-e4d6-4aad-8738-04fb68bac5bf' class='xr-var-data-in' type='checkbox'><label for='data-3b0cd8fa-e4d6-4aad-8738-04fb68bac5bf' title='Show/Hide data repr'><svg class='icon xr-icon-database'><use xlink:href='#icon-database'></use></svg></label><div class='xr-var-attrs'><dl class='xr-attrs'><dt><span>units :</span></dt><dd>degrees_north</dd><dt><span>comment :</span></dt><dd>The average latitude of the dive</dd></dl></div><div class='xr-var-data'><pre>[1 values with dtype=float64]</pre></div></li><li class='xr-var-item'><div class='xr-var-name'><span>log_TCM_PITCH_OFFSET</span></div><div class='xr-var-dims'>()</div><div class='xr-var-dtype'>float64</div><div class='xr-var-preview xr-preview'>...</div><input id='attrs-197d191b-f9fa-4438-825b-e3c4e2da2a47' class='xr-var-attrs-in' type='checkbox' disabled><label for='attrs-197d191b-f9fa-4438-825b-e3c4e2da2a47' title='Show/Hide attributes'><svg class='icon xr-icon-file-text2'><use xlink:href='#icon-file-text2'></use></svg></label><input id='data-e5ec807a-481b-4195-a56d-4cf97ba54749' class='xr-var-data-in' type='checkbox'><label for='data-e5ec807a-481b-4195-a56d-4cf97ba54749' title='Show/Hide data repr'><svg class='icon xr-icon-database'><use xlink:href='#icon-database'></use></svg></label><div class='xr-var-attrs'><dl class='xr-attrs'></dl></div><div class='xr-var-data'><pre>[1 values with dtype=float64]</pre></div></li><li class='xr-var-item'><div class='xr-var-name'><span>log_PITCH_MAXERRORS</span></div><div class='xr-var-dims'>()</div><div class='xr-var-dtype'>int32</div><div class='xr-var-preview xr-preview'>...</div><input id='attrs-3413ce12-1254-4245-906e-c4ed204e29bd' class='xr-var-attrs-in' type='checkbox' disabled><label for='attrs-3413ce12-1254-4245-906e-c4ed204e29bd' title='Show/Hide attributes'><svg class='icon xr-icon-file-text2'><use xlink:href='#icon-file-text2'></use></svg></label><input id='data-302ba7e9-05f0-42fe-8565-171fc74ca7cf' class='xr-var-data-in' type='checkbox'><label for='data-302ba7e9-05f0-42fe-8565-171fc74ca7cf' title='Show/Hide data repr'><svg class='icon xr-icon-database'><use xlink:href='#icon-database'></use></svg></label><div class='xr-var-attrs'><dl class='xr-attrs'></dl></div><div class='xr-var-data'><pre>[1 values with dtype=int32]</pre></div></li><li class='xr-var-item'><div class='xr-var-name'><span>sg_cal_ctcor</span></div><div class='xr-var-dims'>()</div><div class='xr-var-dtype'>float64</div><div class='xr-var-preview xr-preview'>...</div><input id='attrs-51828888-7074-4830-9343-8995114b9714' class='xr-var-attrs-in' type='checkbox' ><label for='attrs-51828888-7074-4830-9343-8995114b9714' title='Show/Hide attributes'><svg class='icon xr-icon-file-text2'><use xlink:href='#icon-file-text2'></use></svg></label><input id='data-ec91125e-8fb6-491f-aff6-19939adf6562' class='xr-var-data-in' type='checkbox'><label for='data-ec91125e-8fb6-491f-aff6-19939adf6562' title='Show/Hide data repr'><svg class='icon xr-icon-database'><use xlink:href='#icon-database'></use></svg></label><div class='xr-var-attrs'><dl class='xr-attrs'><dt><span>comment :</span></dt><dd>Nominal thermal expansion factor of a cube of boro-silicate glass</dd></dl></div><div class='xr-var-data'><pre>[1 values with dtype=float64]</pre></div></li><li class='xr-var-item'><div class='xr-var-name'><span>log_PITCH_MAX</span></div><div class='xr-var-dims'>()</div><div class='xr-var-dtype'>float64</div><div class='xr-var-preview xr-preview'>...</div><input id='attrs-c744cf94-b167-4e34-bd10-20d118e3b03d' class='xr-var-attrs-in' type='checkbox' disabled><label for='attrs-c744cf94-b167-4e34-bd10-20d118e3b03d' title='Show/Hide attributes'><svg class='icon xr-icon-file-text2'><use xlink:href='#icon-file-text2'></use></svg></label><input id='data-72bbed5c-4ab4-4aa1-bac9-08eff5bce5d0' class='xr-var-data-in' type='checkbox'><label for='data-72bbed5c-4ab4-4aa1-bac9-08eff5bce5d0' title='Show/Hide data repr'><svg class='icon xr-icon-database'><use xlink:href='#icon-database'></use></svg></label><div class='xr-var-attrs'><dl class='xr-attrs'></dl></div><div class='xr-var-data'><pre>[1 values with dtype=float64]</pre></div></li><li class='xr-var-item'><div class='xr-var-name'><span>log_ALTIM_TOP_PING_RANGE</span></div><div class='xr-var-dims'>()</div><div class='xr-var-dtype'>float64</div><div class='xr-var-preview xr-preview'>...</div><input id='attrs-9e443726-ce59-4b61-bd67-2af07d285f6b' class='xr-var-attrs-in' type='checkbox' disabled><label for='attrs-9e443726-ce59-4b61-bd67-2af07d285f6b' title='Show/Hide attributes'><svg class='icon xr-icon-file-text2'><use xlink:href='#icon-file-text2'></use></svg></label><input id='data-1ad1048f-e4d8-4438-bc92-b1a361a7f383' class='xr-var-data-in' type='checkbox'><label for='data-1ad1048f-e4d8-4438-bc92-b1a361a7f383' title='Show/Hide data repr'><svg class='icon xr-icon-database'><use xlink:href='#icon-database'></use></svg></label><div class='xr-var-attrs'><dl class='xr-attrs'></dl></div><div class='xr-var-data'><pre>[1 values with dtype=float64]</pre></div></li><li class='xr-var-item'><div class='xr-var-name'><span>log_GLIDE_SLOPE</span></div><div class='xr-var-dims'>()</div><div class='xr-var-dtype'>float64</div><div class='xr-var-preview xr-preview'>...</div><input id='attrs-7d7a590c-801b-4041-b1db-79d26fe698d8' class='xr-var-attrs-in' type='checkbox' disabled><label for='attrs-7d7a590c-801b-4041-b1db-79d26fe698d8' title='Show/Hide attributes'><svg class='icon xr-icon-file-text2'><use xlink:href='#icon-file-text2'></use></svg></label><input id='data-141007c6-0943-47e0-997d-2ffe29dea929' class='xr-var-data-in' type='checkbox'><label for='data-141007c6-0943-47e0-997d-2ffe29dea929' title='Show/Hide data repr'><svg class='icon xr-icon-database'><use xlink:href='#icon-database'></use></svg></label><div class='xr-var-attrs'><dl class='xr-attrs'></dl></div><div class='xr-var-data'><pre>[1 values with dtype=float64]</pre></div></li><li class='xr-var-item'><div class='xr-var-name'><span>log_CAPUPLOAD</span></div><div class='xr-var-dims'>()</div><div class='xr-var-dtype'>int32</div><div class='xr-var-preview xr-preview'>...</div><input id='attrs-735744a3-fba6-4d29-9257-49da6541d281' class='xr-var-attrs-in' type='checkbox' disabled><label for='attrs-735744a3-fba6-4d29-9257-49da6541d281' title='Show/Hide attributes'><svg class='icon xr-icon-file-text2'><use xlink:href='#icon-file-text2'></use></svg></label><input id='data-42102901-528e-4a61-b093-b0ac99434097' class='xr-var-data-in' type='checkbox'><label for='data-42102901-528e-4a61-b093-b0ac99434097' title='Show/Hide data repr'><svg class='icon xr-icon-database'><use xlink:href='#icon-database'></use></svg></label><div class='xr-var-attrs'><dl class='xr-attrs'></dl></div><div class='xr-var-data'><pre>[1 values with dtype=int32]</pre></div></li><li class='xr-var-item'><div class='xr-var-name'><span>log_ROLL_DEG</span></div><div class='xr-var-dims'>()</div><div class='xr-var-dtype'>float64</div><div class='xr-var-preview xr-preview'>...</div><input id='attrs-100b1d61-fe1e-4497-8afd-fb2c68861333' class='xr-var-attrs-in' type='checkbox' disabled><label for='attrs-100b1d61-fe1e-4497-8afd-fb2c68861333' title='Show/Hide attributes'><svg class='icon xr-icon-file-text2'><use xlink:href='#icon-file-text2'></use></svg></label><input id='data-a8f5197a-3b0c-4fc9-8ed0-fbe8412fdfd5' class='xr-var-data-in' type='checkbox'><label for='data-a8f5197a-3b0c-4fc9-8ed0-fbe8412fdfd5' title='Show/Hide data repr'><svg class='icon xr-icon-database'><use xlink:href='#icon-database'></use></svg></label><div class='xr-var-attrs'><dl class='xr-attrs'></dl></div><div class='xr-var-data'><pre>[1 values with dtype=float64]</pre></div></li><li class='xr-var-item'><div class='xr-var-name'><span>log_FILEMGR</span></div><div class='xr-var-dims'>()</div><div class='xr-var-dtype'>int32</div><div class='xr-var-preview xr-preview'>...</div><input id='attrs-d8a218fe-c560-4f1c-835d-f1e008720fcb' class='xr-var-attrs-in' type='checkbox' disabled><label for='attrs-d8a218fe-c560-4f1c-835d-f1e008720fcb' title='Show/Hide attributes'><svg class='icon xr-icon-file-text2'><use xlink:href='#icon-file-text2'></use></svg></label><input id='data-ce06bdef-10a2-4087-9deb-6beb12ba2a22' class='xr-var-data-in' type='checkbox'><label for='data-ce06bdef-10a2-4087-9deb-6beb12ba2a22' title='Show/Hide data repr'><svg class='icon xr-icon-database'><use xlink:href='#icon-database'></use></svg></label><div class='xr-var-attrs'><dl class='xr-attrs'></dl></div><div class='xr-var-data'><pre>[1 values with dtype=int32]</pre></div></li><li class='xr-var-item'><div class='xr-var-name'><span>log__XMS_NAKs</span></div><div class='xr-var-dims'>()</div><div class='xr-var-dtype'>float64</div><div class='xr-var-preview xr-preview'>...</div><input id='attrs-2d6df919-b547-4253-9555-91e29c9ae8bc' class='xr-var-attrs-in' type='checkbox' disabled><label for='attrs-2d6df919-b547-4253-9555-91e29c9ae8bc' title='Show/Hide attributes'><svg class='icon xr-icon-file-text2'><use xlink:href='#icon-file-text2'></use></svg></label><input id='data-75063d51-164c-4664-9a11-4464a51e18c6' class='xr-var-data-in' type='checkbox'><label for='data-75063d51-164c-4664-9a11-4464a51e18c6' title='Show/Hide data repr'><svg class='icon xr-icon-database'><use xlink:href='#icon-database'></use></svg></label><div class='xr-var-attrs'><dl class='xr-attrs'></dl></div><div class='xr-var-data'><pre>[1 values with dtype=float64]</pre></div></li><li class='xr-var-item'><div class='xr-var-name'><span>log_MASS</span></div><div class='xr-var-dims'>()</div><div class='xr-var-dtype'>float64</div><div class='xr-var-preview xr-preview'>...</div><input id='attrs-1c1feca3-d659-40a7-a563-07fe58848036' class='xr-var-attrs-in' type='checkbox' disabled><label for='attrs-1c1feca3-d659-40a7-a563-07fe58848036' title='Show/Hide attributes'><svg class='icon xr-icon-file-text2'><use xlink:href='#icon-file-text2'></use></svg></label><input id='data-9854f872-6387-477f-9b23-e9b641fee5f4' class='xr-var-data-in' type='checkbox'><label for='data-9854f872-6387-477f-9b23-e9b641fee5f4' title='Show/Hide data repr'><svg class='icon xr-icon-database'><use xlink:href='#icon-database'></use></svg></label><div class='xr-var-attrs'><dl class='xr-attrs'></dl></div><div class='xr-var-data'><pre>[1 values with dtype=float64]</pre></div></li><li class='xr-var-item'><div class='xr-var-name'><span>log_MINV_24V</span></div><div class='xr-var-dims'>()</div><div class='xr-var-dtype'>float64</div><div class='xr-var-preview xr-preview'>...</div><input id='attrs-3088cedf-a447-48b2-a091-308e266bbe56' class='xr-var-attrs-in' type='checkbox' disabled><label for='attrs-3088cedf-a447-48b2-a091-308e266bbe56' title='Show/Hide attributes'><svg class='icon xr-icon-file-text2'><use xlink:href='#icon-file-text2'></use></svg></label><input id='data-5e901605-fa31-42d6-b4b3-f990c74ea842' class='xr-var-data-in' type='checkbox'><label for='data-5e901605-fa31-42d6-b4b3-f990c74ea842' title='Show/Hide data repr'><svg class='icon xr-icon-database'><use xlink:href='#icon-database'></use></svg></label><div class='xr-var-attrs'><dl class='xr-attrs'></dl></div><div class='xr-var-data'><pre>[1 values with dtype=float64]</pre></div></li><li class='xr-var-item'><div class='xr-var-name'><span>sg_cal_optode_PhaseCoef2</span></div><div class='xr-var-dims'>()</div><div class='xr-var-dtype'>float64</div><div class='xr-var-preview xr-preview'>...</div><input id='attrs-cd43bb11-6e18-494c-b1f4-0622f3998b69' class='xr-var-attrs-in' type='checkbox' disabled><label for='attrs-cd43bb11-6e18-494c-b1f4-0622f3998b69' title='Show/Hide attributes'><svg class='icon xr-icon-file-text2'><use xlink:href='#icon-file-text2'></use></svg></label><input id='data-96e4c3df-4a55-44cf-b5cd-0edb00c0e142' class='xr-var-data-in' type='checkbox'><label for='data-96e4c3df-4a55-44cf-b5cd-0edb00c0e142' title='Show/Hide data repr'><svg class='icon xr-icon-database'><use xlink:href='#icon-database'></use></svg></label><div class='xr-var-attrs'><dl class='xr-attrs'></dl></div><div class='xr-var-data'><pre>[1 values with dtype=float64]</pre></div></li><li class='xr-var-item'><div class='xr-var-name'><span>sg_cal_cpcor</span></div><div class='xr-var-dims'>()</div><div class='xr-var-dtype'>float64</div><div class='xr-var-preview xr-preview'>...</div><input id='attrs-a53559ce-84c5-4a71-af9b-9c88f6b323ef' class='xr-var-attrs-in' type='checkbox' ><label for='attrs-a53559ce-84c5-4a71-af9b-9c88f6b323ef' title='Show/Hide attributes'><svg class='icon xr-icon-file-text2'><use xlink:href='#icon-file-text2'></use></svg></label><input id='data-1670dba9-08b7-4ac3-a864-a8c3f0aecdc2' class='xr-var-data-in' type='checkbox'><label for='data-1670dba9-08b7-4ac3-a864-a8c3f0aecdc2' title='Show/Hide data repr'><svg class='icon xr-icon-database'><use xlink:href='#icon-database'></use></svg></label><div class='xr-var-attrs'><dl class='xr-attrs'><dt><span>comment :</span></dt><dd>Nominal compression factor of conductivity tube with pressure</dd></dl></div><div class='xr-var-data'><pre>[1 values with dtype=float64]</pre></div></li><li class='xr-var-item'><div class='xr-var-name'><span>sg_cal_optode_PhaseCoef0</span></div><div class='xr-var-dims'>()</div><div class='xr-var-dtype'>float64</div><div class='xr-var-preview xr-preview'>...</div><input id='attrs-fbdd9288-f3e9-415a-ac1b-5e147511f8a7' class='xr-var-attrs-in' type='checkbox' disabled><label for='attrs-fbdd9288-f3e9-415a-ac1b-5e147511f8a7' title='Show/Hide attributes'><svg class='icon xr-icon-file-text2'><use xlink:href='#icon-file-text2'></use></svg></label><input id='data-a9a063c6-8939-4efd-b3fd-50d07e8d5a4f' class='xr-var-data-in' type='checkbox'><label for='data-a9a063c6-8939-4efd-b3fd-50d07e8d5a4f' title='Show/Hide data repr'><svg class='icon xr-icon-database'><use xlink:href='#icon-database'></use></svg></label><div class='xr-var-attrs'><dl class='xr-attrs'></dl></div><div class='xr-var-data'><pre>[1 values with dtype=float64]</pre></div></li><li class='xr-var-item'><div class='xr-var-name'><span>sg_cal_optode_PhaseCoef1</span></div><div class='xr-var-dims'>()</div><div class='xr-var-dtype'>float64</div><div class='xr-var-preview xr-preview'>...</div><input id='attrs-30f17ce9-1a9a-4fc6-a959-7bc90685670a' class='xr-var-attrs-in' type='checkbox' disabled><label for='attrs-30f17ce9-1a9a-4fc6-a959-7bc90685670a' title='Show/Hide attributes'><svg class='icon xr-icon-file-text2'><use xlink:href='#icon-file-text2'></use></svg></label><input id='data-32f0594b-1bea-49ba-9e71-e4875ddd197c' class='xr-var-data-in' type='checkbox'><label for='data-32f0594b-1bea-49ba-9e71-e4875ddd197c' title='Show/Hide data repr'><svg class='icon xr-icon-database'><use xlink:href='#icon-database'></use></svg></label><div class='xr-var-attrs'><dl class='xr-attrs'></dl></div><div class='xr-var-data'><pre>[1 values with dtype=float64]</pre></div></li><li class='xr-var-item'><div class='xr-var-name'><span>log_RAFOS_HIT_WINDOW</span></div><div class='xr-var-dims'>()</div><div class='xr-var-dtype'>float64</div><div class='xr-var-preview xr-preview'>...</div><input id='attrs-332e2155-8ce5-4ec4-b74b-90224ac4bccd' class='xr-var-attrs-in' type='checkbox' disabled><label for='attrs-332e2155-8ce5-4ec4-b74b-90224ac4bccd' title='Show/Hide attributes'><svg class='icon xr-icon-file-text2'><use xlink:href='#icon-file-text2'></use></svg></label><input id='data-f621d0fb-882f-4ff3-887b-0bc7394306fe' class='xr-var-data-in' type='checkbox'><label for='data-f621d0fb-882f-4ff3-887b-0bc7394306fe' title='Show/Hide data repr'><svg class='icon xr-icon-database'><use xlink:href='#icon-database'></use></svg></label><div class='xr-var-attrs'><dl class='xr-attrs'></dl></div><div class='xr-var-data'><pre>[1 values with dtype=float64]</pre></div></li><li class='xr-var-item'><div class='xr-var-name'><span>log_DEEPGLIDERMB</span></div><div class='xr-var-dims'>()</div><div class='xr-var-dtype'>int32</div><div class='xr-var-preview xr-preview'>...</div><input id='attrs-afd4dc2a-9cfc-400c-a7b9-57527e888d87' class='xr-var-attrs-in' type='checkbox' disabled><label for='attrs-afd4dc2a-9cfc-400c-a7b9-57527e888d87' title='Show/Hide attributes'><svg class='icon xr-icon-file-text2'><use xlink:href='#icon-file-text2'></use></svg></label><input id='data-b92a4efe-d060-4e10-96fb-1ea69be3ca99' class='xr-var-data-in' type='checkbox'><label for='data-b92a4efe-d060-4e10-96fb-1ea69be3ca99' title='Show/Hide data repr'><svg class='icon xr-icon-database'><use xlink:href='#icon-database'></use></svg></label><div class='xr-var-attrs'><dl class='xr-attrs'></dl></div><div class='xr-var-data'><pre>[1 values with dtype=int32]</pre></div></li><li class='xr-var-item'><div class='xr-var-name'><span>surface_curr_east</span></div><div class='xr-var-dims'>()</div><div class='xr-var-dtype'>float64</div><div class='xr-var-preview xr-preview'>...</div><input id='attrs-e769dd41-5e10-4e04-9b2e-580fdccef69d' class='xr-var-attrs-in' type='checkbox' ><label for='attrs-e769dd41-5e10-4e04-9b2e-580fdccef69d' title='Show/Hide attributes'><svg class='icon xr-icon-file-text2'><use xlink:href='#icon-file-text2'></use></svg></label><input id='data-6f125fd0-03a2-4c42-8913-92dfbc9392b9' class='xr-var-data-in' type='checkbox'><label for='data-6f125fd0-03a2-4c42-8913-92dfbc9392b9' title='Show/Hide data repr'><svg class='icon xr-icon-database'><use xlink:href='#icon-database'></use></svg></label><div class='xr-var-attrs'><dl class='xr-attrs'><dt><span>units :</span></dt><dd>cm/s</dd><dt><span>comment :</span></dt><dd>Eastward component of surface current</dd><dt><span>standard_name :</span></dt><dd>surface_eastward_sea_water_velocity</dd></dl></div><div class='xr-var-data'><pre>[1 values with dtype=float64]</pre></div></li><li class='xr-var-item'><div class='xr-var-name'><span>log_N_NOSURFACE</span></div><div class='xr-var-dims'>()</div><div class='xr-var-dtype'>int32</div><div class='xr-var-preview xr-preview'>...</div><input id='attrs-db5579f2-7f50-4231-9f30-870d65a61c7b' class='xr-var-attrs-in' type='checkbox' disabled><label for='attrs-db5579f2-7f50-4231-9f30-870d65a61c7b' title='Show/Hide attributes'><svg class='icon xr-icon-file-text2'><use xlink:href='#icon-file-text2'></use></svg></label><input id='data-75610d7a-5322-4752-b413-8316100e2a1f' class='xr-var-data-in' type='checkbox'><label for='data-75610d7a-5322-4752-b413-8316100e2a1f' title='Show/Hide data repr'><svg class='icon xr-icon-database'><use xlink:href='#icon-database'></use></svg></label><div class='xr-var-attrs'><dl class='xr-attrs'></dl></div><div class='xr-var-data'><pre>[1 values with dtype=int32]</pre></div></li><li class='xr-var-item'><div class='xr-var-name'><span>log_AH0_10V</span></div><div class='xr-var-dims'>()</div><div class='xr-var-dtype'>float64</div><div class='xr-var-preview xr-preview'>...</div><input id='attrs-770500dc-499c-47cf-bb5e-b81bfe6fadd7' class='xr-var-attrs-in' type='checkbox' disabled><label for='attrs-770500dc-499c-47cf-bb5e-b81bfe6fadd7' title='Show/Hide attributes'><svg class='icon xr-icon-file-text2'><use xlink:href='#icon-file-text2'></use></svg></label><input id='data-58d81d62-0a61-42f4-9176-3a70ae146cac' class='xr-var-data-in' type='checkbox'><label for='data-58d81d62-0a61-42f4-9176-3a70ae146cac' title='Show/Hide data repr'><svg class='icon xr-icon-database'><use xlink:href='#icon-database'></use></svg></label><div class='xr-var-attrs'><dl class='xr-attrs'></dl></div><div class='xr-var-data'><pre>[1 values with dtype=float64]</pre></div></li><li class='xr-var-item'><div class='xr-var-name'><span>log_R_PORT_OVSHOOT</span></div><div class='xr-var-dims'>()</div><div class='xr-var-dtype'>float64</div><div class='xr-var-preview xr-preview'>...</div><input id='attrs-4176d994-9dbf-46b0-9678-0ebe4eff104b' class='xr-var-attrs-in' type='checkbox' disabled><label for='attrs-4176d994-9dbf-46b0-9678-0ebe4eff104b' title='Show/Hide attributes'><svg class='icon xr-icon-file-text2'><use xlink:href='#icon-file-text2'></use></svg></label><input id='data-99e9b3bc-897f-418d-b7a5-5ed1f1a90145' class='xr-var-data-in' type='checkbox'><label for='data-99e9b3bc-897f-418d-b7a5-5ed1f1a90145' title='Show/Hide data repr'><svg class='icon xr-icon-database'><use xlink:href='#icon-database'></use></svg></label><div class='xr-var-attrs'><dl class='xr-attrs'></dl></div><div class='xr-var-data'><pre>[1 values with dtype=float64]</pre></div></li><li class='xr-var-item'><div class='xr-var-name'><span>sg_cal_temp_ref</span></div><div class='xr-var-dims'>()</div><div class='xr-var-dtype'>float64</div><div class='xr-var-preview xr-preview'>...</div><input id='attrs-e6656b11-3cd1-4d9f-928d-00a297295eeb' class='xr-var-attrs-in' type='checkbox' ><label for='attrs-e6656b11-3cd1-4d9f-928d-00a297295eeb' title='Show/Hide attributes'><svg class='icon xr-icon-file-text2'><use xlink:href='#icon-file-text2'></use></svg></label><input id='data-f6ca81e1-fd6d-4037-a151-66723fa15cf4' class='xr-var-data-in' type='checkbox'><label for='data-f6ca81e1-fd6d-4037-a151-66723fa15cf4' title='Show/Hide data repr'><svg class='icon xr-icon-database'><use xlink:href='#icon-database'></use></svg></label><div class='xr-var-attrs'><dl class='xr-attrs'><dt><span>units :</span></dt><dd>degrees_Celsius</dd><dt><span>comment :</span></dt><dd>Reference temperature for SG thermal expansion calculation</dd></dl></div><div class='xr-var-data'><pre>[1 values with dtype=float64]</pre></div></li><li class='xr-var-item'><div class='xr-var-name'><span>log_COMM_SEQ</span></div><div class='xr-var-dims'>()</div><div class='xr-var-dtype'>int32</div><div class='xr-var-preview xr-preview'>...</div><input id='attrs-15001931-0c8f-42f7-b5fe-c704bc50380a' class='xr-var-attrs-in' type='checkbox' disabled><label for='attrs-15001931-0c8f-42f7-b5fe-c704bc50380a' title='Show/Hide attributes'><svg class='icon xr-icon-file-text2'><use xlink:href='#icon-file-text2'></use></svg></label><input id='data-c0bb1e63-319b-4e54-aea7-232afd24d743' class='xr-var-data-in' type='checkbox'><label for='data-c0bb1e63-319b-4e54-aea7-232afd24d743' title='Show/Hide data repr'><svg class='icon xr-icon-database'><use xlink:href='#icon-database'></use></svg></label><div class='xr-var-attrs'><dl class='xr-attrs'></dl></div><div class='xr-var-data'><pre>[1 values with dtype=int32]</pre></div></li><li class='xr-var-item'><div class='xr-var-name'><span>log_D_ABORT</span></div><div class='xr-var-dims'>()</div><div class='xr-var-dtype'>float64</div><div class='xr-var-preview xr-preview'>...</div><input id='attrs-9c36696a-933b-48f7-a662-af0c7534822a' class='xr-var-attrs-in' type='checkbox' disabled><label for='attrs-9c36696a-933b-48f7-a662-af0c7534822a' title='Show/Hide attributes'><svg class='icon xr-icon-file-text2'><use xlink:href='#icon-file-text2'></use></svg></label><input id='data-68c0ebf7-43f5-4bc1-b1c5-c69166b7f594' class='xr-var-data-in' type='checkbox'><label for='data-68c0ebf7-43f5-4bc1-b1c5-c69166b7f594' title='Show/Hide data repr'><svg class='icon xr-icon-database'><use xlink:href='#icon-database'></use></svg></label><div class='xr-var-attrs'><dl class='xr-attrs'></dl></div><div class='xr-var-data'><pre>[1 values with dtype=float64]</pre></div></li><li class='xr-var-item'><div class='xr-var-name'><span>log_DEEPGLIDER</span></div><div class='xr-var-dims'>()</div><div class='xr-var-dtype'>int32</div><div class='xr-var-preview xr-preview'>...</div><input id='attrs-82dd5590-c12a-4191-af91-65b17c0a1321' class='xr-var-attrs-in' type='checkbox' disabled><label for='attrs-82dd5590-c12a-4191-af91-65b17c0a1321' title='Show/Hide attributes'><svg class='icon xr-icon-file-text2'><use xlink:href='#icon-file-text2'></use></svg></label><input id='data-b515cbe9-c951-463d-af47-bd467f8d77cd' class='xr-var-data-in' type='checkbox'><label for='data-b515cbe9-c951-463d-af47-bd467f8d77cd' title='Show/Hide data repr'><svg class='icon xr-icon-database'><use xlink:href='#icon-database'></use></svg></label><div class='xr-var-attrs'><dl class='xr-attrs'></dl></div><div class='xr-var-data'><pre>[1 values with dtype=int32]</pre></div></li><li class='xr-var-item'><div class='xr-var-name'><span>log_AD7714Ch0Gain</span></div><div class='xr-var-dims'>()</div><div class='xr-var-dtype'>int32</div><div class='xr-var-preview xr-preview'>...</div><input id='attrs-804c519e-9cf2-4818-896e-626e7cea19f6' class='xr-var-attrs-in' type='checkbox' disabled><label for='attrs-804c519e-9cf2-4818-896e-626e7cea19f6' title='Show/Hide attributes'><svg class='icon xr-icon-file-text2'><use xlink:href='#icon-file-text2'></use></svg></label><input id='data-ab6b6fbb-aff6-4c4f-a045-4bd309d6a4b0' class='xr-var-data-in' type='checkbox'><label for='data-ab6b6fbb-aff6-4c4f-a045-4bd309d6a4b0' title='Show/Hide data repr'><svg class='icon xr-icon-database'><use xlink:href='#icon-database'></use></svg></label><div class='xr-var-attrs'><dl class='xr-attrs'></dl></div><div class='xr-var-data'><pre>[1 values with dtype=int32]</pre></div></li><li class='xr-var-item'><div class='xr-var-name'><span>log_C_PITCH</span></div><div class='xr-var-dims'>()</div><div class='xr-var-dtype'>int32</div><div class='xr-var-preview xr-preview'>...</div><input id='attrs-9561d6c0-ce72-4af2-9419-60c064876941' class='xr-var-attrs-in' type='checkbox' disabled><label for='attrs-9561d6c0-ce72-4af2-9419-60c064876941' title='Show/Hide attributes'><svg class='icon xr-icon-file-text2'><use xlink:href='#icon-file-text2'></use></svg></label><input id='data-3da49a5d-9cd4-4a09-b328-ee168a69b0b1' class='xr-var-data-in' type='checkbox'><label for='data-3da49a5d-9cd4-4a09-b328-ee168a69b0b1' title='Show/Hide data repr'><svg class='icon xr-icon-database'><use xlink:href='#icon-database'></use></svg></label><div class='xr-var-attrs'><dl class='xr-attrs'></dl></div><div class='xr-var-data'><pre>[1 values with dtype=int32]</pre></div></li><li class='xr-var-item'><div class='xr-var-name'><span>log_D_NO_BLEED</span></div><div class='xr-var-dims'>()</div><div class='xr-var-dtype'>float64</div><div class='xr-var-preview xr-preview'>...</div><input id='attrs-b0110ddd-daab-448f-bde2-028557a9041e' class='xr-var-attrs-in' type='checkbox' disabled><label for='attrs-b0110ddd-daab-448f-bde2-028557a9041e' title='Show/Hide attributes'><svg class='icon xr-icon-file-text2'><use xlink:href='#icon-file-text2'></use></svg></label><input id='data-7badbabc-cf91-4486-bad1-71786b1097ea' class='xr-var-data-in' type='checkbox'><label for='data-7badbabc-cf91-4486-bad1-71786b1097ea' title='Show/Hide data repr'><svg class='icon xr-icon-database'><use xlink:href='#icon-database'></use></svg></label><div class='xr-var-attrs'><dl class='xr-attrs'></dl></div><div class='xr-var-data'><pre>[1 values with dtype=float64]</pre></div></li><li class='xr-var-item'><div class='xr-var-name'><span>depth_avg_curr_north</span></div><div class='xr-var-dims'>()</div><div class='xr-var-dtype'>float64</div><div class='xr-var-preview xr-preview'>...</div><input id='attrs-aeaab7d0-1a82-4d4b-8db7-5f88c6c7106e' class='xr-var-attrs-in' type='checkbox' ><label for='attrs-aeaab7d0-1a82-4d4b-8db7-5f88c6c7106e' title='Show/Hide attributes'><svg class='icon xr-icon-file-text2'><use xlink:href='#icon-file-text2'></use></svg></label><input id='data-1ce88188-4c17-4694-a0fd-056eccfd5e10' class='xr-var-data-in' type='checkbox'><label for='data-1ce88188-4c17-4694-a0fd-056eccfd5e10' title='Show/Hide data repr'><svg class='icon xr-icon-database'><use xlink:href='#icon-database'></use></svg></label><div class='xr-var-attrs'><dl class='xr-attrs'><dt><span>units :</span></dt><dd>m/s</dd><dt><span>comment :</span></dt><dd>Northward component of the dive depth-average current based on hdm</dd><dt><span>standard_name :</span></dt><dd>northward_sea_water_velocity</dd></dl></div><div class='xr-var-data'><pre>[1 values with dtype=float64]</pre></div></li><li class='xr-var-item'><div class='xr-var-name'><span>log_TGT_AUTO_DEFAULT</span></div><div class='xr-var-dims'>()</div><div class='xr-var-dtype'>int32</div><div class='xr-var-preview xr-preview'>...</div><input id='attrs-62da7f7b-bfea-4486-9699-768c1c712ab8' class='xr-var-attrs-in' type='checkbox' disabled><label for='attrs-62da7f7b-bfea-4486-9699-768c1c712ab8' title='Show/Hide attributes'><svg class='icon xr-icon-file-text2'><use xlink:href='#icon-file-text2'></use></svg></label><input id='data-a106863c-7b41-4b12-9996-200e7a294868' class='xr-var-data-in' type='checkbox'><label for='data-a106863c-7b41-4b12-9996-200e7a294868' title='Show/Hide data repr'><svg class='icon xr-icon-database'><use xlink:href='#icon-database'></use></svg></label><div class='xr-var-attrs'><dl class='xr-attrs'></dl></div><div class='xr-var-data'><pre>[1 values with dtype=int32]</pre></div></li><li class='xr-var-item'><div class='xr-var-name'><span>log_LOGGERDEVICE4</span></div><div class='xr-var-dims'>()</div><div class='xr-var-dtype'>float64</div><div class='xr-var-preview xr-preview'>...</div><input id='attrs-d172f44e-b914-4035-aa66-9e65ca71ee9d' class='xr-var-attrs-in' type='checkbox' disabled><label for='attrs-d172f44e-b914-4035-aa66-9e65ca71ee9d' title='Show/Hide attributes'><svg class='icon xr-icon-file-text2'><use xlink:href='#icon-file-text2'></use></svg></label><input id='data-4d2b36d5-7a74-4e5c-be7d-40f1a8921d4a' class='xr-var-data-in' type='checkbox'><label for='data-4d2b36d5-7a74-4e5c-be7d-40f1a8921d4a' title='Show/Hide data repr'><svg class='icon xr-icon-database'><use xlink:href='#icon-database'></use></svg></label><div class='xr-var-attrs'><dl class='xr-attrs'></dl></div><div class='xr-var-data'><pre>[1 values with dtype=float64]</pre></div></li><li class='xr-var-item'><div class='xr-var-name'><span>log_D_FLARE</span></div><div class='xr-var-dims'>()</div><div class='xr-var-dtype'>float64</div><div class='xr-var-preview xr-preview'>...</div><input id='attrs-0f95322d-9704-4ba7-b603-cd6ac918ee23' class='xr-var-attrs-in' type='checkbox' disabled><label for='attrs-0f95322d-9704-4ba7-b603-cd6ac918ee23' title='Show/Hide attributes'><svg class='icon xr-icon-file-text2'><use xlink:href='#icon-file-text2'></use></svg></label><input id='data-43c12f40-12d5-46dc-9806-6989487f5388' class='xr-var-data-in' type='checkbox'><label for='data-43c12f40-12d5-46dc-9806-6989487f5388' title='Show/Hide data repr'><svg class='icon xr-icon-database'><use xlink:href='#icon-database'></use></svg></label><div class='xr-var-attrs'><dl class='xr-attrs'></dl></div><div class='xr-var-data'><pre>[1 values with dtype=float64]</pre></div></li><li class='xr-var-item'><div class='xr-var-name'><span>log_TGT_DEFAULT_LON</span></div><div class='xr-var-dims'>()</div><div class='xr-var-dtype'>float64</div><div class='xr-var-preview xr-preview'>...</div><input id='attrs-29630ef7-5f4b-4a86-af65-e0b57c45c71c' class='xr-var-attrs-in' type='checkbox' disabled><label for='attrs-29630ef7-5f4b-4a86-af65-e0b57c45c71c' title='Show/Hide attributes'><svg class='icon xr-icon-file-text2'><use xlink:href='#icon-file-text2'></use></svg></label><input id='data-09aa7fb9-d992-4eab-91de-61771ebd9479' class='xr-var-data-in' type='checkbox'><label for='data-09aa7fb9-d992-4eab-91de-61771ebd9479' title='Show/Hide data repr'><svg class='icon xr-icon-database'><use xlink:href='#icon-database'></use></svg></label><div class='xr-var-attrs'><dl class='xr-attrs'></dl></div><div class='xr-var-data'><pre>[1 values with dtype=float64]</pre></div></li><li class='xr-var-item'><div class='xr-var-name'><span>sg_cal_optode_SVU_enabled</span></div><div class='xr-var-dims'>()</div><div class='xr-var-dtype'>float64</div><div class='xr-var-preview xr-preview'>...</div><input id='attrs-2edee310-583a-467c-80bd-86565b63b661' class='xr-var-attrs-in' type='checkbox' disabled><label for='attrs-2edee310-583a-467c-80bd-86565b63b661' title='Show/Hide attributes'><svg class='icon xr-icon-file-text2'><use xlink:href='#icon-file-text2'></use></svg></label><input id='data-7033f0f3-86b8-42bd-b9b8-3e7a62eca526' class='xr-var-data-in' type='checkbox'><label for='data-7033f0f3-86b8-42bd-b9b8-3e7a62eca526' title='Show/Hide data repr'><svg class='icon xr-icon-database'><use xlink:href='#icon-database'></use></svg></label><div class='xr-var-attrs'><dl class='xr-attrs'></dl></div><div class='xr-var-data'><pre>[1 values with dtype=float64]</pre></div></li><li class='xr-var-item'><div class='xr-var-name'><span>log__XMS_TOUTs</span></div><div class='xr-var-dims'>()</div><div class='xr-var-dtype'>float64</div><div class='xr-var-preview xr-preview'>...</div><input id='attrs-f6a42509-1888-4d87-b134-e4b87ec986de' class='xr-var-attrs-in' type='checkbox' disabled><label for='attrs-f6a42509-1888-4d87-b134-e4b87ec986de' title='Show/Hide attributes'><svg class='icon xr-icon-file-text2'><use xlink:href='#icon-file-text2'></use></svg></label><input id='data-35ca61c5-753c-42ab-91a6-3c07e321bcbe' class='xr-var-data-in' type='checkbox'><label for='data-35ca61c5-753c-42ab-91a6-3c07e321bcbe' title='Show/Hide data repr'><svg class='icon xr-icon-database'><use xlink:href='#icon-database'></use></svg></label><div class='xr-var-attrs'><dl class='xr-attrs'></dl></div><div class='xr-var-data'><pre>[1 values with dtype=float64]</pre></div></li><li class='xr-var-item'><div class='xr-var-name'><span>log_USE_BATHY</span></div><div class='xr-var-dims'>()</div><div class='xr-var-dtype'>int32</div><div class='xr-var-preview xr-preview'>...</div><input id='attrs-f2d0426d-8fb2-47f9-bc8f-a4342a16ebd7' class='xr-var-attrs-in' type='checkbox' disabled><label for='attrs-f2d0426d-8fb2-47f9-bc8f-a4342a16ebd7' title='Show/Hide attributes'><svg class='icon xr-icon-file-text2'><use xlink:href='#icon-file-text2'></use></svg></label><input id='data-be29df0e-9a62-4aa8-98c3-6fdecb7d1be3' class='xr-var-data-in' type='checkbox'><label for='data-be29df0e-9a62-4aa8-98c3-6fdecb7d1be3' title='Show/Hide data repr'><svg class='icon xr-icon-database'><use xlink:href='#icon-database'></use></svg></label><div class='xr-var-attrs'><dl class='xr-attrs'></dl></div><div class='xr-var-data'><pre>[1 values with dtype=int32]</pre></div></li><li class='xr-var-item'><div class='xr-var-name'><span>sg_cal_pitchbias</span></div><div class='xr-var-dims'>()</div><div class='xr-var-dtype'>float64</div><div class='xr-var-preview xr-preview'>...</div><input id='attrs-980f15e6-1a77-477b-b48b-c2f9b55a2d87' class='xr-var-attrs-in' type='checkbox' ><label for='attrs-980f15e6-1a77-477b-b48b-c2f9b55a2d87' title='Show/Hide attributes'><svg class='icon xr-icon-file-text2'><use xlink:href='#icon-file-text2'></use></svg></label><input id='data-bb36e168-af18-4523-a15f-4462fce1dd21' class='xr-var-data-in' type='checkbox'><label for='data-bb36e168-af18-4523-a15f-4462fce1dd21' title='Show/Hide data repr'><svg class='icon xr-icon-database'><use xlink:href='#icon-database'></use></svg></label><div class='xr-var-attrs'><dl class='xr-attrs'><dt><span>units :</span></dt><dd>degrees</dd><dt><span>comment :</span></dt><dd>Pitch sensor bias</dd></dl></div><div class='xr-var-data'><pre>[1 values with dtype=float64]</pre></div></li><li class='xr-var-item'><div class='xr-var-name'><span>log_COMPASS_DEVICE</span></div><div class='xr-var-dims'>()</div><div class='xr-var-dtype'>float64</div><div class='xr-var-preview xr-preview'>...</div><input id='attrs-18e99d18-a1a0-4e73-8cb0-03ed47881204' class='xr-var-attrs-in' type='checkbox' disabled><label for='attrs-18e99d18-a1a0-4e73-8cb0-03ed47881204' title='Show/Hide attributes'><svg class='icon xr-icon-file-text2'><use xlink:href='#icon-file-text2'></use></svg></label><input id='data-84146a5e-e846-4478-9cc0-026745a2afc7' class='xr-var-data-in' type='checkbox'><label for='data-84146a5e-e846-4478-9cc0-026745a2afc7' title='Show/Hide data repr'><svg class='icon xr-icon-database'><use xlink:href='#icon-database'></use></svg></label><div class='xr-var-attrs'><dl class='xr-attrs'></dl></div><div class='xr-var-data'><pre>[1 values with dtype=float64]</pre></div></li><li class='xr-var-item'><div class='xr-var-name'><span>log_PITCH_VBD_SHIFT</span></div><div class='xr-var-dims'>()</div><div class='xr-var-dtype'>float64</div><div class='xr-var-preview xr-preview'>...</div><input id='attrs-92207171-500b-4ae3-8010-dbd06488857e' class='xr-var-attrs-in' type='checkbox' disabled><label for='attrs-92207171-500b-4ae3-8010-dbd06488857e' title='Show/Hide attributes'><svg class='icon xr-icon-file-text2'><use xlink:href='#icon-file-text2'></use></svg></label><input id='data-f02da0dc-392f-4cc1-b5ce-d0c34f65beda' class='xr-var-data-in' type='checkbox'><label for='data-f02da0dc-392f-4cc1-b5ce-d0c34f65beda' title='Show/Hide data repr'><svg class='icon xr-icon-database'><use xlink:href='#icon-database'></use></svg></label><div class='xr-var-attrs'><dl class='xr-attrs'></dl></div><div class='xr-var-data'><pre>[1 values with dtype=float64]</pre></div></li><li class='xr-var-item'><div class='xr-var-name'><span>sg_cal_optode_PhaseCoef3</span></div><div class='xr-var-dims'>()</div><div class='xr-var-dtype'>float64</div><div class='xr-var-preview xr-preview'>...</div><input id='attrs-6d261950-0253-4a69-b722-fa57e90ead8d' class='xr-var-attrs-in' type='checkbox' disabled><label for='attrs-6d261950-0253-4a69-b722-fa57e90ead8d' title='Show/Hide attributes'><svg class='icon xr-icon-file-text2'><use xlink:href='#icon-file-text2'></use></svg></label><input id='data-267b506e-e2e5-4555-8b3e-6f073c881383' class='xr-var-data-in' type='checkbox'><label for='data-267b506e-e2e5-4555-8b3e-6f073c881383' title='Show/Hide data repr'><svg class='icon xr-icon-database'><use xlink:href='#icon-database'></use></svg></label><div class='xr-var-attrs'><dl class='xr-attrs'></dl></div><div class='xr-var-data'><pre>[1 values with dtype=float64]</pre></div></li><li class='xr-var-item'><div class='xr-var-name'><span>log_INT_PRESSURE_YINT</span></div><div class='xr-var-dims'>()</div><div class='xr-var-dtype'>float64</div><div class='xr-var-preview xr-preview'>...</div><input id='attrs-545de4c5-6de1-44a9-b604-69be6c47522b' class='xr-var-attrs-in' type='checkbox' disabled><label for='attrs-545de4c5-6de1-44a9-b604-69be6c47522b' title='Show/Hide attributes'><svg class='icon xr-icon-file-text2'><use xlink:href='#icon-file-text2'></use></svg></label><input id='data-d516a88d-ae0f-4816-a081-eee865b6a851' class='xr-var-data-in' type='checkbox'><label for='data-d516a88d-ae0f-4816-a081-eee865b6a851' title='Show/Hide data repr'><svg class='icon xr-icon-database'><use xlink:href='#icon-database'></use></svg></label><div class='xr-var-attrs'><dl class='xr-attrs'></dl></div><div class='xr-var-data'><pre>[1 values with dtype=float64]</pre></div></li><li class='xr-var-item'><div class='xr-var-name'><span>log_XPDR_INHIBIT</span></div><div class='xr-var-dims'>()</div><div class='xr-var-dtype'>float64</div><div class='xr-var-preview xr-preview'>...</div><input id='attrs-99dd5e9e-bdc3-4203-8134-9bd22716bb4c' class='xr-var-attrs-in' type='checkbox' disabled><label for='attrs-99dd5e9e-bdc3-4203-8134-9bd22716bb4c' title='Show/Hide attributes'><svg class='icon xr-icon-file-text2'><use xlink:href='#icon-file-text2'></use></svg></label><input id='data-b7846c20-da25-4bb2-be81-78f0bd67ee2e' class='xr-var-data-in' type='checkbox'><label for='data-b7846c20-da25-4bb2-be81-78f0bd67ee2e' title='Show/Hide data repr'><svg class='icon xr-icon-database'><use xlink:href='#icon-database'></use></svg></label><div class='xr-var-attrs'><dl class='xr-attrs'></dl></div><div class='xr-var-data'><pre>[1 values with dtype=float64]</pre></div></li><li class='xr-var-item'><div class='xr-var-name'><span>reviewed</span></div><div class='xr-var-dims'>()</div><div class='xr-var-dtype'>int32</div><div class='xr-var-preview xr-preview'>...</div><input id='attrs-8817d42a-7ea5-4c28-923e-9f2a15585fc3' class='xr-var-attrs-in' type='checkbox' ><label for='attrs-8817d42a-7ea5-4c28-923e-9f2a15585fc3' title='Show/Hide attributes'><svg class='icon xr-icon-file-text2'><use xlink:href='#icon-file-text2'></use></svg></label><input id='data-f7bad24a-299e-4a30-845c-cd32aa399c32' class='xr-var-data-in' type='checkbox'><label for='data-f7bad24a-299e-4a30-845c-cd32aa399c32' title='Show/Hide data repr'><svg class='icon xr-icon-database'><use xlink:href='#icon-database'></use></svg></label><div class='xr-var-attrs'><dl class='xr-attrs'><dt><span>comment :</span></dt><dd>Whether a scientist has reviewed and approved this profile</dd></dl></div><div class='xr-var-data'><pre>[1 values with dtype=int32]</pre></div></li><li class='xr-var-item'><div class='xr-var-name'><span>log_SEABIRD_T_G</span></div><div class='xr-var-dims'>()</div><div class='xr-var-dtype'>float64</div><div class='xr-var-preview xr-preview'>...</div><input id='attrs-296bb812-55ad-40cf-86ac-416c59e3cebd' class='xr-var-attrs-in' type='checkbox' disabled><label for='attrs-296bb812-55ad-40cf-86ac-416c59e3cebd' title='Show/Hide attributes'><svg class='icon xr-icon-file-text2'><use xlink:href='#icon-file-text2'></use></svg></label><input id='data-8663a5e2-a2db-4dec-8996-797ec2c42281' class='xr-var-data-in' type='checkbox'><label for='data-8663a5e2-a2db-4dec-8996-797ec2c42281' title='Show/Hide data repr'><svg class='icon xr-icon-database'><use xlink:href='#icon-database'></use></svg></label><div class='xr-var-attrs'><dl class='xr-attrs'></dl></div><div class='xr-var-data'><pre>[1 values with dtype=float64]</pre></div></li><li class='xr-var-item'><div class='xr-var-name'><span>log_SEABIRD_T_H</span></div><div class='xr-var-dims'>()</div><div class='xr-var-dtype'>float64</div><div class='xr-var-preview xr-preview'>...</div><input id='attrs-93c9b52a-bfb3-40a3-beb3-1abac9e23937' class='xr-var-attrs-in' type='checkbox' disabled><label for='attrs-93c9b52a-bfb3-40a3-beb3-1abac9e23937' title='Show/Hide attributes'><svg class='icon xr-icon-file-text2'><use xlink:href='#icon-file-text2'></use></svg></label><input id='data-c84cae1a-1216-4160-a7cd-a4a901df8cc0' class='xr-var-data-in' type='checkbox'><label for='data-c84cae1a-1216-4160-a7cd-a4a901df8cc0' title='Show/Hide data repr'><svg class='icon xr-icon-database'><use xlink:href='#icon-database'></use></svg></label><div class='xr-var-attrs'><dl class='xr-attrs'></dl></div><div class='xr-var-data'><pre>[1 values with dtype=float64]</pre></div></li><li class='xr-var-item'><div class='xr-var-name'><span>log_SEABIRD_T_I</span></div><div class='xr-var-dims'>()</div><div class='xr-var-dtype'>float64</div><div class='xr-var-preview xr-preview'>...</div><input id='attrs-192ca59a-a943-45ea-98bc-936038a4e579' class='xr-var-attrs-in' type='checkbox' disabled><label for='attrs-192ca59a-a943-45ea-98bc-936038a4e579' title='Show/Hide attributes'><svg class='icon xr-icon-file-text2'><use xlink:href='#icon-file-text2'></use></svg></label><input id='data-22b6152c-2e32-4b6f-a4fc-05e0a517a320' class='xr-var-data-in' type='checkbox'><label for='data-22b6152c-2e32-4b6f-a4fc-05e0a517a320' title='Show/Hide data repr'><svg class='icon xr-icon-database'><use xlink:href='#icon-database'></use></svg></label><div class='xr-var-attrs'><dl class='xr-attrs'></dl></div><div class='xr-var-data'><pre>[1 values with dtype=float64]</pre></div></li><li class='xr-var-item'><div class='xr-var-name'><span>log_SEABIRD_T_J</span></div><div class='xr-var-dims'>()</div><div class='xr-var-dtype'>float64</div><div class='xr-var-preview xr-preview'>...</div><input id='attrs-eb6a496e-9d35-4fd5-976f-45982f814385' class='xr-var-attrs-in' type='checkbox' disabled><label for='attrs-eb6a496e-9d35-4fd5-976f-45982f814385' title='Show/Hide attributes'><svg class='icon xr-icon-file-text2'><use xlink:href='#icon-file-text2'></use></svg></label><input id='data-1ca724e5-6588-4d09-9ee5-3b799c4e8f70' class='xr-var-data-in' type='checkbox'><label for='data-1ca724e5-6588-4d09-9ee5-3b799c4e8f70' title='Show/Hide data repr'><svg class='icon xr-icon-database'><use xlink:href='#icon-database'></use></svg></label><div class='xr-var-attrs'><dl class='xr-attrs'></dl></div><div class='xr-var-data'><pre>[1 values with dtype=float64]</pre></div></li><li class='xr-var-item'><div class='xr-var-name'><span>log_MINV_10V</span></div><div class='xr-var-dims'>()</div><div class='xr-var-dtype'>float64</div><div class='xr-var-preview xr-preview'>...</div><input id='attrs-98b9c938-42ff-41ec-88f1-4d250909e0c6' class='xr-var-attrs-in' type='checkbox' disabled><label for='attrs-98b9c938-42ff-41ec-88f1-4d250909e0c6' title='Show/Hide attributes'><svg class='icon xr-icon-file-text2'><use xlink:href='#icon-file-text2'></use></svg></label><input id='data-2a623301-4b91-4d4b-a1b4-92cd4d323403' class='xr-var-data-in' type='checkbox'><label for='data-2a623301-4b91-4d4b-a1b4-92cd4d323403' title='Show/Hide data repr'><svg class='icon xr-icon-database'><use xlink:href='#icon-database'></use></svg></label><div class='xr-var-attrs'><dl class='xr-attrs'></dl></div><div class='xr-var-data'><pre>[1 values with dtype=float64]</pre></div></li><li class='xr-var-item'><div class='xr-var-name'><span>sg_cal_hd_s</span></div><div class='xr-var-dims'>()</div><div class='xr-var-dtype'>float64</div><div class='xr-var-preview xr-preview'>...</div><input id='attrs-e1ff6447-a437-4835-b1f0-eb8c0b1a8b65' class='xr-var-attrs-in' type='checkbox' ><label for='attrs-e1ff6447-a437-4835-b1f0-eb8c0b1a8b65' title='Show/Hide attributes'><svg class='icon xr-icon-file-text2'><use xlink:href='#icon-file-text2'></use></svg></label><input id='data-9ef86ec6-2c4a-49db-a691-73159866d2cd' class='xr-var-data-in' type='checkbox'><label for='data-9ef86ec6-2c4a-49db-a691-73159866d2cd' title='Show/Hide data repr'><svg class='icon xr-icon-database'><use xlink:href='#icon-database'></use></svg></label><div class='xr-var-attrs'><dl class='xr-attrs'><dt><span>units :</span></dt><dd>fraction</dd><dt><span>comment :</span></dt><dd>How the drag scales by shape (-1/4 for SG per Eriksen, et al.)</dd></dl></div><div class='xr-var-data'><pre>[1 values with dtype=float64]</pre></div></li><li class='xr-var-item'><div class='xr-var-name'><span>log_RHO</span></div><div class='xr-var-dims'>()</div><div class='xr-var-dtype'>float64</div><div class='xr-var-preview xr-preview'>...</div><input id='attrs-d6adc9b4-76a4-4681-9f24-bbe733ab2ad0' class='xr-var-attrs-in' type='checkbox' ><label for='attrs-d6adc9b4-76a4-4681-9f24-bbe733ab2ad0' title='Show/Hide attributes'><svg class='icon xr-icon-file-text2'><use xlink:href='#icon-file-text2'></use></svg></label><input id='data-d5798eec-4ce3-43bb-b457-36870298ce66' class='xr-var-data-in' type='checkbox'><label for='data-d5798eec-4ce3-43bb-b457-36870298ce66' title='Show/Hide data repr'><svg class='icon xr-icon-database'><use xlink:href='#icon-database'></use></svg></label><div class='xr-var-attrs'><dl class='xr-attrs'><dt><span>units :</span></dt><dd>gram/cc</dd><dt><span>comment :</span></dt><dd>Expected density at deepest point over the deployment</dd></dl></div><div class='xr-var-data'><pre>[1 values with dtype=float64]</pre></div></li><li class='xr-var-item'><div class='xr-var-name'><span>log_SIM_PITCH</span></div><div class='xr-var-dims'>()</div><div class='xr-var-dtype'>float64</div><div class='xr-var-preview xr-preview'>...</div><input id='attrs-1cbf87eb-6645-4bc0-9b74-1bc4a6473284' class='xr-var-attrs-in' type='checkbox' disabled><label for='attrs-1cbf87eb-6645-4bc0-9b74-1bc4a6473284' title='Show/Hide attributes'><svg class='icon xr-icon-file-text2'><use xlink:href='#icon-file-text2'></use></svg></label><input id='data-5728ea63-d9fd-44d5-bc4b-b7798072467a' class='xr-var-data-in' type='checkbox'><label for='data-5728ea63-d9fd-44d5-bc4b-b7798072467a' title='Show/Hide data repr'><svg class='icon xr-icon-database'><use xlink:href='#icon-database'></use></svg></label><div class='xr-var-attrs'><dl class='xr-attrs'></dl></div><div class='xr-var-data'><pre>[1 values with dtype=float64]</pre></div></li><li class='xr-var-item'><div class='xr-var-name'><span>sg_cal_hd_a</span></div><div class='xr-var-dims'>()</div><div class='xr-var-dtype'>float64</div><div class='xr-var-preview xr-preview'>...</div><input id='attrs-1d1fd89f-cbbc-44b1-b259-9f384d81c52d' class='xr-var-attrs-in' type='checkbox' ><label for='attrs-1d1fd89f-cbbc-44b1-b259-9f384d81c52d' title='Show/Hide attributes'><svg class='icon xr-icon-file-text2'><use xlink:href='#icon-file-text2'></use></svg></label><input id='data-37fe0874-a3f8-43a3-a029-8753b86fc9f2' class='xr-var-data-in' type='checkbox'><label for='data-37fe0874-a3f8-43a3-a029-8753b86fc9f2' title='Show/Hide data repr'><svg class='icon xr-icon-database'><use xlink:href='#icon-database'></use></svg></label><div class='xr-var-attrs'><dl class='xr-attrs'><dt><span>comment :</span></dt><dd>Hydrodynamic lift factor for given hull shape (1/degrees of attack angle)</dd></dl></div><div class='xr-var-data'><pre>[1 values with dtype=float64]</pre></div></li><li class='xr-var-item'><div class='xr-var-name'><span>sg_cal_hd_b</span></div><div class='xr-var-dims'>()</div><div class='xr-var-dtype'>float64</div><div class='xr-var-preview xr-preview'>...</div><input id='attrs-761d98a5-e4b0-4188-8264-99acad8cc838' class='xr-var-attrs-in' type='checkbox' ><label for='attrs-761d98a5-e4b0-4188-8264-99acad8cc838' title='Show/Hide attributes'><svg class='icon xr-icon-file-text2'><use xlink:href='#icon-file-text2'></use></svg></label><input id='data-c15c6b71-8888-49db-91ec-03e215759eea' class='xr-var-data-in' type='checkbox'><label for='data-c15c6b71-8888-49db-91ec-03e215759eea' title='Show/Hide data repr'><svg class='icon xr-icon-database'><use xlink:href='#icon-database'></use></svg></label><div class='xr-var-attrs'><dl class='xr-attrs'><dt><span>comment :</span></dt><dd>Hydrodynamic drag factor for given hull shape (Pa^(-1/4))</dd></dl></div><div class='xr-var-data'><pre>[1 values with dtype=float64]</pre></div></li><li class='xr-var-item'><div class='xr-var-name'><span>sg_cal_hd_c</span></div><div class='xr-var-dims'>()</div><div class='xr-var-dtype'>float64</div><div class='xr-var-preview xr-preview'>...</div><input id='attrs-f84da7af-483b-4f22-b8af-1671ea80046b' class='xr-var-attrs-in' type='checkbox' ><label for='attrs-f84da7af-483b-4f22-b8af-1671ea80046b' title='Show/Hide attributes'><svg class='icon xr-icon-file-text2'><use xlink:href='#icon-file-text2'></use></svg></label><input id='data-aaedbd12-8e50-4fda-8ec1-ba49636b854b' class='xr-var-data-in' type='checkbox'><label for='data-aaedbd12-8e50-4fda-8ec1-ba49636b854b' title='Show/Hide data repr'><svg class='icon xr-icon-database'><use xlink:href='#icon-database'></use></svg></label><div class='xr-var-attrs'><dl class='xr-attrs'><dt><span>comment :</span></dt><dd>Hydrodynamic induced drag factor for given hull shape (1/radians^2 of attack angle)</dd></dl></div><div class='xr-var-data'><pre>[1 values with dtype=float64]</pre></div></li><li class='xr-var-item'><div class='xr-var-name'><span>log_CF8_MAXERRORS</span></div><div class='xr-var-dims'>()</div><div class='xr-var-dtype'>int32</div><div class='xr-var-preview xr-preview'>...</div><input id='attrs-636fc779-69c6-4303-9f1d-52ab668acaf9' class='xr-var-attrs-in' type='checkbox' disabled><label for='attrs-636fc779-69c6-4303-9f1d-52ab668acaf9' title='Show/Hide attributes'><svg class='icon xr-icon-file-text2'><use xlink:href='#icon-file-text2'></use></svg></label><input id='data-3f783526-35bc-4c19-88e5-f8ed0500a7d6' class='xr-var-data-in' type='checkbox'><label for='data-3f783526-35bc-4c19-88e5-f8ed0500a7d6' title='Show/Hide data repr'><svg class='icon xr-icon-database'><use xlink:href='#icon-database'></use></svg></label><div class='xr-var-attrs'><dl class='xr-attrs'></dl></div><div class='xr-var-data'><pre>[1 values with dtype=int32]</pre></div></li><li class='xr-var-item'><div class='xr-var-name'><span>log_N_GPS</span></div><div class='xr-var-dims'>()</div><div class='xr-var-dtype'>int32</div><div class='xr-var-preview xr-preview'>...</div><input id='attrs-beb13508-3f63-4e84-8f48-2350731754af' class='xr-var-attrs-in' type='checkbox' disabled><label for='attrs-beb13508-3f63-4e84-8f48-2350731754af' title='Show/Hide attributes'><svg class='icon xr-icon-file-text2'><use xlink:href='#icon-file-text2'></use></svg></label><input id='data-ae1db400-de49-409b-bc17-0757a980e063' class='xr-var-data-in' type='checkbox'><label for='data-ae1db400-de49-409b-bc17-0757a980e063' title='Show/Hide data repr'><svg class='icon xr-icon-database'><use xlink:href='#icon-database'></use></svg></label><div class='xr-var-attrs'><dl class='xr-attrs'></dl></div><div class='xr-var-data'><pre>[1 values with dtype=int32]</pre></div></li><li class='xr-var-item'><div class='xr-var-name'><span>log_T_LOITER</span></div><div class='xr-var-dims'>()</div><div class='xr-var-dtype'>float64</div><div class='xr-var-preview xr-preview'>...</div><input id='attrs-93b56301-f7ae-4b3b-a28a-88bc3eb48a40' class='xr-var-attrs-in' type='checkbox' disabled><label for='attrs-93b56301-f7ae-4b3b-a28a-88bc3eb48a40' title='Show/Hide attributes'><svg class='icon xr-icon-file-text2'><use xlink:href='#icon-file-text2'></use></svg></label><input id='data-5cf34f66-6046-4e32-9bd7-0266a89e7aa6' class='xr-var-data-in' type='checkbox'><label for='data-5cf34f66-6046-4e32-9bd7-0266a89e7aa6' title='Show/Hide data repr'><svg class='icon xr-icon-database'><use xlink:href='#icon-database'></use></svg></label><div class='xr-var-attrs'><dl class='xr-attrs'></dl></div><div class='xr-var-data'><pre>[1 values with dtype=float64]</pre></div></li><li class='xr-var-item'><div class='xr-var-name'><span>log_T_TURN_SAMPINT</span></div><div class='xr-var-dims'>()</div><div class='xr-var-dtype'>float64</div><div class='xr-var-preview xr-preview'>...</div><input id='attrs-3ff99437-7a6d-45a9-835a-de8e08aa4103' class='xr-var-attrs-in' type='checkbox' disabled><label for='attrs-3ff99437-7a6d-45a9-835a-de8e08aa4103' title='Show/Hide attributes'><svg class='icon xr-icon-file-text2'><use xlink:href='#icon-file-text2'></use></svg></label><input id='data-2d6967be-4f1f-4dd6-ad03-e77f0e1ddbd9' class='xr-var-data-in' type='checkbox'><label for='data-2d6967be-4f1f-4dd6-ad03-e77f0e1ddbd9' title='Show/Hide data repr'><svg class='icon xr-icon-database'><use xlink:href='#icon-database'></use></svg></label><div class='xr-var-attrs'><dl class='xr-attrs'></dl></div><div class='xr-var-data'><pre>[1 values with dtype=float64]</pre></div></li><li class='xr-var-item'><div class='xr-var-name'><span>log_HEAPDBG</span></div><div class='xr-var-dims'>()</div><div class='xr-var-dtype'>int32</div><div class='xr-var-preview xr-preview'>...</div><input id='attrs-c975a4f7-9466-4eab-9c46-a05b60eb9b61' class='xr-var-attrs-in' type='checkbox' disabled><label for='attrs-c975a4f7-9466-4eab-9c46-a05b60eb9b61' title='Show/Hide attributes'><svg class='icon xr-icon-file-text2'><use xlink:href='#icon-file-text2'></use></svg></label><input id='data-a792477a-5625-45c9-8eb9-433e7cfbaead' class='xr-var-data-in' type='checkbox'><label for='data-a792477a-5625-45c9-8eb9-433e7cfbaead' title='Show/Hide data repr'><svg class='icon xr-icon-database'><use xlink:href='#icon-database'></use></svg></label><div class='xr-var-attrs'><dl class='xr-attrs'></dl></div><div class='xr-var-data'><pre>[1 values with dtype=int32]</pre></div></li><li class='xr-var-item'><div class='xr-var-name'><span>log_DEVICE6</span></div><div class='xr-var-dims'>()</div><div class='xr-var-dtype'>float64</div><div class='xr-var-preview xr-preview'>...</div><input id='attrs-7986f15b-9209-4ac3-9469-5fb75a828a0d' class='xr-var-attrs-in' type='checkbox' disabled><label for='attrs-7986f15b-9209-4ac3-9469-5fb75a828a0d' title='Show/Hide attributes'><svg class='icon xr-icon-file-text2'><use xlink:href='#icon-file-text2'></use></svg></label><input id='data-b01d920b-df59-4fa1-81c3-c9394ee8b6ba' class='xr-var-data-in' type='checkbox'><label for='data-b01d920b-df59-4fa1-81c3-c9394ee8b6ba' title='Show/Hide data repr'><svg class='icon xr-icon-database'><use xlink:href='#icon-database'></use></svg></label><div class='xr-var-attrs'><dl class='xr-attrs'></dl></div><div class='xr-var-data'><pre>[1 values with dtype=float64]</pre></div></li><li class='xr-var-item'><div class='xr-var-name'><span>log_DEVICE4</span></div><div class='xr-var-dims'>()</div><div class='xr-var-dtype'>float64</div><div class='xr-var-preview xr-preview'>...</div><input id='attrs-aee06d57-7c82-41e6-8aa2-03f4a6750e56' class='xr-var-attrs-in' type='checkbox' disabled><label for='attrs-aee06d57-7c82-41e6-8aa2-03f4a6750e56' title='Show/Hide attributes'><svg class='icon xr-icon-file-text2'><use xlink:href='#icon-file-text2'></use></svg></label><input id='data-698ed26b-34bd-4e13-9024-9866a8707e36' class='xr-var-data-in' type='checkbox'><label for='data-698ed26b-34bd-4e13-9024-9866a8707e36' title='Show/Hide data repr'><svg class='icon xr-icon-database'><use xlink:href='#icon-database'></use></svg></label><div class='xr-var-attrs'><dl class='xr-attrs'></dl></div><div class='xr-var-data'><pre>[1 values with dtype=float64]</pre></div></li><li class='xr-var-item'><div class='xr-var-name'><span>log_DEVICE5</span></div><div class='xr-var-dims'>()</div><div class='xr-var-dtype'>float64</div><div class='xr-var-preview xr-preview'>...</div><input id='attrs-db2fa0f4-e9d5-448a-b738-c4203f339bec' class='xr-var-attrs-in' type='checkbox' disabled><label for='attrs-db2fa0f4-e9d5-448a-b738-c4203f339bec' title='Show/Hide attributes'><svg class='icon xr-icon-file-text2'><use xlink:href='#icon-file-text2'></use></svg></label><input id='data-7a701f6b-73d3-4485-8bf2-cd0ac8a8826a' class='xr-var-data-in' type='checkbox'><label for='data-7a701f6b-73d3-4485-8bf2-cd0ac8a8826a' title='Show/Hide data repr'><svg class='icon xr-icon-database'><use xlink:href='#icon-database'></use></svg></label><div class='xr-var-attrs'><dl class='xr-attrs'></dl></div><div class='xr-var-data'><pre>[1 values with dtype=float64]</pre></div></li><li class='xr-var-item'><div class='xr-var-name'><span>log_DEVICE2</span></div><div class='xr-var-dims'>()</div><div class='xr-var-dtype'>float64</div><div class='xr-var-preview xr-preview'>...</div><input id='attrs-473540a1-d887-4b31-a579-bedb261baca1' class='xr-var-attrs-in' type='checkbox' disabled><label for='attrs-473540a1-d887-4b31-a579-bedb261baca1' title='Show/Hide attributes'><svg class='icon xr-icon-file-text2'><use xlink:href='#icon-file-text2'></use></svg></label><input id='data-4dbf5490-84c6-46c5-a898-b9f182e4e14f' class='xr-var-data-in' type='checkbox'><label for='data-4dbf5490-84c6-46c5-a898-b9f182e4e14f' title='Show/Hide data repr'><svg class='icon xr-icon-database'><use xlink:href='#icon-database'></use></svg></label><div class='xr-var-attrs'><dl class='xr-attrs'></dl></div><div class='xr-var-data'><pre>[1 values with dtype=float64]</pre></div></li><li class='xr-var-item'><div class='xr-var-name'><span>log_DEVICE3</span></div><div class='xr-var-dims'>()</div><div class='xr-var-dtype'>float64</div><div class='xr-var-preview xr-preview'>...</div><input id='attrs-10fad892-f85f-4bd1-a711-8ff62390037e' class='xr-var-attrs-in' type='checkbox' disabled><label for='attrs-10fad892-f85f-4bd1-a711-8ff62390037e' title='Show/Hide attributes'><svg class='icon xr-icon-file-text2'><use xlink:href='#icon-file-text2'></use></svg></label><input id='data-506269bb-6516-49c0-aa45-23ebb6a49741' class='xr-var-data-in' type='checkbox'><label for='data-506269bb-6516-49c0-aa45-23ebb6a49741' title='Show/Hide data repr'><svg class='icon xr-icon-database'><use xlink:href='#icon-database'></use></svg></label><div class='xr-var-attrs'><dl class='xr-attrs'></dl></div><div class='xr-var-data'><pre>[1 values with dtype=float64]</pre></div></li><li class='xr-var-item'><div class='xr-var-name'><span>log_ALTIM_PING_DEPTH</span></div><div class='xr-var-dims'>()</div><div class='xr-var-dtype'>float64</div><div class='xr-var-preview xr-preview'>...</div><input id='attrs-dd6427e9-1bef-407a-98dc-994126415784' class='xr-var-attrs-in' type='checkbox' disabled><label for='attrs-dd6427e9-1bef-407a-98dc-994126415784' title='Show/Hide attributes'><svg class='icon xr-icon-file-text2'><use xlink:href='#icon-file-text2'></use></svg></label><input id='data-ea0099ab-f844-4d30-850e-548902bef650' class='xr-var-data-in' type='checkbox'><label for='data-ea0099ab-f844-4d30-850e-548902bef650' title='Show/Hide data repr'><svg class='icon xr-icon-database'><use xlink:href='#icon-database'></use></svg></label><div class='xr-var-attrs'><dl class='xr-attrs'></dl></div><div class='xr-var-data'><pre>[1 values with dtype=float64]</pre></div></li><li class='xr-var-item'><div class='xr-var-name'><span>log_DEVICE1</span></div><div class='xr-var-dims'>()</div><div class='xr-var-dtype'>float64</div><div class='xr-var-preview xr-preview'>...</div><input id='attrs-498ed105-1aaa-4244-84a7-2a4c2683589e' class='xr-var-attrs-in' type='checkbox' disabled><label for='attrs-498ed105-1aaa-4244-84a7-2a4c2683589e' title='Show/Hide attributes'><svg class='icon xr-icon-file-text2'><use xlink:href='#icon-file-text2'></use></svg></label><input id='data-108d4e4f-04f8-4d38-87a0-eceaffe6c702' class='xr-var-data-in' type='checkbox'><label for='data-108d4e4f-04f8-4d38-87a0-eceaffe6c702' title='Show/Hide data repr'><svg class='icon xr-icon-database'><use xlink:href='#icon-database'></use></svg></label><div class='xr-var-attrs'><dl class='xr-attrs'></dl></div><div class='xr-var-data'><pre>[1 values with dtype=float64]</pre></div></li><li class='xr-var-item'><div class='xr-var-name'><span>log_CALL_WAIT</span></div><div class='xr-var-dims'>()</div><div class='xr-var-dtype'>int32</div><div class='xr-var-preview xr-preview'>...</div><input id='attrs-5309b1b4-d81f-4bb9-b6f0-ca9df0678405' class='xr-var-attrs-in' type='checkbox' disabled><label for='attrs-5309b1b4-d81f-4bb9-b6f0-ca9df0678405' title='Show/Hide attributes'><svg class='icon xr-icon-file-text2'><use xlink:href='#icon-file-text2'></use></svg></label><input id='data-c00f10f8-958f-4799-a782-0d4b1897e406' class='xr-var-data-in' type='checkbox'><label for='data-c00f10f8-958f-4799-a782-0d4b1897e406' title='Show/Hide data repr'><svg class='icon xr-icon-database'><use xlink:href='#icon-database'></use></svg></label><div class='xr-var-attrs'><dl class='xr-attrs'></dl></div><div class='xr-var-data'><pre>[1 values with dtype=int32]</pre></div></li><li class='xr-var-item'><div class='xr-var-name'><span>log_PITCH_DBAND</span></div><div class='xr-var-dims'>()</div><div class='xr-var-dtype'>float64</div><div class='xr-var-preview xr-preview'>...</div><input id='attrs-608ea8cb-9a48-4cc2-ad6e-3099d177f412' class='xr-var-attrs-in' type='checkbox' disabled><label for='attrs-608ea8cb-9a48-4cc2-ad6e-3099d177f412' title='Show/Hide attributes'><svg class='icon xr-icon-file-text2'><use xlink:href='#icon-file-text2'></use></svg></label><input id='data-cca3fd49-3d66-4a79-81e0-5e534ab788bc' class='xr-var-data-in' type='checkbox'><label for='data-cca3fd49-3d66-4a79-81e0-5e534ab788bc' title='Show/Hide data repr'><svg class='icon xr-icon-database'><use xlink:href='#icon-database'></use></svg></label><div class='xr-var-attrs'><dl class='xr-attrs'></dl></div><div class='xr-var-data'><pre>[1 values with dtype=float64]</pre></div></li><li class='xr-var-item'><div class='xr-var-name'><span>log_STROBE</span></div><div class='xr-var-dims'>()</div><div class='xr-var-dtype'>int32</div><div class='xr-var-preview xr-preview'>...</div><input id='attrs-953b5e00-762a-4556-9d03-5a3ad2bb442a' class='xr-var-attrs-in' type='checkbox' disabled><label for='attrs-953b5e00-762a-4556-9d03-5a3ad2bb442a' title='Show/Hide attributes'><svg class='icon xr-icon-file-text2'><use xlink:href='#icon-file-text2'></use></svg></label><input id='data-05f05e8f-5f80-4d01-94a0-725fda3ed7a8' class='xr-var-data-in' type='checkbox'><label for='data-05f05e8f-5f80-4d01-94a0-725fda3ed7a8' title='Show/Hide data repr'><svg class='icon xr-icon-database'><use xlink:href='#icon-database'></use></svg></label><div class='xr-var-attrs'><dl class='xr-attrs'></dl></div><div class='xr-var-data'><pre>[1 values with dtype=int32]</pre></div></li><li class='xr-var-item'><div class='xr-var-name'><span>log_XPDR_DEVICE</span></div><div class='xr-var-dims'>()</div><div class='xr-var-dtype'>float64</div><div class='xr-var-preview xr-preview'>...</div><input id='attrs-112da2f9-a1fe-4c22-b259-8398d72d3839' class='xr-var-attrs-in' type='checkbox' disabled><label for='attrs-112da2f9-a1fe-4c22-b259-8398d72d3839' title='Show/Hide attributes'><svg class='icon xr-icon-file-text2'><use xlink:href='#icon-file-text2'></use></svg></label><input id='data-2912e3fb-d257-4ccd-9baa-8a7b4c6fd493' class='xr-var-data-in' type='checkbox'><label for='data-2912e3fb-d257-4ccd-9baa-8a7b4c6fd493' title='Show/Hide data repr'><svg class='icon xr-icon-database'><use xlink:href='#icon-database'></use></svg></label><div class='xr-var-attrs'><dl class='xr-attrs'></dl></div><div class='xr-var-data'><pre>[1 values with dtype=float64]</pre></div></li><li class='xr-var-item'><div class='xr-var-name'><span>start_of_climb_time</span></div><div class='xr-var-dims'>()</div><div class='xr-var-dtype'>timedelta64[ns]</div><div class='xr-var-preview xr-preview'>...</div><input id='attrs-93ebf5d9-8927-435a-8286-d555a1374c19' class='xr-var-attrs-in' type='checkbox' ><label for='attrs-93ebf5d9-8927-435a-8286-d555a1374c19' title='Show/Hide attributes'><svg class='icon xr-icon-file-text2'><use xlink:href='#icon-file-text2'></use></svg></label><input id='data-554bbd5a-77c0-4927-bfc8-1d9fac13172c' class='xr-var-data-in' type='checkbox'><label for='data-554bbd5a-77c0-4927-bfc8-1d9fac13172c' title='Show/Hide data repr'><svg class='icon xr-icon-database'><use xlink:href='#icon-database'></use></svg></label><div class='xr-var-attrs'><dl class='xr-attrs'><dt><span>comment :</span></dt><dd>Elapsed seconds after dive start when second (positive) apogee pump starts</dd></dl></div><div class='xr-var-data'><pre>[1 values with dtype=timedelta64[ns]]</pre></div></li><li class='xr-var-item'><div class='xr-var-name'><span>log_XPDR_PINGS</span></div><div class='xr-var-dims'>()</div><div class='xr-var-dtype'>float64</div><div class='xr-var-preview xr-preview'>...</div><input id='attrs-59c8cc8c-485f-4b84-87d7-3145996d3f90' class='xr-var-attrs-in' type='checkbox' disabled><label for='attrs-59c8cc8c-485f-4b84-87d7-3145996d3f90' title='Show/Hide attributes'><svg class='icon xr-icon-file-text2'><use xlink:href='#icon-file-text2'></use></svg></label><input id='data-0370c1c1-da2d-459e-8981-11a3659c1dd5' class='xr-var-data-in' type='checkbox'><label for='data-0370c1c1-da2d-459e-8981-11a3659c1dd5' title='Show/Hide data repr'><svg class='icon xr-icon-database'><use xlink:href='#icon-database'></use></svg></label><div class='xr-var-attrs'><dl class='xr-attrs'></dl></div><div class='xr-var-data'><pre>[1 values with dtype=float64]</pre></div></li><li class='xr-var-item'><div class='xr-var-name'><span>surface_curr_error</span></div><div class='xr-var-dims'>()</div><div class='xr-var-dtype'>float64</div><div class='xr-var-preview xr-preview'>...</div><input id='attrs-43d05b16-5b5b-4671-87ee-020fed6f400e' class='xr-var-attrs-in' type='checkbox' ><label for='attrs-43d05b16-5b5b-4671-87ee-020fed6f400e' title='Show/Hide attributes'><svg class='icon xr-icon-file-text2'><use xlink:href='#icon-file-text2'></use></svg></label><input id='data-c57035d6-27c0-4319-ab4a-3fa342cdb07f' class='xr-var-data-in' type='checkbox'><label for='data-c57035d6-27c0-4319-ab4a-3fa342cdb07f' title='Show/Hide data repr'><svg class='icon xr-icon-database'><use xlink:href='#icon-database'></use></svg></label><div class='xr-var-attrs'><dl class='xr-attrs'><dt><span>units :</span></dt><dd>m/s</dd><dt><span>comment :</span></dt><dd>Expected error of surface drift current from GPS</dd></dl></div><div class='xr-var-data'><pre>[1 values with dtype=float64]</pre></div></li><li class='xr-var-item'><div class='xr-var-name'><span>log_ROLL_MIN</span></div><div class='xr-var-dims'>()</div><div class='xr-var-dtype'>int32</div><div class='xr-var-preview xr-preview'>...</div><input id='attrs-2f91106f-9264-48b3-8fe1-254857f70694' class='xr-var-attrs-in' type='checkbox' disabled><label for='attrs-2f91106f-9264-48b3-8fe1-254857f70694' title='Show/Hide attributes'><svg class='icon xr-icon-file-text2'><use xlink:href='#icon-file-text2'></use></svg></label><input id='data-d1e8044c-418d-4aca-abcc-b8b2328caf69' class='xr-var-data-in' type='checkbox'><label for='data-d1e8044c-418d-4aca-abcc-b8b2328caf69' title='Show/Hide data repr'><svg class='icon xr-icon-database'><use xlink:href='#icon-database'></use></svg></label><div class='xr-var-attrs'><dl class='xr-attrs'></dl></div><div class='xr-var-data'><pre>[1 values with dtype=int32]</pre></div></li><li class='xr-var-item'><div class='xr-var-name'><span>log_RAFOS_CORR_THRESH</span></div><div class='xr-var-dims'>()</div><div class='xr-var-dtype'>float64</div><div class='xr-var-preview xr-preview'>...</div><input id='attrs-4037e12f-f4ee-4410-b973-653b02755b0e' class='xr-var-attrs-in' type='checkbox' disabled><label for='attrs-4037e12f-f4ee-4410-b973-653b02755b0e' title='Show/Hide attributes'><svg class='icon xr-icon-file-text2'><use xlink:href='#icon-file-text2'></use></svg></label><input id='data-215ca0ce-e65d-40a5-aedc-700ebfd6b717' class='xr-var-data-in' type='checkbox'><label for='data-215ca0ce-e65d-40a5-aedc-700ebfd6b717' title='Show/Hide data repr'><svg class='icon xr-icon-database'><use xlink:href='#icon-database'></use></svg></label><div class='xr-var-attrs'><dl class='xr-attrs'></dl></div><div class='xr-var-data'><pre>[1 values with dtype=float64]</pre></div></li><li class='xr-var-item'><div class='xr-var-name'><span>log_P_OVSHOOT</span></div><div class='xr-var-dims'>()</div><div class='xr-var-dtype'>float64</div><div class='xr-var-preview xr-preview'>...</div><input id='attrs-e3a41c70-0f98-4d3c-a505-a7b757c9aad7' class='xr-var-attrs-in' type='checkbox' disabled><label for='attrs-e3a41c70-0f98-4d3c-a505-a7b757c9aad7' title='Show/Hide attributes'><svg class='icon xr-icon-file-text2'><use xlink:href='#icon-file-text2'></use></svg></label><input id='data-d920e3a9-82ab-44bc-91e4-237a6ee0feba' class='xr-var-data-in' type='checkbox'><label for='data-d920e3a9-82ab-44bc-91e4-237a6ee0feba' title='Show/Hide data repr'><svg class='icon xr-icon-database'><use xlink:href='#icon-database'></use></svg></label><div class='xr-var-attrs'><dl class='xr-attrs'></dl></div><div class='xr-var-data'><pre>[1 values with dtype=float64]</pre></div></li><li class='xr-var-item'><div class='xr-var-name'><span>log_AH0_24V</span></div><div class='xr-var-dims'>()</div><div class='xr-var-dtype'>float64</div><div class='xr-var-preview xr-preview'>...</div><input id='attrs-949fff39-1a3c-4c4f-be0b-e63582a89130' class='xr-var-attrs-in' type='checkbox' disabled><label for='attrs-949fff39-1a3c-4c4f-be0b-e63582a89130' title='Show/Hide attributes'><svg class='icon xr-icon-file-text2'><use xlink:href='#icon-file-text2'></use></svg></label><input id='data-c2dd8ec1-187c-4410-bba8-090a48941735' class='xr-var-data-in' type='checkbox'><label for='data-c2dd8ec1-187c-4410-bba8-090a48941735' title='Show/Hide data repr'><svg class='icon xr-icon-database'><use xlink:href='#icon-database'></use></svg></label><div class='xr-var-attrs'><dl class='xr-attrs'></dl></div><div class='xr-var-data'><pre>[1 values with dtype=float64]</pre></div></li><li class='xr-var-item'><div class='xr-var-name'><span>magnetic_variation</span></div><div class='xr-var-dims'>()</div><div class='xr-var-dtype'>float64</div><div class='xr-var-preview xr-preview'>...</div><input id='attrs-2a7817b2-3343-4d29-81ed-9938e79f941c' class='xr-var-attrs-in' type='checkbox' ><label for='attrs-2a7817b2-3343-4d29-81ed-9938e79f941c' title='Show/Hide attributes'><svg class='icon xr-icon-file-text2'><use xlink:href='#icon-file-text2'></use></svg></label><input id='data-551b5411-9168-4794-9216-e20a92eb3512' class='xr-var-data-in' type='checkbox'><label for='data-551b5411-9168-4794-9216-e20a92eb3512' title='Show/Hide data repr'><svg class='icon xr-icon-database'><use xlink:href='#icon-database'></use></svg></label><div class='xr-var-attrs'><dl class='xr-attrs'><dt><span>comment :</span></dt><dd>The magnetic variance from true north (degrees)</dd></dl></div><div class='xr-var-data'><pre>[1 values with dtype=float64]</pre></div></li><li class='xr-var-item'><div class='xr-var-name'><span>log_KALMAN_USE</span></div><div class='xr-var-dims'>()</div><div class='xr-var-dtype'>int32</div><div class='xr-var-preview xr-preview'>...</div><input id='attrs-d4077954-76f8-423b-adbc-3ca9e7c625dc' class='xr-var-attrs-in' type='checkbox' disabled><label for='attrs-d4077954-76f8-423b-adbc-3ca9e7c625dc' title='Show/Hide attributes'><svg class='icon xr-icon-file-text2'><use xlink:href='#icon-file-text2'></use></svg></label><input id='data-669bf336-b902-4c6e-b1e5-df43ecfb61df' class='xr-var-data-in' type='checkbox'><label for='data-669bf336-b902-4c6e-b1e5-df43ecfb61df' title='Show/Hide data repr'><svg class='icon xr-icon-database'><use xlink:href='#icon-database'></use></svg></label><div class='xr-var-attrs'><dl class='xr-attrs'></dl></div><div class='xr-var-data'><pre>[1 values with dtype=int32]</pre></div></li><li class='xr-var-item'><div class='xr-var-name'><span>sg_cal_therm_expan</span></div><div class='xr-var-dims'>()</div><div class='xr-var-dtype'>float64</div><div class='xr-var-preview xr-preview'>...</div><input id='attrs-c9f4a92f-f5da-40f4-87d8-8213b7584977' class='xr-var-attrs-in' type='checkbox' ><label for='attrs-c9f4a92f-f5da-40f4-87d8-8213b7584977' title='Show/Hide attributes'><svg class='icon xr-icon-file-text2'><use xlink:href='#icon-file-text2'></use></svg></label><input id='data-a7b8c5c4-1488-43d1-a5f4-72c39b9f8167' class='xr-var-data-in' type='checkbox'><label for='data-a7b8c5c4-1488-43d1-a5f4-72c39b9f8167' title='Show/Hide data repr'><svg class='icon xr-icon-database'><use xlink:href='#icon-database'></use></svg></label><div class='xr-var-attrs'><dl class='xr-attrs'><dt><span>units :</span></dt><dd>cc/degrees_Celsius</dd><dt><span>comment :</span></dt><dd>SG thermal expansion coeff</dd></dl></div><div class='xr-var-data'><pre>[1 values with dtype=float64]</pre></div></li><li class='xr-var-item'><div class='xr-var-name'><span>sg_cal_optode_FoilCoefA11</span></div><div class='xr-var-dims'>()</div><div class='xr-var-dtype'>float64</div><div class='xr-var-preview xr-preview'>...</div><input id='attrs-ed88492e-bd32-4840-afab-4da6f421d066' class='xr-var-attrs-in' type='checkbox' disabled><label for='attrs-ed88492e-bd32-4840-afab-4da6f421d066' title='Show/Hide attributes'><svg class='icon xr-icon-file-text2'><use xlink:href='#icon-file-text2'></use></svg></label><input id='data-766b4628-657e-4674-8170-a8aa79095afe' class='xr-var-data-in' type='checkbox'><label for='data-766b4628-657e-4674-8170-a8aa79095afe' title='Show/Hide data repr'><svg class='icon xr-icon-database'><use xlink:href='#icon-database'></use></svg></label><div class='xr-var-attrs'><dl class='xr-attrs'></dl></div><div class='xr-var-data'><pre>[1 values with dtype=float64]</pre></div></li><li class='xr-var-item'><div class='xr-var-name'><span>log_VBD_TIMEOUT</span></div><div class='xr-var-dims'>()</div><div class='xr-var-dtype'>float64</div><div class='xr-var-preview xr-preview'>...</div><input id='attrs-b0410de4-00da-4267-85e2-bb935130e386' class='xr-var-attrs-in' type='checkbox' disabled><label for='attrs-b0410de4-00da-4267-85e2-bb935130e386' title='Show/Hide attributes'><svg class='icon xr-icon-file-text2'><use xlink:href='#icon-file-text2'></use></svg></label><input id='data-69f5f905-176b-4980-9579-d438111d14bd' class='xr-var-data-in' type='checkbox'><label for='data-69f5f905-176b-4980-9579-d438111d14bd' title='Show/Hide data repr'><svg class='icon xr-icon-database'><use xlink:href='#icon-database'></use></svg></label><div class='xr-var-attrs'><dl class='xr-attrs'></dl></div><div class='xr-var-data'><pre>[1 values with dtype=float64]</pre></div></li><li class='xr-var-item'><div class='xr-var-name'><span>log_ID</span></div><div class='xr-var-dims'>()</div><div class='xr-var-dtype'>int32</div><div class='xr-var-preview xr-preview'>...</div><input id='attrs-0809185a-ac93-4955-a2c1-d0783ecb2618' class='xr-var-attrs-in' type='checkbox' disabled><label for='attrs-0809185a-ac93-4955-a2c1-d0783ecb2618' title='Show/Hide attributes'><svg class='icon xr-icon-file-text2'><use xlink:href='#icon-file-text2'></use></svg></label><input id='data-ee058838-6aa8-45cf-9b16-9b469c4b5e29' class='xr-var-data-in' type='checkbox'><label for='data-ee058838-6aa8-45cf-9b16-9b469c4b5e29' title='Show/Hide data repr'><svg class='icon xr-icon-database'><use xlink:href='#icon-database'></use></svg></label><div class='xr-var-attrs'><dl class='xr-attrs'></dl></div><div class='xr-var-data'><pre>[1 values with dtype=int32]</pre></div></li><li class='xr-var-item'><div class='xr-var-name'><span>log_ROLL_AD_RATE</span></div><div class='xr-var-dims'>()</div><div class='xr-var-dtype'>float64</div><div class='xr-var-preview xr-preview'>...</div><input id='attrs-c42a62aa-0073-4a95-8fc8-7be3d76344e3' class='xr-var-attrs-in' type='checkbox' disabled><label for='attrs-c42a62aa-0073-4a95-8fc8-7be3d76344e3' title='Show/Hide attributes'><svg class='icon xr-icon-file-text2'><use xlink:href='#icon-file-text2'></use></svg></label><input id='data-e372cc6f-fe1b-4279-8659-e2d89fab3874' class='xr-var-data-in' type='checkbox'><label for='data-e372cc6f-fe1b-4279-8659-e2d89fab3874' title='Show/Hide data repr'><svg class='icon xr-icon-database'><use xlink:href='#icon-database'></use></svg></label><div class='xr-var-attrs'><dl class='xr-attrs'></dl></div><div class='xr-var-data'><pre>[1 values with dtype=float64]</pre></div></li><li class='xr-var-item'><div class='xr-var-name'><span>log_SEABIRD_C_G</span></div><div class='xr-var-dims'>()</div><div class='xr-var-dtype'>float64</div><div class='xr-var-preview xr-preview'>...</div><input id='attrs-6b9c91f1-8086-4200-97af-f70882873602' class='xr-var-attrs-in' type='checkbox' disabled><label for='attrs-6b9c91f1-8086-4200-97af-f70882873602' title='Show/Hide attributes'><svg class='icon xr-icon-file-text2'><use xlink:href='#icon-file-text2'></use></svg></label><input id='data-5fc718e2-f03c-4ab3-8349-bb8bc3b2e4db' class='xr-var-data-in' type='checkbox'><label for='data-5fc718e2-f03c-4ab3-8349-bb8bc3b2e4db' title='Show/Hide data repr'><svg class='icon xr-icon-database'><use xlink:href='#icon-database'></use></svg></label><div class='xr-var-attrs'><dl class='xr-attrs'></dl></div><div class='xr-var-data'><pre>[1 values with dtype=float64]</pre></div></li><li class='xr-var-item'><div class='xr-var-name'><span>log_SEABIRD_C_J</span></div><div class='xr-var-dims'>()</div><div class='xr-var-dtype'>float64</div><div class='xr-var-preview xr-preview'>...</div><input id='attrs-28c0a5a3-9056-44ea-bf8b-383fee564519' class='xr-var-attrs-in' type='checkbox' disabled><label for='attrs-28c0a5a3-9056-44ea-bf8b-383fee564519' title='Show/Hide attributes'><svg class='icon xr-icon-file-text2'><use xlink:href='#icon-file-text2'></use></svg></label><input id='data-a0a83076-920f-47b6-9bdf-f0614cbadd03' class='xr-var-data-in' type='checkbox'><label for='data-a0a83076-920f-47b6-9bdf-f0614cbadd03' title='Show/Hide data repr'><svg class='icon xr-icon-database'><use xlink:href='#icon-database'></use></svg></label><div class='xr-var-attrs'><dl class='xr-attrs'></dl></div><div class='xr-var-data'><pre>[1 values with dtype=float64]</pre></div></li><li class='xr-var-item'><div class='xr-var-name'><span>log_SEABIRD_C_I</span></div><div class='xr-var-dims'>()</div><div class='xr-var-dtype'>float64</div><div class='xr-var-preview xr-preview'>...</div><input id='attrs-79b5099b-e0a9-4571-b360-402056bbc4e7' class='xr-var-attrs-in' type='checkbox' disabled><label for='attrs-79b5099b-e0a9-4571-b360-402056bbc4e7' title='Show/Hide attributes'><svg class='icon xr-icon-file-text2'><use xlink:href='#icon-file-text2'></use></svg></label><input id='data-7939ab24-3cbd-447d-a96d-5f21ec694629' class='xr-var-data-in' type='checkbox'><label for='data-7939ab24-3cbd-447d-a96d-5f21ec694629' title='Show/Hide data repr'><svg class='icon xr-icon-database'><use xlink:href='#icon-database'></use></svg></label><div class='xr-var-attrs'><dl class='xr-attrs'></dl></div><div class='xr-var-data'><pre>[1 values with dtype=float64]</pre></div></li><li class='xr-var-item'><div class='xr-var-name'><span>log_SEABIRD_C_H</span></div><div class='xr-var-dims'>()</div><div class='xr-var-dtype'>float64</div><div class='xr-var-preview xr-preview'>...</div><input id='attrs-6e0598e5-e5a1-4d37-a2a1-0ed1915601ab' class='xr-var-attrs-in' type='checkbox' disabled><label for='attrs-6e0598e5-e5a1-4d37-a2a1-0ed1915601ab' title='Show/Hide attributes'><svg class='icon xr-icon-file-text2'><use xlink:href='#icon-file-text2'></use></svg></label><input id='data-46c27896-06b4-41d9-b3f7-32537ebd9284' class='xr-var-data-in' type='checkbox'><label for='data-46c27896-06b4-41d9-b3f7-32537ebd9284' title='Show/Hide data repr'><svg class='icon xr-icon-database'><use xlink:href='#icon-database'></use></svg></label><div class='xr-var-attrs'><dl class='xr-attrs'></dl></div><div class='xr-var-data'><pre>[1 values with dtype=float64]</pre></div></li><li class='xr-var-item'><div class='xr-var-name'><span>log_SURFACE_URGENCY</span></div><div class='xr-var-dims'>()</div><div class='xr-var-dtype'>int32</div><div class='xr-var-preview xr-preview'>...</div><input id='attrs-20bf82cc-1716-4b85-b427-3a15611df6c6' class='xr-var-attrs-in' type='checkbox' disabled><label for='attrs-20bf82cc-1716-4b85-b427-3a15611df6c6' title='Show/Hide attributes'><svg class='icon xr-icon-file-text2'><use xlink:href='#icon-file-text2'></use></svg></label><input id='data-cc52c24e-a98d-4a37-9811-5e60771e3e6c' class='xr-var-data-in' type='checkbox'><label for='data-cc52c24e-a98d-4a37-9811-5e60771e3e6c' title='Show/Hide data repr'><svg class='icon xr-icon-database'><use xlink:href='#icon-database'></use></svg></label><div class='xr-var-attrs'><dl class='xr-attrs'></dl></div><div class='xr-var-data'><pre>[1 values with dtype=int32]</pre></div></li><li class='xr-var-item'><div class='xr-var-name'><span>log_CAPMAXSIZE</span></div><div class='xr-var-dims'>()</div><div class='xr-var-dtype'>int32</div><div class='xr-var-preview xr-preview'>...</div><input id='attrs-e19cb89b-00d4-4bf6-93ae-3e18c653d00a' class='xr-var-attrs-in' type='checkbox' disabled><label for='attrs-e19cb89b-00d4-4bf6-93ae-3e18c653d00a' title='Show/Hide attributes'><svg class='icon xr-icon-file-text2'><use xlink:href='#icon-file-text2'></use></svg></label><input id='data-52c394ce-3b46-4671-b78e-e69af3a8d6dd' class='xr-var-data-in' type='checkbox'><label for='data-52c394ce-3b46-4671-b78e-e69af3a8d6dd' title='Show/Hide data repr'><svg class='icon xr-icon-database'><use xlink:href='#icon-database'></use></svg></label><div class='xr-var-attrs'><dl class='xr-attrs'></dl></div><div class='xr-var-data'><pre>[1 values with dtype=int32]</pre></div></li><li class='xr-var-item'><div class='xr-var-name'><span>log_ROLL_MAXERRORS</span></div><div class='xr-var-dims'>()</div><div class='xr-var-dtype'>int32</div><div class='xr-var-preview xr-preview'>...</div><input id='attrs-84066d89-e327-4531-bd9f-48bbe070cb3f' class='xr-var-attrs-in' type='checkbox' disabled><label for='attrs-84066d89-e327-4531-bd9f-48bbe070cb3f' title='Show/Hide attributes'><svg class='icon xr-icon-file-text2'><use xlink:href='#icon-file-text2'></use></svg></label><input id='data-c3ab6d2f-4c35-4fa1-800d-8fe1feac3216' class='xr-var-data-in' type='checkbox'><label for='data-c3ab6d2f-4c35-4fa1-800d-8fe1feac3216' title='Show/Hide data repr'><svg class='icon xr-icon-database'><use xlink:href='#icon-database'></use></svg></label><div class='xr-var-attrs'><dl class='xr-attrs'></dl></div><div class='xr-var-data'><pre>[1 values with dtype=int32]</pre></div></li><li class='xr-var-item'><div class='xr-var-name'><span>log_INTERNAL_PRESSURE</span></div><div class='xr-var-dims'>()</div><div class='xr-var-dtype'>float64</div><div class='xr-var-preview xr-preview'>...</div><input id='attrs-e91abaf5-eb08-4866-90a9-0500993af326' class='xr-var-attrs-in' type='checkbox' disabled><label for='attrs-e91abaf5-eb08-4866-90a9-0500993af326' title='Show/Hide attributes'><svg class='icon xr-icon-file-text2'><use xlink:href='#icon-file-text2'></use></svg></label><input id='data-73a8c7f6-1bcd-4b53-8eef-d38ac4b3d024' class='xr-var-data-in' type='checkbox'><label for='data-73a8c7f6-1bcd-4b53-8eef-d38ac4b3d024' title='Show/Hide data repr'><svg class='icon xr-icon-database'><use xlink:href='#icon-database'></use></svg></label><div class='xr-var-attrs'><dl class='xr-attrs'></dl></div><div class='xr-var-data'><pre>[1 values with dtype=float64]</pre></div></li><li class='xr-var-item'><div class='xr-var-name'><span>log_LOGGERS</span></div><div class='xr-var-dims'>()</div><div class='xr-var-dtype'>float64</div><div class='xr-var-preview xr-preview'>...</div><input id='attrs-f774de5f-2758-4214-9851-2b5e32dc7e19' class='xr-var-attrs-in' type='checkbox' disabled><label for='attrs-f774de5f-2758-4214-9851-2b5e32dc7e19' title='Show/Hide attributes'><svg class='icon xr-icon-file-text2'><use xlink:href='#icon-file-text2'></use></svg></label><input id='data-05df22d3-6631-4fab-bbca-2acd87620d88' class='xr-var-data-in' type='checkbox'><label for='data-05df22d3-6631-4fab-bbca-2acd87620d88' title='Show/Hide data repr'><svg class='icon xr-icon-database'><use xlink:href='#icon-database'></use></svg></label><div class='xr-var-attrs'><dl class='xr-attrs'></dl></div><div class='xr-var-data'><pre>[1 values with dtype=float64]</pre></div></li><li class='xr-var-item'><div class='xr-var-name'><span>log_UPLOAD_DIVES_MAX</span></div><div class='xr-var-dims'>()</div><div class='xr-var-dtype'>int32</div><div class='xr-var-preview xr-preview'>...</div><input id='attrs-6f2f91f4-bdc5-4015-82ea-e2b8f914aacb' class='xr-var-attrs-in' type='checkbox' disabled><label for='attrs-6f2f91f4-bdc5-4015-82ea-e2b8f914aacb' title='Show/Hide attributes'><svg class='icon xr-icon-file-text2'><use xlink:href='#icon-file-text2'></use></svg></label><input id='data-64d8d920-e3f9-4ae6-bd45-53b207a32dea' class='xr-var-data-in' type='checkbox'><label for='data-64d8d920-e3f9-4ae6-bd45-53b207a32dea' title='Show/Hide data repr'><svg class='icon xr-icon-database'><use xlink:href='#icon-database'></use></svg></label><div class='xr-var-attrs'><dl class='xr-attrs'></dl></div><div class='xr-var-data'><pre>[1 values with dtype=int32]</pre></div></li><li class='xr-var-item'><div class='xr-var-name'><span>flight_avg_speed_north</span></div><div class='xr-var-dims'>()</div><div class='xr-var-dtype'>float64</div><div class='xr-var-preview xr-preview'>...</div><input id='attrs-6b1c34fb-2ce8-4c71-8a53-5749e7d1c250' class='xr-var-attrs-in' type='checkbox' ><label for='attrs-6b1c34fb-2ce8-4c71-8a53-5749e7d1c250' title='Show/Hide attributes'><svg class='icon xr-icon-file-text2'><use xlink:href='#icon-file-text2'></use></svg></label><input id='data-ae78195a-e6f8-427b-b674-5646f66c0ea2' class='xr-var-data-in' type='checkbox'><label for='data-ae78195a-e6f8-427b-b674-5646f66c0ea2' title='Show/Hide data repr'><svg class='icon xr-icon-database'><use xlink:href='#icon-database'></use></svg></label><div class='xr-var-attrs'><dl class='xr-attrs'><dt><span>units :</span></dt><dd>m/s</dd><dt><span>comment :</span></dt><dd>Northward component of flight average speed based on hdm</dd></dl></div><div class='xr-var-data'><pre>[1 values with dtype=float64]</pre></div></li><li class='xr-var-item'><div class='xr-var-name'><span>log_RELAUNCH</span></div><div class='xr-var-dims'>()</div><div class='xr-var-dtype'>int32</div><div class='xr-var-preview xr-preview'>...</div><input id='attrs-da26bf84-ad6c-4a6b-aa91-649a9996eeef' class='xr-var-attrs-in' type='checkbox' disabled><label for='attrs-da26bf84-ad6c-4a6b-aa91-649a9996eeef' title='Show/Hide attributes'><svg class='icon xr-icon-file-text2'><use xlink:href='#icon-file-text2'></use></svg></label><input id='data-6687ebeb-8a7e-4f22-99f5-00aee53bb7b1' class='xr-var-data-in' type='checkbox'><label for='data-6687ebeb-8a7e-4f22-99f5-00aee53bb7b1' title='Show/Hide data repr'><svg class='icon xr-icon-database'><use xlink:href='#icon-database'></use></svg></label><div class='xr-var-attrs'><dl class='xr-attrs'></dl></div><div class='xr-var-data'><pre>[1 values with dtype=int32]</pre></div></li><li class='xr-var-item'><div class='xr-var-name'><span>log_PHONE_DEVICE</span></div><div class='xr-var-dims'>()</div><div class='xr-var-dtype'>float64</div><div class='xr-var-preview xr-preview'>...</div><input id='attrs-cb6d5e03-b422-4ec2-977b-c0757f8a614c' class='xr-var-attrs-in' type='checkbox' disabled><label for='attrs-cb6d5e03-b422-4ec2-977b-c0757f8a614c' title='Show/Hide attributes'><svg class='icon xr-icon-file-text2'><use xlink:href='#icon-file-text2'></use></svg></label><input id='data-d6c79d1d-62cf-4eaf-a55a-c96ea63de940' class='xr-var-data-in' type='checkbox'><label for='data-d6c79d1d-62cf-4eaf-a55a-c96ea63de940' title='Show/Hide data repr'><svg class='icon xr-icon-database'><use xlink:href='#icon-database'></use></svg></label><div class='xr-var-attrs'><dl class='xr-attrs'></dl></div><div class='xr-var-data'><pre>[1 values with dtype=float64]</pre></div></li><li class='xr-var-item'><div class='xr-var-name'><span>log_T_GPS_ALMANAC</span></div><div class='xr-var-dims'>()</div><div class='xr-var-dtype'>float64</div><div class='xr-var-preview xr-preview'>...</div><input id='attrs-ea503c59-1e06-403b-9fb8-134540e6e6f0' class='xr-var-attrs-in' type='checkbox' disabled><label for='attrs-ea503c59-1e06-403b-9fb8-134540e6e6f0' title='Show/Hide attributes'><svg class='icon xr-icon-file-text2'><use xlink:href='#icon-file-text2'></use></svg></label><input id='data-836d41b4-e801-4e8e-b4cd-34fa0241951f' class='xr-var-data-in' type='checkbox'><label for='data-836d41b4-e801-4e8e-b4cd-34fa0241951f' title='Show/Hide data repr'><svg class='icon xr-icon-database'><use xlink:href='#icon-database'></use></svg></label><div class='xr-var-attrs'><dl class='xr-attrs'></dl></div><div class='xr-var-data'><pre>[1 values with dtype=float64]</pre></div></li><li class='xr-var-item'><div class='xr-var-name'><span>log__CALLS</span></div><div class='xr-var-dims'>()</div><div class='xr-var-dtype'>float64</div><div class='xr-var-preview xr-preview'>...</div><input id='attrs-0469bf03-3b78-47b4-89f4-225c51c41029' class='xr-var-attrs-in' type='checkbox' disabled><label for='attrs-0469bf03-3b78-47b4-89f4-225c51c41029' title='Show/Hide attributes'><svg class='icon xr-icon-file-text2'><use xlink:href='#icon-file-text2'></use></svg></label><input id='data-870e73ab-193e-42af-be5b-a933f31e1475' class='xr-var-data-in' type='checkbox'><label for='data-870e73ab-193e-42af-be5b-a933f31e1475' title='Show/Hide data repr'><svg class='icon xr-icon-database'><use xlink:href='#icon-database'></use></svg></label><div class='xr-var-attrs'><dl class='xr-attrs'></dl></div><div class='xr-var-data'><pre>[1 values with dtype=float64]</pre></div></li><li class='xr-var-item'><div class='xr-var-name'><span>sg_cal_optode_FoilCoefB9</span></div><div class='xr-var-dims'>()</div><div class='xr-var-dtype'>float64</div><div class='xr-var-preview xr-preview'>...</div><input id='attrs-2afcf375-6fa8-49a3-9794-863fddc6cd65' class='xr-var-attrs-in' type='checkbox' disabled><label for='attrs-2afcf375-6fa8-49a3-9794-863fddc6cd65' title='Show/Hide attributes'><svg class='icon xr-icon-file-text2'><use xlink:href='#icon-file-text2'></use></svg></label><input id='data-c7a3c3a8-bdd8-44f8-9bd5-a9a4d6899730' class='xr-var-data-in' type='checkbox'><label for='data-c7a3c3a8-bdd8-44f8-9bd5-a9a4d6899730' title='Show/Hide data repr'><svg class='icon xr-icon-database'><use xlink:href='#icon-database'></use></svg></label><div class='xr-var-attrs'><dl class='xr-attrs'></dl></div><div class='xr-var-data'><pre>[1 values with dtype=float64]</pre></div></li><li class='xr-var-item'><div class='xr-var-name'><span>sg_cal_optode_FoilCoefB8</span></div><div class='xr-var-dims'>()</div><div class='xr-var-dtype'>float64</div><div class='xr-var-preview xr-preview'>...</div><input id='attrs-d3dc0c5a-34ba-4b46-b0d1-cd844b57774a' class='xr-var-attrs-in' type='checkbox' disabled><label for='attrs-d3dc0c5a-34ba-4b46-b0d1-cd844b57774a' title='Show/Hide attributes'><svg class='icon xr-icon-file-text2'><use xlink:href='#icon-file-text2'></use></svg></label><input id='data-40f3f40a-66aa-4e56-af43-e0d89330e5c2' class='xr-var-data-in' type='checkbox'><label for='data-40f3f40a-66aa-4e56-af43-e0d89330e5c2' title='Show/Hide data repr'><svg class='icon xr-icon-database'><use xlink:href='#icon-database'></use></svg></label><div class='xr-var-attrs'><dl class='xr-attrs'></dl></div><div class='xr-var-data'><pre>[1 values with dtype=float64]</pre></div></li><li class='xr-var-item'><div class='xr-var-name'><span>sg_cal_optode_FoilCoefB7</span></div><div class='xr-var-dims'>()</div><div class='xr-var-dtype'>float64</div><div class='xr-var-preview xr-preview'>...</div><input id='attrs-48cb052e-167f-4fdc-9a4e-9cc0b9211acb' class='xr-var-attrs-in' type='checkbox' disabled><label for='attrs-48cb052e-167f-4fdc-9a4e-9cc0b9211acb' title='Show/Hide attributes'><svg class='icon xr-icon-file-text2'><use xlink:href='#icon-file-text2'></use></svg></label><input id='data-a659b72c-84eb-4a8d-a864-3df5e4f1bf2c' class='xr-var-data-in' type='checkbox'><label for='data-a659b72c-84eb-4a8d-a864-3df5e4f1bf2c' title='Show/Hide data repr'><svg class='icon xr-icon-database'><use xlink:href='#icon-database'></use></svg></label><div class='xr-var-attrs'><dl class='xr-attrs'></dl></div><div class='xr-var-data'><pre>[1 values with dtype=float64]</pre></div></li><li class='xr-var-item'><div class='xr-var-name'><span>sg_cal_optode_FoilCoefB6</span></div><div class='xr-var-dims'>()</div><div class='xr-var-dtype'>float64</div><div class='xr-var-preview xr-preview'>...</div><input id='attrs-50d91977-e15a-4f50-9643-c4f4a271055c' class='xr-var-attrs-in' type='checkbox' disabled><label for='attrs-50d91977-e15a-4f50-9643-c4f4a271055c' title='Show/Hide attributes'><svg class='icon xr-icon-file-text2'><use xlink:href='#icon-file-text2'></use></svg></label><input id='data-b31fe9e5-5acb-42fc-9672-a834e68164fc' class='xr-var-data-in' type='checkbox'><label for='data-b31fe9e5-5acb-42fc-9672-a834e68164fc' title='Show/Hide data repr'><svg class='icon xr-icon-database'><use xlink:href='#icon-database'></use></svg></label><div class='xr-var-attrs'><dl class='xr-attrs'></dl></div><div class='xr-var-data'><pre>[1 values with dtype=float64]</pre></div></li><li class='xr-var-item'><div class='xr-var-name'><span>sg_cal_optode_FoilCoefB5</span></div><div class='xr-var-dims'>()</div><div class='xr-var-dtype'>float64</div><div class='xr-var-preview xr-preview'>...</div><input id='attrs-a591ae2d-c256-483b-8f08-c0307a43845d' class='xr-var-attrs-in' type='checkbox' disabled><label for='attrs-a591ae2d-c256-483b-8f08-c0307a43845d' title='Show/Hide attributes'><svg class='icon xr-icon-file-text2'><use xlink:href='#icon-file-text2'></use></svg></label><input id='data-2ae91d41-5139-43ee-972d-15a7d0d237de' class='xr-var-data-in' type='checkbox'><label for='data-2ae91d41-5139-43ee-972d-15a7d0d237de' title='Show/Hide data repr'><svg class='icon xr-icon-database'><use xlink:href='#icon-database'></use></svg></label><div class='xr-var-attrs'><dl class='xr-attrs'></dl></div><div class='xr-var-data'><pre>[1 values with dtype=float64]</pre></div></li><li class='xr-var-item'><div class='xr-var-name'><span>sg_cal_optode_FoilCoefB4</span></div><div class='xr-var-dims'>()</div><div class='xr-var-dtype'>float64</div><div class='xr-var-preview xr-preview'>...</div><input id='attrs-3681f264-736f-42d2-babf-86805989ba01' class='xr-var-attrs-in' type='checkbox' disabled><label for='attrs-3681f264-736f-42d2-babf-86805989ba01' title='Show/Hide attributes'><svg class='icon xr-icon-file-text2'><use xlink:href='#icon-file-text2'></use></svg></label><input id='data-34fade21-bceb-486c-bd38-b276ab6ee560' class='xr-var-data-in' type='checkbox'><label for='data-34fade21-bceb-486c-bd38-b276ab6ee560' title='Show/Hide data repr'><svg class='icon xr-icon-database'><use xlink:href='#icon-database'></use></svg></label><div class='xr-var-attrs'><dl class='xr-attrs'></dl></div><div class='xr-var-data'><pre>[1 values with dtype=float64]</pre></div></li><li class='xr-var-item'><div class='xr-var-name'><span>sg_cal_optode_FoilCoefB3</span></div><div class='xr-var-dims'>()</div><div class='xr-var-dtype'>float64</div><div class='xr-var-preview xr-preview'>...</div><input id='attrs-1c4e334c-553f-4691-8952-f9156335e29c' class='xr-var-attrs-in' type='checkbox' disabled><label for='attrs-1c4e334c-553f-4691-8952-f9156335e29c' title='Show/Hide attributes'><svg class='icon xr-icon-file-text2'><use xlink:href='#icon-file-text2'></use></svg></label><input id='data-073a2736-a78c-4693-91d6-8fd64935dcd1' class='xr-var-data-in' type='checkbox'><label for='data-073a2736-a78c-4693-91d6-8fd64935dcd1' title='Show/Hide data repr'><svg class='icon xr-icon-database'><use xlink:href='#icon-database'></use></svg></label><div class='xr-var-attrs'><dl class='xr-attrs'></dl></div><div class='xr-var-data'><pre>[1 values with dtype=float64]</pre></div></li><li class='xr-var-item'><div class='xr-var-name'><span>sg_cal_optode_FoilCoefB2</span></div><div class='xr-var-dims'>()</div><div class='xr-var-dtype'>float64</div><div class='xr-var-preview xr-preview'>...</div><input id='attrs-16f659ad-59b2-43dc-9e91-ac815cfa0d3c' class='xr-var-attrs-in' type='checkbox' disabled><label for='attrs-16f659ad-59b2-43dc-9e91-ac815cfa0d3c' title='Show/Hide attributes'><svg class='icon xr-icon-file-text2'><use xlink:href='#icon-file-text2'></use></svg></label><input id='data-21bbde09-d6fd-401f-9bb6-a17846c89b30' class='xr-var-data-in' type='checkbox'><label for='data-21bbde09-d6fd-401f-9bb6-a17846c89b30' title='Show/Hide data repr'><svg class='icon xr-icon-database'><use xlink:href='#icon-database'></use></svg></label><div class='xr-var-attrs'><dl class='xr-attrs'></dl></div><div class='xr-var-data'><pre>[1 values with dtype=float64]</pre></div></li><li class='xr-var-item'><div class='xr-var-name'><span>sg_cal_optode_FoilCoefB1</span></div><div class='xr-var-dims'>()</div><div class='xr-var-dtype'>float64</div><div class='xr-var-preview xr-preview'>...</div><input id='attrs-2f130f66-288f-4a80-a331-fd3b7055b808' class='xr-var-attrs-in' type='checkbox' disabled><label for='attrs-2f130f66-288f-4a80-a331-fd3b7055b808' title='Show/Hide attributes'><svg class='icon xr-icon-file-text2'><use xlink:href='#icon-file-text2'></use></svg></label><input id='data-77b7efe0-2a73-45d1-87c1-cdcbb90e0d34' class='xr-var-data-in' type='checkbox'><label for='data-77b7efe0-2a73-45d1-87c1-cdcbb90e0d34' title='Show/Hide data repr'><svg class='icon xr-icon-database'><use xlink:href='#icon-database'></use></svg></label><div class='xr-var-attrs'><dl class='xr-attrs'></dl></div><div class='xr-var-data'><pre>[1 values with dtype=float64]</pre></div></li><li class='xr-var-item'><div class='xr-var-name'><span>sg_cal_optode_FoilCoefB0</span></div><div class='xr-var-dims'>()</div><div class='xr-var-dtype'>float64</div><div class='xr-var-preview xr-preview'>...</div><input id='attrs-f673609f-12eb-4763-9db8-98b626911e60' class='xr-var-attrs-in' type='checkbox' disabled><label for='attrs-f673609f-12eb-4763-9db8-98b626911e60' title='Show/Hide attributes'><svg class='icon xr-icon-file-text2'><use xlink:href='#icon-file-text2'></use></svg></label><input id='data-18419854-7341-4049-b88f-c9a11d4ea0c8' class='xr-var-data-in' type='checkbox'><label for='data-18419854-7341-4049-b88f-c9a11d4ea0c8' title='Show/Hide data repr'><svg class='icon xr-icon-database'><use xlink:href='#icon-database'></use></svg></label><div class='xr-var-attrs'><dl class='xr-attrs'></dl></div><div class='xr-var-data'><pre>[1 values with dtype=float64]</pre></div></li><li class='xr-var-item'><div class='xr-var-name'><span>log_MISSION</span></div><div class='xr-var-dims'>()</div><div class='xr-var-dtype'>int32</div><div class='xr-var-preview xr-preview'>...</div><input id='attrs-71615afd-2098-4d7f-8e7e-86aad07adee8' class='xr-var-attrs-in' type='checkbox' disabled><label for='attrs-71615afd-2098-4d7f-8e7e-86aad07adee8' title='Show/Hide attributes'><svg class='icon xr-icon-file-text2'><use xlink:href='#icon-file-text2'></use></svg></label><input id='data-5ce465b0-30ef-4fdc-9ab1-da79296043be' class='xr-var-data-in' type='checkbox'><label for='data-5ce465b0-30ef-4fdc-9ab1-da79296043be' title='Show/Hide data repr'><svg class='icon xr-icon-database'><use xlink:href='#icon-database'></use></svg></label><div class='xr-var-attrs'><dl class='xr-attrs'></dl></div><div class='xr-var-data'><pre>[1 values with dtype=int32]</pre></div></li><li class='xr-var-item'><div class='xr-var-name'><span>log_FG_AHR_24V</span></div><div class='xr-var-dims'>()</div><div class='xr-var-dtype'>float64</div><div class='xr-var-preview xr-preview'>...</div><input id='attrs-9a72adee-23d8-428d-b229-4eb4d9ce97ed' class='xr-var-attrs-in' type='checkbox' disabled><label for='attrs-9a72adee-23d8-428d-b229-4eb4d9ce97ed' title='Show/Hide attributes'><svg class='icon xr-icon-file-text2'><use xlink:href='#icon-file-text2'></use></svg></label><input id='data-893848a4-7e23-421c-93ad-5a13cc8df2ad' class='xr-var-data-in' type='checkbox'><label for='data-893848a4-7e23-421c-93ad-5a13cc8df2ad' title='Show/Hide data repr'><svg class='icon xr-icon-database'><use xlink:href='#icon-database'></use></svg></label><div class='xr-var-attrs'><dl class='xr-attrs'></dl></div><div class='xr-var-data'><pre>[1 values with dtype=float64]</pre></div></li><li class='xr-var-item'><div class='xr-var-name'><span>log_ICE_FREEZE_MARGIN</span></div><div class='xr-var-dims'>()</div><div class='xr-var-dtype'>float64</div><div class='xr-var-preview xr-preview'>...</div><input id='attrs-778aa7b8-9721-4682-a8d9-71c3feb06f57' class='xr-var-attrs-in' type='checkbox' disabled><label for='attrs-778aa7b8-9721-4682-a8d9-71c3feb06f57' title='Show/Hide attributes'><svg class='icon xr-icon-file-text2'><use xlink:href='#icon-file-text2'></use></svg></label><input id='data-00895db2-5e53-4cc8-b26e-69428035bf2a' class='xr-var-data-in' type='checkbox'><label for='data-00895db2-5e53-4cc8-b26e-69428035bf2a' title='Show/Hide data repr'><svg class='icon xr-icon-database'><use xlink:href='#icon-database'></use></svg></label><div class='xr-var-attrs'><dl class='xr-attrs'></dl></div><div class='xr-var-data'><pre>[1 values with dtype=float64]</pre></div></li><li class='xr-var-item'><div class='xr-var-name'><span>surface_curr_north</span></div><div class='xr-var-dims'>()</div><div class='xr-var-dtype'>float64</div><div class='xr-var-preview xr-preview'>...</div><input id='attrs-5c63ff1d-5be2-4fc3-8c44-23420f529719' class='xr-var-attrs-in' type='checkbox' ><label for='attrs-5c63ff1d-5be2-4fc3-8c44-23420f529719' title='Show/Hide attributes'><svg class='icon xr-icon-file-text2'><use xlink:href='#icon-file-text2'></use></svg></label><input id='data-8448b5cc-e31b-4d85-9313-aa147cc97dac' class='xr-var-data-in' type='checkbox'><label for='data-8448b5cc-e31b-4d85-9313-aa147cc97dac' title='Show/Hide data repr'><svg class='icon xr-icon-database'><use xlink:href='#icon-database'></use></svg></label><div class='xr-var-attrs'><dl class='xr-attrs'><dt><span>units :</span></dt><dd>cm/s</dd><dt><span>comment :</span></dt><dd>Northward component of surface current</dd><dt><span>standard_name :</span></dt><dd>surface_northward_sea_water_velocity</dd></dl></div><div class='xr-var-data'><pre>[1 values with dtype=float64]</pre></div></li><li class='xr-var-item'><div class='xr-var-name'><span>log_RAFOS_DEVICE</span></div><div class='xr-var-dims'>()</div><div class='xr-var-dtype'>float64</div><div class='xr-var-preview xr-preview'>...</div><input id='attrs-5b188777-6ce6-4260-a133-360f0cf6ea5e' class='xr-var-attrs-in' type='checkbox' disabled><label for='attrs-5b188777-6ce6-4260-a133-360f0cf6ea5e' title='Show/Hide attributes'><svg class='icon xr-icon-file-text2'><use xlink:href='#icon-file-text2'></use></svg></label><input id='data-410b8338-0770-4b46-9a57-3cb60e55720e' class='xr-var-data-in' type='checkbox'><label for='data-410b8338-0770-4b46-9a57-3cb60e55720e' title='Show/Hide data repr'><svg class='icon xr-icon-database'><use xlink:href='#icon-database'></use></svg></label><div class='xr-var-attrs'><dl class='xr-attrs'></dl></div><div class='xr-var-data'><pre>[1 values with dtype=float64]</pre></div></li></ul></div></li><li class='xr-section-item'><input id='section-c0ce5230-e01d-4fb6-8e94-4d15d3481951' class='xr-section-summary-in' type='checkbox'  ><label for='section-c0ce5230-e01d-4fb6-8e94-4d15d3481951' class='xr-section-summary' >Indexes: <span>(1)</span></label><div class='xr-section-inline-details'></div><div class='xr-section-details'><ul class='xr-var-list'><li class='xr-var-item'><div class='xr-index-name'><div>trajectory</div></div><div class='xr-index-preview'>PandasIndex</div><input type='checkbox' disabled/><label></label><input id='index-7f0009d8-6903-4b8a-9d64-2600d64e72ff' class='xr-index-data-in' type='checkbox'/><label for='index-7f0009d8-6903-4b8a-9d64-2600d64e72ff' title='Show/Hide index repr'><svg class='icon xr-icon-database'><use xlink:href='#icon-database'></use></svg></label><div class='xr-index-data'><pre>PandasIndex(Index([15], dtype=&#x27;int32&#x27;, name=&#x27;trajectory&#x27;))</pre></div></li></ul></div></li><li class='xr-section-item'><input id='section-96549dce-05e8-4328-bfd9-f7c1123b280d' class='xr-section-summary-in' type='checkbox'  ><label for='section-96549dce-05e8-4328-bfd9-f7c1123b280d' class='xr-section-summary' >Attributes: <span>(59)</span></label><div class='xr-section-inline-details'></div><div class='xr-section-details'><dl class='xr-attrs'><dt><span>quality_control_version :</span></dt><dd>1.12</dd><dt><span>base_station_micro_version :</span></dt><dd>4935</dd><dt><span>time_coverage_resolution :</span></dt><dd>PT1S</dd><dt><span>geospatial_vertical_max :</span></dt><dd>511.8935394557861</dd><dt><span>sea_name :</span></dt><dd>Caribbean Sea</dd><dt><span>mission :</span></dt><dd>1</dd><dt><span>geospatial_lat_units :</span></dt><dd>degrees</dd><dt><span>geospatial_lon_units :</span></dt><dd>degrees</dd><dt><span>references :</span></dt><dd>http://data.nodc.noaa.gov/accession/0092291</dd><dt><span>seaglider_software_version :</span></dt><dd>66.07</dd><dt><span>Metadata_Conventions :</span></dt><dd>Unidata Dataset Discovery v1.0</dd><dt><span>keywords :</span></dt><dd>Water Temperature, Conductivity, Salinity, Density, Potential Density, Potential Temperature, Fluorescence</dd><dt><span>Conventions :</span></dt><dd>CF-1.6</dd><dt><span>publisher_name :</span></dt><dd>US National Oceanographic Data Center</dd><dt><span>id :</span></dt><dd>p0330015_20100906</dd><dt><span>naming_authority :</span></dt><dd>edu.washington.apl</dd><dt><span>license :</span></dt><dd>These data may be redistributed and used without restriction.</dd><dt><span>geospatial_lat_max :</span></dt><dd>18.524446699350996</dd><dt><span>uuid :</span></dt><dd>569b1f80-1985-11e7-8a51-0026bb609360</dd><dt><span>title :</span></dt><dd>Physical data collected from Seaglider SG033 during Rapid-Mocha San Juan 3 September 2010 in the Caribbean Sea deployed on 2010-09-06</dd><dt><span>standard_name_vocabulary :</span></dt><dd>CF-1.6</dd><dt><span>file_version :</span></dt><dd>2.71</dd><dt><span>glider :</span></dt><dd>33</dd><dt><span>platform :</span></dt><dd>glider</dd><dt><span>instrument :</span></dt><dd>aa4330 sbe41 </dd><dt><span>publisher_url :</span></dt><dd>www.nodc.noaa.gov</dd><dt><span>processing_level :</span></dt><dd>1.12</dd><dt><span>nodc_template_version :</span></dt><dd>NODC_NetCDF_Trajectory_Template_v0.9</dd><dt><span>featureType :</span></dt><dd>trajectory</dd><dt><span>publisher_email :</span></dt><dd>NODC.Services@noaa.gov</dd><dt><span>base_station_version :</span></dt><dd>2.10</dd><dt><span>creator_email :</span></dt><dd>charlie@ocean.washington.edu</dd><dt><span>start_time :</span></dt><dd>1283772116.0</dd><dt><span>geospatial_lat_min :</span></dt><dd>18.516025675252838</dd><dt><span>geospatial_lat_resolution :</span></dt><dd>seconds</dd><dt><span>time_coverage_start :</span></dt><dd>2010-09-06T11:09:17Z</dd><dt><span>geospatial_vertical_positive :</span></dt><dd>no</dd><dt><span>date_created :</span></dt><dd>2017-04-04T22:04:33Z</dd><dt><span>keywords_vocabulary :</span></dt><dd>NASA/GCMD Earth Science Keywords Version 6.0.0.0</dd><dt><span>institution :</span></dt><dd>School of Oceanography\n",
       "University of Washington\n",
       "Seattle, WA 98195-5351</dd><dt><span>geospatial_lon_max :</span></dt><dd>-65.97450004341222</dd><dt><span>acknowledgment :</span></dt><dd>National Science Foundation OCE Division Grant OCE-1031780\n",
       "National Science Foundation OCE Division Grant OCE-151837</dd><dt><span>geospatial_lon_min :</span></dt><dd>-65.98221600599415</dd><dt><span>geospatial_lon_resolution :</span></dt><dd>seconds</dd><dt><span>geospatial_vertical_resolution :</span></dt><dd>centimeter</dd><dt><span>creator_name :</span></dt><dd>Charlie Eriksen</dd><dt><span>date_modified :</span></dt><dd>2017-04-04T22:04:33Z</dd><dt><span>platform_id :</span></dt><dd>SG033</dd><dt><span>time_coverage_end :</span></dt><dd>2010-09-06T14:09:33Z</dd><dt><span>summary :</span></dt><dd>Test deployments of DeepGliders in the Puerto Rico trench</dd><dt><span>project :</span></dt><dd>Rapid-Mocha San Juan 3 September 2010</dd><dt><span>cdm_data_type :</span></dt><dd>Trajectory</dd><dt><span>history :</span></dt><dd>Processing start:\n",
       "INFO: QC.py(418): Changed (11/586) 243 244 248 250 253 258:263 to QC_PROBABLY_BAD because raw temperature spikes\n",
       "INFO: QC.py(461): Changed (7/586) 252 254 260:263 265 to QC_PROBABLY_BAD because raw conductivity spikes\n",
       "INFO: QC.py(211): Changed (11/586) 243 244 248 250 253 258:263 to QC_PROBABLY_BAD because changed raw temp implies changed raw salinity\n",
       "INFO: QC.py(211): Changed (3/586) 252 254 265 to QC_PROBABLY_BAD because changed raw cond implies changed raw salinity\n",
       "INFO: QC.py(418): Changed (11/586) 243 244 248 250 253 258:263 to QC_INTERPOLATED because temperature spikes\n",
       "INFO: QC.py(461): Changed (7/586) 252 254 260:263 265 to QC_INTERPOLATED because conductivity spikes\n",
       "WARNING: MakeDiveProfiles.py(3608): Mass of vehicle in sg_calib_constants (75997.0) does not match $MASS in log file (52000.0); using sg_calib_constants\n",
       "INFO: MakeDiveProfiles.py(3664): Changed (5/586) 252:256 to QC_BAD because slow apogee CT flow\n",
       "INFO: MakeDiveProfiles.py(3691): On the bottom at 511.7m for 11.9 minutes.\n",
       "INFO: MakeDiveProfiles.py(3697): Changed (17/586) 243:251 257:264 to QC_BAD because stuck on the bottom\n",
       "INFO: MakeDiveProfiles.py(3794): Changed (11/586) 1:11 to QC_BAD because during VBD bleed\n",
       "INFO: QC.py(548): Changed (1/586) 265 to QC_PROBABLY_BAD because bad interpolation anchors\n",
       "INFO: QC.py(549): SUGGESTION: 15 bad_conductivity data_points in_between 263 265 % bad interpolation anchors\n",
       "INFO: MakeDiveProfiles.py(3902): Changed (33/586) 1:11 243:264 to QC_BAD because bad corrected temperature and conductivity suggests bad salinity\n",
       "INFO: QC.py(211): Changed (33/586) 1:11 243:264 to QC_BAD because changed corrected salin implies changed speed\n",
       "INFO: TempSalinityVelocity.py(1229): TSV:  0 1 stalled points 12\n",
       "INFO: TempSalinityVelocity.py(1250): TSV exiting after 2 iterations\n",
       "INFO: TempSalinityVelocity.py(1252): Changed (1/586) 586 to QC_PROBABLY_BAD because TS bad extrapolation\n",
       "INFO: TempSalinityVelocity.py(1255): Changed (1/586) 12 to QC_PROBABLY_BAD because stalls avoid thermal-inertia salinity correction\n",
       "INFO: TempSalinityVelocity.py(1270): SUGGESTION: 15 interp_salinity data_points in_between 33 51 % suspect thermal-inertia points 47:49\n",
       "INFO: TempSalinityVelocity.py(1270): SUGGESTION: 15 interp_salinity data_points in_between 57 62 % suspect thermal-inertia points 61 62\n",
       "INFO: TempSalinityVelocity.py(1270): SUGGESTION: 15 interp_salinity data_points in_between 120 124 % suspect thermal-inertia points 122 123\n",
       "INFO: QC.py(211): Changed (1/586) 265 to QC_PROBABLY_BAD because changed corrected cond implies changed corrected salinity\n",
       "INFO: MakeDiveProfiles.py(4065): 33 (5.63%) HDM speeds are QC_BAD; 1 (0.17%) are stalled (586)\n",
       "INFO: MakeDiveProfiles.py(4087): Average estimated final speed: 31.44 cm/s\n",
       "INFO: MakeDiveProfiles.py(4090): RMS observed vs. computed w: 9.98 cm/s\n",
       "INFO: MakeDiveProfiles.py(4142): Starting sensor extensions data processing\n",
       "INFO: QC.py(211): Changed (11/586) 243 244 248 250 253 258:263 to QC_INTERPOLATED because changed temperature implies changed optode oxygen\n",
       "INFO: QC.py(211): Changed (3/586) 12 265 586 to QC_PROBABLY_BAD because changed salinity implies changed optode oxygen\n",
       "INFO: QC.py(211): Changed (33/586) 1:11 243:264 to QC_BAD because changed salinity implies changed optode oxygen\n",
       "INFO: MakeDiveProfiles.py(4144): Finished sensor extensions data processing\n",
       "INFO: MakeDiveProfiles.py(4174): Estimated total flight and drift time: 10368.7s (SM: 325.9s)\n",
       "WARNING: MakeDiveProfiles.py(4192): Significant up/downwelling detected; DAC suspect.\n",
       "INFO: MakeDiveProfiles.py(4323): Computing QC_PROBABLY_BAD depth-average current.\n",
       "</dd><dt><span>source :</span></dt><dd>Deepglider SG033</dd><dt><span>geospatial_vertical_min :</span></dt><dd>0.2601223952664329</dd><dt><span>creator_url :</span></dt><dd>http://iop.apl.washington.edu/seaglider/index.php?glider=*&amp;base=*&amp;status=*&amp;mission=RapidMocha&amp;logic=and</dd><dt><span>geospatial_vertical_units :</span></dt><dd>meter</dd><dt><span>dive_number :</span></dt><dd>15</dd><dt><span>disclaimer :</span></dt><dd>Data has not been reviewed and is provided AS-IS.</dd></dl></div></li></ul></div></div>"
      ],
      "text/plain": [
       "<xarray.Dataset> Size: 290kB\n",
       "Dimensions:                                   (sg_data_point: 586,\n",
       "                                               gc_event: 36, gc_state: 10,\n",
       "                                               gps_info: 3, trajectory: 1)\n",
       "Coordinates:\n",
       "    ctd_time                                  (sg_data_point) datetime64[ns] 5kB ...\n",
       "    longitude                                 (sg_data_point) float64 5kB ...\n",
       "    latitude                                  (sg_data_point) float64 5kB ...\n",
       "    ctd_depth                                 (sg_data_point) float64 5kB ...\n",
       "  * trajectory                                (trajectory) int32 4B 15\n",
       "Dimensions without coordinates: sg_data_point, gc_event, gc_state, gps_info\n",
       "Data variables: (12/397)\n",
       "    salinity_qc                               (sg_data_point) |S1 586B ...\n",
       "    eng_depth                                 (sg_data_point) float64 5kB ...\n",
       "    eng_aa4330_Temp                           (sg_data_point) float64 5kB ...\n",
       "    eng_vbdCC                                 (sg_data_point) float64 5kB ...\n",
       "    north_displacement                        (sg_data_point) float64 5kB ...\n",
       "    east_displacement                         (sg_data_point) float64 5kB ...\n",
       "    ...                                        ...\n",
       "    sg_cal_optode_FoilCoefB0                  float64 8B ...\n",
       "    log_MISSION                               int32 4B ...\n",
       "    log_FG_AHR_24V                            float64 8B ...\n",
       "    log_ICE_FREEZE_MARGIN                     float64 8B ...\n",
       "    surface_curr_north                        float64 8B ...\n",
       "    log_RAFOS_DEVICE                          float64 8B ...\n",
       "Attributes: (12/59)\n",
       "    quality_control_version:         1.12\n",
       "    base_station_micro_version:      4935\n",
       "    time_coverage_resolution:        PT1S\n",
       "    geospatial_vertical_max:         511.8935394557861\n",
       "    sea_name:                        Caribbean Sea\n",
       "    mission:                         1\n",
       "    ...                              ...\n",
       "    source:                          Deepglider SG033\n",
       "    geospatial_vertical_min:         0.2601223952664329\n",
       "    creator_url:                     http://iop.apl.washington.edu/seaglider/...\n",
       "    geospatial_vertical_units:       meter\n",
       "    dive_number:                     15\n",
       "    disclaimer:                      Data has not been reviewed and is provid..."
      ]
     },
     "execution_count": 3,
     "metadata": {},
     "output_type": "execute_result"
    }
   ],
   "source": [
    "ds = readers.load_sample_dataset()\n",
    "ds"
   ]
  },
  {
   "cell_type": "markdown",
   "id": "5e1416e5",
   "metadata": {},
   "source": [
    "### Load datasets from a local directory"
   ]
  },
  {
   "cell_type": "code",
   "execution_count": 4,
   "id": "83bba8ac",
   "metadata": {
    "execution": {
     "iopub.execute_input": "2025-09-21T14:14:26.068769Z",
     "iopub.status.busy": "2025-09-21T14:14:26.068587Z",
     "iopub.status.idle": "2025-09-21T14:14:26.216466Z",
     "shell.execute_reply": "2025-09-21T14:14:26.215984Z"
    }
   },
   "outputs": [
    {
     "name": "stderr",
     "output_type": "stream",
     "text": [
      "\r",
      "Loading datasets:   0%|          | 0/5 [00:00<?, ?file/s]"
     ]
    },
    {
     "name": "stderr",
     "output_type": "stream",
     "text": [
      "\r",
      "Loading datasets:  80%|████████  | 4/5 [00:00<00:00, 34.80file/s]"
     ]
    },
    {
     "name": "stderr",
     "output_type": "stream",
     "text": [
      "\r",
      "Loading datasets: 100%|██████████| 5/5 [00:00<00:00, 35.43file/s]"
     ]
    },
    {
     "name": "stderr",
     "output_type": "stream",
     "text": [
      "\n"
     ]
    }
   ],
   "source": [
    "# Specify the input directory on your local machine\n",
    "input_dir = data_path + '/demo_sg005' ### chose the input directory with your data\n",
    "\n",
    "# Load and concatenate all datasets in the input directory\n",
    "# Optionally, specify the range of profiles to load (start_profile, end_profile)\n",
    "list_datasets = readers.load_basestation_files(input_dir, start_profile=0, end_profile=5)\n",
    "\n",
    "# Where list_datasets is a list of xarray datasets.  A single dataset can be accessed as\n",
    "ds = list_datasets[0]"
   ]
  },
  {
   "cell_type": "code",
   "execution_count": 5,
   "id": "926863fd",
   "metadata": {
    "execution": {
     "iopub.execute_input": "2025-09-21T14:14:26.218125Z",
     "iopub.status.busy": "2025-09-21T14:14:26.217932Z",
     "iopub.status.idle": "2025-09-21T14:14:26.252547Z",
     "shell.execute_reply": "2025-09-21T14:14:26.252008Z"
    }
   },
   "outputs": [],
   "source": [
    "ds = readers.load_sample_dataset()"
   ]
  },
  {
   "cell_type": "markdown",
   "id": "f4040443",
   "metadata": {},
   "source": [
    "### Load datasets from a remote directory (URL)"
   ]
  },
  {
   "cell_type": "code",
   "execution_count": 6,
   "id": "2913eb42",
   "metadata": {
    "execution": {
     "iopub.execute_input": "2025-09-21T14:14:26.254490Z",
     "iopub.status.busy": "2025-09-21T14:14:26.254314Z",
     "iopub.status.idle": "2025-09-21T14:14:31.031297Z",
     "shell.execute_reply": "2025-09-21T14:14:31.030839Z"
    }
   },
   "outputs": [
    {
     "name": "stderr",
     "output_type": "stream",
     "text": [
      "\r",
      "Loading datasets:   0%|          | 0/10 [00:00<?, ?file/s]"
     ]
    },
    {
     "name": "stderr",
     "output_type": "stream",
     "text": [
      "Downloading file 'p0330001_20100903.nc' from 'https://www.ncei.noaa.gov/data/oceans/glider/seaglider/uw/033/20100903/p0330001_20100903.nc' to '/home/runner/.cache/seagliderOG1'.\n"
     ]
    },
    {
     "name": "stderr",
     "output_type": "stream",
     "text": [
      "\r",
      "Loading datasets:  10%|█         | 1/10 [00:00<00:03,  2.48file/s]"
     ]
    },
    {
     "name": "stderr",
     "output_type": "stream",
     "text": [
      "Downloading file 'p0330002_20100903.nc' from 'https://www.ncei.noaa.gov/data/oceans/glider/seaglider/uw/033/20100903/p0330002_20100903.nc' to '/home/runner/.cache/seagliderOG1'.\n"
     ]
    },
    {
     "name": "stderr",
     "output_type": "stream",
     "text": [
      "\r",
      "Loading datasets:  20%|██        | 2/10 [00:00<00:03,  2.46file/s]"
     ]
    },
    {
     "name": "stderr",
     "output_type": "stream",
     "text": [
      "Downloading file 'p0330003_20100903.nc' from 'https://www.ncei.noaa.gov/data/oceans/glider/seaglider/uw/033/20100903/p0330003_20100903.nc' to '/home/runner/.cache/seagliderOG1'.\n"
     ]
    },
    {
     "name": "stderr",
     "output_type": "stream",
     "text": [
      "\r",
      "Loading datasets:  30%|███       | 3/10 [00:01<00:03,  2.32file/s]"
     ]
    },
    {
     "name": "stderr",
     "output_type": "stream",
     "text": [
      "Downloading file 'p0330004_20100904.nc' from 'https://www.ncei.noaa.gov/data/oceans/glider/seaglider/uw/033/20100903/p0330004_20100904.nc' to '/home/runner/.cache/seagliderOG1'.\n"
     ]
    },
    {
     "name": "stderr",
     "output_type": "stream",
     "text": [
      "\r",
      "Loading datasets:  40%|████      | 4/10 [00:01<00:02,  2.26file/s]"
     ]
    },
    {
     "name": "stderr",
     "output_type": "stream",
     "text": [
      "Downloading file 'p0330005_20100904.nc' from 'https://www.ncei.noaa.gov/data/oceans/glider/seaglider/uw/033/20100903/p0330005_20100904.nc' to '/home/runner/.cache/seagliderOG1'.\n"
     ]
    },
    {
     "name": "stderr",
     "output_type": "stream",
     "text": [
      "\r",
      "Loading datasets:  50%|█████     | 5/10 [00:02<00:02,  2.21file/s]"
     ]
    },
    {
     "name": "stderr",
     "output_type": "stream",
     "text": [
      "Downloading file 'p0330006_20100904.nc' from 'https://www.ncei.noaa.gov/data/oceans/glider/seaglider/uw/033/20100903/p0330006_20100904.nc' to '/home/runner/.cache/seagliderOG1'.\n"
     ]
    },
    {
     "name": "stderr",
     "output_type": "stream",
     "text": [
      "\r",
      "Loading datasets:  60%|██████    | 6/10 [00:02<00:01,  2.17file/s]"
     ]
    },
    {
     "name": "stderr",
     "output_type": "stream",
     "text": [
      "Downloading file 'p0330007_20100905.nc' from 'https://www.ncei.noaa.gov/data/oceans/glider/seaglider/uw/033/20100903/p0330007_20100905.nc' to '/home/runner/.cache/seagliderOG1'.\n"
     ]
    },
    {
     "name": "stderr",
     "output_type": "stream",
     "text": [
      "\r",
      "Loading datasets:  70%|███████   | 7/10 [00:03<00:01,  2.15file/s]"
     ]
    },
    {
     "name": "stderr",
     "output_type": "stream",
     "text": [
      "Downloading file 'p0330008_20100905.nc' from 'https://www.ncei.noaa.gov/data/oceans/glider/seaglider/uw/033/20100903/p0330008_20100905.nc' to '/home/runner/.cache/seagliderOG1'.\n"
     ]
    },
    {
     "name": "stderr",
     "output_type": "stream",
     "text": [
      "\r",
      "Loading datasets:  80%|████████  | 8/10 [00:03<00:00,  2.15file/s]"
     ]
    },
    {
     "name": "stderr",
     "output_type": "stream",
     "text": [
      "Downloading file 'p0330009_20100905.nc' from 'https://www.ncei.noaa.gov/data/oceans/glider/seaglider/uw/033/20100903/p0330009_20100905.nc' to '/home/runner/.cache/seagliderOG1'.\n"
     ]
    },
    {
     "name": "stderr",
     "output_type": "stream",
     "text": [
      "\r",
      "Loading datasets:  90%|█████████ | 9/10 [00:04<00:00,  2.14file/s]"
     ]
    },
    {
     "name": "stderr",
     "output_type": "stream",
     "text": [
      "Downloading file 'p0330010_20100905.nc' from 'https://www.ncei.noaa.gov/data/oceans/glider/seaglider/uw/033/20100903/p0330010_20100905.nc' to '/home/runner/.cache/seagliderOG1'.\n"
     ]
    },
    {
     "name": "stderr",
     "output_type": "stream",
     "text": [
      "\r",
      "Loading datasets: 100%|██████████| 10/10 [00:04<00:00,  2.13file/s]"
     ]
    },
    {
     "name": "stderr",
     "output_type": "stream",
     "text": [
      "\r",
      "Loading datasets: 100%|██████████| 10/10 [00:04<00:00,  2.19file/s]"
     ]
    },
    {
     "name": "stderr",
     "output_type": "stream",
     "text": [
      "\n"
     ]
    }
   ],
   "source": [
    "# Specify the server where data are located\n",
    "server = \"https://www.ncei.noaa.gov/data/oceans/glider/seaglider/uw/033/20100903/\"\n",
    "\n",
    "# Load and concatenate all datasets from the server, optionally specifying the range of profiles to load\n",
    "list_datasets = readers.load_basestation_files(server, start_profile=1, end_profile=10)"
   ]
  },
  {
   "cell_type": "markdown",
   "id": "89c4ebb6",
   "metadata": {},
   "source": [
    "## Convert to OG1 format\n",
    "\n",
    "Process:\n",
    "\n",
    "1. For one basestation dataset, split the dataset by dimension (`split_ds`)\n",
    "3. Transform into OG1 format: dataset with dims `sg_data_point`\n",
    "    - Change the dimension to `N_MEASUREMENTS`\n",
    "    - Rename variables according to `vocabularies.standard_names` \n",
    "    - Assign variable attributes according to `vocabularies.vocab_attrs`.  (Note: This *could* go wrong since it makes assumptions about the input variables. May need additional handling.)\n",
    "4. Add missing mandatory variables: \n",
    "    - From `split_ds[(gps_info,)]`, add the `LATITUDE_GPS`, `LONGITUDE_GPS` and `TIME_GPS` (Note: presently `TIME_GPS` is stripped before saving, but `TIME` values contain `TIME_GPS`)\n",
    "    - Create `PROFILE_NUMBER` and `PHASE`\n",
    "    - Calculate `DEPTH_Z` which is positive up\n",
    "5. Update attributes for the file. \n",
    "    - Combines `creator` and `contributor` from original attributes into `contributor`\n",
    "    - Adds `contributing_institutions` based on `institution`\n",
    "    - Reformats time in `time_coverage_*` and `start_time`--> `start_date`\n",
    "    - Adds `date_modified`\n",
    "    - Renames `comments`-->`history`, `site`-->`summary`\n",
    "    - Adds `title`, `platform`, `platform_vocabulary`, `featureType`, `Conventions`, `rtqc_method*` according to OceanGliders format\n",
    "    - Retains `naming_authority`, `institution`, `project`, `geospatial_*` as OG attributes\n",
    "    - Retains extra attributes: `license`, `keywords`, `keywords_vocabulary`, `file_version`, `acknowledgement`, `date_created`, `disclaimer`\n",
    "\n",
    "Future behaviour to be added:\n",
    "\n",
    "6. Retain the variables starting with `sg_cal` and check whether they vary over the mission (shouldn't)\n",
    "6. Add sensors, using information in the `split_ds` with no dimensions\n",
    "    - Need (from sg_cal_constants: `sg_cal` plus `volmax`, `vbd_cnts_per_cc`, `therm_expan`, `t_*`, `mass`, `hd_*`, `ctcor`, `cpcor`, `c_*`, `abs_compress`, `a`, `Tcor`, `Soc`, `Pcor`, `Foffset`)\n",
    "    - Maybe also `reviewed`, `magnetic_variation` (which will change with position), `log_D_FLARE`, `flight_avg_speed_north` and `flight_avg_speed_east` also with `_gsm`, `depth_avg_curr_north` and `depth_avg_curr_east` also with `_gsm`, \n",
    "    `wlbb2f` - means sensor\n",
    "    `sg_cal_mission_title`\n",
    "    `sg_cal_id_str`\n",
    "    `calibcomm_oxygen`\n",
    "    `calibcomm`\n",
    "    `sbe41` means ??\n",
    "    `hdm_qc`\n",
    "    `glider`\n",
    "    \n",
    "### Convert a single (sample) dataset"
   ]
  },
  {
   "cell_type": "code",
   "execution_count": 7,
   "id": "dd041858-c498-4654-a7c8-1731beb839fc",
   "metadata": {
    "execution": {
     "iopub.execute_input": "2025-09-21T14:14:31.033292Z",
     "iopub.status.busy": "2025-09-21T14:14:31.033126Z",
     "iopub.status.idle": "2025-09-21T14:14:31.878956Z",
     "shell.execute_reply": "2025-09-21T14:14:31.878469Z"
    }
   },
   "outputs": [
    {
     "name": "stderr",
     "output_type": "stream",
     "text": [
      "\r",
      "Processing datasets:   0%|          | 0/1 [00:00<?, ?dataset/s]"
     ]
    },
    {
     "name": "stderr",
     "output_type": "stream",
     "text": [
      "Variable 'eng_depth' not in OG1 vocabulary.\n"
     ]
    },
    {
     "name": "stderr",
     "output_type": "stream",
     "text": [
      "Variable 'eng_aa4330_Temp' not in OG1 vocabulary.\n"
     ]
    },
    {
     "name": "stderr",
     "output_type": "stream",
     "text": [
      "Variable 'longitude_gsm' not in OG1 vocabulary.\n"
     ]
    },
    {
     "name": "stderr",
     "output_type": "stream",
     "text": [
      "Variable 'speed_gsm' not in OG1 vocabulary.\n"
     ]
    },
    {
     "name": "stderr",
     "output_type": "stream",
     "text": [
      "Variable 'vert_speed_gsm' not in OG1 vocabulary.\n"
     ]
    },
    {
     "name": "stderr",
     "output_type": "stream",
     "text": [
      "Variable 'eng_aa4330_TCPhase' not in OG1 vocabulary.\n"
     ]
    },
    {
     "name": "stderr",
     "output_type": "stream",
     "text": [
      "Variable 'eng_sbect_tempFreq' not in OG1 vocabulary.\n"
     ]
    },
    {
     "name": "stderr",
     "output_type": "stream",
     "text": [
      "Variable 'eng_sbect_condFreq' not in OG1 vocabulary.\n"
     ]
    },
    {
     "name": "stderr",
     "output_type": "stream",
     "text": [
      "Variable 'eng_rec' not in OG1 vocabulary.\n"
     ]
    },
    {
     "name": "stderr",
     "output_type": "stream",
     "text": [
      "Variable 'north_displacement_gsm' not in OG1 vocabulary.\n"
     ]
    },
    {
     "name": "stderr",
     "output_type": "stream",
     "text": [
      "Variable 'horz_speed_gsm' not in OG1 vocabulary.\n"
     ]
    },
    {
     "name": "stderr",
     "output_type": "stream",
     "text": [
      "No conversion information found for micromoles/kg to micromoles/kg\n"
     ]
    },
    {
     "name": "stderr",
     "output_type": "stream",
     "text": [
      "Variable 'eng_aa4330_O2' not in OG1 vocabulary.\n"
     ]
    },
    {
     "name": "stderr",
     "output_type": "stream",
     "text": [
      "Variable 'eng_aa4330_AirSat' not in OG1 vocabulary.\n"
     ]
    },
    {
     "name": "stderr",
     "output_type": "stream",
     "text": [
      "Variable 'latitude_gsm' not in OG1 vocabulary.\n"
     ]
    },
    {
     "name": "stderr",
     "output_type": "stream",
     "text": [
      "Variable 'aanderaa4330_instrument_dissolved_oxygen' not in OG1 vocabulary.\n"
     ]
    },
    {
     "name": "stderr",
     "output_type": "stream",
     "text": [
      "Variable 'eng_elaps_t_0000' not in OG1 vocabulary.\n"
     ]
    },
    {
     "name": "stderr",
     "output_type": "stream",
     "text": [
      "Variable 'buoyancy' not in OG1 vocabulary.\n"
     ]
    },
    {
     "name": "stderr",
     "output_type": "stream",
     "text": [
      "Variable 'east_displacement_gsm' not in OG1 vocabulary.\n"
     ]
    },
    {
     "name": "stderr",
     "output_type": "stream",
     "text": [
      "Variable 'sound_velocity' not in OG1 vocabulary.\n"
     ]
    },
    {
     "name": "stderr",
     "output_type": "stream",
     "text": [
      "Variable 'density_insitu' not in OG1 vocabulary.\n"
     ]
    },
    {
     "name": "stderr",
     "output_type": "stream",
     "text": [
      "Variable 'density' not in OG1 vocabulary.\n"
     ]
    },
    {
     "name": "stderr",
     "output_type": "stream",
     "text": [
      "Variable 'eng_aa4330_CalPhase' not in OG1 vocabulary.\n"
     ]
    },
    {
     "name": "stderr",
     "output_type": "stream",
     "text": [
      "Variable 'eng_GC_phase' not in OG1 vocabulary.\n"
     ]
    },
    {
     "name": "stderr",
     "output_type": "stream",
     "text": [
      "No conversion information found for cm s-1 to cm s-1\n"
     ]
    },
    {
     "name": "stderr",
     "output_type": "stream",
     "text": [
      "Variable 'conservative_temperature' not in OG1 vocabulary.\n"
     ]
    },
    {
     "name": "stderr",
     "output_type": "stream",
     "text": [
      "Variable 'glide_angle_gsm' not in OG1 vocabulary.\n"
     ]
    },
    {
     "name": "stderr",
     "output_type": "stream",
     "text": [
      "Variable 'eng_elaps_t' not in OG1 vocabulary.\n"
     ]
    },
    {
     "name": "stderr",
     "output_type": "stream",
     "text": [
      "Variable 'absolute_salinity' not in OG1 vocabulary.\n"
     ]
    },
    {
     "name": "stderr",
     "output_type": "stream",
     "text": [
      "No conversion information found for micromoles/kg to micromoles/kg\n"
     ]
    },
    {
     "name": "stderr",
     "output_type": "stream",
     "text": [
      "Variable 'ctd_pressure' not in OG1 vocabulary.\n"
     ]
    },
    {
     "name": "stderr",
     "output_type": "stream",
     "text": [
      "Variable 'depth' not in OG1 vocabulary.\n"
     ]
    },
    {
     "name": "stderr",
     "output_type": "stream",
     "text": [
      "\r",
      "Processing datasets: 100%|██████████| 1/1 [00:00<00:00,  1.48dataset/s]"
     ]
    },
    {
     "name": "stderr",
     "output_type": "stream",
     "text": [
      "\r",
      "Processing datasets: 100%|██████████| 1/1 [00:00<00:00,  1.48dataset/s]"
     ]
    },
    {
     "name": "stderr",
     "output_type": "stream",
     "text": [
      "\n"
     ]
    },
    {
     "data": {
      "image/png": "[encoded data removed]",
      "text/plain": [
       "<Figure size 1000x600 with 1 Axes>"
      ]
     },
     "metadata": {},
     "output_type": "display_data"
    }
   ],
   "source": [
    "# Loads one dataset (p0150500_20050213.nc)\n",
    "ds = readers.load_sample_dataset()\n",
    "\n",
    "ds_OG1, var_list = convertOG1.convert_to_OG1(ds)\n",
    "\n",
    "# Check the results - uncomment the following lines to either generate a plot or show the variables.\n",
    "plotters.plot_profile_depth(ds_OG1)"
   ]
  },
  {
   "cell_type": "code",
   "execution_count": 8,
   "id": "d5b0e357",
   "metadata": {
    "execution": {
     "iopub.execute_input": "2025-09-21T14:14:31.880534Z",
     "iopub.status.busy": "2025-09-21T14:14:31.880375Z",
     "iopub.status.idle": "2025-09-21T14:14:31.885324Z",
     "shell.execute_reply": "2025-09-21T14:14:31.884901Z"
    }
   },
   "outputs": [
    {
     "data": {
      "text/plain": [
       "['log_ROLL_MAXERRORS',\n",
       " 'log_CAP_FILE_SIZE',\n",
       " 'conductivity',\n",
       " 'log_PITCH_MAX',\n",
       " 'log_D_FLARE',\n",
       " 'sg_cal_optode_FoilCoefB8',\n",
       " 'log_PITCH_CNV',\n",
       " 'log_GLIDE_SLOPE',\n",
       " 'log_PITCH_MIN',\n",
       " 'gc_pitch_ctl',\n",
       " 'log_TGT_AUTO_DEFAULT',\n",
       " 'GPS1_qc',\n",
       " 'log_D_OFFGRID',\n",
       " 'log_STROBE',\n",
       " 'sg_cal_optode_TempCoef3',\n",
       " 'log_SURFACE_URGENCY',\n",
       " 'gc_pitch_i',\n",
       " 'density',\n",
       " 'log_ALTIM_FREQUENCY',\n",
       " 'gc_roll_secs',\n",
       " 'log_KERMIT',\n",
       " 'sg_cal_hd_c',\n",
       " 'log_MINV_10V',\n",
       " 'gc_roll_retries',\n",
       " 'log_SEABIRD_C_J',\n",
       " 'log_HUMID',\n",
       " 'salinity_raw_qc',\n",
       " 'log_T_ABORT',\n",
       " 'horz_speed_gsm',\n",
       " 'log_DEEPGLIDERMB',\n",
       " 'log_DIVE',\n",
       " 'flight_avg_speed_east_gsm',\n",
       " 'flight_avg_speed_east',\n",
       " 'sg_cal_optode_FoilCoefB3',\n",
       " 'gc_end_secs',\n",
       " 'log_T_GPS_CHARGE',\n",
       " 'sg_cal_hd_s',\n",
       " 'log_SM_CCo',\n",
       " 'sg_cal_vbd_cnts_per_cc',\n",
       " 'log_COMPASS_USE',\n",
       " 'speed_qc',\n",
       " 'log_LOGGERDEVICE2',\n",
       " 'sg_cal_optode_TempCoef4',\n",
       " 'log_ROLL_DEG',\n",
       " 'eng_rollAng',\n",
       " 'theta',\n",
       " 'sg_cal_optode_TempCoef0',\n",
       " 'conductivity_raw',\n",
       " 'GPS2_qc',\n",
       " 'eng_vbdCC',\n",
       " 'sg_cal_mission_title',\n",
       " 'log_D_TGT',\n",
       " 'log_AH0_10V',\n",
       " 'gc_state_state',\n",
       " 'aanderaa4330_qc',\n",
       " 'sg_cal_optode_FoilCoefB5',\n",
       " 'depth_avg_curr_east',\n",
       " 'sg_cal_calibcomm',\n",
       " 'log_D_CALL',\n",
       " 'log_INT_PRESSURE_YINT',\n",
       " 'time',\n",
       " 'log_TT8_MAMPS',\n",
       " 'log_VBD_DBAND',\n",
       " 'aanderaa4330_results_time',\n",
       " 'sg_cal_optode_FoilCoefB13',\n",
       " 'log_MEM',\n",
       " 'log_PITCH_TIMEOUT',\n",
       " 'gc_roll_errors',\n",
       " 'log_IRIDIUM_FIX',\n",
       " 'conductivity_qc',\n",
       " 'log_HEADING',\n",
       " 'sg_cal_optode_TempCoef1',\n",
       " 'conservative_temperature',\n",
       " 'sg_cal_optode_FoilCoefA1',\n",
       " 'sg_cal_t_j',\n",
       " 'log_ICE_FREEZE_MARGIN',\n",
       " 'sg_cal_optode_FoilCoefA10',\n",
       " 'log_TGT_DEFAULT_LON',\n",
       " 'log_T_NO_W',\n",
       " 'sg_cal_optode_TempCoef5',\n",
       " 'log_ROLL_AD_RATE',\n",
       " 'log_KALMAN_CONTROL',\n",
       " 'log_COURSE_BIAS',\n",
       " 'log_FIX_MISSING_TIMEOUT',\n",
       " 'depth_avg_curr_north_gsm',\n",
       " 'log_USE_BATHY',\n",
       " 'speed',\n",
       " 'log_ESCAPE_HEADING_DELTA',\n",
       " 'eng_aa4330_AirSat',\n",
       " 'sg_cal_optode_FoilCoefA9',\n",
       " 'sg_cal_optode_SVU_enabled',\n",
       " 'gc_pitch_retries',\n",
       " 'log_COMM_SEQ',\n",
       " 'log_INTERNAL_PRESSURE',\n",
       " 'log_T_LOITER',\n",
       " 'log_AH0_24V',\n",
       " 'log_USE_ICE',\n",
       " 'sg_cal_ctcor',\n",
       " 'log_HD_A',\n",
       " 'north_displacement_gsm',\n",
       " 'log_SPEED_LIMITS',\n",
       " 'log_RAFOS_DEVICE',\n",
       " 'log_DEVICE6',\n",
       " 'reviewed',\n",
       " 'sg_cal_optode_PhaseCoef1',\n",
       " 'log_P_OVSHOOT',\n",
       " 'log_ALTIM_TOP_PING',\n",
       " 'log_TCM_PITCH_OFFSET',\n",
       " 'log_ROLL_ADJ_DBAND',\n",
       " 'sg_cal_optode_PhaseCoef2',\n",
       " 'eng_head',\n",
       " 'log_KALMAN_Y',\n",
       " 'sg_cal_volmax',\n",
       " 'log_N_GPS',\n",
       " 'sg_cal_temp_ref',\n",
       " 'eng_depth',\n",
       " 'sg_cal_optode_FoilCoefB0',\n",
       " 'sg_cal_optode_FoilCoefB4',\n",
       " 'log_ID',\n",
       " 'log_GPS2',\n",
       " 'log_DEVICE5',\n",
       " 'log_DATA_FILE_SIZE',\n",
       " 'horz_speed',\n",
       " 'log_VBD_MAX',\n",
       " 'log_XPDR_VALID',\n",
       " 'log_FILEMGR',\n",
       " 'log_SEABIRD_C_I',\n",
       " 'east_displacement_gsm',\n",
       " 'ctd_depth',\n",
       " 'sg_cal_optode_FoilCoefB9',\n",
       " 'log_DEVICE1',\n",
       " 'log_GPS_DEVICE',\n",
       " 'log_DEVICE_SECS',\n",
       " 'sg_cal_optode_FoilCoefA11',\n",
       " 'log_DEVICE4',\n",
       " 'flight_avg_speed_north',\n",
       " 'log_TGT_NAME',\n",
       " 'log_SEABIRD_C_G',\n",
       " 'log_T_TURN',\n",
       " 'log_MINV_24V',\n",
       " 'log_VBD_MAXERRORS',\n",
       " 'log_MISSION',\n",
       " 'log_PITCH_GAIN',\n",
       " 'pressure',\n",
       " 'log_FG_AHR_24V',\n",
       " 'sg_cal_sg_configuration',\n",
       " 'log_N_NOCOMM',\n",
       " 'log_T_TURN_SAMPINT',\n",
       " 'sg_cal_optode_TempCoef2',\n",
       " 'log_KALMAN_X',\n",
       " 'log_MAX_BUOY',\n",
       " 'dissolved_oxygen_sat',\n",
       " 'log_RAFOS_CORR_THRESH',\n",
       " 'sg_cal_t_h',\n",
       " 'log_PITCH_ADJ_DBAND',\n",
       " 'sg_cal_optode_FoilCoefB10',\n",
       " 'log_D_PITCH',\n",
       " 'log_C_VBD',\n",
       " 'sg_cal_optode_FoilCoefA0',\n",
       " 'surface_curr_north',\n",
       " 'aanderaa4330_dissolved_oxygen',\n",
       " 'log_SENSOR_MAMPS',\n",
       " 'eng_GC_phase',\n",
       " 'log_T_MISSION',\n",
       " 'log_GPS',\n",
       " 'log_VBD_PUMP_AD_RATE_APOGEE',\n",
       " 'log_T_DIVE',\n",
       " 'log_ALTIM_TOP_TURN_MARGIN',\n",
       " 'surface_curr_qc',\n",
       " 'depth_avg_curr_north',\n",
       " 'log_C_PITCH',\n",
       " 'gc_state_secs',\n",
       " 'log_SENSOR_SECS',\n",
       " 'temperature_raw',\n",
       " 'log_XPDR_DEVICE',\n",
       " 'gc_vbd_errors',\n",
       " 'CTD_qc',\n",
       " 'depth_avg_curr_error',\n",
       " 'log_SEABIRD_C_H',\n",
       " 'log_PITCH_ADJ_GAIN',\n",
       " 'log_ALTIM_TOP_MIN_OBSTACLE',\n",
       " 'log_VBD_CNV',\n",
       " 'gc_pitch_errors',\n",
       " 'ctd_pressure',\n",
       " 'log_TGT_LATLONG',\n",
       " 'sg_cal_optode_FoilCoefA7',\n",
       " 'salinity_raw',\n",
       " 'log__SM_DEPTHo',\n",
       " 'log_FERRY_MAX',\n",
       " 'gc_gcphase',\n",
       " 'gc_st_secs',\n",
       " 'eng_rollCtl',\n",
       " 'log_XPDR_INHIBIT',\n",
       " 'sg_cal_optode_FoilCoefA13',\n",
       " 'sg_cal_c_i',\n",
       " 'eng_sbect_condFreq',\n",
       " 'log_D_SURF',\n",
       " 'GPSE_qc',\n",
       " 'log_ROLL_CNV',\n",
       " 'log_SEABIRD_T_H',\n",
       " 'log_GPS1',\n",
       " 'gc_vbd_ctl',\n",
       " 'start_of_climb_time',\n",
       " 'depth_avg_curr_east_gsm',\n",
       " 'log_COMPASS2_DEVICE',\n",
       " 'east_displacement',\n",
       " 'log_CALL_NDIVES',\n",
       " 'log_AD7714Ch0Gain',\n",
       " 'eng_elaps_t',\n",
       " 'log_UNCOM_BLEED',\n",
       " 'log_VBD_BLEED_AD_RATE',\n",
       " 'log_RAFOS_PEAK_OFFSET',\n",
       " 'gc_ob_vertv',\n",
       " 'trajectory',\n",
       " 'log_ALTIM_PULSE',\n",
       " 'log_PHONE_SUPPLY',\n",
       " 'log_ROLL_ADJ_GAIN',\n",
       " 'log__XMS_NAKs',\n",
       " 'log_LOGGERDEVICE1',\n",
       " 'log_PITCH_AD_RATE',\n",
       " 'log_CALL_TRIES',\n",
       " 'sbe41',\n",
       " 'log_MHEAD_RNG_PITCHd_Wd',\n",
       " 'sg_cal_c_h',\n",
       " 'log_D_GRID',\n",
       " 'gc_vbd_secs',\n",
       " 'aa4330',\n",
       " 'sg_cal_optode_FoilCoefA3',\n",
       " 'log_COMPASS_DEVICE',\n",
       " 'log_UPLOAD_DIVES_MAX',\n",
       " 'log_CFSIZE',\n",
       " 'log_SEABIRD_T_G',\n",
       " 'sg_cal_optode_FoilCoefA6',\n",
       " 'log_ROLL_MIN',\n",
       " 'log_HD_B',\n",
       " 'log_SM_GC',\n",
       " 'surface_curr_east',\n",
       " 'gc_pitch_ad',\n",
       " 'salinity',\n",
       " 'log_DEVICE3',\n",
       " 'longitude',\n",
       " 'sg_cal_rho0',\n",
       " 'log_R_STBD_OVSHOOT',\n",
       " 'log_SEABIRD_T_I',\n",
       " 'log_SURFACE_URGENCY_FORCE',\n",
       " 'log_ALTIM_BOTTOM_PING_RANGE',\n",
       " 'sg_cal_c_j',\n",
       " 'sigma_theta',\n",
       " 'eng_aa4330_TCPhase',\n",
       " 'log_VBD_MIN',\n",
       " 'speed_gsm',\n",
       " 'log_PHONE_DEVICE',\n",
       " 'gc_state_eop_code',\n",
       " 'north_displacement',\n",
       " 'log_HEAD_ERRBAND',\n",
       " 'sg_cal_optode_FoilCoefA8',\n",
       " 'sound_velocity',\n",
       " 'flight_avg_speed_north_gsm',\n",
       " 'salinity_qc',\n",
       " 'temperature_raw_qc',\n",
       " 'log_gps_time',\n",
       " 'log_DEEPGLIDER',\n",
       " 'log__XMS_TOUTs',\n",
       " 'sg_cal_id_str',\n",
       " 'vert_speed',\n",
       " 'log_SIM_W',\n",
       " 'log_PRESSURE_SLOPE',\n",
       " 'log_ALTIM_BOTTOM_TURN_MARGIN',\n",
       " 'log_ALTIM_PING_DELTA',\n",
       " 'log_VBD_PUMP_AD_RATE_SURFACE',\n",
       " 'latlong_qc',\n",
       " 'eng_aa4330_Temp',\n",
       " 'log_24V_AH',\n",
       " 'log_APOGEE_PITCH',\n",
       " 'log_gps_lat',\n",
       " 'log_T_RSLEEP',\n",
       " 'log_T_WATCHDOG',\n",
       " 'log_C_ROLL_DIVE',\n",
       " 'magnetic_variation',\n",
       " 'sg_cal_mass',\n",
       " 'log_PITCH_DBAND',\n",
       " 'sg_cal_t_g',\n",
       " 'sg_cal_optode_FoilCoefA12',\n",
       " 'sg_cal_hd_b',\n",
       " 'sg_cal_mass_comp',\n",
       " 'sg_cal_abs_compress',\n",
       " 'log_FG_AHR_10Vo',\n",
       " 'log_SM_CC',\n",
       " 'gc_pitch_secs',\n",
       " 'log_LOGGERDEVICE4',\n",
       " 'sg_cal_t_i',\n",
       " 'sg_cal_optode_FoilCoefA5',\n",
       " 'log_ALTIM_TOP_PING_RANGE',\n",
       " 'log_FG_AHR_24Vo',\n",
       " 'avg_latitude',\n",
       " 'aanderaa4330_dissolved_oxygen_qc',\n",
       " 'sg_cal_optode_FoilCoefB2',\n",
       " 'sg_cal_optode_PhaseCoef3',\n",
       " 'log_T_BOOST',\n",
       " 'log_T_GPS',\n",
       " 'log_RHO',\n",
       " 'conductivity_raw_qc',\n",
       " 'eng_pitchCtl',\n",
       " 'glide_angle_gsm',\n",
       " 'gc_vbd_ad',\n",
       " 'log_PRESSURE_YINT',\n",
       " 'log_ALTIM_SENSITIVITY',\n",
       " 'log_C_ROLL_CLIMB',\n",
       " 'log_D_FINISH',\n",
       " 'log_D_SAFE',\n",
       " 'log_MASS',\n",
       " 'density_insitu',\n",
       " 'sg_cal_optode_FoilCoefA2',\n",
       " 'sg_cal_c_g',\n",
       " 'log_VBD_TIMEOUT',\n",
       " 'log_ESCAPE_HEADING',\n",
       " 'log_N_NOSURFACE',\n",
       " 'log_PITCH_MAXERRORS',\n",
       " 'log_CF8_MAXERRORS',\n",
       " 'temperature_qc',\n",
       " 'absolute_salinity',\n",
       " 'log_R_PORT_OVSHOOT',\n",
       " 'glide_angle',\n",
       " 'log_D_BOOST',\n",
       " 'gc_roll_ad',\n",
       " 'sg_cal_optode_FoilCoefB1',\n",
       " 'log_INT_PRESSURE_SLOPE',\n",
       " 'sg_cal_optode_FoilCoefB6',\n",
       " 'temperature',\n",
       " 'glider',\n",
       " 'log_D_ABORT',\n",
       " 'eng_aa4330_O2',\n",
       " 'sg_cal_optode_FoilCoefB12',\n",
       " 'log_SURFACE_URGENCY_TRY',\n",
       " 'sg_cal_therm_expan',\n",
       " 'log__CALLS',\n",
       " 'gc_vbd_retries',\n",
       " 'log__SM_ANGLEo',\n",
       " 'log_TCM_TEMP',\n",
       " 'sigma_t',\n",
       " 'vert_speed_gsm',\n",
       " 'log_XPDR_PINGS',\n",
       " 'sg_cal_pitchbias',\n",
       " 'log_N_FILEKB',\n",
       " 'log_CAPMAXSIZE',\n",
       " 'eng_aa4330_CalPhase',\n",
       " 'sg_cal_optode_FoilCoefB7',\n",
       " 'latitude_gsm',\n",
       " 'eng_pitchAng',\n",
       " 'log_ROLL_MAX',\n",
       " 'log_LOGGERDEVICE3',\n",
       " 'log_SENSORS',\n",
       " 'log_10V_AH',\n",
       " 'gc_data_pts',\n",
       " 'log_KALMAN_USE',\n",
       " 'log_D_NO_BLEED',\n",
       " 'eng_rec',\n",
       " 'log_DEVICE_MAMPS',\n",
       " 'log_gps_lon',\n",
       " 'log_HEAPDBG',\n",
       " 'log_TGT_DEFAULT_LAT',\n",
       " 'sg_cal_optode_PhaseCoef0',\n",
       " 'log_RAFOS_HIT_WINDOW',\n",
       " 'latitude',\n",
       " 'log_ROLL_TIMEOUT',\n",
       " 'hdm_qc',\n",
       " 'sg_cal_optode_FoilCoefB11',\n",
       " 'log_SIM_PITCH',\n",
       " 'log_SPEED_FACTOR',\n",
       " 'log_TCM_ROLL_OFFSET',\n",
       " 'log_FG_AHR_10V',\n",
       " 'log_CAPUPLOAD',\n",
       " 'sg_cal_cpcor',\n",
       " 'log_ERRORS',\n",
       " 'log_NAV_MODE',\n",
       " 'log_DEVICE2',\n",
       " 'log_LOGGERS',\n",
       " 'ctd_time',\n",
       " 'longitude_gsm',\n",
       " 'buoyancy',\n",
       " 'gc_depth',\n",
       " 'eng_sbect_tempFreq',\n",
       " 'log_DEVICES',\n",
       " 'sg_cal_calibcomm_optode',\n",
       " 'log_HD_C',\n",
       " 'depth_avg_curr_qc',\n",
       " 'log_CALL_WAIT',\n",
       " 'sg_cal_hd_a',\n",
       " 'log_ALTIM_PING_DEPTH',\n",
       " 'gc_vbd_i',\n",
       " 'gc_roll_i',\n",
       " 'log_TGT_RADIUS',\n",
       " 'log_SEABIRD_T_J',\n",
       " 'log_PITCH_VBD_SHIFT',\n",
       " 'log_T_GPS_ALMANAC',\n",
       " 'aanderaa4330_instrument_dissolved_oxygen',\n",
       " 'eng_elaps_t_0000',\n",
       " 'depth',\n",
       " 'log_RELAUNCH',\n",
       " 'surface_curr_error',\n",
       " 'sg_cal_optode_FoilCoefA4',\n",
       " 'log_MOTHERBOARD']"
      ]
     },
     "execution_count": 8,
     "metadata": {},
     "output_type": "execute_result"
    }
   ],
   "source": [
    "### print the list of inital variables of the dataset\n",
    "var_list"
   ]
  },
  {
   "cell_type": "code",
   "execution_count": 9,
   "id": "b697a2f1",
   "metadata": {
    "execution": {
     "iopub.execute_input": "2025-09-21T14:14:31.886885Z",
     "iopub.status.busy": "2025-09-21T14:14:31.886726Z",
     "iopub.status.idle": "2025-09-21T14:14:31.896153Z",
     "shell.execute_reply": "2025-09-21T14:14:31.895748Z"
    }
   },
   "outputs": [
    {
     "name": "stdout",
     "output_type": "stream",
     "text": [
      "information is based on xarray Dataset\n"
     ]
    },
    {
     "data": {
      "text/html": [
       "<div>\n",
       "<style scoped>\n",
       "    .dataframe tbody tr th:only-of-type {\n",
       "        vertical-align: middle;\n",
       "    }\n",
       "\n",
       "    .dataframe tbody tr th {\n",
       "        vertical-align: top;\n",
       "    }\n",
       "\n",
       "    .dataframe thead th {\n",
       "        text-align: right;\n",
       "    }\n",
       "</style>\n",
       "<table border=\"1\" class=\"dataframe\">\n",
       "  <thead>\n",
       "    <tr style=\"text-align: right;\">\n",
       "      <th></th>\n",
       "      <th>Attribute</th>\n",
       "      <th>Value</th>\n",
       "      <th>DType</th>\n",
       "    </tr>\n",
       "  </thead>\n",
       "  <tbody>\n",
       "    <tr>\n",
       "      <th>0</th>\n",
       "      <td>title</td>\n",
       "      <td>OceanGliders trajectory file</td>\n",
       "      <td>str</td>\n",
       "    </tr>\n",
       "    <tr>\n",
       "      <th>1</th>\n",
       "      <td>id</td>\n",
       "      <td>sg033_20100906T112156_delayed</td>\n",
       "      <td>str</td>\n",
       "    </tr>\n",
       "    <tr>\n",
       "      <th>2</th>\n",
       "      <td>platform</td>\n",
       "      <td>sub-surface gliders</td>\n",
       "      <td>str</td>\n",
       "    </tr>\n",
       "    <tr>\n",
       "      <th>3</th>\n",
       "      <td>platform_vocabulary</td>\n",
       "      <td>https://vocab.nerc.ac.uk/collection/L06/curren...</td>\n",
       "      <td>str</td>\n",
       "    </tr>\n",
       "    <tr>\n",
       "      <th>4</th>\n",
       "      <td>naming_authority</td>\n",
       "      <td>edu.washington.apl</td>\n",
       "      <td>str</td>\n",
       "    </tr>\n",
       "    <tr>\n",
       "      <th>5</th>\n",
       "      <td>institution</td>\n",
       "      <td>School of Oceanography\\nUniversity of Washingt...</td>\n",
       "      <td>str</td>\n",
       "    </tr>\n",
       "    <tr>\n",
       "      <th>6</th>\n",
       "      <td>geospatial_lat_min</td>\n",
       "      <td>18.516025675252838</td>\n",
       "      <td>ndarray</td>\n",
       "    </tr>\n",
       "    <tr>\n",
       "      <th>7</th>\n",
       "      <td>geospatial_lat_max</td>\n",
       "      <td>18.524446699350996</td>\n",
       "      <td>ndarray</td>\n",
       "    </tr>\n",
       "    <tr>\n",
       "      <th>8</th>\n",
       "      <td>geospatial_lon_min</td>\n",
       "      <td>-65.98221600599415</td>\n",
       "      <td>ndarray</td>\n",
       "    </tr>\n",
       "    <tr>\n",
       "      <th>9</th>\n",
       "      <td>geospatial_lon_max</td>\n",
       "      <td>-65.97450004341222</td>\n",
       "      <td>ndarray</td>\n",
       "    </tr>\n",
       "    <tr>\n",
       "      <th>10</th>\n",
       "      <td>geospatial_vertical_min</td>\n",
       "      <td>0.0</td>\n",
       "      <td>ndarray</td>\n",
       "    </tr>\n",
       "    <tr>\n",
       "      <th>11</th>\n",
       "      <td>geospatial_vertical_max</td>\n",
       "      <td>511.71017477249814</td>\n",
       "      <td>ndarray</td>\n",
       "    </tr>\n",
       "    <tr>\n",
       "      <th>12</th>\n",
       "      <td>time_coverage_start</td>\n",
       "      <td>20100906T111037</td>\n",
       "      <td>str</td>\n",
       "    </tr>\n",
       "    <tr>\n",
       "      <th>13</th>\n",
       "      <td>time_coverage_end</td>\n",
       "      <td>20100906T142637</td>\n",
       "      <td>str</td>\n",
       "    </tr>\n",
       "    <tr>\n",
       "      <th>14</th>\n",
       "      <td>site</td>\n",
       "      <td>Test deployments of DeepGliders in the Puerto ...</td>\n",
       "      <td>str</td>\n",
       "    </tr>\n",
       "    <tr>\n",
       "      <th>15</th>\n",
       "      <td>project</td>\n",
       "      <td>Rapid-Mocha San Juan 3 September 2010</td>\n",
       "      <td>str</td>\n",
       "    </tr>\n",
       "    <tr>\n",
       "      <th>16</th>\n",
       "      <td>contributor_name</td>\n",
       "      <td>Charlie Eriksen</td>\n",
       "      <td>str</td>\n",
       "    </tr>\n",
       "    <tr>\n",
       "      <th>17</th>\n",
       "      <td>contributor_role</td>\n",
       "      <td>PI</td>\n",
       "      <td>str</td>\n",
       "    </tr>\n",
       "    <tr>\n",
       "      <th>18</th>\n",
       "      <td>contributor_role_vocabulary</td>\n",
       "      <td>http://vocab.nerc.ac.uk/search_nvs/W08</td>\n",
       "      <td>str</td>\n",
       "    </tr>\n",
       "    <tr>\n",
       "      <th>19</th>\n",
       "      <td>contributor_email</td>\n",
       "      <td>charlie@ocean.washington.edu</td>\n",
       "      <td>str</td>\n",
       "    </tr>\n",
       "    <tr>\n",
       "      <th>20</th>\n",
       "      <td>contributing_institutions</td>\n",
       "      <td>University of Washington - School of Oceanography</td>\n",
       "      <td>str</td>\n",
       "    </tr>\n",
       "    <tr>\n",
       "      <th>21</th>\n",
       "      <td>contributing_institutions_vocabulary</td>\n",
       "      <td>https://edmo.seadatanet.org/report/1434</td>\n",
       "      <td>str</td>\n",
       "    </tr>\n",
       "    <tr>\n",
       "      <th>22</th>\n",
       "      <td>contributing_institutions_role</td>\n",
       "      <td>PI</td>\n",
       "      <td>str</td>\n",
       "    </tr>\n",
       "    <tr>\n",
       "      <th>23</th>\n",
       "      <td>contributing_institutions_role_vocabulary</td>\n",
       "      <td>http://vocab.nerc.ac.uk/collection/W08/current/</td>\n",
       "      <td>str</td>\n",
       "    </tr>\n",
       "    <tr>\n",
       "      <th>24</th>\n",
       "      <td>uri</td>\n",
       "      <td>569b1f80-1985-11e7-8a51-0026bb609360</td>\n",
       "      <td>str</td>\n",
       "    </tr>\n",
       "    <tr>\n",
       "      <th>25</th>\n",
       "      <td>rtqc_method</td>\n",
       "      <td>No QC applied</td>\n",
       "      <td>str</td>\n",
       "    </tr>\n",
       "    <tr>\n",
       "      <th>26</th>\n",
       "      <td>rtqc_method_doi</td>\n",
       "      <td>n/a</td>\n",
       "      <td>str</td>\n",
       "    </tr>\n",
       "    <tr>\n",
       "      <th>27</th>\n",
       "      <td>comment</td>\n",
       "      <td>Processing start:\\nINFO: QC.py(418): Changed (...</td>\n",
       "      <td>str</td>\n",
       "    </tr>\n",
       "    <tr>\n",
       "      <th>28</th>\n",
       "      <td>start_date</td>\n",
       "      <td>20100906T112156</td>\n",
       "      <td>str</td>\n",
       "    </tr>\n",
       "    <tr>\n",
       "      <th>29</th>\n",
       "      <td>date_created</td>\n",
       "      <td>20170404T220433</td>\n",
       "      <td>str</td>\n",
       "    </tr>\n",
       "    <tr>\n",
       "      <th>30</th>\n",
       "      <td>featureType</td>\n",
       "      <td>trajectoryProfile</td>\n",
       "      <td>str</td>\n",
       "    </tr>\n",
       "    <tr>\n",
       "      <th>31</th>\n",
       "      <td>Conventions</td>\n",
       "      <td>CF-1.10,OG-1.0</td>\n",
       "      <td>str</td>\n",
       "    </tr>\n",
       "    <tr>\n",
       "      <th>32</th>\n",
       "      <td>date_modified</td>\n",
       "      <td>20250921T141431</td>\n",
       "      <td>str</td>\n",
       "    </tr>\n",
       "    <tr>\n",
       "      <th>33</th>\n",
       "      <td>file_version</td>\n",
       "      <td>2.71</td>\n",
       "      <td>str</td>\n",
       "    </tr>\n",
       "    <tr>\n",
       "      <th>34</th>\n",
       "      <td>keywords</td>\n",
       "      <td>Water Temperature, Conductivity, Salinity, Den...</td>\n",
       "      <td>str</td>\n",
       "    </tr>\n",
       "    <tr>\n",
       "      <th>35</th>\n",
       "      <td>disclaimer</td>\n",
       "      <td>Data has not been reviewed and is provided AS-IS.</td>\n",
       "      <td>str</td>\n",
       "    </tr>\n",
       "    <tr>\n",
       "      <th>36</th>\n",
       "      <td>keywords_vocabulary</td>\n",
       "      <td>NASA/GCMD Earth Science Keywords Version 6.0.0.0</td>\n",
       "      <td>str</td>\n",
       "    </tr>\n",
       "    <tr>\n",
       "      <th>37</th>\n",
       "      <td>acknowledgment</td>\n",
       "      <td>National Science Foundation OCE Division Grant...</td>\n",
       "      <td>str</td>\n",
       "    </tr>\n",
       "    <tr>\n",
       "      <th>38</th>\n",
       "      <td>license</td>\n",
       "      <td>These data may be redistributed and used witho...</td>\n",
       "      <td>str</td>\n",
       "    </tr>\n",
       "    <tr>\n",
       "      <th>39</th>\n",
       "      <td>contributer_email</td>\n",
       "      <td>null@null.com</td>\n",
       "      <td>str</td>\n",
       "    </tr>\n",
       "  </tbody>\n",
       "</table>\n",
       "</div>"
      ],
      "text/plain": [
       "                                    Attribute  \\\n",
       "0                                       title   \n",
       "1                                          id   \n",
       "2                                    platform   \n",
       "3                         platform_vocabulary   \n",
       "4                            naming_authority   \n",
       "5                                 institution   \n",
       "6                          geospatial_lat_min   \n",
       "7                          geospatial_lat_max   \n",
       "8                          geospatial_lon_min   \n",
       "9                          geospatial_lon_max   \n",
       "10                    geospatial_vertical_min   \n",
       "11                    geospatial_vertical_max   \n",
       "12                        time_coverage_start   \n",
       "13                          time_coverage_end   \n",
       "14                                       site   \n",
       "15                                    project   \n",
       "16                           contributor_name   \n",
       "17                           contributor_role   \n",
       "18                contributor_role_vocabulary   \n",
       "19                          contributor_email   \n",
       "20                  contributing_institutions   \n",
       "21       contributing_institutions_vocabulary   \n",
       "22             contributing_institutions_role   \n",
       "23  contributing_institutions_role_vocabulary   \n",
       "24                                        uri   \n",
       "25                                rtqc_method   \n",
       "26                            rtqc_method_doi   \n",
       "27                                    comment   \n",
       "28                                 start_date   \n",
       "29                               date_created   \n",
       "30                                featureType   \n",
       "31                                Conventions   \n",
       "32                              date_modified   \n",
       "33                               file_version   \n",
       "34                                   keywords   \n",
       "35                                 disclaimer   \n",
       "36                        keywords_vocabulary   \n",
       "37                             acknowledgment   \n",
       "38                                    license   \n",
       "39                          contributer_email   \n",
       "\n",
       "                                                Value    DType  \n",
       "0                        OceanGliders trajectory file      str  \n",
       "1                       sg033_20100906T112156_delayed      str  \n",
       "2                                 sub-surface gliders      str  \n",
       "3   https://vocab.nerc.ac.uk/collection/L06/curren...      str  \n",
       "4                                  edu.washington.apl      str  \n",
       "5   School of Oceanography\\nUniversity of Washingt...      str  \n",
       "6                                  18.516025675252838  ndarray  \n",
       "7                                  18.524446699350996  ndarray  \n",
       "8                                  -65.98221600599415  ndarray  \n",
       "9                                  -65.97450004341222  ndarray  \n",
       "10                                                0.0  ndarray  \n",
       "11                                 511.71017477249814  ndarray  \n",
       "12                                    20100906T111037      str  \n",
       "13                                    20100906T142637      str  \n",
       "14  Test deployments of DeepGliders in the Puerto ...      str  \n",
       "15              Rapid-Mocha San Juan 3 September 2010      str  \n",
       "16                                    Charlie Eriksen      str  \n",
       "17                                                 PI      str  \n",
       "18             http://vocab.nerc.ac.uk/search_nvs/W08      str  \n",
       "19                       charlie@ocean.washington.edu      str  \n",
       "20  University of Washington - School of Oceanography      str  \n",
       "21            https://edmo.seadatanet.org/report/1434      str  \n",
       "22                                                 PI      str  \n",
       "23    http://vocab.nerc.ac.uk/collection/W08/current/      str  \n",
       "24               569b1f80-1985-11e7-8a51-0026bb609360      str  \n",
       "25                                      No QC applied      str  \n",
       "26                                                n/a      str  \n",
       "27  Processing start:\\nINFO: QC.py(418): Changed (...      str  \n",
       "28                                    20100906T112156      str  \n",
       "29                                    20170404T220433      str  \n",
       "30                                  trajectoryProfile      str  \n",
       "31                                     CF-1.10,OG-1.0      str  \n",
       "32                                    20250921T141431      str  \n",
       "33                                               2.71      str  \n",
       "34  Water Temperature, Conductivity, Salinity, Den...      str  \n",
       "35  Data has not been reviewed and is provided AS-IS.      str  \n",
       "36   NASA/GCMD Earth Science Keywords Version 6.0.0.0      str  \n",
       "37  National Science Foundation OCE Division Grant...      str  \n",
       "38  These data may be redistributed and used witho...      str  \n",
       "39                                      null@null.com      str  "
      ]
     },
     "execution_count": 9,
     "metadata": {},
     "output_type": "execute_result"
    }
   ],
   "source": [
    "# Print to screen a table of attributes\n",
    "plotters.show_contents(ds_OG1,'attrs')"
   ]
  },
  {
   "cell_type": "code",
   "execution_count": 10,
   "id": "a0c0c0ba",
   "metadata": {
    "execution": {
     "iopub.execute_input": "2025-09-21T14:14:31.897597Z",
     "iopub.status.busy": "2025-09-21T14:14:31.897446Z",
     "iopub.status.idle": "2025-09-21T14:14:31.947697Z",
     "shell.execute_reply": "2025-09-21T14:14:31.947174Z"
    }
   },
   "outputs": [
    {
     "name": "stdout",
     "output_type": "stream",
     "text": [
      "information is based on xarray Dataset\n"
     ]
    },
    {
     "data": {
      "text/html": [
       "<style type=\"text/css\">\n",
       "</style>\n",
       "<table id=\"T_c24ef\">\n",
       "  <thead>\n",
       "    <tr>\n",
       "      <th class=\"blank level0\" >&nbsp;</th>\n",
       "      <th id=\"T_c24ef_level0_col0\" class=\"col_heading level0 col0\" >dims</th>\n",
       "      <th id=\"T_c24ef_level0_col1\" class=\"col_heading level0 col1\" >units</th>\n",
       "      <th id=\"T_c24ef_level0_col2\" class=\"col_heading level0 col2\" >comment</th>\n",
       "      <th id=\"T_c24ef_level0_col3\" class=\"col_heading level0 col3\" >standard_name</th>\n",
       "      <th id=\"T_c24ef_level0_col4\" class=\"col_heading level0 col4\" >dtype</th>\n",
       "    </tr>\n",
       "    <tr>\n",
       "      <th class=\"index_name level0\" >name</th>\n",
       "      <th class=\"blank col0\" >&nbsp;</th>\n",
       "      <th class=\"blank col1\" >&nbsp;</th>\n",
       "      <th class=\"blank col2\" >&nbsp;</th>\n",
       "      <th class=\"blank col3\" >&nbsp;</th>\n",
       "      <th class=\"blank col4\" >&nbsp;</th>\n",
       "    </tr>\n",
       "  </thead>\n",
       "  <tbody>\n",
       "    <tr>\n",
       "      <th id=\"T_c24ef_level0_row0\" class=\"row_heading level0 row0\" >CNDC</th>\n",
       "      <td id=\"T_c24ef_row0_col0\" class=\"data row0 col0\" >N_MEASUREMENTS</td>\n",
       "      <td id=\"T_c24ef_row0_col1\" class=\"data row0 col1\" >S/m</td>\n",
       "      <td id=\"T_c24ef_row0_col2\" class=\"data row0 col2\" >Conductivity corrected for anomalies</td>\n",
       "      <td id=\"T_c24ef_row0_col3\" class=\"data row0 col3\" >sea_water_electrical_conductivity</td>\n",
       "      <td id=\"T_c24ef_row0_col4\" class=\"data row0 col4\" >float32</td>\n",
       "    </tr>\n",
       "    <tr>\n",
       "      <th id=\"T_c24ef_level0_row1\" class=\"row_heading level0 row1\" >CNDC_QC</th>\n",
       "      <td id=\"T_c24ef_row1_col0\" class=\"data row1 col0\" >N_MEASUREMENTS</td>\n",
       "      <td id=\"T_c24ef_row1_col1\" class=\"data row1 col1\" ></td>\n",
       "      <td id=\"T_c24ef_row1_col2\" class=\"data row1 col2\" >Whether to trust each corrected conductivity value</td>\n",
       "      <td id=\"T_c24ef_row1_col3\" class=\"data row1 col3\" >status_flag</td>\n",
       "      <td id=\"T_c24ef_row1_col4\" class=\"data row1 col4\" >float32</td>\n",
       "    </tr>\n",
       "    <tr>\n",
       "      <th id=\"T_c24ef_level0_row2\" class=\"row_heading level0 row2\" >CNDC_RAW</th>\n",
       "      <td id=\"T_c24ef_row2_col0\" class=\"data row2 col0\" >N_MEASUREMENTS</td>\n",
       "      <td id=\"T_c24ef_row2_col1\" class=\"data row2 col1\" >S/m</td>\n",
       "      <td id=\"T_c24ef_row2_col2\" class=\"data row2 col2\" >Uncorrected conductivity</td>\n",
       "      <td id=\"T_c24ef_row2_col3\" class=\"data row2 col3\" ></td>\n",
       "      <td id=\"T_c24ef_row2_col4\" class=\"data row2 col4\" >float32</td>\n",
       "    </tr>\n",
       "    <tr>\n",
       "      <th id=\"T_c24ef_level0_row3\" class=\"row_heading level0 row3\" >CNDC_RAW_QC</th>\n",
       "      <td id=\"T_c24ef_row3_col0\" class=\"data row3 col0\" >N_MEASUREMENTS</td>\n",
       "      <td id=\"T_c24ef_row3_col1\" class=\"data row3 col1\" ></td>\n",
       "      <td id=\"T_c24ef_row3_col2\" class=\"data row3 col2\" >Whether to trust each raw conductivity value</td>\n",
       "      <td id=\"T_c24ef_row3_col3\" class=\"data row3 col3\" >status_flag</td>\n",
       "      <td id=\"T_c24ef_row3_col4\" class=\"data row3 col4\" >float32</td>\n",
       "    </tr>\n",
       "    <tr>\n",
       "      <th id=\"T_c24ef_level0_row4\" class=\"row_heading level0 row4\" >DAVG_CURR_EAST</th>\n",
       "      <td id=\"T_c24ef_row4_col0\" class=\"data row4 col0\" >N_MEASUREMENTS</td>\n",
       "      <td id=\"T_c24ef_row4_col1\" class=\"data row4 col1\" >m/s</td>\n",
       "      <td id=\"T_c24ef_row4_col2\" class=\"data row4 col2\" >Eastward component of the dive depth-average current based on hdm</td>\n",
       "      <td id=\"T_c24ef_row4_col3\" class=\"data row4 col3\" >eastward_sea_water_velocity</td>\n",
       "      <td id=\"T_c24ef_row4_col4\" class=\"data row4 col4\" >float32</td>\n",
       "    </tr>\n",
       "    <tr>\n",
       "      <th id=\"T_c24ef_level0_row5\" class=\"row_heading level0 row5\" >DAVG_CURR_NORTH</th>\n",
       "      <td id=\"T_c24ef_row5_col0\" class=\"data row5 col0\" >N_MEASUREMENTS</td>\n",
       "      <td id=\"T_c24ef_row5_col1\" class=\"data row5 col1\" >m/s</td>\n",
       "      <td id=\"T_c24ef_row5_col2\" class=\"data row5 col2\" >Northward component of the dive depth-average current based on hdm</td>\n",
       "      <td id=\"T_c24ef_row5_col3\" class=\"data row5 col3\" >northward_sea_water_velocity</td>\n",
       "      <td id=\"T_c24ef_row5_col4\" class=\"data row5 col4\" >float32</td>\n",
       "    </tr>\n",
       "    <tr>\n",
       "      <th id=\"T_c24ef_level0_row6\" class=\"row_heading level0 row6\" >DEPTH</th>\n",
       "      <td id=\"T_c24ef_row6_col0\" class=\"data row6 col0\" >N_MEASUREMENTS</td>\n",
       "      <td id=\"T_c24ef_row6_col1\" class=\"data row6 col1\" >m</td>\n",
       "      <td id=\"T_c24ef_row6_col2\" class=\"data row6 col2\" >from science pressure and interpolated</td>\n",
       "      <td id=\"T_c24ef_row6_col3\" class=\"data row6 col3\" >depth</td>\n",
       "      <td id=\"T_c24ef_row6_col4\" class=\"data row6 col4\" >float64</td>\n",
       "    </tr>\n",
       "    <tr>\n",
       "      <th id=\"T_c24ef_level0_row7\" class=\"row_heading level0 row7\" >DEPTH_Z</th>\n",
       "      <td id=\"T_c24ef_row7_col0\" class=\"data row7 col0\" >N_MEASUREMENTS</td>\n",
       "      <td id=\"T_c24ef_row7_col1\" class=\"data row7 col1\" >meters</td>\n",
       "      <td id=\"T_c24ef_row7_col2\" class=\"data row7 col2\" >Depth calculated from pressure using gsw library, positive up.</td>\n",
       "      <td id=\"T_c24ef_row7_col3\" class=\"data row7 col3\" >depth</td>\n",
       "      <td id=\"T_c24ef_row7_col4\" class=\"data row7 col4\" >float64</td>\n",
       "    </tr>\n",
       "    <tr>\n",
       "      <th id=\"T_c24ef_level0_row8\" class=\"row_heading level0 row8\" >DOXY</th>\n",
       "      <td id=\"T_c24ef_row8_col0\" class=\"data row8 col0\" >N_MEASUREMENTS</td>\n",
       "      <td id=\"T_c24ef_row8_col1\" class=\"data row8 col1\" >micromoles/kg</td>\n",
       "      <td id=\"T_c24ef_row8_col2\" class=\"data row8 col2\" >Dissolved oxygen concentration, calculated from optode tcphase corrected for salininty and depth</td>\n",
       "      <td id=\"T_c24ef_row8_col3\" class=\"data row8 col3\" >mole_concentration_of_dissolved_molecular_oxygen_in_sea_water</td>\n",
       "      <td id=\"T_c24ef_row8_col4\" class=\"data row8 col4\" >float32</td>\n",
       "    </tr>\n",
       "    <tr>\n",
       "      <th id=\"T_c24ef_level0_row9\" class=\"row_heading level0 row9\" >DOXY_QC</th>\n",
       "      <td id=\"T_c24ef_row9_col0\" class=\"data row9 col0\" >N_MEASUREMENTS</td>\n",
       "      <td id=\"T_c24ef_row9_col1\" class=\"data row9 col1\" ></td>\n",
       "      <td id=\"T_c24ef_row9_col2\" class=\"data row9 col2\" >Whether to trust each optode dissolved oxygen value</td>\n",
       "      <td id=\"T_c24ef_row9_col3\" class=\"data row9 col3\" >status_flag</td>\n",
       "      <td id=\"T_c24ef_row9_col4\" class=\"data row9 col4\" >float32</td>\n",
       "    </tr>\n",
       "    <tr>\n",
       "      <th id=\"T_c24ef_level0_row10\" class=\"row_heading level0 row10\" >EAST_DISPLACEMENT</th>\n",
       "      <td id=\"T_c24ef_row10_col0\" class=\"data row10 col0\" >N_MEASUREMENTS</td>\n",
       "      <td id=\"T_c24ef_row10_col1\" class=\"data row10 col1\" >meters</td>\n",
       "      <td id=\"T_c24ef_row10_col2\" class=\"data row10 col2\" >Eastward displacement from hdm</td>\n",
       "      <td id=\"T_c24ef_row10_col3\" class=\"data row10 col3\" ></td>\n",
       "      <td id=\"T_c24ef_row10_col4\" class=\"data row10 col4\" >float32</td>\n",
       "    </tr>\n",
       "    <tr>\n",
       "      <th id=\"T_c24ef_level0_row11\" class=\"row_heading level0 row11\" >GLIDER_HORZ_VELO_MODEL</th>\n",
       "      <td id=\"T_c24ef_row11_col0\" class=\"data row11 col0\" >N_MEASUREMENTS</td>\n",
       "      <td id=\"T_c24ef_row11_col1\" class=\"data row11 col1\" >cm/s</td>\n",
       "      <td id=\"T_c24ef_row11_col2\" class=\"data row11 col2\" >Vehicle horizontal speed based on hdm</td>\n",
       "      <td id=\"T_c24ef_row11_col3\" class=\"data row11 col3\" ></td>\n",
       "      <td id=\"T_c24ef_row11_col4\" class=\"data row11 col4\" >float32</td>\n",
       "    </tr>\n",
       "    <tr>\n",
       "      <th id=\"T_c24ef_level0_row12\" class=\"row_heading level0 row12\" >GLIDER_VERT_VELO_MODEL</th>\n",
       "      <td id=\"T_c24ef_row12_col0\" class=\"data row12 col0\" >N_MEASUREMENTS</td>\n",
       "      <td id=\"T_c24ef_row12_col1\" class=\"data row12 col1\" >cm/s</td>\n",
       "      <td id=\"T_c24ef_row12_col2\" class=\"data row12 col2\" >Vehicle vertical speed based on hdm</td>\n",
       "      <td id=\"T_c24ef_row12_col3\" class=\"data row12 col3\" ></td>\n",
       "      <td id=\"T_c24ef_row12_col4\" class=\"data row12 col4\" >float32</td>\n",
       "    </tr>\n",
       "    <tr>\n",
       "      <th id=\"T_c24ef_level0_row13\" class=\"row_heading level0 row13\" >GLIDE_ANGLE</th>\n",
       "      <td id=\"T_c24ef_row13_col0\" class=\"data row13 col0\" >N_MEASUREMENTS</td>\n",
       "      <td id=\"T_c24ef_row13_col1\" class=\"data row13 col1\" >cm/s</td>\n",
       "      <td id=\"T_c24ef_row13_col2\" class=\"data row13 col2\" >Glide angle based on hdm</td>\n",
       "      <td id=\"T_c24ef_row13_col3\" class=\"data row13 col3\" ></td>\n",
       "      <td id=\"T_c24ef_row13_col4\" class=\"data row13 col4\" >float32</td>\n",
       "    </tr>\n",
       "    <tr>\n",
       "      <th id=\"T_c24ef_level0_row14\" class=\"row_heading level0 row14\" >GLIDE_SPEED</th>\n",
       "      <td id=\"T_c24ef_row14_col0\" class=\"data row14 col0\" >N_MEASUREMENTS</td>\n",
       "      <td id=\"T_c24ef_row14_col1\" class=\"data row14 col1\" >cm/s</td>\n",
       "      <td id=\"T_c24ef_row14_col2\" class=\"data row14 col2\" >Vehicle speed based on hdm</td>\n",
       "      <td id=\"T_c24ef_row14_col3\" class=\"data row14 col3\" ></td>\n",
       "      <td id=\"T_c24ef_row14_col4\" class=\"data row14 col4\" >float32</td>\n",
       "    </tr>\n",
       "    <tr>\n",
       "      <th id=\"T_c24ef_level0_row15\" class=\"row_heading level0 row15\" >GLIDE_SPEED_QC</th>\n",
       "      <td id=\"T_c24ef_row15_col0\" class=\"data row15 col0\" >N_MEASUREMENTS</td>\n",
       "      <td id=\"T_c24ef_row15_col1\" class=\"data row15 col1\" ></td>\n",
       "      <td id=\"T_c24ef_row15_col2\" class=\"data row15 col2\" >Whether to trust each hdm speed value</td>\n",
       "      <td id=\"T_c24ef_row15_col3\" class=\"data row15 col3\" >status_flag</td>\n",
       "      <td id=\"T_c24ef_row15_col4\" class=\"data row15 col4\" >float32</td>\n",
       "    </tr>\n",
       "    <tr>\n",
       "      <th id=\"T_c24ef_level0_row16\" class=\"row_heading level0 row16\" >HEADING</th>\n",
       "      <td id=\"T_c24ef_row16_col0\" class=\"data row16 col0\" >N_MEASUREMENTS</td>\n",
       "      <td id=\"T_c24ef_row16_col1\" class=\"data row16 col1\" >degrees</td>\n",
       "      <td id=\"T_c24ef_row16_col2\" class=\"data row16 col2\" >Vehicle heading (magnetic)</td>\n",
       "      <td id=\"T_c24ef_row16_col3\" class=\"data row16 col3\" ></td>\n",
       "      <td id=\"T_c24ef_row16_col4\" class=\"data row16 col4\" >float32</td>\n",
       "    </tr>\n",
       "    <tr>\n",
       "      <th id=\"T_c24ef_level0_row17\" class=\"row_heading level0 row17\" >LATITUDE</th>\n",
       "      <td id=\"T_c24ef_row17_col0\" class=\"data row17 col0\" >N_MEASUREMENTS</td>\n",
       "      <td id=\"T_c24ef_row17_col1\" class=\"data row17 col1\" >degrees_north</td>\n",
       "      <td id=\"T_c24ef_row17_col2\" class=\"data row17 col2\" >Latitude of the sample based on hdm DAC</td>\n",
       "      <td id=\"T_c24ef_row17_col3\" class=\"data row17 col3\" >latitude</td>\n",
       "      <td id=\"T_c24ef_row17_col4\" class=\"data row17 col4\" >float64</td>\n",
       "    </tr>\n",
       "    <tr>\n",
       "      <th id=\"T_c24ef_level0_row18\" class=\"row_heading level0 row18\" >LATITUDE_GPS</th>\n",
       "      <td id=\"T_c24ef_row18_col0\" class=\"data row18 col0\" >N_MEASUREMENTS</td>\n",
       "      <td id=\"T_c24ef_row18_col1\" class=\"data row18 col1\" >degrees_north</td>\n",
       "      <td id=\"T_c24ef_row18_col2\" class=\"data row18 col2\" ></td>\n",
       "      <td id=\"T_c24ef_row18_col3\" class=\"data row18 col3\" >latitude</td>\n",
       "      <td id=\"T_c24ef_row18_col4\" class=\"data row18 col4\" >float64</td>\n",
       "    </tr>\n",
       "    <tr>\n",
       "      <th id=\"T_c24ef_level0_row19\" class=\"row_heading level0 row19\" >LONGITUDE</th>\n",
       "      <td id=\"T_c24ef_row19_col0\" class=\"data row19 col0\" >N_MEASUREMENTS</td>\n",
       "      <td id=\"T_c24ef_row19_col1\" class=\"data row19 col1\" >degrees_east</td>\n",
       "      <td id=\"T_c24ef_row19_col2\" class=\"data row19 col2\" >Longitude of the sample based on hdm DAC</td>\n",
       "      <td id=\"T_c24ef_row19_col3\" class=\"data row19 col3\" >longitude</td>\n",
       "      <td id=\"T_c24ef_row19_col4\" class=\"data row19 col4\" >float64</td>\n",
       "    </tr>\n",
       "    <tr>\n",
       "      <th id=\"T_c24ef_level0_row20\" class=\"row_heading level0 row20\" >LONGITUDE_GPS</th>\n",
       "      <td id=\"T_c24ef_row20_col0\" class=\"data row20 col0\" >N_MEASUREMENTS</td>\n",
       "      <td id=\"T_c24ef_row20_col1\" class=\"data row20 col1\" >degrees_east</td>\n",
       "      <td id=\"T_c24ef_row20_col2\" class=\"data row20 col2\" ></td>\n",
       "      <td id=\"T_c24ef_row20_col3\" class=\"data row20 col3\" >longitude</td>\n",
       "      <td id=\"T_c24ef_row20_col4\" class=\"data row20 col4\" >float64</td>\n",
       "    </tr>\n",
       "    <tr>\n",
       "      <th id=\"T_c24ef_level0_row21\" class=\"row_heading level0 row21\" >NORTH_DISPLACEMENT</th>\n",
       "      <td id=\"T_c24ef_row21_col0\" class=\"data row21 col0\" >N_MEASUREMENTS</td>\n",
       "      <td id=\"T_c24ef_row21_col1\" class=\"data row21 col1\" >meters</td>\n",
       "      <td id=\"T_c24ef_row21_col2\" class=\"data row21 col2\" >Northward displacement from hdm</td>\n",
       "      <td id=\"T_c24ef_row21_col3\" class=\"data row21 col3\" ></td>\n",
       "      <td id=\"T_c24ef_row21_col4\" class=\"data row21 col4\" >float32</td>\n",
       "    </tr>\n",
       "    <tr>\n",
       "      <th id=\"T_c24ef_level0_row22\" class=\"row_heading level0 row22\" >OXYSAT</th>\n",
       "      <td id=\"T_c24ef_row22_col0\" class=\"data row22 col0\" >N_MEASUREMENTS</td>\n",
       "      <td id=\"T_c24ef_row22_col1\" class=\"data row22 col1\" >micromoles/kg</td>\n",
       "      <td id=\"T_c24ef_row22_col2\" class=\"data row22 col2\" >Calculated saturation value for oxygen given measured presure and corrected temperature, and salinity</td>\n",
       "      <td id=\"T_c24ef_row22_col3\" class=\"data row22 col3\" ></td>\n",
       "      <td id=\"T_c24ef_row22_col4\" class=\"data row22 col4\" >float32</td>\n",
       "    </tr>\n",
       "    <tr>\n",
       "      <th id=\"T_c24ef_level0_row23\" class=\"row_heading level0 row23\" >PHASE</th>\n",
       "      <td id=\"T_c24ef_row23_col0\" class=\"data row23 col0\" >N_MEASUREMENTS</td>\n",
       "      <td id=\"T_c24ef_row23_col1\" class=\"data row23 col1\" ></td>\n",
       "      <td id=\"T_c24ef_row23_col2\" class=\"data row23 col2\" ></td>\n",
       "      <td id=\"T_c24ef_row23_col3\" class=\"data row23 col3\" ></td>\n",
       "      <td id=\"T_c24ef_row23_col4\" class=\"data row23 col4\" >float64</td>\n",
       "    </tr>\n",
       "    <tr>\n",
       "      <th id=\"T_c24ef_level0_row24\" class=\"row_heading level0 row24\" >PHASE_QC</th>\n",
       "      <td id=\"T_c24ef_row24_col0\" class=\"data row24 col0\" >N_MEASUREMENTS</td>\n",
       "      <td id=\"T_c24ef_row24_col1\" class=\"data row24 col1\" ></td>\n",
       "      <td id=\"T_c24ef_row24_col2\" class=\"data row24 col2\" ></td>\n",
       "      <td id=\"T_c24ef_row24_col3\" class=\"data row24 col3\" ></td>\n",
       "      <td id=\"T_c24ef_row24_col4\" class=\"data row24 col4\" >int64</td>\n",
       "    </tr>\n",
       "    <tr>\n",
       "      <th id=\"T_c24ef_level0_row25\" class=\"row_heading level0 row25\" >PITCH</th>\n",
       "      <td id=\"T_c24ef_row25_col0\" class=\"data row25 col0\" >N_MEASUREMENTS</td>\n",
       "      <td id=\"T_c24ef_row25_col1\" class=\"data row25 col1\" >degrees</td>\n",
       "      <td id=\"T_c24ef_row25_col2\" class=\"data row25 col2\" >Vehicle pitch</td>\n",
       "      <td id=\"T_c24ef_row25_col3\" class=\"data row25 col3\" ></td>\n",
       "      <td id=\"T_c24ef_row25_col4\" class=\"data row25 col4\" >float32</td>\n",
       "    </tr>\n",
       "    <tr>\n",
       "      <th id=\"T_c24ef_level0_row26\" class=\"row_heading level0 row26\" >PITCH_CTL</th>\n",
       "      <td id=\"T_c24ef_row26_col0\" class=\"data row26 col0\" >N_MEASUREMENTS</td>\n",
       "      <td id=\"T_c24ef_row26_col1\" class=\"data row26 col1\" ></td>\n",
       "      <td id=\"T_c24ef_row26_col2\" class=\"data row26 col2\" ></td>\n",
       "      <td id=\"T_c24ef_row26_col3\" class=\"data row26 col3\" ></td>\n",
       "      <td id=\"T_c24ef_row26_col4\" class=\"data row26 col4\" >float32</td>\n",
       "    </tr>\n",
       "    <tr>\n",
       "      <th id=\"T_c24ef_level0_row27\" class=\"row_heading level0 row27\" >PRES</th>\n",
       "      <td id=\"T_c24ef_row27_col0\" class=\"data row27 col0\" >N_MEASUREMENTS</td>\n",
       "      <td id=\"T_c24ef_row27_col1\" class=\"data row27 col1\" >dbar</td>\n",
       "      <td id=\"T_c24ef_row27_col2\" class=\"data row27 col2\" >Uncorrected sea-water pressure at pressure sensor</td>\n",
       "      <td id=\"T_c24ef_row27_col3\" class=\"data row27 col3\" ></td>\n",
       "      <td id=\"T_c24ef_row27_col4\" class=\"data row27 col4\" >float32</td>\n",
       "    </tr>\n",
       "    <tr>\n",
       "      <th id=\"T_c24ef_level0_row28\" class=\"row_heading level0 row28\" >PROFILE_NUMBER</th>\n",
       "      <td id=\"T_c24ef_row28_col0\" class=\"data row28 col0\" >N_MEASUREMENTS</td>\n",
       "      <td id=\"T_c24ef_row28_col1\" class=\"data row28 col1\" ></td>\n",
       "      <td id=\"T_c24ef_row28_col2\" class=\"data row28 col2\" ></td>\n",
       "      <td id=\"T_c24ef_row28_col3\" class=\"data row28 col3\" ></td>\n",
       "      <td id=\"T_c24ef_row28_col4\" class=\"data row28 col4\" >float64</td>\n",
       "    </tr>\n",
       "    <tr>\n",
       "      <th id=\"T_c24ef_level0_row29\" class=\"row_heading level0 row29\" >PSAL</th>\n",
       "      <td id=\"T_c24ef_row29_col0\" class=\"data row29 col0\" >N_MEASUREMENTS</td>\n",
       "      <td id=\"T_c24ef_row29_col1\" class=\"data row29 col1\" >1e-3</td>\n",
       "      <td id=\"T_c24ef_row29_col2\" class=\"data row29 col2\" >Salinity corrected for thermal-inertia effects (PSU)</td>\n",
       "      <td id=\"T_c24ef_row29_col3\" class=\"data row29 col3\" >sea_water_salinity</td>\n",
       "      <td id=\"T_c24ef_row29_col4\" class=\"data row29 col4\" >float32</td>\n",
       "    </tr>\n",
       "    <tr>\n",
       "      <th id=\"T_c24ef_level0_row30\" class=\"row_heading level0 row30\" >PSAL_QC</th>\n",
       "      <td id=\"T_c24ef_row30_col0\" class=\"data row30 col0\" >N_MEASUREMENTS</td>\n",
       "      <td id=\"T_c24ef_row30_col1\" class=\"data row30 col1\" ></td>\n",
       "      <td id=\"T_c24ef_row30_col2\" class=\"data row30 col2\" >Whether to trust each corrected salinity value</td>\n",
       "      <td id=\"T_c24ef_row30_col3\" class=\"data row30 col3\" >status_flag</td>\n",
       "      <td id=\"T_c24ef_row30_col4\" class=\"data row30 col4\" >float32</td>\n",
       "    </tr>\n",
       "    <tr>\n",
       "      <th id=\"T_c24ef_level0_row31\" class=\"row_heading level0 row31\" >PSAL_RAW</th>\n",
       "      <td id=\"T_c24ef_row31_col0\" class=\"data row31 col0\" >N_MEASUREMENTS</td>\n",
       "      <td id=\"T_c24ef_row31_col1\" class=\"data row31 col1\" >1e-3</td>\n",
       "      <td id=\"T_c24ef_row31_col2\" class=\"data row31 col2\" >Uncorrected salinity derived from temperature_raw and conductivity_raw (PSU)</td>\n",
       "      <td id=\"T_c24ef_row31_col3\" class=\"data row31 col3\" ></td>\n",
       "      <td id=\"T_c24ef_row31_col4\" class=\"data row31 col4\" >float32</td>\n",
       "    </tr>\n",
       "    <tr>\n",
       "      <th id=\"T_c24ef_level0_row32\" class=\"row_heading level0 row32\" >PSAL_RAW_QC</th>\n",
       "      <td id=\"T_c24ef_row32_col0\" class=\"data row32 col0\" >N_MEASUREMENTS</td>\n",
       "      <td id=\"T_c24ef_row32_col1\" class=\"data row32 col1\" ></td>\n",
       "      <td id=\"T_c24ef_row32_col2\" class=\"data row32 col2\" >Whether to trust each raw salinity value</td>\n",
       "      <td id=\"T_c24ef_row32_col3\" class=\"data row32 col3\" >status_flag</td>\n",
       "      <td id=\"T_c24ef_row32_col4\" class=\"data row32 col4\" >float32</td>\n",
       "    </tr>\n",
       "    <tr>\n",
       "      <th id=\"T_c24ef_level0_row33\" class=\"row_heading level0 row33\" >ROLL</th>\n",
       "      <td id=\"T_c24ef_row33_col0\" class=\"data row33 col0\" >N_MEASUREMENTS</td>\n",
       "      <td id=\"T_c24ef_row33_col1\" class=\"data row33 col1\" >degrees</td>\n",
       "      <td id=\"T_c24ef_row33_col2\" class=\"data row33 col2\" >Vehicle roll</td>\n",
       "      <td id=\"T_c24ef_row33_col3\" class=\"data row33 col3\" ></td>\n",
       "      <td id=\"T_c24ef_row33_col4\" class=\"data row33 col4\" >float32</td>\n",
       "    </tr>\n",
       "    <tr>\n",
       "      <th id=\"T_c24ef_level0_row34\" class=\"row_heading level0 row34\" >ROLL_CTL</th>\n",
       "      <td id=\"T_c24ef_row34_col0\" class=\"data row34 col0\" >N_MEASUREMENTS</td>\n",
       "      <td id=\"T_c24ef_row34_col1\" class=\"data row34 col1\" ></td>\n",
       "      <td id=\"T_c24ef_row34_col2\" class=\"data row34 col2\" ></td>\n",
       "      <td id=\"T_c24ef_row34_col3\" class=\"data row34 col3\" ></td>\n",
       "      <td id=\"T_c24ef_row34_col4\" class=\"data row34 col4\" >float32</td>\n",
       "    </tr>\n",
       "    <tr>\n",
       "      <th id=\"T_c24ef_level0_row35\" class=\"row_heading level0 row35\" >SIGMA_T</th>\n",
       "      <td id=\"T_c24ef_row35_col0\" class=\"data row35 col0\" >N_MEASUREMENTS</td>\n",
       "      <td id=\"T_c24ef_row35_col1\" class=\"data row35 col1\" >g/m^3</td>\n",
       "      <td id=\"T_c24ef_row35_col2\" class=\"data row35 col2\" >Sigma based on density</td>\n",
       "      <td id=\"T_c24ef_row35_col3\" class=\"data row35 col3\" >sea_water_sigma_t</td>\n",
       "      <td id=\"T_c24ef_row35_col4\" class=\"data row35 col4\" >float32</td>\n",
       "    </tr>\n",
       "    <tr>\n",
       "      <th id=\"T_c24ef_level0_row36\" class=\"row_heading level0 row36\" >SIGTHETA</th>\n",
       "      <td id=\"T_c24ef_row36_col0\" class=\"data row36 col0\" >N_MEASUREMENTS</td>\n",
       "      <td id=\"T_c24ef_row36_col1\" class=\"data row36 col1\" >g/m^3</td>\n",
       "      <td id=\"T_c24ef_row36_col2\" class=\"data row36 col2\" ></td>\n",
       "      <td id=\"T_c24ef_row36_col3\" class=\"data row36 col3\" >sea_water_sigma_theta</td>\n",
       "      <td id=\"T_c24ef_row36_col4\" class=\"data row36 col4\" >float32</td>\n",
       "    </tr>\n",
       "    <tr>\n",
       "      <th id=\"T_c24ef_level0_row37\" class=\"row_heading level0 row37\" >TEMP</th>\n",
       "      <td id=\"T_c24ef_row37_col0\" class=\"data row37 col0\" >N_MEASUREMENTS</td>\n",
       "      <td id=\"T_c24ef_row37_col1\" class=\"data row37 col1\" >degrees_Celsius</td>\n",
       "      <td id=\"T_c24ef_row37_col2\" class=\"data row37 col2\" >Termperature (in situ) corrected for thermistor first-order lag</td>\n",
       "      <td id=\"T_c24ef_row37_col3\" class=\"data row37 col3\" >sea_water_temperature</td>\n",
       "      <td id=\"T_c24ef_row37_col4\" class=\"data row37 col4\" >float32</td>\n",
       "    </tr>\n",
       "    <tr>\n",
       "      <th id=\"T_c24ef_level0_row38\" class=\"row_heading level0 row38\" >TEMP_QC</th>\n",
       "      <td id=\"T_c24ef_row38_col0\" class=\"data row38 col0\" >N_MEASUREMENTS</td>\n",
       "      <td id=\"T_c24ef_row38_col1\" class=\"data row38 col1\" ></td>\n",
       "      <td id=\"T_c24ef_row38_col2\" class=\"data row38 col2\" >Whether to trust each corrected temperature value</td>\n",
       "      <td id=\"T_c24ef_row38_col3\" class=\"data row38 col3\" >status_flag</td>\n",
       "      <td id=\"T_c24ef_row38_col4\" class=\"data row38 col4\" >float32</td>\n",
       "    </tr>\n",
       "    <tr>\n",
       "      <th id=\"T_c24ef_level0_row39\" class=\"row_heading level0 row39\" >TEMP_RAW</th>\n",
       "      <td id=\"T_c24ef_row39_col0\" class=\"data row39 col0\" >N_MEASUREMENTS</td>\n",
       "      <td id=\"T_c24ef_row39_col1\" class=\"data row39 col1\" >degrees_Celsius</td>\n",
       "      <td id=\"T_c24ef_row39_col2\" class=\"data row39 col2\" >Uncorrected temperature (in situ)</td>\n",
       "      <td id=\"T_c24ef_row39_col3\" class=\"data row39 col3\" ></td>\n",
       "      <td id=\"T_c24ef_row39_col4\" class=\"data row39 col4\" >float32</td>\n",
       "    </tr>\n",
       "    <tr>\n",
       "      <th id=\"T_c24ef_level0_row40\" class=\"row_heading level0 row40\" >TEMP_RAW_QC</th>\n",
       "      <td id=\"T_c24ef_row40_col0\" class=\"data row40 col0\" >N_MEASUREMENTS</td>\n",
       "      <td id=\"T_c24ef_row40_col1\" class=\"data row40 col1\" ></td>\n",
       "      <td id=\"T_c24ef_row40_col2\" class=\"data row40 col2\" >Whether to trust each raw temperature value</td>\n",
       "      <td id=\"T_c24ef_row40_col3\" class=\"data row40 col3\" >status_flag</td>\n",
       "      <td id=\"T_c24ef_row40_col4\" class=\"data row40 col4\" >float32</td>\n",
       "    </tr>\n",
       "    <tr>\n",
       "      <th id=\"T_c24ef_level0_row41\" class=\"row_heading level0 row41\" >THETA</th>\n",
       "      <td id=\"T_c24ef_row41_col0\" class=\"data row41 col0\" >N_MEASUREMENTS</td>\n",
       "      <td id=\"T_c24ef_row41_col1\" class=\"data row41 col1\" >degrees_Celsius</td>\n",
       "      <td id=\"T_c24ef_row41_col2\" class=\"data row41 col2\" >Potential temperature based on corrected salinity</td>\n",
       "      <td id=\"T_c24ef_row41_col3\" class=\"data row41 col3\" >sea_water_potential_temperature</td>\n",
       "      <td id=\"T_c24ef_row41_col4\" class=\"data row41 col4\" >float32</td>\n",
       "    </tr>\n",
       "    <tr>\n",
       "      <th id=\"T_c24ef_level0_row42\" class=\"row_heading level0 row42\" >TIME</th>\n",
       "      <td id=\"T_c24ef_row42_col0\" class=\"data row42 col0\" >N_MEASUREMENTS</td>\n",
       "      <td id=\"T_c24ef_row42_col1\" class=\"data row42 col1\" >seconds since 1970-01-01T00:00:00Z</td>\n",
       "      <td id=\"T_c24ef_row42_col2\" class=\"data row42 col2\" >Time of CTD sample in GMT epoch format</td>\n",
       "      <td id=\"T_c24ef_row42_col3\" class=\"data row42 col3\" >time</td>\n",
       "      <td id=\"T_c24ef_row42_col4\" class=\"data row42 col4\" >datetime64[ns]</td>\n",
       "    </tr>\n",
       "    <tr>\n",
       "      <th id=\"T_c24ef_level0_row43\" class=\"row_heading level0 row43\" >TIME_DOXY</th>\n",
       "      <td id=\"T_c24ef_row43_col0\" class=\"data row43 col0\" >N_MEASUREMENTS</td>\n",
       "      <td id=\"T_c24ef_row43_col1\" class=\"data row43 col1\" ></td>\n",
       "      <td id=\"T_c24ef_row43_col2\" class=\"data row43 col2\" >time for Aanderaa 4330 in GMT epoch format</td>\n",
       "      <td id=\"T_c24ef_row43_col3\" class=\"data row43 col3\" >time</td>\n",
       "      <td id=\"T_c24ef_row43_col4\" class=\"data row43 col4\" >datetime64[ns]</td>\n",
       "    </tr>\n",
       "    <tr>\n",
       "      <th id=\"T_c24ef_level0_row44\" class=\"row_heading level0 row44\" >VBD_CC</th>\n",
       "      <td id=\"T_c24ef_row44_col0\" class=\"data row44 col0\" >N_MEASUREMENTS</td>\n",
       "      <td id=\"T_c24ef_row44_col1\" class=\"data row44 col1\" ></td>\n",
       "      <td id=\"T_c24ef_row44_col2\" class=\"data row44 col2\" ></td>\n",
       "      <td id=\"T_c24ef_row44_col3\" class=\"data row44 col3\" ></td>\n",
       "      <td id=\"T_c24ef_row44_col4\" class=\"data row44 col4\" >float32</td>\n",
       "    </tr>\n",
       "    <tr>\n",
       "      <th id=\"T_c24ef_level0_row45\" class=\"row_heading level0 row45\" >aanderaa4330_instrument_dissolved_oxygen</th>\n",
       "      <td id=\"T_c24ef_row45_col0\" class=\"data row45 col0\" >N_MEASUREMENTS</td>\n",
       "      <td id=\"T_c24ef_row45_col1\" class=\"data row45 col1\" >micromoles/kg</td>\n",
       "      <td id=\"T_c24ef_row45_col2\" class=\"data row45 col2\" >Dissolved oxygen concentration reported from optode corrected for salinity</td>\n",
       "      <td id=\"T_c24ef_row45_col3\" class=\"data row45 col3\" ></td>\n",
       "      <td id=\"T_c24ef_row45_col4\" class=\"data row45 col4\" >float32</td>\n",
       "    </tr>\n",
       "    <tr>\n",
       "      <th id=\"T_c24ef_level0_row46\" class=\"row_heading level0 row46\" >absolute_salinity</th>\n",
       "      <td id=\"T_c24ef_row46_col0\" class=\"data row46 col0\" >N_MEASUREMENTS</td>\n",
       "      <td id=\"T_c24ef_row46_col1\" class=\"data row46 col1\" >g/kg</td>\n",
       "      <td id=\"T_c24ef_row46_col2\" class=\"data row46 col2\" >Absolute salinity per TEOS-10</td>\n",
       "      <td id=\"T_c24ef_row46_col3\" class=\"data row46 col3\" ></td>\n",
       "      <td id=\"T_c24ef_row46_col4\" class=\"data row46 col4\" >float32</td>\n",
       "    </tr>\n",
       "    <tr>\n",
       "      <th id=\"T_c24ef_level0_row47\" class=\"row_heading level0 row47\" >buoyancy</th>\n",
       "      <td id=\"T_c24ef_row47_col0\" class=\"data row47 col0\" >N_MEASUREMENTS</td>\n",
       "      <td id=\"T_c24ef_row47_col1\" class=\"data row47 col1\" >g</td>\n",
       "      <td id=\"T_c24ef_row47_col2\" class=\"data row47 col2\" >Buoyancy of vehicle, corrected for compression effects</td>\n",
       "      <td id=\"T_c24ef_row47_col3\" class=\"data row47 col3\" ></td>\n",
       "      <td id=\"T_c24ef_row47_col4\" class=\"data row47 col4\" >float32</td>\n",
       "    </tr>\n",
       "    <tr>\n",
       "      <th id=\"T_c24ef_level0_row48\" class=\"row_heading level0 row48\" >conservative_temperature</th>\n",
       "      <td id=\"T_c24ef_row48_col0\" class=\"data row48 col0\" >N_MEASUREMENTS</td>\n",
       "      <td id=\"T_c24ef_row48_col1\" class=\"data row48 col1\" >degrees_Celsius</td>\n",
       "      <td id=\"T_c24ef_row48_col2\" class=\"data row48 col2\" >Conservative termperature per TEOS-10</td>\n",
       "      <td id=\"T_c24ef_row48_col3\" class=\"data row48 col3\" ></td>\n",
       "      <td id=\"T_c24ef_row48_col4\" class=\"data row48 col4\" >float32</td>\n",
       "    </tr>\n",
       "    <tr>\n",
       "      <th id=\"T_c24ef_level0_row49\" class=\"row_heading level0 row49\" >ctd_pressure</th>\n",
       "      <td id=\"T_c24ef_row49_col0\" class=\"data row49 col0\" >N_MEASUREMENTS</td>\n",
       "      <td id=\"T_c24ef_row49_col1\" class=\"data row49 col1\" >dbar</td>\n",
       "      <td id=\"T_c24ef_row49_col2\" class=\"data row49 col2\" >Pressure at CTD thermistor</td>\n",
       "      <td id=\"T_c24ef_row49_col3\" class=\"data row49 col3\" >sea_water_pressure</td>\n",
       "      <td id=\"T_c24ef_row49_col4\" class=\"data row49 col4\" >float32</td>\n",
       "    </tr>\n",
       "    <tr>\n",
       "      <th id=\"T_c24ef_level0_row50\" class=\"row_heading level0 row50\" >density_insitu</th>\n",
       "      <td id=\"T_c24ef_row50_col0\" class=\"data row50 col0\" >N_MEASUREMENTS</td>\n",
       "      <td id=\"T_c24ef_row50_col1\" class=\"data row50 col1\" >g/m^3</td>\n",
       "      <td id=\"T_c24ef_row50_col2\" class=\"data row50 col2\" >Sea water in-situ density based on pressure</td>\n",
       "      <td id=\"T_c24ef_row50_col3\" class=\"data row50 col3\" ></td>\n",
       "      <td id=\"T_c24ef_row50_col4\" class=\"data row50 col4\" >float32</td>\n",
       "    </tr>\n",
       "    <tr>\n",
       "      <th id=\"T_c24ef_level0_row51\" class=\"row_heading level0 row51\" >divenum</th>\n",
       "      <td id=\"T_c24ef_row51_col0\" class=\"data row51 col0\" >N_MEASUREMENTS</td>\n",
       "      <td id=\"T_c24ef_row51_col1\" class=\"data row51 col1\" ></td>\n",
       "      <td id=\"T_c24ef_row51_col2\" class=\"data row51 col2\" ></td>\n",
       "      <td id=\"T_c24ef_row51_col3\" class=\"data row51 col3\" ></td>\n",
       "      <td id=\"T_c24ef_row51_col4\" class=\"data row51 col4\" >int32</td>\n",
       "    </tr>\n",
       "    <tr>\n",
       "      <th id=\"T_c24ef_level0_row52\" class=\"row_heading level0 row52\" >eng_GC_phase</th>\n",
       "      <td id=\"T_c24ef_row52_col0\" class=\"data row52 col0\" >N_MEASUREMENTS</td>\n",
       "      <td id=\"T_c24ef_row52_col1\" class=\"data row52 col1\" ></td>\n",
       "      <td id=\"T_c24ef_row52_col2\" class=\"data row52 col2\" ></td>\n",
       "      <td id=\"T_c24ef_row52_col3\" class=\"data row52 col3\" ></td>\n",
       "      <td id=\"T_c24ef_row52_col4\" class=\"data row52 col4\" >float32</td>\n",
       "    </tr>\n",
       "    <tr>\n",
       "      <th id=\"T_c24ef_level0_row53\" class=\"row_heading level0 row53\" >eng_aa4330_AirSat</th>\n",
       "      <td id=\"T_c24ef_row53_col0\" class=\"data row53 col0\" >N_MEASUREMENTS</td>\n",
       "      <td id=\"T_c24ef_row53_col1\" class=\"data row53 col1\" ></td>\n",
       "      <td id=\"T_c24ef_row53_col2\" class=\"data row53 col2\" >As reported by the instrument</td>\n",
       "      <td id=\"T_c24ef_row53_col3\" class=\"data row53 col3\" ></td>\n",
       "      <td id=\"T_c24ef_row53_col4\" class=\"data row53 col4\" >float32</td>\n",
       "    </tr>\n",
       "    <tr>\n",
       "      <th id=\"T_c24ef_level0_row54\" class=\"row_heading level0 row54\" >eng_aa4330_CalPhase</th>\n",
       "      <td id=\"T_c24ef_row54_col0\" class=\"data row54 col0\" >N_MEASUREMENTS</td>\n",
       "      <td id=\"T_c24ef_row54_col1\" class=\"data row54 col1\" ></td>\n",
       "      <td id=\"T_c24ef_row54_col2\" class=\"data row54 col2\" >As reported by the instrument</td>\n",
       "      <td id=\"T_c24ef_row54_col3\" class=\"data row54 col3\" ></td>\n",
       "      <td id=\"T_c24ef_row54_col4\" class=\"data row54 col4\" >float32</td>\n",
       "    </tr>\n",
       "    <tr>\n",
       "      <th id=\"T_c24ef_level0_row55\" class=\"row_heading level0 row55\" >eng_aa4330_O2</th>\n",
       "      <td id=\"T_c24ef_row55_col0\" class=\"data row55 col0\" >N_MEASUREMENTS</td>\n",
       "      <td id=\"T_c24ef_row55_col1\" class=\"data row55 col1\" >micromoles/L</td>\n",
       "      <td id=\"T_c24ef_row55_col2\" class=\"data row55 col2\" >Dissolved oxygen as reported by the instument, based on on-board calibration data, assuming optode temperature but without depth or salinity correction</td>\n",
       "      <td id=\"T_c24ef_row55_col3\" class=\"data row55 col3\" ></td>\n",
       "      <td id=\"T_c24ef_row55_col4\" class=\"data row55 col4\" >float32</td>\n",
       "    </tr>\n",
       "    <tr>\n",
       "      <th id=\"T_c24ef_level0_row56\" class=\"row_heading level0 row56\" >eng_aa4330_TCPhase</th>\n",
       "      <td id=\"T_c24ef_row56_col0\" class=\"data row56 col0\" >N_MEASUREMENTS</td>\n",
       "      <td id=\"T_c24ef_row56_col1\" class=\"data row56 col1\" ></td>\n",
       "      <td id=\"T_c24ef_row56_col2\" class=\"data row56 col2\" >As reported by the instrument</td>\n",
       "      <td id=\"T_c24ef_row56_col3\" class=\"data row56 col3\" ></td>\n",
       "      <td id=\"T_c24ef_row56_col4\" class=\"data row56 col4\" >float32</td>\n",
       "    </tr>\n",
       "    <tr>\n",
       "      <th id=\"T_c24ef_level0_row57\" class=\"row_heading level0 row57\" >eng_aa4330_Temp</th>\n",
       "      <td id=\"T_c24ef_row57_col0\" class=\"data row57 col0\" >N_MEASUREMENTS</td>\n",
       "      <td id=\"T_c24ef_row57_col1\" class=\"data row57 col1\" >degrees_Celsius</td>\n",
       "      <td id=\"T_c24ef_row57_col2\" class=\"data row57 col2\" >As reported by the instrument</td>\n",
       "      <td id=\"T_c24ef_row57_col3\" class=\"data row57 col3\" ></td>\n",
       "      <td id=\"T_c24ef_row57_col4\" class=\"data row57 col4\" >float32</td>\n",
       "    </tr>\n",
       "    <tr>\n",
       "      <th id=\"T_c24ef_level0_row58\" class=\"row_heading level0 row58\" >eng_rec</th>\n",
       "      <td id=\"T_c24ef_row58_col0\" class=\"data row58 col0\" >N_MEASUREMENTS</td>\n",
       "      <td id=\"T_c24ef_row58_col1\" class=\"data row58 col1\" ></td>\n",
       "      <td id=\"T_c24ef_row58_col2\" class=\"data row58 col2\" ></td>\n",
       "      <td id=\"T_c24ef_row58_col3\" class=\"data row58 col3\" ></td>\n",
       "      <td id=\"T_c24ef_row58_col4\" class=\"data row58 col4\" >float32</td>\n",
       "    </tr>\n",
       "    <tr>\n",
       "      <th id=\"T_c24ef_level0_row59\" class=\"row_heading level0 row59\" >PLATFORM_MODEL</th>\n",
       "      <td id=\"T_c24ef_row59_col0\" class=\"data row59 col0\" >string</td>\n",
       "      <td id=\"T_c24ef_row59_col1\" class=\"data row59 col1\" ></td>\n",
       "      <td id=\"T_c24ef_row59_col2\" class=\"data row59 col2\" ></td>\n",
       "      <td id=\"T_c24ef_row59_col3\" class=\"data row59 col3\" ></td>\n",
       "      <td id=\"T_c24ef_row59_col4\" class=\"data row59 col4\" ><U44</td>\n",
       "    </tr>\n",
       "    <tr>\n",
       "      <th id=\"T_c24ef_level0_row60\" class=\"row_heading level0 row60\" >PLATFORM_SERIAL_NUMBER</th>\n",
       "      <td id=\"T_c24ef_row60_col0\" class=\"data row60 col0\" >string</td>\n",
       "      <td id=\"T_c24ef_row60_col1\" class=\"data row60 col1\" ></td>\n",
       "      <td id=\"T_c24ef_row60_col2\" class=\"data row60 col2\" ></td>\n",
       "      <td id=\"T_c24ef_row60_col3\" class=\"data row60 col3\" ></td>\n",
       "      <td id=\"T_c24ef_row60_col4\" class=\"data row60 col4\" ><U5</td>\n",
       "    </tr>\n",
       "    <tr>\n",
       "      <th id=\"T_c24ef_level0_row61\" class=\"row_heading level0 row61\" >TRAJECTORY</th>\n",
       "      <td id=\"T_c24ef_row61_col0\" class=\"data row61 col0\" >string</td>\n",
       "      <td id=\"T_c24ef_row61_col1\" class=\"data row61 col1\" ></td>\n",
       "      <td id=\"T_c24ef_row61_col2\" class=\"data row61 col2\" ></td>\n",
       "      <td id=\"T_c24ef_row61_col3\" class=\"data row61 col3\" ></td>\n",
       "      <td id=\"T_c24ef_row61_col4\" class=\"data row61 col4\" ><U21</td>\n",
       "    </tr>\n",
       "    <tr>\n",
       "      <th id=\"T_c24ef_level0_row62\" class=\"row_heading level0 row62\" >WMO_IDENTIFIER</th>\n",
       "      <td id=\"T_c24ef_row62_col0\" class=\"data row62 col0\" >string</td>\n",
       "      <td id=\"T_c24ef_row62_col1\" class=\"data row62 col1\" ></td>\n",
       "      <td id=\"T_c24ef_row62_col2\" class=\"data row62 col2\" ></td>\n",
       "      <td id=\"T_c24ef_row62_col3\" class=\"data row62 col3\" ></td>\n",
       "      <td id=\"T_c24ef_row62_col4\" class=\"data row62 col4\" ><U7</td>\n",
       "    </tr>\n",
       "  </tbody>\n",
       "</table>\n"
      ],
      "text/plain": [
       "<pandas.io.formats.style.Styler at 0x7f491588d940>"
      ]
     },
     "execution_count": 10,
     "metadata": {},
     "output_type": "execute_result"
    }
   ],
   "source": [
    "# Print to screen a table of the variables and variable attributes\n",
    "plotters.show_contents(ds_OG1,'variables')"
   ]
  },
  {
   "cell_type": "markdown",
   "id": "dc0a27f3",
   "metadata": {},
   "source": [
    "### Convert mission from a local directory of basestation files\n",
    "\n",
    "- For local data in the directory `input_dir`\n",
    "- Creates a plot of ctd_depth against ctd_time.\n"
   ]
  },
  {
   "cell_type": "code",
   "execution_count": 11,
   "id": "9d202485",
   "metadata": {
    "execution": {
     "iopub.execute_input": "2025-09-21T14:14:31.949554Z",
     "iopub.status.busy": "2025-09-21T14:14:31.949287Z",
     "iopub.status.idle": "2025-09-21T14:14:34.775097Z",
     "shell.execute_reply": "2025-09-21T14:14:34.774584Z"
    }
   },
   "outputs": [
    {
     "name": "stderr",
     "output_type": "stream",
     "text": [
      "\r",
      "Loading datasets:   0%|          | 0/5 [00:00<?, ?file/s]"
     ]
    },
    {
     "name": "stderr",
     "output_type": "stream",
     "text": [
      "\r",
      "Loading datasets:  80%|████████  | 4/5 [00:00<00:00, 38.92file/s]"
     ]
    },
    {
     "name": "stderr",
     "output_type": "stream",
     "text": [
      "\r",
      "Loading datasets: 100%|██████████| 5/5 [00:00<00:00, 38.68file/s]"
     ]
    },
    {
     "name": "stderr",
     "output_type": "stream",
     "text": [
      "\n"
     ]
    },
    {
     "name": "stderr",
     "output_type": "stream",
     "text": [
      "\r",
      "Processing datasets:   0%|          | 0/5 [00:00<?, ?dataset/s]"
     ]
    },
    {
     "name": "stderr",
     "output_type": "stream",
     "text": [
      "Variable 'vert_speed_gsm' not in OG1 vocabulary.\n"
     ]
    },
    {
     "name": "stderr",
     "output_type": "stream",
     "text": [
      "Variable 'speed_gsm' not in OG1 vocabulary.\n"
     ]
    },
    {
     "name": "stderr",
     "output_type": "stream",
     "text": [
      "Variable 'sound_velocity' not in OG1 vocabulary.\n"
     ]
    },
    {
     "name": "stderr",
     "output_type": "stream",
     "text": [
      "No conversion information found for micromoles/kg to micromoles/kg\n"
     ]
    },
    {
     "name": "stderr",
     "output_type": "stream",
     "text": [
      "Variable 'north_displacement_gsm' not in OG1 vocabulary.\n"
     ]
    },
    {
     "name": "stderr",
     "output_type": "stream",
     "text": [
      "Variable 'longitude_gsm' not in OG1 vocabulary.\n"
     ]
    },
    {
     "name": "stderr",
     "output_type": "stream",
     "text": [
      "Variable 'latitude_gsm' not in OG1 vocabulary.\n"
     ]
    },
    {
     "name": "stderr",
     "output_type": "stream",
     "text": [
      "Variable 'horz_speed_gsm' not in OG1 vocabulary.\n"
     ]
    },
    {
     "name": "stderr",
     "output_type": "stream",
     "text": [
      "Variable 'glide_angle_gsm' not in OG1 vocabulary.\n"
     ]
    },
    {
     "name": "stderr",
     "output_type": "stream",
     "text": [
      "No conversion information found for cm s-1 to cm s-1\n"
     ]
    },
    {
     "name": "stderr",
     "output_type": "stream",
     "text": [
      "Variable 'eng_wlbb2f_VFtemp' not in OG1 vocabulary.\n"
     ]
    },
    {
     "name": "stderr",
     "output_type": "stream",
     "text": [
      "Variable 'eng_tempFreq' not in OG1 vocabulary.\n"
     ]
    },
    {
     "name": "stderr",
     "output_type": "stream",
     "text": [
      "Variable 'eng_sbe43_O2Freq' not in OG1 vocabulary.\n"
     ]
    },
    {
     "name": "stderr",
     "output_type": "stream",
     "text": [
      "Variable 'eng_elaps_t_0000' not in OG1 vocabulary.\n"
     ]
    },
    {
     "name": "stderr",
     "output_type": "stream",
     "text": [
      "Variable 'eng_elaps_t' not in OG1 vocabulary.\n"
     ]
    },
    {
     "name": "stderr",
     "output_type": "stream",
     "text": [
      "Variable 'eng_depth' not in OG1 vocabulary.\n"
     ]
    },
    {
     "name": "stderr",
     "output_type": "stream",
     "text": [
      "Variable 'eng_condFreq' not in OG1 vocabulary.\n"
     ]
    },
    {
     "name": "stderr",
     "output_type": "stream",
     "text": [
      "Variable 'east_displacement_gsm' not in OG1 vocabulary.\n"
     ]
    },
    {
     "name": "stderr",
     "output_type": "stream",
     "text": [
      "No conversion information found for micromoles/kg to micromoles/kg\n"
     ]
    },
    {
     "name": "stderr",
     "output_type": "stream",
     "text": [
      "Variable 'depth' not in OG1 vocabulary.\n"
     ]
    },
    {
     "name": "stderr",
     "output_type": "stream",
     "text": [
      "Variable 'density' not in OG1 vocabulary.\n"
     ]
    },
    {
     "name": "stderr",
     "output_type": "stream",
     "text": [
      "Variable 'buoyancy' not in OG1 vocabulary.\n"
     ]
    },
    {
     "name": "stderr",
     "output_type": "stream",
     "text": [
      "\r",
      "Processing datasets:  20%|██        | 1/5 [00:00<00:02,  1.98dataset/s]"
     ]
    },
    {
     "name": "stderr",
     "output_type": "stream",
     "text": [
      "\r",
      "Processing datasets:  40%|████      | 2/5 [00:00<00:01,  2.01dataset/s]"
     ]
    },
    {
     "name": "stderr",
     "output_type": "stream",
     "text": [
      "\r",
      "Processing datasets:  60%|██████    | 3/5 [00:01<00:00,  2.02dataset/s]"
     ]
    },
    {
     "name": "stderr",
     "output_type": "stream",
     "text": [
      "\r",
      "Processing datasets:  80%|████████  | 4/5 [00:01<00:00,  2.02dataset/s]"
     ]
    },
    {
     "name": "stderr",
     "output_type": "stream",
     "text": [
      "\r",
      "Processing datasets: 100%|██████████| 5/5 [00:02<00:00,  2.03dataset/s]"
     ]
    },
    {
     "name": "stderr",
     "output_type": "stream",
     "text": [
      "\r",
      "Processing datasets: 100%|██████████| 5/5 [00:02<00:00,  2.02dataset/s]"
     ]
    },
    {
     "name": "stderr",
     "output_type": "stream",
     "text": [
      "\n"
     ]
    },
    {
     "data": {
      "image/png": "[encoded data removed]",
      "text/plain": [
       "<Figure size 1000x600 with 1 Axes>"
      ]
     },
     "metadata": {},
     "output_type": "display_data"
    },
    {
     "name": "stdout",
     "output_type": "stream",
     "text": [
      "information is based on xarray Dataset\n"
     ]
    },
    {
     "data": {
      "text/html": [
       "<div>\n",
       "<style scoped>\n",
       "    .dataframe tbody tr th:only-of-type {\n",
       "        vertical-align: middle;\n",
       "    }\n",
       "\n",
       "    .dataframe tbody tr th {\n",
       "        vertical-align: top;\n",
       "    }\n",
       "\n",
       "    .dataframe thead th {\n",
       "        text-align: right;\n",
       "    }\n",
       "</style>\n",
       "<table border=\"1\" class=\"dataframe\">\n",
       "  <thead>\n",
       "    <tr style=\"text-align: right;\">\n",
       "      <th></th>\n",
       "      <th>Attribute</th>\n",
       "      <th>Value</th>\n",
       "      <th>DType</th>\n",
       "    </tr>\n",
       "  </thead>\n",
       "  <tbody>\n",
       "    <tr>\n",
       "      <th>0</th>\n",
       "      <td>title</td>\n",
       "      <td>OceanGliders trajectory file</td>\n",
       "      <td>str</td>\n",
       "    </tr>\n",
       "    <tr>\n",
       "      <th>1</th>\n",
       "      <td>id</td>\n",
       "      <td>sg005_20080606T180738_delayed</td>\n",
       "      <td>str</td>\n",
       "    </tr>\n",
       "    <tr>\n",
       "      <th>2</th>\n",
       "      <td>platform</td>\n",
       "      <td>sub-surface gliders</td>\n",
       "      <td>str</td>\n",
       "    </tr>\n",
       "    <tr>\n",
       "      <th>3</th>\n",
       "      <td>platform_vocabulary</td>\n",
       "      <td>https://vocab.nerc.ac.uk/collection/L06/curren...</td>\n",
       "      <td>str</td>\n",
       "    </tr>\n",
       "    <tr>\n",
       "      <th>4</th>\n",
       "      <td>naming_authority</td>\n",
       "      <td>edu.washington.apl</td>\n",
       "      <td>str</td>\n",
       "    </tr>\n",
       "    <tr>\n",
       "      <th>5</th>\n",
       "      <td>institution</td>\n",
       "      <td>School of Oceanography\\nUniversity of Washingt...</td>\n",
       "      <td>str</td>\n",
       "    </tr>\n",
       "    <tr>\n",
       "      <th>6</th>\n",
       "      <td>geospatial_lat_min</td>\n",
       "      <td>61.41231666666666</td>\n",
       "      <td>ndarray</td>\n",
       "    </tr>\n",
       "    <tr>\n",
       "      <th>7</th>\n",
       "      <td>geospatial_lat_max</td>\n",
       "      <td>61.57591666666667</td>\n",
       "      <td>ndarray</td>\n",
       "    </tr>\n",
       "    <tr>\n",
       "      <th>8</th>\n",
       "      <td>geospatial_lon_min</td>\n",
       "      <td>-8.747133333333332</td>\n",
       "      <td>ndarray</td>\n",
       "    </tr>\n",
       "    <tr>\n",
       "      <th>9</th>\n",
       "      <td>geospatial_lon_max</td>\n",
       "      <td>-8.273983333333332</td>\n",
       "      <td>ndarray</td>\n",
       "    </tr>\n",
       "    <tr>\n",
       "      <th>10</th>\n",
       "      <td>geospatial_vertical_min</td>\n",
       "      <td>-0.3214989667970032</td>\n",
       "      <td>ndarray</td>\n",
       "    </tr>\n",
       "    <tr>\n",
       "      <th>11</th>\n",
       "      <td>geospatial_vertical_max</td>\n",
       "      <td>845.8311973927603</td>\n",
       "      <td>ndarray</td>\n",
       "    </tr>\n",
       "    <tr>\n",
       "      <th>12</th>\n",
       "      <td>time_coverage_start</td>\n",
       "      <td>20080606T180256</td>\n",
       "      <td>str</td>\n",
       "    </tr>\n",
       "    <tr>\n",
       "      <th>13</th>\n",
       "      <td>time_coverage_end</td>\n",
       "      <td>20080607T080838</td>\n",
       "      <td>str</td>\n",
       "    </tr>\n",
       "    <tr>\n",
       "      <th>14</th>\n",
       "      <td>site</td>\n",
       "      <td>Multiple transects of Faroe-Iceland Ridge uppe...</td>\n",
       "      <td>str</td>\n",
       "    </tr>\n",
       "    <tr>\n",
       "      <th>15</th>\n",
       "      <td>project</td>\n",
       "      <td>Iceland Scotland Ridge June 2008</td>\n",
       "      <td>str</td>\n",
       "    </tr>\n",
       "    <tr>\n",
       "      <th>16</th>\n",
       "      <td>contributor_name</td>\n",
       "      <td>Charlie Eriksen, Peter Rhines</td>\n",
       "      <td>str</td>\n",
       "    </tr>\n",
       "    <tr>\n",
       "      <th>17</th>\n",
       "      <td>contributor_role</td>\n",
       "      <td>PI, Principal investigator</td>\n",
       "      <td>str</td>\n",
       "    </tr>\n",
       "    <tr>\n",
       "      <th>18</th>\n",
       "      <td>contributor_role_vocabulary</td>\n",
       "      <td>http://vocab.nerc.ac.uk/search_nvs/W08,</td>\n",
       "      <td>str</td>\n",
       "    </tr>\n",
       "    <tr>\n",
       "      <th>19</th>\n",
       "      <td>contributor_email</td>\n",
       "      <td>eriksen@uw.edu,</td>\n",
       "      <td>str</td>\n",
       "    </tr>\n",
       "    <tr>\n",
       "      <th>20</th>\n",
       "      <td>contributing_institutions</td>\n",
       "      <td>University of Washington - School of Oceanogra...</td>\n",
       "      <td>str</td>\n",
       "    </tr>\n",
       "    <tr>\n",
       "      <th>21</th>\n",
       "      <td>contributing_institutions_vocabulary</td>\n",
       "      <td>https://edmo.seadatanet.org/report/1434,</td>\n",
       "      <td>str</td>\n",
       "    </tr>\n",
       "    <tr>\n",
       "      <th>22</th>\n",
       "      <td>contributing_institutions_role</td>\n",
       "      <td>PI,</td>\n",
       "      <td>str</td>\n",
       "    </tr>\n",
       "    <tr>\n",
       "      <th>23</th>\n",
       "      <td>contributing_institutions_role_vocabulary</td>\n",
       "      <td>http://vocab.nerc.ac.uk/collection/W08/current/,</td>\n",
       "      <td>str</td>\n",
       "    </tr>\n",
       "    <tr>\n",
       "      <th>24</th>\n",
       "      <td>uri</td>\n",
       "      <td>9e33a22e-a959-11e3-b35f-0026bb609360</td>\n",
       "      <td>str</td>\n",
       "    </tr>\n",
       "    <tr>\n",
       "      <th>25</th>\n",
       "      <td>rtqc_method</td>\n",
       "      <td>No QC applied</td>\n",
       "      <td>str</td>\n",
       "    </tr>\n",
       "    <tr>\n",
       "      <th>26</th>\n",
       "      <td>rtqc_method_doi</td>\n",
       "      <td>n/a</td>\n",
       "      <td>str</td>\n",
       "    </tr>\n",
       "    <tr>\n",
       "      <th>27</th>\n",
       "      <td>comment</td>\n",
       "      <td>Processing start:\\n20:13:32 11 Mar 2014 UTC: I...</td>\n",
       "      <td>str</td>\n",
       "    </tr>\n",
       "    <tr>\n",
       "      <th>28</th>\n",
       "      <td>start_date</td>\n",
       "      <td>20080606T180738</td>\n",
       "      <td>str</td>\n",
       "    </tr>\n",
       "    <tr>\n",
       "      <th>29</th>\n",
       "      <td>date_created</td>\n",
       "      <td>20140311T200332</td>\n",
       "      <td>str</td>\n",
       "    </tr>\n",
       "    <tr>\n",
       "      <th>30</th>\n",
       "      <td>featureType</td>\n",
       "      <td>trajectoryProfile</td>\n",
       "      <td>str</td>\n",
       "    </tr>\n",
       "    <tr>\n",
       "      <th>31</th>\n",
       "      <td>Conventions</td>\n",
       "      <td>CF-1.10,OG-1.0</td>\n",
       "      <td>str</td>\n",
       "    </tr>\n",
       "    <tr>\n",
       "      <th>32</th>\n",
       "      <td>date_modified</td>\n",
       "      <td>20250921T141434</td>\n",
       "      <td>str</td>\n",
       "    </tr>\n",
       "    <tr>\n",
       "      <th>33</th>\n",
       "      <td>file_version</td>\n",
       "      <td>2.71</td>\n",
       "      <td>float32</td>\n",
       "    </tr>\n",
       "    <tr>\n",
       "      <th>34</th>\n",
       "      <td>keywords</td>\n",
       "      <td>Water Temperature, Conductivity, Salinity, Den...</td>\n",
       "      <td>str</td>\n",
       "    </tr>\n",
       "    <tr>\n",
       "      <th>35</th>\n",
       "      <td>disclaimer</td>\n",
       "      <td>Data provided AS-IS.</td>\n",
       "      <td>str</td>\n",
       "    </tr>\n",
       "    <tr>\n",
       "      <th>36</th>\n",
       "      <td>keywords_vocabulary</td>\n",
       "      <td>NASA/GCMD Earth Science Keywords Version 6.0.0.0</td>\n",
       "      <td>str</td>\n",
       "    </tr>\n",
       "    <tr>\n",
       "      <th>37</th>\n",
       "      <td>acknowledgment</td>\n",
       "      <td>National Science Foundation, OCE Division, Gra...</td>\n",
       "      <td>str</td>\n",
       "    </tr>\n",
       "    <tr>\n",
       "      <th>38</th>\n",
       "      <td>license</td>\n",
       "      <td>These data may be redistributed and used witho...</td>\n",
       "      <td>str</td>\n",
       "    </tr>\n",
       "    <tr>\n",
       "      <th>39</th>\n",
       "      <td>contributer_email</td>\n",
       "      <td>null@null.com</td>\n",
       "      <td>str</td>\n",
       "    </tr>\n",
       "  </tbody>\n",
       "</table>\n",
       "</div>"
      ],
      "text/plain": [
       "                                    Attribute  \\\n",
       "0                                       title   \n",
       "1                                          id   \n",
       "2                                    platform   \n",
       "3                         platform_vocabulary   \n",
       "4                            naming_authority   \n",
       "5                                 institution   \n",
       "6                          geospatial_lat_min   \n",
       "7                          geospatial_lat_max   \n",
       "8                          geospatial_lon_min   \n",
       "9                          geospatial_lon_max   \n",
       "10                    geospatial_vertical_min   \n",
       "11                    geospatial_vertical_max   \n",
       "12                        time_coverage_start   \n",
       "13                          time_coverage_end   \n",
       "14                                       site   \n",
       "15                                    project   \n",
       "16                           contributor_name   \n",
       "17                           contributor_role   \n",
       "18                contributor_role_vocabulary   \n",
       "19                          contributor_email   \n",
       "20                  contributing_institutions   \n",
       "21       contributing_institutions_vocabulary   \n",
       "22             contributing_institutions_role   \n",
       "23  contributing_institutions_role_vocabulary   \n",
       "24                                        uri   \n",
       "25                                rtqc_method   \n",
       "26                            rtqc_method_doi   \n",
       "27                                    comment   \n",
       "28                                 start_date   \n",
       "29                               date_created   \n",
       "30                                featureType   \n",
       "31                                Conventions   \n",
       "32                              date_modified   \n",
       "33                               file_version   \n",
       "34                                   keywords   \n",
       "35                                 disclaimer   \n",
       "36                        keywords_vocabulary   \n",
       "37                             acknowledgment   \n",
       "38                                    license   \n",
       "39                          contributer_email   \n",
       "\n",
       "                                                Value    DType  \n",
       "0                        OceanGliders trajectory file      str  \n",
       "1                       sg005_20080606T180738_delayed      str  \n",
       "2                                 sub-surface gliders      str  \n",
       "3   https://vocab.nerc.ac.uk/collection/L06/curren...      str  \n",
       "4                                  edu.washington.apl      str  \n",
       "5   School of Oceanography\\nUniversity of Washingt...      str  \n",
       "6                                   61.41231666666666  ndarray  \n",
       "7                                   61.57591666666667  ndarray  \n",
       "8                                  -8.747133333333332  ndarray  \n",
       "9                                  -8.273983333333332  ndarray  \n",
       "10                                -0.3214989667970032  ndarray  \n",
       "11                                  845.8311973927603  ndarray  \n",
       "12                                    20080606T180256      str  \n",
       "13                                    20080607T080838      str  \n",
       "14  Multiple transects of Faroe-Iceland Ridge uppe...      str  \n",
       "15                  Iceland Scotland Ridge June 2008       str  \n",
       "16                      Charlie Eriksen, Peter Rhines      str  \n",
       "17                         PI, Principal investigator      str  \n",
       "18           http://vocab.nerc.ac.uk/search_nvs/W08,       str  \n",
       "19                                   eriksen@uw.edu,       str  \n",
       "20  University of Washington - School of Oceanogra...      str  \n",
       "21          https://edmo.seadatanet.org/report/1434,       str  \n",
       "22                                               PI,       str  \n",
       "23  http://vocab.nerc.ac.uk/collection/W08/current/,       str  \n",
       "24               9e33a22e-a959-11e3-b35f-0026bb609360      str  \n",
       "25                                      No QC applied      str  \n",
       "26                                                n/a      str  \n",
       "27  Processing start:\\n20:13:32 11 Mar 2014 UTC: I...      str  \n",
       "28                                    20080606T180738      str  \n",
       "29                                    20140311T200332      str  \n",
       "30                                  trajectoryProfile      str  \n",
       "31                                     CF-1.10,OG-1.0      str  \n",
       "32                                    20250921T141434      str  \n",
       "33                                               2.71  float32  \n",
       "34  Water Temperature, Conductivity, Salinity, Den...      str  \n",
       "35                               Data provided AS-IS.      str  \n",
       "36   NASA/GCMD Earth Science Keywords Version 6.0.0.0      str  \n",
       "37  National Science Foundation, OCE Division, Gra...      str  \n",
       "38  These data may be redistributed and used witho...      str  \n",
       "39                                      null@null.com      str  "
      ]
     },
     "execution_count": 11,
     "metadata": {},
     "output_type": "execute_result"
    }
   ],
   "source": [
    "# Specify the input directory on your local machine\n",
    "input_dir = data_path + '/demo_sg005' ### chose the input directory with your data\n",
    "\n",
    "# Load and concatenate all datasets in the input directory\n",
    "# Optionally, specify the range of profiles to load (start_profile, end_profile)\n",
    "list_datasets = readers.load_basestation_files(input_dir, start_profile=1, end_profile=5)\n",
    "\n",
    "# Convert the list of datasets to OG1\n",
    "ds_OG1, var_list = convertOG1.convert_to_OG1(list_datasets)\n",
    "\n",
    "# Generate a simple plot\n",
    "plotters.plot_profile_depth(ds_OG1)\n",
    "plotters.show_contents(ds_OG1,'attrs')"
   ]
  },
  {
   "cell_type": "markdown",
   "id": "fa3f9e81",
   "metadata": {},
   "source": [
    "### Convert mission from the NCEI server (with p*nc files)\n",
    "\n",
    "- Data from the sg015 mission in the Labrador Sea (https://www.ncei.noaa.gov/access/metadata/landing-page/bin/iso?id=gov.noaa.nodc:0111844), dataset identifier gov.noaa.nodc:0111844.\n"
   ]
  },
  {
   "cell_type": "code",
   "execution_count": 12,
   "id": "4ac290a2",
   "metadata": {
    "execution": {
     "iopub.execute_input": "2025-09-21T14:14:34.776810Z",
     "iopub.status.busy": "2025-09-21T14:14:34.776638Z",
     "iopub.status.idle": "2025-09-21T14:14:51.840140Z",
     "shell.execute_reply": "2025-09-21T14:14:51.839583Z"
    }
   },
   "outputs": [
    {
     "name": "stderr",
     "output_type": "stream",
     "text": [
      "\r",
      "Loading datasets:   0%|          | 0/19 [00:00<?, ?file/s]"
     ]
    },
    {
     "name": "stderr",
     "output_type": "stream",
     "text": [
      "\r",
      "Loading datasets:  21%|██        | 4/19 [00:00<00:00, 32.90file/s]"
     ]
    },
    {
     "name": "stderr",
     "output_type": "stream",
     "text": [
      "\r",
      "Loading datasets:  42%|████▏     | 8/19 [00:00<00:00, 33.62file/s]"
     ]
    },
    {
     "name": "stderr",
     "output_type": "stream",
     "text": [
      "Downloading file 'p0330011_20100905.nc' from 'https://www.ncei.noaa.gov/data/oceans/glider/seaglider/uw/033/20100903/p0330011_20100905.nc' to '/home/runner/.cache/seagliderOG1'.\n"
     ]
    },
    {
     "name": "stderr",
     "output_type": "stream",
     "text": [
      "Downloading file 'p0330012_20100905.nc' from 'https://www.ncei.noaa.gov/data/oceans/glider/seaglider/uw/033/20100903/p0330012_20100905.nc' to '/home/runner/.cache/seagliderOG1'.\n"
     ]
    },
    {
     "name": "stderr",
     "output_type": "stream",
     "text": [
      "\r",
      "Loading datasets:  63%|██████▎   | 12/19 [00:01<00:00,  7.73file/s]"
     ]
    },
    {
     "name": "stderr",
     "output_type": "stream",
     "text": [
      "Downloading file 'p0330013_20100906.nc' from 'https://www.ncei.noaa.gov/data/oceans/glider/seaglider/uw/033/20100903/p0330013_20100906.nc' to '/home/runner/.cache/seagliderOG1'.\n"
     ]
    },
    {
     "name": "stderr",
     "output_type": "stream",
     "text": [
      "Downloading file 'p0330014_20100906.nc' from 'https://www.ncei.noaa.gov/data/oceans/glider/seaglider/uw/033/20100903/p0330014_20100906.nc' to '/home/runner/.cache/seagliderOG1'.\n"
     ]
    },
    {
     "name": "stderr",
     "output_type": "stream",
     "text": [
      "\r",
      "Loading datasets:  79%|███████▉  | 15/19 [00:02<00:00,  5.01file/s]"
     ]
    },
    {
     "name": "stderr",
     "output_type": "stream",
     "text": [
      "Downloading file 'p0330016_20100906.nc' from 'https://www.ncei.noaa.gov/data/oceans/glider/seaglider/uw/033/20100903/p0330016_20100906.nc' to '/home/runner/.cache/seagliderOG1'.\n"
     ]
    },
    {
     "name": "stderr",
     "output_type": "stream",
     "text": [
      "Downloading file 'p0330017_20100906.nc' from 'https://www.ncei.noaa.gov/data/oceans/glider/seaglider/uw/033/20100903/p0330017_20100906.nc' to '/home/runner/.cache/seagliderOG1'.\n"
     ]
    },
    {
     "name": "stderr",
     "output_type": "stream",
     "text": [
      "\r",
      "Loading datasets:  89%|████████▉ | 17/19 [00:03<00:00,  3.80file/s]"
     ]
    },
    {
     "name": "stderr",
     "output_type": "stream",
     "text": [
      "Downloading file 'p0330018_20100906.nc' from 'https://www.ncei.noaa.gov/data/oceans/glider/seaglider/uw/033/20100903/p0330018_20100906.nc' to '/home/runner/.cache/seagliderOG1'.\n"
     ]
    },
    {
     "name": "stderr",
     "output_type": "stream",
     "text": [
      "\r",
      "Loading datasets:  95%|█████████▍| 18/19 [00:03<00:00,  3.41file/s]"
     ]
    },
    {
     "name": "stderr",
     "output_type": "stream",
     "text": [
      "Downloading file 'p0330019_20100906.nc' from 'https://www.ncei.noaa.gov/data/oceans/glider/seaglider/uw/033/20100903/p0330019_20100906.nc' to '/home/runner/.cache/seagliderOG1'.\n"
     ]
    },
    {
     "name": "stderr",
     "output_type": "stream",
     "text": [
      "\r",
      "Loading datasets: 100%|██████████| 19/19 [00:04<00:00,  3.09file/s]"
     ]
    },
    {
     "name": "stderr",
     "output_type": "stream",
     "text": [
      "\r",
      "Loading datasets: 100%|██████████| 19/19 [00:04<00:00,  4.60file/s]"
     ]
    },
    {
     "name": "stderr",
     "output_type": "stream",
     "text": [
      "\n"
     ]
    },
    {
     "name": "stderr",
     "output_type": "stream",
     "text": [
      "\r",
      "Processing datasets:   0%|          | 0/19 [00:00<?, ?dataset/s]"
     ]
    },
    {
     "name": "stderr",
     "output_type": "stream",
     "text": [
      "Variable 'eng_depth' not in OG1 vocabulary.\n"
     ]
    },
    {
     "name": "stderr",
     "output_type": "stream",
     "text": [
      "Variable 'eng_aa4330_Temp' not in OG1 vocabulary.\n"
     ]
    },
    {
     "name": "stderr",
     "output_type": "stream",
     "text": [
      "Variable 'longitude_gsm' not in OG1 vocabulary.\n"
     ]
    },
    {
     "name": "stderr",
     "output_type": "stream",
     "text": [
      "Variable 'speed_gsm' not in OG1 vocabulary.\n"
     ]
    },
    {
     "name": "stderr",
     "output_type": "stream",
     "text": [
      "Variable 'vert_speed_gsm' not in OG1 vocabulary.\n"
     ]
    },
    {
     "name": "stderr",
     "output_type": "stream",
     "text": [
      "Variable 'eng_aa4330_TCPhase' not in OG1 vocabulary.\n"
     ]
    },
    {
     "name": "stderr",
     "output_type": "stream",
     "text": [
      "Variable 'eng_sbect_tempFreq' not in OG1 vocabulary.\n"
     ]
    },
    {
     "name": "stderr",
     "output_type": "stream",
     "text": [
      "Variable 'eng_sbect_condFreq' not in OG1 vocabulary.\n"
     ]
    },
    {
     "name": "stderr",
     "output_type": "stream",
     "text": [
      "Variable 'eng_rec' not in OG1 vocabulary.\n"
     ]
    },
    {
     "name": "stderr",
     "output_type": "stream",
     "text": [
      "Variable 'north_displacement_gsm' not in OG1 vocabulary.\n"
     ]
    },
    {
     "name": "stderr",
     "output_type": "stream",
     "text": [
      "Variable 'horz_speed_gsm' not in OG1 vocabulary.\n"
     ]
    },
    {
     "name": "stderr",
     "output_type": "stream",
     "text": [
      "No conversion information found for micromoles/kg to micromoles/kg\n"
     ]
    },
    {
     "name": "stderr",
     "output_type": "stream",
     "text": [
      "Variable 'eng_aa4330_O2' not in OG1 vocabulary.\n"
     ]
    },
    {
     "name": "stderr",
     "output_type": "stream",
     "text": [
      "Variable 'eng_aa4330_AirSat' not in OG1 vocabulary.\n"
     ]
    },
    {
     "name": "stderr",
     "output_type": "stream",
     "text": [
      "Variable 'latitude_gsm' not in OG1 vocabulary.\n"
     ]
    },
    {
     "name": "stderr",
     "output_type": "stream",
     "text": [
      "Variable 'aanderaa4330_instrument_dissolved_oxygen' not in OG1 vocabulary.\n"
     ]
    },
    {
     "name": "stderr",
     "output_type": "stream",
     "text": [
      "Variable 'eng_elaps_t_0000' not in OG1 vocabulary.\n"
     ]
    },
    {
     "name": "stderr",
     "output_type": "stream",
     "text": [
      "Variable 'buoyancy' not in OG1 vocabulary.\n"
     ]
    },
    {
     "name": "stderr",
     "output_type": "stream",
     "text": [
      "Variable 'east_displacement_gsm' not in OG1 vocabulary.\n"
     ]
    },
    {
     "name": "stderr",
     "output_type": "stream",
     "text": [
      "Variable 'sound_velocity' not in OG1 vocabulary.\n"
     ]
    },
    {
     "name": "stderr",
     "output_type": "stream",
     "text": [
      "Variable 'density_insitu' not in OG1 vocabulary.\n"
     ]
    },
    {
     "name": "stderr",
     "output_type": "stream",
     "text": [
      "Variable 'density' not in OG1 vocabulary.\n"
     ]
    },
    {
     "name": "stderr",
     "output_type": "stream",
     "text": [
      "Variable 'eng_aa4330_CalPhase' not in OG1 vocabulary.\n"
     ]
    },
    {
     "name": "stderr",
     "output_type": "stream",
     "text": [
      "Variable 'eng_GC_phase' not in OG1 vocabulary.\n"
     ]
    },
    {
     "name": "stderr",
     "output_type": "stream",
     "text": [
      "No conversion information found for cm s-1 to cm s-1\n"
     ]
    },
    {
     "name": "stderr",
     "output_type": "stream",
     "text": [
      "Variable 'conservative_temperature' not in OG1 vocabulary.\n"
     ]
    },
    {
     "name": "stderr",
     "output_type": "stream",
     "text": [
      "Variable 'glide_angle_gsm' not in OG1 vocabulary.\n"
     ]
    },
    {
     "name": "stderr",
     "output_type": "stream",
     "text": [
      "Variable 'eng_elaps_t' not in OG1 vocabulary.\n"
     ]
    },
    {
     "name": "stderr",
     "output_type": "stream",
     "text": [
      "Variable 'absolute_salinity' not in OG1 vocabulary.\n"
     ]
    },
    {
     "name": "stderr",
     "output_type": "stream",
     "text": [
      "No conversion information found for micromoles/kg to micromoles/kg\n"
     ]
    },
    {
     "name": "stderr",
     "output_type": "stream",
     "text": [
      "Variable 'ctd_pressure' not in OG1 vocabulary.\n"
     ]
    },
    {
     "name": "stderr",
     "output_type": "stream",
     "text": [
      "Variable 'depth' not in OG1 vocabulary.\n"
     ]
    },
    {
     "name": "stderr",
     "output_type": "stream",
     "text": [
      "\r",
      "Processing datasets:   5%|▌         | 1/19 [00:00<00:12,  1.48dataset/s]"
     ]
    },
    {
     "name": "stderr",
     "output_type": "stream",
     "text": [
      "\r",
      "Processing datasets:  11%|█         | 2/19 [00:01<00:11,  1.50dataset/s]"
     ]
    },
    {
     "name": "stderr",
     "output_type": "stream",
     "text": [
      "\r",
      "Processing datasets:  16%|█▌        | 3/19 [00:01<00:10,  1.51dataset/s]"
     ]
    },
    {
     "name": "stderr",
     "output_type": "stream",
     "text": [
      "\r",
      "Processing datasets:  21%|██        | 4/19 [00:02<00:09,  1.52dataset/s]"
     ]
    },
    {
     "name": "stderr",
     "output_type": "stream",
     "text": [
      "\r",
      "Processing datasets:  26%|██▋       | 5/19 [00:03<00:09,  1.52dataset/s]"
     ]
    },
    {
     "name": "stderr",
     "output_type": "stream",
     "text": [
      "\r",
      "Processing datasets:  32%|███▏      | 6/19 [00:03<00:08,  1.52dataset/s]"
     ]
    },
    {
     "name": "stderr",
     "output_type": "stream",
     "text": [
      "\r",
      "Processing datasets:  37%|███▋      | 7/19 [00:04<00:07,  1.52dataset/s]"
     ]
    },
    {
     "name": "stderr",
     "output_type": "stream",
     "text": [
      "\r",
      "Processing datasets:  42%|████▏     | 8/19 [00:05<00:07,  1.51dataset/s]"
     ]
    },
    {
     "name": "stderr",
     "output_type": "stream",
     "text": [
      "\r",
      "Processing datasets:  47%|████▋     | 9/19 [00:05<00:06,  1.50dataset/s]"
     ]
    },
    {
     "name": "stderr",
     "output_type": "stream",
     "text": [
      "\r",
      "Processing datasets:  53%|█████▎    | 10/19 [00:06<00:05,  1.50dataset/s]"
     ]
    },
    {
     "name": "stderr",
     "output_type": "stream",
     "text": [
      "\r",
      "Processing datasets:  58%|█████▊    | 11/19 [00:07<00:05,  1.50dataset/s]"
     ]
    },
    {
     "name": "stderr",
     "output_type": "stream",
     "text": [
      "\r",
      "Processing datasets:  63%|██████▎   | 12/19 [00:07<00:04,  1.50dataset/s]"
     ]
    },
    {
     "name": "stderr",
     "output_type": "stream",
     "text": [
      "\r",
      "Processing datasets:  68%|██████▊   | 13/19 [00:08<00:03,  1.50dataset/s]"
     ]
    },
    {
     "name": "stderr",
     "output_type": "stream",
     "text": [
      "\r",
      "Processing datasets:  74%|███████▎  | 14/19 [00:09<00:03,  1.45dataset/s]"
     ]
    },
    {
     "name": "stderr",
     "output_type": "stream",
     "text": [
      "\r",
      "Processing datasets:  79%|███████▉  | 15/19 [00:10<00:02,  1.47dataset/s]"
     ]
    },
    {
     "name": "stderr",
     "output_type": "stream",
     "text": [
      "\r",
      "Processing datasets:  84%|████████▍ | 16/19 [00:10<00:02,  1.49dataset/s]"
     ]
    },
    {
     "name": "stderr",
     "output_type": "stream",
     "text": [
      "\r",
      "Processing datasets:  89%|████████▉ | 17/19 [00:11<00:01,  1.49dataset/s]"
     ]
    },
    {
     "name": "stderr",
     "output_type": "stream",
     "text": [
      "\r",
      "Processing datasets:  95%|█████████▍| 18/19 [00:11<00:00,  1.50dataset/s]"
     ]
    },
    {
     "name": "stderr",
     "output_type": "stream",
     "text": [
      "\r",
      "Processing datasets: 100%|██████████| 19/19 [00:12<00:00,  1.50dataset/s]"
     ]
    },
    {
     "name": "stderr",
     "output_type": "stream",
     "text": [
      "\r",
      "Processing datasets: 100%|██████████| 19/19 [00:12<00:00,  1.50dataset/s]"
     ]
    },
    {
     "name": "stderr",
     "output_type": "stream",
     "text": [
      "\n"
     ]
    }
   ],
   "source": [
    "# Specify the server where data are located\n",
    "server = \"https://www.ncei.noaa.gov/data/oceans/glider/seaglider/uw/033/20100903/\"\n",
    "\n",
    "# Load and concatenate all datasets from the server, optionally specifying the range of profiles to load\n",
    "list_datasets = readers.load_basestation_files(server, start_profile=1, end_profile=19)\n",
    "\n",
    "# Convert the list of datasets to OG1\n",
    "ds_OG1, var_list = convertOG1.convert_to_OG1(list_datasets)"
   ]
  },
  {
   "cell_type": "markdown",
   "id": "54baa613",
   "metadata": {},
   "source": [
    "## Saving data\n",
    "\n",
    "Due to problems with writing `xarray` datasets as netCDF when attributes are not of a specified type (`str`, `Number`, `np.ndarray`, `np.number`, `list`, `tuple`), a function was written `save_dataset`."
   ]
  },
  {
   "cell_type": "code",
   "execution_count": 13,
   "id": "3540ad10",
   "metadata": {
    "execution": {
     "iopub.execute_input": "2025-09-21T14:14:51.841891Z",
     "iopub.status.busy": "2025-09-21T14:14:51.841705Z",
     "iopub.status.idle": "2025-09-21T14:14:51.890545Z",
     "shell.execute_reply": "2025-09-21T14:14:51.890017Z"
    }
   },
   "outputs": [
    {
     "name": "stderr",
     "output_type": "stream",
     "text": [
      "/home/runner/work/seagliderOG1/seagliderOG1/seagliderOG1/writers.py:47: UserWarning: Times can't be serialized faithfully to int64 with requested units 'seconds since 1970-01-01T00:00:00+00:00'. Resolution of 'nanoseconds' needed. Serializing times to floating point instead. Set encoding['dtype'] to integer dtype to serialize to int64. Set encoding['dtype'] to floating point dtype to silence this warning.\n",
      "  ds.to_netcdf(output_file, format=\"NETCDF4\")\n"
     ]
    }
   ],
   "source": [
    "# Write the file\n",
    "# This writer catches errors in data types (DType errors) when using xr.to_netcdf()\n",
    "# The solution is to convert them to strings, which may be undesired behaviour\n",
    "output_file = os.path.join(data_path, 'demo_test.nc')\n",
    "if os.path.exists(output_file):\n",
    "    os.remove(output_file)\n",
    "\n",
    "writers.save_dataset(ds_OG1, output_file);"
   ]
  },
  {
   "cell_type": "code",
   "execution_count": 14,
   "id": "57da6f9e",
   "metadata": {
    "execution": {
     "iopub.execute_input": "2025-09-21T14:14:51.892137Z",
     "iopub.status.busy": "2025-09-21T14:14:51.891953Z",
     "iopub.status.idle": "2025-09-21T14:14:52.244569Z",
     "shell.execute_reply": "2025-09-21T14:14:52.244073Z"
    }
   },
   "outputs": [
    {
     "data": {
      "image/png": "[encoded data removed]",
      "text/plain": [
       "<Figure size 1000x600 with 2 Axes>"
      ]
     },
     "metadata": {},
     "output_type": "display_data"
    }
   ],
   "source": [
    "# Load the data saved\n",
    "ds1 = xr.open_dataset(output_file)\n",
    "\n",
    "# Generate a simple plot\n",
    "#plotters.show_contents(ds_all,'attrs')\n",
    "plotters.plot_depth_colored(ds1, color_by='PROFILE_NUMBER')\n"
   ]
  },
  {
   "cell_type": "markdown",
   "id": "7eaed738",
   "metadata": {},
   "source": [
    "## Run multiple missions"
   ]
  },
  {
   "cell_type": "code",
   "execution_count": 15,
   "id": "12f47f0f",
   "metadata": {
    "execution": {
     "iopub.execute_input": "2025-09-21T14:14:52.246276Z",
     "iopub.status.busy": "2025-09-21T14:14:52.246116Z",
     "iopub.status.idle": "2025-09-21T14:14:52.248717Z",
     "shell.execute_reply": "2025-09-21T14:14:52.248323Z"
    }
   },
   "outputs": [
    {
     "name": "stdout",
     "output_type": "stream",
     "text": [
      "{'contributor_name': 'Eleanor Frajka-Williams', 'contributor_email': 'eleanorfrajka@gmail.com', 'contributor_role': 'Data scientist', 'contributor_role_vocabulary': 'http://vocab.nerc.ac.uk/search_nvs/W08', 'contributing_institutions': 'University of Hamburg - Institute of Oceanography', 'contributing_institutions_vocabulary': 'https://edmo.seadatanet.org/report/1156', 'contributing_institutions_role': 'Data scientist', 'contributing_institutions_role_vocabulary': 'http://vocab.nerc.ac.uk/search_nvs/W08'}\n"
     ]
    }
   ],
   "source": [
    "# Add these to existing attributes - update to your details\n",
    "contrib_to_append = vocabularies.contrib_to_append\n",
    "print(contrib_to_append)"
   ]
  },
  {
   "cell_type": "code",
   "execution_count": 16,
   "id": "f6127a51",
   "metadata": {
    "execution": {
     "iopub.execute_input": "2025-09-21T14:14:52.250217Z",
     "iopub.status.busy": "2025-09-21T14:14:52.250068Z",
     "iopub.status.idle": "2025-09-21T14:14:53.414906Z",
     "shell.execute_reply": "2025-09-21T14:14:53.414375Z"
    }
   },
   "outputs": [
    {
     "name": "stderr",
     "output_type": "stream",
     "text": [
      "\r",
      "Loading datasets:   0%|          | 0/1 [00:00<?, ?file/s]"
     ]
    },
    {
     "name": "stderr",
     "output_type": "stream",
     "text": [
      "\r",
      "Loading datasets: 100%|██████████| 1/1 [00:00<00:00, 33.17file/s]"
     ]
    },
    {
     "name": "stderr",
     "output_type": "stream",
     "text": [
      "\n"
     ]
    },
    {
     "name": "stderr",
     "output_type": "stream",
     "text": [
      "\r",
      "Processing datasets:   0%|          | 0/1 [00:00<?, ?dataset/s]"
     ]
    },
    {
     "name": "stderr",
     "output_type": "stream",
     "text": [
      "Variable 'eng_depth' not in OG1 vocabulary.\n"
     ]
    },
    {
     "name": "stderr",
     "output_type": "stream",
     "text": [
      "Variable 'eng_aa4330_Temp' not in OG1 vocabulary.\n"
     ]
    },
    {
     "name": "stderr",
     "output_type": "stream",
     "text": [
      "Variable 'longitude_gsm' not in OG1 vocabulary.\n"
     ]
    },
    {
     "name": "stderr",
     "output_type": "stream",
     "text": [
      "Variable 'speed_gsm' not in OG1 vocabulary.\n"
     ]
    },
    {
     "name": "stderr",
     "output_type": "stream",
     "text": [
      "Variable 'vert_speed_gsm' not in OG1 vocabulary.\n"
     ]
    },
    {
     "name": "stderr",
     "output_type": "stream",
     "text": [
      "Variable 'eng_aa4330_TCPhase' not in OG1 vocabulary.\n"
     ]
    },
    {
     "name": "stderr",
     "output_type": "stream",
     "text": [
      "Variable 'eng_sbect_tempFreq' not in OG1 vocabulary.\n"
     ]
    },
    {
     "name": "stderr",
     "output_type": "stream",
     "text": [
      "Variable 'eng_sbect_condFreq' not in OG1 vocabulary.\n"
     ]
    },
    {
     "name": "stderr",
     "output_type": "stream",
     "text": [
      "Variable 'eng_rec' not in OG1 vocabulary.\n"
     ]
    },
    {
     "name": "stderr",
     "output_type": "stream",
     "text": [
      "Variable 'north_displacement_gsm' not in OG1 vocabulary.\n"
     ]
    },
    {
     "name": "stderr",
     "output_type": "stream",
     "text": [
      "Variable 'horz_speed_gsm' not in OG1 vocabulary.\n"
     ]
    },
    {
     "name": "stderr",
     "output_type": "stream",
     "text": [
      "No conversion information found for micromoles/kg to micromoles/kg\n"
     ]
    },
    {
     "name": "stderr",
     "output_type": "stream",
     "text": [
      "Variable 'eng_aa4330_O2' not in OG1 vocabulary.\n"
     ]
    },
    {
     "name": "stderr",
     "output_type": "stream",
     "text": [
      "Variable 'eng_aa4330_AirSat' not in OG1 vocabulary.\n"
     ]
    },
    {
     "name": "stderr",
     "output_type": "stream",
     "text": [
      "Variable 'latitude_gsm' not in OG1 vocabulary.\n"
     ]
    },
    {
     "name": "stderr",
     "output_type": "stream",
     "text": [
      "Variable 'aanderaa4330_instrument_dissolved_oxygen' not in OG1 vocabulary.\n"
     ]
    },
    {
     "name": "stderr",
     "output_type": "stream",
     "text": [
      "Variable 'eng_elaps_t_0000' not in OG1 vocabulary.\n"
     ]
    },
    {
     "name": "stderr",
     "output_type": "stream",
     "text": [
      "Variable 'buoyancy' not in OG1 vocabulary.\n"
     ]
    },
    {
     "name": "stderr",
     "output_type": "stream",
     "text": [
      "Variable 'east_displacement_gsm' not in OG1 vocabulary.\n"
     ]
    },
    {
     "name": "stderr",
     "output_type": "stream",
     "text": [
      "Variable 'sound_velocity' not in OG1 vocabulary.\n"
     ]
    },
    {
     "name": "stderr",
     "output_type": "stream",
     "text": [
      "Variable 'density_insitu' not in OG1 vocabulary.\n"
     ]
    },
    {
     "name": "stderr",
     "output_type": "stream",
     "text": [
      "Variable 'density' not in OG1 vocabulary.\n"
     ]
    },
    {
     "name": "stderr",
     "output_type": "stream",
     "text": [
      "Variable 'eng_aa4330_CalPhase' not in OG1 vocabulary.\n"
     ]
    },
    {
     "name": "stderr",
     "output_type": "stream",
     "text": [
      "Variable 'eng_GC_phase' not in OG1 vocabulary.\n"
     ]
    },
    {
     "name": "stderr",
     "output_type": "stream",
     "text": [
      "No conversion information found for cm s-1 to cm s-1\n"
     ]
    },
    {
     "name": "stderr",
     "output_type": "stream",
     "text": [
      "Variable 'conservative_temperature' not in OG1 vocabulary.\n"
     ]
    },
    {
     "name": "stderr",
     "output_type": "stream",
     "text": [
      "Variable 'glide_angle_gsm' not in OG1 vocabulary.\n"
     ]
    },
    {
     "name": "stderr",
     "output_type": "stream",
     "text": [
      "Variable 'eng_elaps_t' not in OG1 vocabulary.\n"
     ]
    },
    {
     "name": "stderr",
     "output_type": "stream",
     "text": [
      "Variable 'absolute_salinity' not in OG1 vocabulary.\n"
     ]
    },
    {
     "name": "stderr",
     "output_type": "stream",
     "text": [
      "No conversion information found for micromoles/kg to micromoles/kg\n"
     ]
    },
    {
     "name": "stderr",
     "output_type": "stream",
     "text": [
      "Variable 'ctd_pressure' not in OG1 vocabulary.\n"
     ]
    },
    {
     "name": "stderr",
     "output_type": "stream",
     "text": [
      "Variable 'depth' not in OG1 vocabulary.\n"
     ]
    },
    {
     "name": "stderr",
     "output_type": "stream",
     "text": [
      "\r",
      "Processing datasets: 100%|██████████| 1/1 [00:00<00:00,  1.45dataset/s]"
     ]
    },
    {
     "name": "stderr",
     "output_type": "stream",
     "text": [
      "\r",
      "Processing datasets: 100%|██████████| 1/1 [00:00<00:00,  1.45dataset/s]"
     ]
    },
    {
     "name": "stderr",
     "output_type": "stream",
     "text": [
      "\n",
      "File /home/runner/work/seagliderOG1/seagliderOG1/data/sg033_20100903T182416_delayed.nc already exists. Exiting the process.\n"
     ]
    },
    {
     "name": "stdout",
     "output_type": "stream",
     "text": [
      "File /home/runner/work/seagliderOG1/seagliderOG1/data/sg033_20100903T182416_delayed.nc already exists. Exiting the process.\n"
     ]
    }
   ],
   "source": [
    "# Specify a list of servers or local directories\n",
    "input_locations = [\n",
    "    # Either Iceland, Faroes or RAPID/MOCHA\n",
    "    #\"https://www.ncei.noaa.gov/data/oceans/glider/seaglider/uw/005/20090829/\", # done\n",
    "    #\"https://www.ncei.noaa.gov/data/oceans/glider/seaglider/uw/005/20080606/\", # done\n",
    "    #\"https://www.ncei.noaa.gov/data/oceans/glider/seaglider/uw/005/20081106/\", # done\n",
    "    #\"https://www.ncei.noaa.gov/data/oceans/glider/seaglider/uw/012/20070831/\", # done\n",
    "    #\"https://www.ncei.noaa.gov/data/oceans/glider/seaglider/uw/014/20080214/\",  # done\n",
    "    #\"https://www.ncei.noaa.gov/data/oceans/glider/seaglider/uw/014/20080222/\", # done\n",
    "    #\"https://www.ncei.noaa.gov/data/oceans/glider/seaglider/uw/016/20061112/\",  # done\n",
    "    #\"https://www.ncei.noaa.gov/data/oceans/glider/seaglider/uw/016/20090605/\", # done\n",
    "    #\"https://www.ncei.noaa.gov/data/oceans/glider/seaglider/uw/016/20071113/\", # done\n",
    "    #\"https://www.ncei.noaa.gov/data/oceans/glider/seaglider/uw/016/20080607/\",  # done\n",
    "    #\"https://www.ncei.noaa.gov/data/oceans/glider/seaglider/uw/033/20100518/\", # done\n",
    "    \"https://www.ncei.noaa.gov/data/oceans/glider/seaglider/uw/033/20100903/\", # done\n",
    "    #\"https://www.ncei.noaa.gov/data/oceans/glider/seaglider/uw/101/20081108/\",     # done\n",
    "    #\"https://www.ncei.noaa.gov/data/oceans/glider/seaglider/uw/101/20061112/\",    # done\n",
    "    #\"https://www.ncei.noaa.gov/data/oceans/glider/seaglider/uw/101/20070609/\",   # done\n",
    "    #\"https://www.ncei.noaa.gov/data/oceans/glider/seaglider/uw/102/20061112/\",  # done\n",
    "    # Labrador Sea\n",
    "    #\"https://www.ncei.noaa.gov/data/oceans/glider/seaglider/uw/015/20040924/\",\n",
    "    #\"https://www.ncei.noaa.gov/data/oceans/glider/seaglider/uw/014/20040924/\",\n",
    "    #\"https://www.ncei.noaa.gov/data/oceans/glider/seaglider/uw/008/20031002/\",\n",
    "    #\"https://www.ncei.noaa.gov/data/oceans/glider/seaglider/uw/004/20031002/\",\n",
    "    #\"https://www.ncei.noaa.gov/data/oceans/glider/seaglider/uw/016/20050406/\",\n",
    "    # RAPID/MOCHA\n",
    "    #\"https://www.ncei.noaa.gov/data/oceans/glider/seaglider/uw/033/20100729/\",\n",
    "    #\"https://www.ncei.noaa.gov/data/oceans/glider/seaglider/uw/034/20110128/\",\n",
    "]\n",
    "\n",
    "for input_loc in input_locations:\n",
    "    # Example usage\n",
    "    ds_all = convertOG1.process_and_save_data(input_loc, output_dir=data_path, save=True,  run_quietly=True)"
   ]
  }
 ],
 "metadata": {
  "kernelspec": {
   "display_name": "venv (3.11.7)",
   "language": "python",
   "name": "python3"
  },
  "language_info": {
   "codemirror_mode": {
    "name": "ipython",
    "version": 3
   },
   "file_extension": ".py",
   "mimetype": "text/x-python",
   "name": "python",
   "nbconvert_exporter": "python",
   "pygments_lexer": "ipython3",
   "version": "3.13.7"
  }
 },
 "nbformat": 4,
 "nbformat_minor": 5
}
